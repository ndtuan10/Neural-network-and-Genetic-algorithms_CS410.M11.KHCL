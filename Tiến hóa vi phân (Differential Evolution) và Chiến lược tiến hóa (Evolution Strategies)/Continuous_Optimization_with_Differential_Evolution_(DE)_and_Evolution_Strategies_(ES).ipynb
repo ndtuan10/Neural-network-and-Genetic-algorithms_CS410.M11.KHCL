{
  "nbformat": 4,
  "nbformat_minor": 0,
  "metadata": {
    "colab": {
      "name": "Continuous Optimization with Differential Evolution (DE) and Evolution Strategies (ES).ipynb",
      "provenance": [],
      "collapsed_sections": []
    },
    "kernelspec": {
      "name": "python3",
      "display_name": "Python 3"
    },
    "language_info": {
      "name": "python"
    },
    "accelerator": "GPU"
  },
  "cells": [
    {
      "cell_type": "markdown",
      "metadata": {
        "id": "UTwzmMlBCloe"
      },
      "source": [
        "# **Import các thư viện**"
      ]
    },
    {
      "cell_type": "code",
      "metadata": {
        "id": "JLLBjwf8Ctqt"
      },
      "source": [
        "import numpy as np\n",
        "from IPython import display\n",
        "import math\n",
        "import matplotlib\n",
        "import matplotlib.pyplot as plt\n",
        "import seaborn\n",
        "import random\n",
        "from matplotlib import cm \n",
        "from mpl_toolkits.mplot3d import Axes3D\n",
        "import pandas as pd\n",
        "from time import sleep\n",
        "import plotly.graph_objects as go"
      ],
      "execution_count": null,
      "outputs": []
    },
    {
      "cell_type": "markdown",
      "metadata": {
        "id": "rDEHTDgrCvX5"
      },
      "source": [
        "# **Khai báo hàm**\n",
        "- Chi tiết các hàm optimization: https://www.sfu.ca/~ssurjano/optimization.html"
      ]
    },
    {
      "cell_type": "code",
      "metadata": {
        "id": "uT2-JA-zPR7a"
      },
      "source": [
        "# Sphere\n",
        "def Sphere_f(x):\n",
        "    f = 0\n",
        "    for i in x:\n",
        "        f += i**2\n",
        "    return f\n",
        "\n",
        "# Rastrigin\n",
        "def Rastrigin_f(x):\n",
        "  f = 10 * len(x)\n",
        "  for i in x:\n",
        "    f += i**2 - 10 * np.cos(2 * np.pi * i)\n",
        "  return f\n",
        "\n",
        "# Rosenbrock\n",
        "def Rosenbrock_f(x):\n",
        "    f = 0\n",
        "    for i in range(len(x) - 1):\n",
        "        f += (100*((x[i + 1] - x[i]**2)**2) + (1 -x[i])**2)\n",
        "    return f\n",
        "\n",
        "# Griewank\n",
        "def Griewank_f(x):\n",
        "    f1 = 0\n",
        "    for i in x:\n",
        "        f1 += (i*i)/4000\n",
        "    f2 = 1\n",
        "    for i in range(len(x)):\n",
        "        f2 *= np.cos(x[i]/math.sqrt(i+1))\n",
        "    return f1 - f2 + 1\n",
        "\n",
        "# Ackley\n",
        "def Ackley_f(x):\n",
        "    a = 20\n",
        "    b = 0.2\n",
        "    c = 2 * np.pi\n",
        "    f1 = 0\n",
        "    f2 = 0\n",
        "    for i in range(len(x)):\n",
        "        f1 += x[i] ** 2\n",
        "        f2 += np.cos(c * x[i])\n",
        "    p1 = -a * np.exp(-b * np.sqrt(f1 / len(x)))\n",
        "    p2 = -np.exp(f2 / len(x))\n",
        "\n",
        "    return p1 + p2 + a + np.exp(1)"
      ],
      "execution_count": null,
      "outputs": []
    },
    {
      "cell_type": "markdown",
      "metadata": {
        "id": "oQdll3rcT5-j"
      },
      "source": [
        "# **Differential Evolution (DE)**"
      ]
    },
    {
      "cell_type": "code",
      "metadata": {
        "id": "nbu4hR_gQSWl"
      },
      "source": [
        "def DE(fobj, dimension, bounds, F_scale, cross_prob, popsize, max_evals):\n",
        "\n",
        "    lower_bound, upper_bound = np.asarray(bounds).T\n",
        "\n",
        "    eps = 0.00001\n",
        "\n",
        "    diff = np.fabs(lower_bound - upper_bound)\n",
        "\n",
        "    pop = lower_bound + diff * np.random.rand(popsize, dimension)\n",
        "\n",
        "    fitness = np.asarray([fobj(ind) for ind in pop])\n",
        "    num_eval = 1\n",
        "    \n",
        "    best_idx = np.argmin(fitness)\n",
        "    best = pop[best_idx]\n",
        "\n",
        "    results = []\n",
        "    all_pops = []\n",
        "    results.append((np.copy(best), fitness[best_idx], num_eval))\n",
        "    all_pops.append(np.copy(pop))\n",
        "    generation_count = 0\n",
        "    \n",
        "    while True:\n",
        "        if num_eval > max_evals:\n",
        "            break\n",
        "        for i in range(popsize):\n",
        "\n",
        "            idxes = [idx for idx in range(popsize) if idx != i]\n",
        "            a, b, c = pop[np.random.choice(idxes, 3, replace=False)]\n",
        "            mutant = np.clip(F_scale*(b - c) + a, lower_bound, upper_bound)\n",
        "\n",
        "            cross_points = np.random.rand(dimension) < cross_prob\n",
        "            if not np.any(cross_points):\n",
        "                cross_points[np.random.randint(0, dimension)] = True\n",
        "            \n",
        "            trial = np.where(cross_points, mutant, pop[i])\n",
        "\n",
        "            f = fobj(trial)\n",
        "            num_eval += 1\n",
        "\n",
        "            if f < fitness[i]:\n",
        "                pop[i] = trial\n",
        "                fitness[i] = f \n",
        "                if f < fitness[best_idx]:\n",
        "                    best = trial\n",
        "                    best_idx = i\n",
        "\n",
        "        results.append((np.copy(best), fitness[best_idx], num_eval))\n",
        "        all_pops.append(np.copy(pop))\n",
        "\n",
        "        if fobj(best) < eps:\n",
        "            num_eval += 1\n",
        "            break\n",
        "\n",
        "        generation_count += 1\n",
        "\n",
        "    return results, all_pops, generation_count"
      ],
      "execution_count": null,
      "outputs": []
    },
    {
      "cell_type": "code",
      "metadata": {
        "id": "MK9FQV7vYaIe"
      },
      "source": [
        "F_scale=0.8 # hệ số scale F (0,1)\n",
        "cross_prob=0.7 # xác suất hai cá thể đem đi lai ghép"
      ],
      "execution_count": null,
      "outputs": []
    },
    {
      "cell_type": "markdown",
      "metadata": {
        "id": "dyDbU54yZOK_"
      },
      "source": [
        "# **Test**"
      ]
    },
    {
      "cell_type": "markdown",
      "metadata": {
        "id": "jPLtSqiRZScE"
      },
      "source": [
        "## **Hàm Sphere**"
      ]
    },
    {
      "cell_type": "markdown",
      "metadata": {
        "id": "5ks4nuCPZZQ1"
      },
      "source": [
        "### **dimensions (d=2)**"
      ]
    },
    {
      "cell_type": "markdown",
      "metadata": {
        "id": "oWiLkaSfZclM"
      },
      "source": [
        "#### **popsize = 32**"
      ]
    },
    {
      "cell_type": "code",
      "metadata": {
        "id": "heL918QZZRCU"
      },
      "source": [
        "all_results = []\n",
        "\n",
        "dimension = 2\n",
        "max_evals = 1e5\n",
        "fobj = Sphere_f\n",
        "seed_number = 18520186\n",
        "popsize = 32 # kích thước quần thể\n",
        "lower_bound = -6\n",
        "upper_bound = 6\n",
        "\n",
        "for i in range(10):\n",
        "    np.random.rand(seed_number)\n",
        "    results, all_pops, generation_count = DE(fobj, dimension, [(lower_bound, upper_bound)]*dimension, F_scale, cross_prob, popsize, max_evals)\n",
        "    all_results.append(results[-1])\n",
        "    seed_number += 1"
      ],
      "execution_count": null,
      "outputs": []
    },
    {
      "cell_type": "code",
      "metadata": {
        "colab": {
          "base_uri": "https://localhost:8080/"
        },
        "id": "-WTH8MrMaHKh",
        "outputId": "e6f076b6-acba-46a9-81bd-36c18028f80d"
      },
      "source": [
        "all_results"
      ],
      "execution_count": null,
      "outputs": [
        {
          "output_type": "execute_result",
          "data": {
            "text/plain": [
              "[(array([-0.00013808, -0.00066416]), 4.6017471666543954e-07, 961),\n",
              " (array([-0.00186555,  0.00195324]), 7.295419053955385e-06, 929),\n",
              " (array([-0.00068232, -0.00102182]), 1.5096760243497293e-06, 929),\n",
              " (array([-0.00064442,  0.0003602 ]), 5.450289292373942e-07, 801),\n",
              " (array([-0.00040764, -0.00290922]), 8.629738358067944e-06, 865),\n",
              " (array([ 0.00024483, -0.00050041]), 3.1035243192260147e-07, 897),\n",
              " (array([0.0006802 , 0.00272828]), 7.906199007542689e-06, 865),\n",
              " (array([-0.00179503,  0.00201719]), 7.291204443247526e-06, 897),\n",
              " (array([-0.00053932, -0.00131369]), 2.016656225766411e-06, 737),\n",
              " (array([ 0.00098328, -0.0006613 ]), 1.40415372790019e-06, 801)]"
            ]
          },
          "metadata": {},
          "execution_count": 6
        }
      ]
    },
    {
      "cell_type": "code",
      "metadata": {
        "colab": {
          "base_uri": "https://localhost:8080/"
        },
        "id": "QA05nmurZLPY",
        "outputId": "a0aedddd-ba03-4e64-aaf4-8271e147b060"
      },
      "source": [
        "print(f\"Giá trị trung bình (mean) của Sphere (d=2, n=32) trong DE: {np.mean([all_results[i][1] for i in range(len(all_results))])}\")\n",
        "print(f\"Độ lệch chuẩn (std) của Sphere (d=2, n=32) trong DE: {np.std([all_results[i][1] for i in range(len(all_results))])}\")"
      ],
      "execution_count": null,
      "outputs": [
        {
          "output_type": "stream",
          "name": "stdout",
          "text": [
            "Giá trị trung bình (mean) của Sphere (d=2, n=32) trong DE: 3.7368602918655307e-06\n",
            "Độ lệch chuẩn (std) của Sphere (d=2, n=32) trong DE: 3.3562885384151856e-06\n"
          ]
        }
      ]
    },
    {
      "cell_type": "markdown",
      "metadata": {
        "id": "sYIM0QYxarhP"
      },
      "source": [
        "#### **popsize = 64**"
      ]
    },
    {
      "cell_type": "code",
      "metadata": {
        "id": "WfLK8oZBbAZ2"
      },
      "source": [
        "all_results = []\n",
        "\n",
        "dimension = 2\n",
        "max_evals = 1e5\n",
        "fobj = Sphere_f\n",
        "seed_number = 18520186\n",
        "popsize = 64 # kích thước quần thể\n",
        "lower_bound = -6\n",
        "upper_bound = 6\n",
        "\n",
        "for i in range(10):\n",
        "    np.random.rand(seed_number)\n",
        "    results, all_pops, generation_count = DE(fobj, dimension, [(lower_bound, upper_bound)]*dimension, F_scale, cross_prob, popsize, max_evals)\n",
        "    all_results.append(results[-1])\n",
        "    seed_number += 1"
      ],
      "execution_count": null,
      "outputs": []
    },
    {
      "cell_type": "code",
      "metadata": {
        "colab": {
          "base_uri": "https://localhost:8080/"
        },
        "id": "OXc1lqwgbAkE",
        "outputId": "636a30a7-f22c-4556-ab62-b9ced1da746d"
      },
      "source": [
        "all_results"
      ],
      "execution_count": null,
      "outputs": [
        {
          "output_type": "execute_result",
          "data": {
            "text/plain": [
              "[(array([-0.0011279 ,  0.00151176]), 3.5575772015146134e-06, 1793),\n",
              " (array([ 0.00182405, -0.00036262]), 3.4586665250141116e-06, 1729),\n",
              " (array([0.00097777, 0.00260554]), 7.744896312742487e-06, 1729),\n",
              " (array([-0.00259286,  0.00033133]), 6.832724942924115e-06, 1857),\n",
              " (array([-0.00060255, -0.00167075]), 3.154464245248991e-06, 1409),\n",
              " (array([-0.00092846,  0.00099015]), 1.8424299069984712e-06, 1473),\n",
              " (array([ 0.00258728, -0.00161382]), 9.298437995789597e-06, 1601),\n",
              " (array([-0.00076413, -0.00010027]), 5.939533248176275e-07, 1537),\n",
              " (array([ 0.00050291, -0.00122509]), 1.753761830809947e-06, 1217),\n",
              " (array([-0.00234716, -0.00127698]), 7.139836251175801e-06, 1409)]"
            ]
          },
          "metadata": {},
          "execution_count": 9
        }
      ]
    },
    {
      "cell_type": "code",
      "metadata": {
        "colab": {
          "base_uri": "https://localhost:8080/"
        },
        "id": "WtoqsS6fbAr5",
        "outputId": "2747519a-b76b-4ae2-d25b-d68fc257a933"
      },
      "source": [
        "print(f\"Giá trị trung bình (mean) của Sphere (d=2, n=64) trong DE: {np.mean([all_results[i][1] for i in range(len(all_results))])}\")\n",
        "print(f\"Độ lệch chuẩn (std) của Sphere (d=2, n=64) trong DE: {np.std([all_results[i][1] for i in range(len(all_results))])}\")"
      ],
      "execution_count": null,
      "outputs": [
        {
          "output_type": "stream",
          "name": "stdout",
          "text": [
            "Giá trị trung bình (mean) của Sphere (d=2, n=64) trong DE: 4.537674853703576e-06\n",
            "Độ lệch chuẩn (std) của Sphere (d=2, n=64) trong DE: 2.8212623511579665e-06\n"
          ]
        }
      ]
    },
    {
      "cell_type": "markdown",
      "metadata": {
        "id": "gJgFLwUHarrt"
      },
      "source": [
        "#### **popsize = 128**"
      ]
    },
    {
      "cell_type": "code",
      "metadata": {
        "id": "EQ72Hy5nbOsB"
      },
      "source": [
        "all_results = []\n",
        "\n",
        "dimension = 2\n",
        "max_evals = 1e5\n",
        "fobj = Sphere_f\n",
        "seed_number = 18520186\n",
        "popsize = 128 # kích thước quần thể\n",
        "lower_bound = -6\n",
        "upper_bound = 6\n",
        "\n",
        "for i in range(10):\n",
        "    np.random.rand(seed_number)\n",
        "    results, all_pops, generation_count = DE(fobj, dimension, [(lower_bound, upper_bound)]*dimension, F_scale, cross_prob, popsize, max_evals)\n",
        "    all_results.append(results[-1])\n",
        "    seed_number += 1"
      ],
      "execution_count": null,
      "outputs": []
    },
    {
      "cell_type": "code",
      "metadata": {
        "id": "eAV4sVwqbO0b",
        "colab": {
          "base_uri": "https://localhost:8080/"
        },
        "outputId": "0d51b0dc-9093-4100-dcae-c40db339a4e0"
      },
      "source": [
        "all_results"
      ],
      "execution_count": null,
      "outputs": [
        {
          "output_type": "execute_result",
          "data": {
            "text/plain": [
              "[(array([-0.00117948,  0.00170662]), 4.303732231366768e-06, 2561),\n",
              " (array([0.00131669, 0.00096606]), 2.6669485115578124e-06, 2177),\n",
              " (array([0.00014856, 0.00021365]), 6.771772748785838e-08, 3073),\n",
              " (array([-0.00138975, -0.00245967]), 7.981377617184673e-06, 2049),\n",
              " (array([-0.00188083,  0.00150599]), 5.80553829462627e-06, 2433),\n",
              " (array([0.00246702, 0.00031918]), 6.188042818334598e-06, 3201),\n",
              " (array([-3.52427407e-05, -9.59570551e-04]), 9.220176921891985e-07, 3329),\n",
              " (array([ 7.52059941e-05, -6.39922570e-04]), 4.1515683666021864e-07, 3073),\n",
              " (array([-0.00124608, -0.00265168]), 8.584136518959085e-06, 2817),\n",
              " (array([ 0.00068377, -0.00258292]), 7.139012904040008e-06, 3201)]"
            ]
          },
          "metadata": {},
          "execution_count": 12
        }
      ]
    },
    {
      "cell_type": "code",
      "metadata": {
        "id": "-K0-wIPJbO-9",
        "colab": {
          "base_uri": "https://localhost:8080/"
        },
        "outputId": "dc021f16-a5a0-43f4-ac2a-c58d76cf1840"
      },
      "source": [
        "print(f\"Giá trị trung bình (mean) của Sphere (d=2, n=128) trong DE: {np.mean([all_results[i][1] for i in range(len(all_results))])}\")\n",
        "print(f\"Độ lệch chuẩn (std) của Sphere (d=2, n=128) trong DE: {np.std([all_results[i][1] for i in range(len(all_results))])}\")"
      ],
      "execution_count": null,
      "outputs": [
        {
          "output_type": "stream",
          "name": "stdout",
          "text": [
            "Giá trị trung bình (mean) của Sphere (d=2, n=128) trong DE: 4.407368115240649e-06\n",
            "Độ lệch chuẩn (std) của Sphere (d=2, n=128) trong DE: 3.0457230416560524e-06\n"
          ]
        }
      ]
    },
    {
      "cell_type": "markdown",
      "metadata": {
        "id": "Zkb2wcskaruL"
      },
      "source": [
        "#### **popsize = 256**"
      ]
    },
    {
      "cell_type": "code",
      "metadata": {
        "id": "2p7W20pgbQhZ"
      },
      "source": [
        "all_results = []\n",
        "\n",
        "dimension = 2\n",
        "max_evals = 1e5\n",
        "fobj = Sphere_f\n",
        "seed_number = 18520186\n",
        "popsize = 256 # kích thước quần thể\n",
        "lower_bound = -6\n",
        "upper_bound = 6\n",
        "\n",
        "for i in range(10):\n",
        "    np.random.rand(seed_number)\n",
        "    results, all_pops, generation_count = DE(fobj, dimension, [(lower_bound, upper_bound)]*dimension, F_scale, cross_prob, popsize, max_evals)\n",
        "    all_results.append(results[-1])\n",
        "    seed_number += 1"
      ],
      "execution_count": null,
      "outputs": []
    },
    {
      "cell_type": "code",
      "metadata": {
        "id": "32aYpxREbQm1",
        "colab": {
          "base_uri": "https://localhost:8080/"
        },
        "outputId": "423ad535-9f5c-4c81-dd8b-7d3d22889200"
      },
      "source": [
        "all_results"
      ],
      "execution_count": null,
      "outputs": [
        {
          "output_type": "execute_result",
          "data": {
            "text/plain": [
              "[(array([ 0.00127116, -0.00087608]), 2.383348861632425e-06, 5889),\n",
              " (array([-0.00139487,  0.00270939]), 9.286446153533977e-06, 4353),\n",
              " (array([-0.00051413, -0.00297701]), 9.126939163303662e-06, 6145),\n",
              " (array([-0.00236755, -0.0020196 ]), 9.68409011241847e-06, 6657),\n",
              " (array([-0.00142401,  0.00178457]), 5.212498083855485e-06, 5633),\n",
              " (array([-0.00153174, -0.00128486]), 3.9970760327259315e-06, 5633),\n",
              " (array([ 0.00041204, -0.00120259]), 1.6159962723930782e-06, 5633),\n",
              " (array([-0.00106419,  0.00222308]), 6.074566986406215e-06, 6145),\n",
              " (array([-0.00158779,  0.00221408]), 7.4232325503171665e-06, 5377),\n",
              " (array([0.00071887, 0.00084724]), 1.2345875958337358e-06, 5377)]"
            ]
          },
          "metadata": {},
          "execution_count": 15
        }
      ]
    },
    {
      "cell_type": "code",
      "metadata": {
        "id": "MHXfudK-bQqN",
        "colab": {
          "base_uri": "https://localhost:8080/"
        },
        "outputId": "db5641ab-9a25-4543-960f-37083f2d6e89"
      },
      "source": [
        "print(f\"Giá trị trung bình (mean) của Sphere (d=2, n=256) trong DE: {np.mean([all_results[i][1] for i in range(len(all_results))])}\")\n",
        "print(f\"Độ lệch chuẩn (std) của Sphere (d=2, n=256) trong DE: {np.std([all_results[i][1] for i in range(len(all_results))])}\")"
      ],
      "execution_count": null,
      "outputs": [
        {
          "output_type": "stream",
          "name": "stdout",
          "text": [
            "Giá trị trung bình (mean) của Sphere (d=2, n=256) trong DE: 5.6038781812420144e-06\n",
            "Độ lệch chuẩn (std) của Sphere (d=2, n=256) trong DE: 3.070076484242753e-06\n"
          ]
        }
      ]
    },
    {
      "cell_type": "markdown",
      "metadata": {
        "id": "78TqdfHbarxt"
      },
      "source": [
        "#### **popsize = 512**"
      ]
    },
    {
      "cell_type": "code",
      "metadata": {
        "id": "EviRRftDbRZ9"
      },
      "source": [
        "all_results = []\n",
        "\n",
        "dimension = 2\n",
        "max_evals = 1e5\n",
        "fobj = Sphere_f\n",
        "seed_number = 18520186\n",
        "popsize = 512 # kích thước quần thể\n",
        "lower_bound = -6\n",
        "upper_bound = 6\n",
        "\n",
        "for i in range(10):\n",
        "    np.random.rand(seed_number)\n",
        "    results, all_pops, generation_count = DE(fobj, dimension, [(lower_bound, upper_bound)]*dimension, F_scale, cross_prob, popsize, max_evals)\n",
        "    all_results.append(results[-1])\n",
        "    seed_number += 1"
      ],
      "execution_count": null,
      "outputs": []
    },
    {
      "cell_type": "code",
      "metadata": {
        "id": "4M5pr2gobRcX",
        "colab": {
          "base_uri": "https://localhost:8080/"
        },
        "outputId": "a257a62c-8ae6-4995-c3e6-66511f6983e5"
      },
      "source": [
        "all_results"
      ],
      "execution_count": null,
      "outputs": [
        {
          "output_type": "execute_result",
          "data": {
            "text/plain": [
              "[(array([-0.00130194,  0.00226092]), 6.80678200904191e-06, 10241),\n",
              " (array([ 0.00114275, -0.00015453]), 1.329748862622215e-06, 12289),\n",
              " (array([1.15231442e-03, 8.11401538e-05]), 1.3344122516349888e-06, 8705),\n",
              " (array([-0.00017015,  0.000605  ]), 3.9497174127273403e-07, 9729),\n",
              " (array([0.00061793, 0.00189044]), 3.955602015324891e-06, 12801),\n",
              " (array([-0.0016372 , -0.00131032]), 4.397352340934295e-06, 10753),\n",
              " (array([ 0.00181847, -0.00068954]), 3.782298971613089e-06, 10753),\n",
              " (array([0.00040129, 0.00072919]), 6.927551534236612e-07, 11265),\n",
              " (array([ 0.00241663, -0.00177635]), 8.995508934919816e-06, 10241),\n",
              " (array([0.0024127 , 0.00201691]), 9.889061936638872e-06, 11265)]"
            ]
          },
          "metadata": {},
          "execution_count": 18
        }
      ]
    },
    {
      "cell_type": "code",
      "metadata": {
        "id": "mkf9uEG9bRes",
        "colab": {
          "base_uri": "https://localhost:8080/"
        },
        "outputId": "000d44a5-2cb1-4e5e-c428-1be48fb25102"
      },
      "source": [
        "print(f\"Giá trị trung bình (mean) của Sphere (d=2, n=512) trong DE: {np.mean([all_results[i][1] for i in range(len(all_results))])}\")\n",
        "print(f\"Độ lệch chuẩn (std) của Sphere (d=2, n=512) trong DE: {np.std([all_results[i][1] for i in range(len(all_results))])}\")"
      ],
      "execution_count": null,
      "outputs": [
        {
          "output_type": "stream",
          "name": "stdout",
          "text": [
            "Giá trị trung bình (mean) của Sphere (d=2, n=512) trong DE: 4.157849421742646e-06\n",
            "Độ lệch chuẩn (std) của Sphere (d=2, n=512) trong DE: 3.250261082793931e-06\n"
          ]
        }
      ]
    },
    {
      "cell_type": "markdown",
      "metadata": {
        "id": "onVKFKBWa6sW"
      },
      "source": [
        "#### **popsize = 1024**"
      ]
    },
    {
      "cell_type": "code",
      "metadata": {
        "id": "fHVFBNB-bPz2"
      },
      "source": [
        "all_results = []\n",
        "\n",
        "dimension = 2\n",
        "max_evals = 1e5\n",
        "fobj = Sphere_f\n",
        "seed_number = 18520186\n",
        "popsize = 1024 # kích thước quần thể\n",
        "lower_bound = -6\n",
        "upper_bound = 6\n",
        "\n",
        "for i in range(10):\n",
        "    np.random.rand(seed_number)\n",
        "    results, all_pops, generation_count = DE(fobj, dimension, [(lower_bound, upper_bound)]*dimension, F_scale, cross_prob, popsize, max_evals)\n",
        "    all_results.append(results[-1])\n",
        "    seed_number += 1"
      ],
      "execution_count": null,
      "outputs": []
    },
    {
      "cell_type": "code",
      "metadata": {
        "id": "eOlGJLPXbP55",
        "colab": {
          "base_uri": "https://localhost:8080/"
        },
        "outputId": "25ec27a1-d116-411f-d691-de801470a1a9"
      },
      "source": [
        "all_results"
      ],
      "execution_count": null,
      "outputs": [
        {
          "output_type": "execute_result",
          "data": {
            "text/plain": [
              "[(array([ 0.00060232, -0.00298763]), 9.28874515740287e-06, 21505),\n",
              " (array([-0.00118853, -0.00216007]), 6.078505390929283e-06, 17409),\n",
              " (array([ 0.0020498, -0.0003263]), 4.3081343084962095e-06, 19457),\n",
              " (array([-0.00122364, -0.00075478]), 2.0669759586172754e-06, 19457),\n",
              " (array([ 0.00136913, -0.00127783]), 3.5073859952312817e-06, 18433),\n",
              " (array([-0.00069714,  0.00150322]), 2.745690938537461e-06, 21505),\n",
              " (array([0.00115277, 0.00061639]), 1.7088180965654312e-06, 20481),\n",
              " (array([-0.00152722, -0.00088206]), 3.1104330088206375e-06, 23553),\n",
              " (array([0.00238205, 0.00028829]), 5.757285607365951e-06, 18433),\n",
              " (array([ 0.00292889, -0.0003045 ]), 8.671103750042995e-06, 18433)]"
            ]
          },
          "metadata": {},
          "execution_count": 21
        }
      ]
    },
    {
      "cell_type": "code",
      "metadata": {
        "id": "ZEspsyU1bP9e",
        "colab": {
          "base_uri": "https://localhost:8080/"
        },
        "outputId": "38c5ec5b-719c-4324-cb39-d0ac84c18359"
      },
      "source": [
        "print(f\"Giá trị trung bình (mean) của Sphere (d=2, n=1024) trong DE: {np.mean([all_results[i][1] for i in range(len(all_results))])}\")\n",
        "print(f\"Độ lệch chuẩn (std) của Sphere (d=2, n=1024) trong DE: {np.std([all_results[i][1] for i in range(len(all_results))])}\")"
      ],
      "execution_count": null,
      "outputs": [
        {
          "output_type": "stream",
          "name": "stdout",
          "text": [
            "Giá trị trung bình (mean) của Sphere (d=2, n=1024) trong DE: 4.724307821200939e-06\n",
            "Độ lệch chuẩn (std) của Sphere (d=2, n=1024) trong DE: 2.5227046433042144e-06\n"
          ]
        }
      ]
    },
    {
      "cell_type": "markdown",
      "metadata": {
        "id": "ig3MyLPjbo0l"
      },
      "source": [
        "### **dimensions (d=10)**"
      ]
    },
    {
      "cell_type": "markdown",
      "metadata": {
        "id": "ZH2qEx7Nb0BV"
      },
      "source": [
        "#### **popsize = 32**"
      ]
    },
    {
      "cell_type": "code",
      "metadata": {
        "id": "YmfRHPGSb-0y"
      },
      "source": [
        "all_results = []\n",
        "\n",
        "dimension = 10\n",
        "max_evals = 1e6\n",
        "fobj = Sphere_f\n",
        "seed_number = 18520186\n",
        "popsize = 32 # kích thước quần thể\n",
        "lower_bound = -6\n",
        "upper_bound = 6\n",
        "\n",
        "for i in range(10):\n",
        "    np.random.rand(seed_number)\n",
        "    results, all_pops, generation_count = DE(fobj, dimension, [(lower_bound, upper_bound)]*dimension, F_scale, cross_prob, popsize, max_evals)\n",
        "    all_results.append(results[-1])\n",
        "    seed_number += 1"
      ],
      "execution_count": null,
      "outputs": []
    },
    {
      "cell_type": "code",
      "metadata": {
        "id": "0ZCHQEwmb-3G",
        "colab": {
          "base_uri": "https://localhost:8080/"
        },
        "outputId": "0d753ec9-7c07-486b-e904-3b1b6a50301c"
      },
      "source": [
        "all_results"
      ],
      "execution_count": null,
      "outputs": [
        {
          "output_type": "execute_result",
          "data": {
            "text/plain": [
              "[(array([-1.75463886e-04,  1.15720002e-03,  8.84948773e-04,  8.30614270e-04,\n",
              "         -2.74760222e-04,  7.90545623e-04,  1.67935391e-03, -9.03700535e-04,\n",
              "          6.59722953e-04, -5.25554588e-05]), 7.618310095983359e-06, 10305),\n",
              " (array([-0.00036059,  0.00053234, -0.00119776, -0.00038299,  0.00023403,\n",
              "         -0.00030103,  0.0022459 ,  0.00022305, -0.00076609, -0.00010487]),\n",
              "  7.831838654135873e-06,\n",
              "  12193),\n",
              " (array([ 0.0001803 , -0.00087869, -0.00110639,  0.00045104, -0.00038249,\n",
              "          0.00192596,  0.0002597 ,  0.00049252, -0.00044087,  0.00166861]),\n",
              "  9.376392005768869e-06,\n",
              "  10529),\n",
              " (array([-6.04803876e-04,  7.53790139e-06,  1.52266934e-04, -3.22285444e-06,\n",
              "          1.14914329e-03,  7.86097036e-04,  2.73604433e-05, -1.16052458e-04,\n",
              "         -9.95501232e-04,  2.10439803e-03]), 7.761249559464317e-06, 9697),\n",
              " (array([-0.0003647 , -0.00098334,  0.00102875,  0.00090456, -0.00090067,\n",
              "          0.00131354, -0.0007316 ,  0.0005533 ,  0.00107782, -0.00108553]),\n",
              "  8.694604285329827e-06,\n",
              "  9985),\n",
              " (array([ 0.00098961, -0.00039932,  0.00133777,  0.00053409, -0.00028124,\n",
              "          0.00013345, -0.00124944, -0.00086353,  0.00151684,  0.00068459]),\n",
              "  8.38681273033522e-06,\n",
              "  9569),\n",
              " (array([-2.86228316e-04, -8.56010255e-04,  6.05477977e-04,  2.28580967e-03,\n",
              "         -3.48671733e-04,  4.06238898e-04, -1.03768040e-03, -1.33518366e-03,\n",
              "         -2.66028485e-04, -6.57425020e-06]), 9.623122051425155e-06, 10593),\n",
              " (array([ 0.00061249,  0.00108955,  0.00123081, -0.00015476, -0.00010484,\n",
              "          0.00081789,  0.00171047, -0.00116082, -0.00011765, -0.00072727]),\n",
              "  8.597028178050257e-06,\n",
              "  11329),\n",
              " (array([-8.29214584e-04, -4.52779062e-04,  3.46107480e-04, -1.65379075e-03,\n",
              "          3.42162620e-05,  5.56827868e-04,  1.23447872e-03, -1.30618081e-03,\n",
              "          6.18608971e-04,  1.08461939e-04]), 7.683135023905513e-06, 10561),\n",
              " (array([-0.00023858,  0.00248747, -0.00063743,  0.00025096, -0.00014499,\n",
              "         -0.00025062,  0.00021382, -0.00047725,  0.00116938, -0.00122557]),\n",
              "  9.94050431421699e-06,\n",
              "  10273)]"
            ]
          },
          "metadata": {},
          "execution_count": 24
        }
      ]
    },
    {
      "cell_type": "code",
      "metadata": {
        "id": "bAQS-RNpb-5e",
        "colab": {
          "base_uri": "https://localhost:8080/"
        },
        "outputId": "88cabf82-7064-4584-8f9e-d60c403cabcc"
      },
      "source": [
        "print(f\"Giá trị trung bình (mean) của Sphere (d=10, n=32) trong DE: {np.mean([all_results[i][1] for i in range(len(all_results))])}\")\n",
        "print(f\"Độ lệch chuẩn (std) của Sphere (d=10, n=32) trong DE: {np.std([all_results[i][1] for i in range(len(all_results))])}\")"
      ],
      "execution_count": null,
      "outputs": [
        {
          "output_type": "stream",
          "name": "stdout",
          "text": [
            "Giá trị trung bình (mean) của Sphere (d=10, n=32) trong DE: 8.551299689861538e-06\n",
            "Độ lệch chuẩn (std) của Sphere (d=10, n=32) trong DE: 8.108721301403751e-07\n"
          ]
        }
      ]
    },
    {
      "cell_type": "markdown",
      "metadata": {
        "id": "PZpNAcOqbphQ"
      },
      "source": [
        "#### **popsize = 64**"
      ]
    },
    {
      "cell_type": "code",
      "metadata": {
        "id": "oAAqBUtjcB0B"
      },
      "source": [
        "all_results = []\n",
        "\n",
        "dimension = 10\n",
        "max_evals = 1e6\n",
        "fobj = Sphere_f\n",
        "seed_number = 18520186\n",
        "popsize = 64 # kích thước quần thể\n",
        "lower_bound = -6\n",
        "upper_bound = 6\n",
        "\n",
        "for i in range(10):\n",
        "    np.random.rand(seed_number)\n",
        "    results, all_pops, generation_count = DE(fobj, dimension, [(lower_bound, upper_bound)]*dimension, F_scale, cross_prob, popsize, max_evals)\n",
        "    all_results.append(results[-1])\n",
        "    seed_number += 1"
      ],
      "execution_count": null,
      "outputs": []
    },
    {
      "cell_type": "code",
      "metadata": {
        "id": "Yid2BiW8cD9p",
        "colab": {
          "base_uri": "https://localhost:8080/"
        },
        "outputId": "3a7df172-ec01-4a96-8991-05be5d03585e"
      },
      "source": [
        "all_results"
      ],
      "execution_count": null,
      "outputs": [
        {
          "output_type": "execute_result",
          "data": {
            "text/plain": [
              "[(array([ 1.61319172e-03, -8.75098727e-04,  3.55586212e-04,  1.28607032e-03,\n",
              "          6.70219378e-04,  1.30413421e-03, -8.64393831e-04, -9.04848510e-04,\n",
              "          9.04847690e-04, -7.38650064e-05]), 9.688696678524838e-06, 21633),\n",
              " (array([ 6.34327244e-04,  2.12712193e-04,  1.36736804e-03, -1.69327018e-04,\n",
              "          3.34250538e-05,  1.52059777e-03, -1.34208483e-03, -3.93083345e-05,\n",
              "         -1.29331754e-03,  3.06520454e-04]), 8.22868122091163e-06, 21377),\n",
              " (array([-3.87798023e-04,  2.83304875e-04,  7.68373453e-04,  1.03269416e-03,\n",
              "         -1.05575086e-03, -3.40674044e-04, -1.65348371e-03, -1.54828328e-03,\n",
              "         -1.01797447e-03, -7.43389220e-05]), 9.29116041899865e-06, 22465),\n",
              " (array([ 1.44056239e-03, -9.98279282e-04, -4.57696282e-05, -9.03676634e-04,\n",
              "          6.06068950e-04,  1.24846389e-04, -9.37963941e-05,  1.84670277e-04,\n",
              "         -1.13126452e-03, -8.98104704e-04]), 6.402666383311089e-06, 21761),\n",
              " (array([ 0.00126811, -0.00166456, -0.00087775, -0.0001296 , -0.00066722,\n",
              "          0.00167135, -0.00030067, -0.00078048,  0.00075751,  0.00029722]),\n",
              "  9.766400320706706e-06,\n",
              "  22657),\n",
              " (array([-7.71177147e-04,  3.98111135e-04, -8.08095103e-05, -1.84445250e-03,\n",
              "          1.55950173e-04, -8.95935142e-05,  1.05143999e-04, -1.35229912e-03,\n",
              "         -9.82026199e-04, -8.22093674e-04]), 7.674070949192618e-06, 21953),\n",
              " (array([ 7.77087225e-04,  1.56047448e-03,  6.27554036e-04,  1.28291595e-03,\n",
              "         -4.88597926e-04, -8.59935335e-04, -1.85803881e-04,  9.83243387e-04,\n",
              "         -1.09365469e-03, -7.88689866e-05]), 8.260450809860686e-06, 21505),\n",
              " (array([-5.07798843e-04,  1.13154292e-03,  7.30507673e-04,  2.41464406e-05,\n",
              "          5.79597758e-04, -4.24777296e-04,  3.32430414e-04,  5.09889946e-04,\n",
              "          1.53584766e-04,  6.46782900e-04]), 3.401257014475573e-06, 21569),\n",
              " (array([ 4.63598418e-04, -1.92798129e-03, -2.12363411e-05,  5.75043317e-04,\n",
              "          1.49143825e-03, -7.39310875e-05, -9.31589698e-04, -5.12425556e-05,\n",
              "          4.94780302e-04,  1.26598120e-03]), 9.211016119876625e-06, 21313),\n",
              " (array([-0.00024538,  0.00101326,  0.00017747,  0.00109239, -0.00124235,\n",
              "          0.00090992, -0.00070098, -0.00050148,  0.00120315, -0.00021878]),\n",
              "  6.921386904673434e-06,\n",
              "  22017)]"
            ]
          },
          "metadata": {},
          "execution_count": 27
        }
      ]
    },
    {
      "cell_type": "code",
      "metadata": {
        "id": "MwQw4zTRcEBD",
        "colab": {
          "base_uri": "https://localhost:8080/"
        },
        "outputId": "f2ef0c21-257b-4851-8cd5-328b350cf8ae"
      },
      "source": [
        "print(f\"Giá trị trung bình (mean) của Sphere (d=10, n=64) trong DE: {np.mean([all_results[i][1] for i in range(len(all_results))])}\")\n",
        "print(f\"Độ lệch chuẩn (std) của Sphere (d=10, n=64) trong DE: {np.std([all_results[i][1] for i in range(len(all_results))])}\")"
      ],
      "execution_count": null,
      "outputs": [
        {
          "output_type": "stream",
          "name": "stdout",
          "text": [
            "Giá trị trung bình (mean) của Sphere (d=10, n=64) trong DE: 7.884578682053185e-06\n",
            "Độ lệch chuẩn (std) của Sphere (d=10, n=64) trong DE: 1.845588752661791e-06\n"
          ]
        }
      ]
    },
    {
      "cell_type": "markdown",
      "metadata": {
        "id": "s00ZA56mbpqJ"
      },
      "source": [
        "#### **popsize = 128**"
      ]
    },
    {
      "cell_type": "code",
      "metadata": {
        "id": "h7pnMd_pcElk"
      },
      "source": [
        "all_results = []\n",
        "\n",
        "dimension = 10\n",
        "max_evals = 1e6\n",
        "fobj = Sphere_f\n",
        "seed_number = 18520186\n",
        "popsize = 128 # kích thước quần thể\n",
        "lower_bound = -6\n",
        "upper_bound = 6\n",
        "\n",
        "for i in range(10):\n",
        "    np.random.rand(seed_number)\n",
        "    results, all_pops, generation_count = DE(fobj, dimension, [(lower_bound, upper_bound)]*dimension, F_scale, cross_prob, popsize, max_evals)\n",
        "    all_results.append(results[-1])\n",
        "    seed_number += 1"
      ],
      "execution_count": null,
      "outputs": []
    },
    {
      "cell_type": "code",
      "metadata": {
        "id": "1-PNEK2pcEqR",
        "colab": {
          "base_uri": "https://localhost:8080/"
        },
        "outputId": "b36d3d97-33da-4301-a7cf-fcc3c1be0ffa"
      },
      "source": [
        "all_results"
      ],
      "execution_count": null,
      "outputs": [
        {
          "output_type": "execute_result",
          "data": {
            "text/plain": [
              "[(array([-0.00108575,  0.00059889,  0.00071829,  0.00071112, -0.00131664,\n",
              "          0.00067247, -0.00067767, -0.00105316,  0.00080254,  0.00069543]),\n",
              "  7.441031022384299e-06,\n",
              "  44929),\n",
              " (array([ 0.0001797 , -0.00052033, -0.00039269,  0.00154442,  0.000663  ,\n",
              "         -0.00080781, -0.00029606, -0.00056127,  0.00184011,  0.00102343]),\n",
              "  8.770664844744597e-06,\n",
              "  44033),\n",
              " (array([-0.00087816,  0.0012553 , -0.00075962, -0.00060477, -0.00079742,\n",
              "         -0.00048264, -0.00029752,  0.00047482, -0.00112755, -0.00073903]),\n",
              "  6.290040702418438e-06,\n",
              "  43905),\n",
              " (array([-1.08254694e-03,  1.93781340e-03,  8.21213098e-04,  1.08691233e-03,\n",
              "         -5.01349652e-04, -7.23473898e-04, -7.66655694e-04,  1.11586570e-03,\n",
              "         -7.33563508e-04,  2.67441446e-05]), 9.929311861363093e-06, 43521),\n",
              " (array([ 0.00033289, -0.00080347,  0.0008643 , -0.00186981,  0.00122194,\n",
              "         -0.00050388, -0.00056562,  0.00086925,  0.00031316,  0.0009572 ]),\n",
              "  8.83644158896173e-06,\n",
              "  42753),\n",
              " (array([ 1.88211100e-03, -1.05129916e-03, -5.04899566e-04,  6.83171169e-04,\n",
              "          4.81909095e-05, -6.19654190e-04,  5.51721094e-04,  9.69520651e-04,\n",
              "          1.22383147e-03,  8.20064640e-04]), 9.170147756074434e-06, 42625),\n",
              " (array([-0.00070757, -0.00064746,  0.00086565,  0.00084315, -0.00076777,\n",
              "          0.00133652,  0.00060909, -0.00047208, -0.00026183, -0.00194124]),\n",
              "  9.186708379989724e-06,\n",
              "  40961),\n",
              " (array([-0.00087847,  0.0005342 , -0.00064247,  0.00037284,  0.00077437,\n",
              "          0.00113483, -0.00056384,  0.00084628, -0.00224839,  0.00048362]),\n",
              "  9.819600104733237e-06,\n",
              "  43137),\n",
              " (array([ 7.82158970e-04, -1.38895280e-03, -7.29498812e-05,  1.68631592e-03,\n",
              "         -5.72867996e-05,  7.54462758e-04,  2.57646287e-05,  1.80453475e-04,\n",
              "          2.44417989e-04, -7.11430896e-04]), 6.561542757218926e-06, 45825),\n",
              " (array([-1.00086308e-03, -2.08704792e-03, -8.76992713e-04,  1.69840961e-04,\n",
              "         -8.48261076e-04,  6.20300279e-05, -7.31209190e-04, -1.02087585e-03,\n",
              "          7.41785185e-05, -2.33504915e-04]), 8.515734028454906e-06, 43393)]"
            ]
          },
          "metadata": {},
          "execution_count": 30
        }
      ]
    },
    {
      "cell_type": "code",
      "metadata": {
        "id": "IWS47Sv1cEvW",
        "colab": {
          "base_uri": "https://localhost:8080/"
        },
        "outputId": "e0720cc6-cd19-478d-c62c-0d18af0aae3a"
      },
      "source": [
        "print(f\"Giá trị trung bình (mean) của Sphere (d=10, n=128) trong DE: {np.mean([all_results[i][1] for i in range(len(all_results))])}\")\n",
        "print(f\"Độ lệch chuẩn (std) của Sphere (d=10, n=128) trong DE: {np.std([all_results[i][1] for i in range(len(all_results))])}\")"
      ],
      "execution_count": null,
      "outputs": [
        {
          "output_type": "stream",
          "name": "stdout",
          "text": [
            "Giá trị trung bình (mean) của Sphere (d=10, n=128) trong DE: 8.452122304634337e-06\n",
            "Độ lệch chuẩn (std) của Sphere (d=10, n=128) trong DE: 1.209614498328075e-06\n"
          ]
        }
      ]
    },
    {
      "cell_type": "markdown",
      "metadata": {
        "id": "OZZ5HXwRbp1p"
      },
      "source": [
        "#### **popsize = 256**"
      ]
    },
    {
      "cell_type": "code",
      "metadata": {
        "id": "vI4LwwXqcHYJ"
      },
      "source": [
        "all_results = []\n",
        "\n",
        "dimension = 10\n",
        "max_evals = 1e6\n",
        "fobj = Sphere_f\n",
        "seed_number = 18520186\n",
        "popsize = 256 # kích thước quần thể\n",
        "lower_bound = -6\n",
        "upper_bound = 6\n",
        "\n",
        "for i in range(10):\n",
        "    np.random.rand(seed_number)\n",
        "    results, all_pops, generation_count = DE(fobj, dimension, [(lower_bound, upper_bound)]*dimension, F_scale, cross_prob, popsize, max_evals)\n",
        "    all_results.append(results[-1])\n",
        "    seed_number += 1"
      ],
      "execution_count": null,
      "outputs": []
    },
    {
      "cell_type": "code",
      "metadata": {
        "id": "3S4nCCjYcHae",
        "colab": {
          "base_uri": "https://localhost:8080/"
        },
        "outputId": "e0c2db3d-528a-4c17-aaa9-603af9b756a5"
      },
      "source": [
        "all_results"
      ],
      "execution_count": null,
      "outputs": [
        {
          "output_type": "execute_result",
          "data": {
            "text/plain": [
              "[(array([ 1.91738007e-03, -7.84873780e-05,  6.33592020e-04, -2.66476319e-04,\n",
              "          5.90790240e-05, -3.03930004e-04, -5.05566207e-04, -7.62091661e-04,\n",
              "         -4.50283298e-04,  8.05013700e-04]), 5.938001836798977e-06, 90113),\n",
              " (array([ 0.00020491,  0.0007626 ,  0.00053161,  0.00169243, -0.0014217 ,\n",
              "          0.00090259, -0.00134437,  0.00051749,  0.00069027,  0.00038477]),\n",
              "  9.30605597055727e-06,\n",
              "  87041),\n",
              " (array([ 7.87164922e-04, -1.97946182e-03,  1.56361496e-05,  1.04321901e-03,\n",
              "          1.61263738e-04, -1.97252360e-04, -4.97318545e-04,  4.28709709e-04,\n",
              "         -9.93965938e-04, -3.05460945e-04]), 7.2037550048249536e-06, 88577),\n",
              " (array([-6.61476174e-04,  5.07750307e-04,  2.17814667e-03,  9.02641879e-04,\n",
              "          2.77618988e-04,  9.63115435e-04, -7.84327562e-04,  1.32181467e-03,\n",
              "          1.49415870e-04,  9.09169903e-05]), 9.652064774883613e-06, 87553),\n",
              " (array([ 0.00012037, -0.00064409, -0.00108026, -0.00068978,  0.00127064,\n",
              "         -0.00086828, -0.00075286,  0.00199014,  0.00032774, -0.00025286]),\n",
              "  9.139349667478764e-06,\n",
              "  90369),\n",
              " (array([ 3.19035848e-04,  1.27013096e-04, -2.28990232e-04, -1.37050829e-03,\n",
              "          8.63415240e-05,  1.57406376e-03,  5.59518410e-04, -1.60305674e-04,\n",
              "         -1.76662826e-03, -3.82307656e-04]), 8.139670601630686e-06, 88833),\n",
              " (array([ 1.10784993e-03,  1.70672587e-04,  1.58090278e-03, -2.59046055e-05,\n",
              "         -1.10532256e-03,  6.50088766e-04,  6.08740725e-04,  4.79462814e-04,\n",
              "         -4.90655534e-04, -5.66091388e-04]), 6.562390776148692e-06, 88065),\n",
              " (array([ 1.24635776e-03,  4.53690998e-05,  1.44339130e-03, -1.11436738e-03,\n",
              "         -7.06944188e-04,  1.34932438e-03,  6.95469144e-04,  7.07438814e-04,\n",
              "          2.17237386e-04, -3.85937428e-04]), 8.381392265444673e-06, 88321),\n",
              " (array([ 9.63757050e-05, -2.51033232e-04, -1.12662987e-03,  4.56001861e-04,\n",
              "         -3.48098839e-04, -1.02547343e-03, -1.50116278e-03,  3.37546470e-04,\n",
              "          4.68390317e-04,  9.00193692e-04]), 6.119472578663276e-06, 89345),\n",
              " (array([-1.18576292e-03,  2.06824503e-04, -6.64330181e-04,  6.35298165e-04,\n",
              "         -2.40343748e-04, -9.56995739e-04, -1.27553599e-03, -1.57760487e-03,\n",
              "          5.96456061e-05,  1.05017814e-03]), 8.489615308747114e-06, 89601)]"
            ]
          },
          "metadata": {},
          "execution_count": 33
        }
      ]
    },
    {
      "cell_type": "code",
      "metadata": {
        "id": "O5BVo4iPcHd7",
        "colab": {
          "base_uri": "https://localhost:8080/"
        },
        "outputId": "750f985b-3c34-4e40-9df0-c8e5175e0224"
      },
      "source": [
        "print(f\"Giá trị trung bình (mean) của Sphere (d=10, n=256) trong DE: {np.mean([all_results[i][1] for i in range(len(all_results))])}\")\n",
        "print(f\"Độ lệch chuẩn (std) của Sphere (d=10, n=256) trong DE: {np.std([all_results[i][1] for i in range(len(all_results))])}\")"
      ],
      "execution_count": null,
      "outputs": [
        {
          "output_type": "stream",
          "name": "stdout",
          "text": [
            "Giá trị trung bình (mean) của Sphere (d=10, n=256) trong DE: 7.893176878517804e-06\n",
            "Độ lệch chuẩn (std) của Sphere (d=10, n=256) trong DE: 1.2850191966869343e-06\n"
          ]
        }
      ]
    },
    {
      "cell_type": "markdown",
      "metadata": {
        "id": "gPIwVf1nbp9U"
      },
      "source": [
        "#### **popsize = 512**"
      ]
    },
    {
      "cell_type": "code",
      "metadata": {
        "id": "ooQVoov0b-AK"
      },
      "source": [
        "all_results = []\n",
        "\n",
        "dimension = 10\n",
        "max_evals = 1e6\n",
        "fobj = Sphere_f\n",
        "seed_number = 18520186\n",
        "popsize = 512 # kích thước quần thể\n",
        "lower_bound = -6\n",
        "upper_bound = 6\n",
        "\n",
        "for i in range(10):\n",
        "    np.random.rand(seed_number)\n",
        "    results, all_pops, generation_count = DE(fobj, dimension, [(lower_bound, upper_bound)]*dimension, F_scale, cross_prob, popsize, max_evals)\n",
        "    all_results.append(results[-1])\n",
        "    seed_number += 1"
      ],
      "execution_count": null,
      "outputs": []
    },
    {
      "cell_type": "code",
      "metadata": {
        "id": "gjS77Rbkb-FW",
        "colab": {
          "base_uri": "https://localhost:8080/"
        },
        "outputId": "d9225f08-4f0f-4532-c83c-a13b593aee64"
      },
      "source": [
        "all_results"
      ],
      "execution_count": null,
      "outputs": [
        {
          "output_type": "execute_result",
          "data": {
            "text/plain": [
              "[(array([ 0.00048968,  0.00062657,  0.00117564, -0.00034238, -0.00060773,\n",
              "          0.00092712,  0.00102068,  0.00104478, -0.00070253, -0.0001665 ]),\n",
              "  6.015242018231662e-06,\n",
              "  173569),\n",
              " (array([-7.57984266e-05,  4.78802486e-04, -8.22908997e-04,  1.27537225e-03,\n",
              "         -4.54226941e-04, -3.19431644e-04, -6.90710067e-04, -3.30322205e-04,\n",
              "         -2.54594891e-07, -1.63595167e-04]), 3.4600660969405394e-06, 173569),\n",
              " (array([ 8.80976750e-05, -7.92480047e-04,  1.02946356e-03,  7.71156712e-05,\n",
              "          1.66426419e-03,  1.04122199e-03,  1.53358798e-03, -8.09735659e-04,\n",
              "         -6.84501797e-04,  4.58750800e-04]), 9.242005328004753e-06, 175105),\n",
              " (array([-9.66381249e-04, -7.81548543e-05,  1.03808131e-03, -1.66135379e-03,\n",
              "          1.44758041e-03,  7.51958097e-04,  6.85172291e-04, -4.94499080e-04,\n",
              "          9.97836917e-05, -5.40649613e-04]), 8.45488930881805e-06, 179201),\n",
              " (array([ 1.70204619e-03,  3.78060184e-04, -5.82451602e-04,  7.62310057e-04,\n",
              "         -1.48568894e-03, -1.45260067e-03,  5.18021090e-04, -7.68421531e-04,\n",
              "          7.26981081e-04, -3.56973760e-05]), 9.666170848881785e-06, 177665),\n",
              " (array([-0.00114971,  0.00069495, -0.00103803, -0.00196418,  0.00091275,\n",
              "          0.00045015,  0.00010396, -0.00125505,  0.00026995, -0.00044639]),\n",
              "  9.634145071389744e-06,\n",
              "  157697),\n",
              " (array([ 9.54682399e-04, -7.17233114e-04, -2.39608386e-04,  6.13718603e-04,\n",
              "          1.38028647e-03, -6.29102554e-04, -3.15379275e-04,  1.08441980e-03,\n",
              "          1.05421578e-03, -2.52509555e-05]), 6.548304185731351e-06, 176641),\n",
              " (array([-0.00036802,  0.00191093,  0.00187895, -0.00054319,  0.00055153,\n",
              "          0.00069903, -0.00063922, -0.0002809 , -0.00068599, -0.00013856]),\n",
              "  9.382730032108013e-06,\n",
              "  172545),\n",
              " (array([ 0.00124545,  0.0012025 , -0.00115285, -0.00112971, -0.00052892,\n",
              "          0.00085393, -0.00047124, -0.00096847, -0.00018172,  0.00084089]),\n",
              "  8.51153524069139e-06,\n",
              "  173569),\n",
              " (array([ 0.00023797, -0.00074811, -0.00160629,  0.00055079, -0.00134179,\n",
              "         -0.00128471,  0.00080024,  0.00036836, -0.000375  ,  0.00126712]),\n",
              "  9.472998172690926e-06,\n",
              "  179201)]"
            ]
          },
          "metadata": {},
          "execution_count": 36
        }
      ]
    },
    {
      "cell_type": "code",
      "metadata": {
        "id": "n97oE3dAb-Kf",
        "colab": {
          "base_uri": "https://localhost:8080/"
        },
        "outputId": "25093eb9-6de6-4a37-e709-8529f87b3f79"
      },
      "source": [
        "print(f\"Giá trị trung bình (mean) của Sphere (d=10, n=512) trong DE: {np.mean([all_results[i][1] for i in range(len(all_results))])}\")\n",
        "print(f\"Độ lệch chuẩn (std) của Sphere (d=10, n=512) trong DE: {np.std([all_results[i][1] for i in range(len(all_results))])}\")"
      ],
      "execution_count": null,
      "outputs": [
        {
          "output_type": "stream",
          "name": "stdout",
          "text": [
            "Giá trị trung bình (mean) của Sphere (d=10, n=512) trong DE: 8.038808630348821e-06\n",
            "Độ lệch chuẩn (std) của Sphere (d=10, n=512) trong DE: 1.954021876044505e-06\n"
          ]
        }
      ]
    },
    {
      "cell_type": "markdown",
      "metadata": {
        "id": "4-12LxIhbqAt"
      },
      "source": [
        "#### **popsize = 1024**"
      ]
    },
    {
      "cell_type": "code",
      "metadata": {
        "id": "t4K74JFHb42v"
      },
      "source": [
        "all_results = []\n",
        "\n",
        "dimension = 10\n",
        "max_evals = 1e6\n",
        "fobj = Sphere_f\n",
        "seed_number = 18520186\n",
        "popsize = 1024 # kích thước quần thể\n",
        "lower_bound = -6\n",
        "upper_bound = 6\n",
        "\n",
        "for i in range(10):\n",
        "    np.random.rand(seed_number)\n",
        "    results, all_pops, generation_count = DE(fobj, dimension, [(lower_bound, upper_bound)]*dimension, F_scale, cross_prob, popsize, max_evals)\n",
        "    all_results.append(results[-1])\n",
        "    seed_number += 1"
      ],
      "execution_count": null,
      "outputs": []
    },
    {
      "cell_type": "code",
      "metadata": {
        "id": "Q3dYhiAtb4-X",
        "colab": {
          "base_uri": "https://localhost:8080/"
        },
        "outputId": "5a2635fc-c435-4dda-d759-434a7e5a82dd"
      },
      "source": [
        "all_results"
      ],
      "execution_count": null,
      "outputs": [
        {
          "output_type": "execute_result",
          "data": {
            "text/plain": [
              "[(array([ 0.0006271 , -0.00191494,  0.00021683, -0.00113617,  0.00079087,\n",
              "          0.00071223,  0.00127382,  0.00096574, -0.00019112, -0.00031414]),\n",
              "  9.221408827352692e-06,\n",
              "  346113),\n",
              " (array([ 0.00169161, -0.00013266, -0.00067896,  0.00075045, -0.00165144,\n",
              "         -0.00040439, -0.0001277 , -0.00015511,  0.00073001,  0.00082714]),\n",
              "  8.051568111991254e-06,\n",
              "  338945),\n",
              " (array([ 0.00055741, -0.00026296, -0.00015683, -0.00044639, -0.00045271,\n",
              "         -0.0009315 ,  0.00054515, -0.00249494, -0.00063345,  0.00069079]),\n",
              "  9.076726302583347e-06,\n",
              "  349185),\n",
              " (array([ 1.01445799e-03, -1.48569931e-03, -7.43005149e-04, -1.40385241e-03,\n",
              "          1.30350604e-03,  2.16079776e-05,  2.14756774e-04,  1.12678941e-03,\n",
              "          6.45072726e-04,  6.61594149e-04]), 9.628481102548559e-06, 353281),\n",
              " (array([-0.00074637, -0.00141767,  0.00075811, -0.00144621,  0.00138375,\n",
              "          0.00034477,  0.00018714, -0.0007671 , -0.00042808,  0.00086819]),\n",
              "  8.827212555862441e-06,\n",
              "  350209),\n",
              " (array([-0.00016321, -0.00163562,  0.00058722, -0.00025808, -0.00015781,\n",
              "          0.00097928, -0.00036761, -0.00106036,  0.00012854, -0.00080494]),\n",
              "  6.021151533073198e-06,\n",
              "  355329),\n",
              " (array([ 1.29259446e-04,  3.95366252e-04, -1.46983317e-03, -1.20906780e-04,\n",
              "         -7.00894848e-04, -8.48173027e-04, -9.51266713e-04, -2.16832991e-05,\n",
              "          4.59578017e-04,  6.56841722e-04]), 5.106733066980648e-06, 350209),\n",
              " (array([ 1.24169593e-03,  1.42980153e-03, -1.18494776e-03,  7.40621997e-04,\n",
              "          1.09172519e-03,  1.09803788e-03,  9.24635474e-04, -7.09695355e-04,\n",
              "          7.73977346e-06, -5.63333399e-04]), 9.612337080096126e-06, 355329),\n",
              " (array([-7.76867675e-04, -1.39713454e-03, -8.10959769e-04, -1.84364928e-03,\n",
              "          1.24586062e-04,  5.43984396e-05, -9.85259618e-04, -1.57573372e-04,\n",
              "          1.13503800e-03, -8.55018671e-04]), 9.645621649956516e-06, 348161),\n",
              " (array([ 0.00053297, -0.00011347,  0.00101937, -0.0021959 , -0.000223  ,\n",
              "          0.00020332, -0.00075604,  0.00030282, -0.00116649, -0.00064647]),\n",
              "  8.690994957343588e-06,\n",
              "  350209)]"
            ]
          },
          "metadata": {},
          "execution_count": 39
        }
      ]
    },
    {
      "cell_type": "code",
      "metadata": {
        "id": "4SgQhInLb5By",
        "colab": {
          "base_uri": "https://localhost:8080/"
        },
        "outputId": "4bedc459-7a4b-4098-974b-586da96ba246"
      },
      "source": [
        "print(f\"Giá trị trung bình (mean) của Sphere (d=10, n=1024) trong DE: {np.mean([all_results[i][1] for i in range(len(all_results))])}\")\n",
        "print(f\"Độ lệch chuẩn (std) của Sphere (d=10, n=1024) trong DE: {np.std([all_results[i][1] for i in range(len(all_results))])}\")"
      ],
      "execution_count": null,
      "outputs": [
        {
          "output_type": "stream",
          "name": "stdout",
          "text": [
            "Giá trị trung bình (mean) của Sphere (d=10, n=1024) trong DE: 8.388223518778837e-06\n",
            "Độ lệch chuẩn (std) của Sphere (d=10, n=1024) trong DE: 1.5018290495087242e-06\n"
          ]
        }
      ]
    },
    {
      "cell_type": "markdown",
      "metadata": {
        "id": "2AMnmaRHc3n9"
      },
      "source": [
        "## **Hàm Rastrigin**"
      ]
    },
    {
      "cell_type": "markdown",
      "metadata": {
        "id": "jQ9y4jXYdiZq"
      },
      "source": [
        "### **dimensions (d=2)**"
      ]
    },
    {
      "cell_type": "markdown",
      "metadata": {
        "id": "va7cEOiFd2UF"
      },
      "source": [
        "#### **popsize = 32**"
      ]
    },
    {
      "cell_type": "code",
      "metadata": {
        "id": "5j0vngIAfmCY"
      },
      "source": [
        "all_results = []\n",
        "\n",
        "dimension = 2\n",
        "max_evals = 1e5\n",
        "fobj = Rastrigin_f\n",
        "seed_number = 18520186\n",
        "popsize = 32 # kích thước quần thể\n",
        "lower_bound = -6\n",
        "upper_bound = 6\n",
        "\n",
        "for i in range(10):\n",
        "    np.random.rand(seed_number)\n",
        "    results, all_pops, generation_count = DE(fobj, dimension, [(lower_bound, upper_bound)]*dimension, F_scale, cross_prob, popsize, max_evals)\n",
        "    all_results.append(results[-1])\n",
        "    seed_number += 1"
      ],
      "execution_count": null,
      "outputs": []
    },
    {
      "cell_type": "code",
      "metadata": {
        "id": "TB1mTYbafmFx",
        "colab": {
          "base_uri": "https://localhost:8080/"
        },
        "outputId": "4ec9c1f5-2540-4fa5-d5f7-5b5f1c29db16"
      },
      "source": [
        "all_results"
      ],
      "execution_count": null,
      "outputs": [
        {
          "output_type": "execute_result",
          "data": {
            "text/plain": [
              "[(array([2.35320585e-05, 2.87841590e-05]), 2.7423452308994456e-07, 1793),\n",
              " (array([-1.10578559e-04, -6.93471888e-05]), 3.3799365333209153e-06, 1793),\n",
              " (array([9.92615738e-06, 4.18103594e-05]), 3.6635772282522794e-07, 1697),\n",
              " (array([1.10196544e-05, 1.14953900e-04]), 2.6457234056920242e-06, 1857),\n",
              " (array([-5.83838151e-05, -2.05138087e-04]), 9.024915391009358e-06, 1665),\n",
              " (array([-1.96439455e-04, -9.62870238e-05]), 9.494974960944091e-06, 1697),\n",
              " (array([-4.79571878e-05, -1.72228531e-04]), 6.341118220731801e-06, 1697),\n",
              " (array([-7.61277864e-05,  3.02349428e-05]), 1.331129872994552e-06, 2209),\n",
              " (array([ 1.13827225e-04, -8.71721761e-05]), 4.0780732994960545e-06, 1505),\n",
              " (array([-3.28142501e-05,  1.19584765e-04]), 3.0507327295481446e-06, 1697)]"
            ]
          },
          "metadata": {},
          "execution_count": 42
        }
      ]
    },
    {
      "cell_type": "code",
      "metadata": {
        "id": "fkufdfm2fmLL",
        "colab": {
          "base_uri": "https://localhost:8080/"
        },
        "outputId": "0651ea4c-68dd-473d-c084-01cc929ccb8e"
      },
      "source": [
        "print(f\"Giá trị trung bình (mean) của Rastrigin (d=2, n=32) trong DE: {np.mean([all_results[i][1] for i in range(len(all_results))])}\")\n",
        "print(f\"Độ lệch chuẩn (std) của Rastrigin (d=2, n=32) trong DE: {np.std([all_results[i][1] for i in range(len(all_results))])}\")"
      ],
      "execution_count": null,
      "outputs": [
        {
          "output_type": "stream",
          "name": "stdout",
          "text": [
            "Giá trị trung bình (mean) của Rastrigin (d=2, n=32) trong DE: 3.998719665965211e-06\n",
            "Độ lệch chuẩn (std) của Rastrigin (d=2, n=32) trong DE: 3.1346234633328743e-06\n"
          ]
        }
      ]
    },
    {
      "cell_type": "markdown",
      "metadata": {
        "id": "AOBEId2Nd25m"
      },
      "source": [
        "#### **popsize = 64**"
      ]
    },
    {
      "cell_type": "code",
      "metadata": {
        "id": "Uqu5bRQxftSN"
      },
      "source": [
        "all_results = []\n",
        "\n",
        "dimension = 2\n",
        "max_evals = 1e5\n",
        "fobj = Rastrigin_f\n",
        "seed_number = 18520186\n",
        "popsize = 64 # kích thước quần thể\n",
        "lower_bound = -6\n",
        "upper_bound = 6\n",
        "\n",
        "for i in range(10):\n",
        "    np.random.rand(seed_number)\n",
        "    results, all_pops, generation_count = DE(fobj, dimension, [(lower_bound, upper_bound)]*dimension, F_scale, cross_prob, popsize, max_evals)\n",
        "    all_results.append(results[-1])\n",
        "    seed_number += 1"
      ],
      "execution_count": null,
      "outputs": []
    },
    {
      "cell_type": "code",
      "metadata": {
        "id": "e_9bzvmaftUy",
        "colab": {
          "base_uri": "https://localhost:8080/"
        },
        "outputId": "ee379ccc-1d14-41fa-a6e6-7f439492ec1d"
      },
      "source": [
        "all_results"
      ],
      "execution_count": null,
      "outputs": [
        {
          "output_type": "execute_result",
          "data": {
            "text/plain": [
              "[(array([3.79695777e-05, 1.60011365e-04]), 5.365578221727674e-06, 3585),\n",
              " (array([ 1.38786694e-04, -2.93891466e-05]), 3.9927334327671815e-06, 3585),\n",
              " (array([ 0.00011667, -0.00011373]), 5.266839266937495e-06, 3777),\n",
              " (array([-3.96059825e-05, -1.71549098e-04]), 6.149703169811005e-06, 3841),\n",
              " (array([-6.39543755e-05,  2.63455362e-05]), 9.491572221520528e-07, 3969),\n",
              " (array([4.77170560e-05, 1.78407738e-04]), 6.766407222968951e-06, 4097),\n",
              " (array([-6.39453219e-05,  1.50711899e-04]), 5.317518795067144e-06, 3905),\n",
              " (array([-0.00016533, -0.00011682]), 8.130181480936471e-06, 3585),\n",
              " (array([6.8591856e-05, 3.2354632e-05]), 1.1410847999826501e-06, 4097),\n",
              " (array([ 1.18037566e-05, -2.04613060e-04]), 8.333623739531504e-06, 3329)]"
            ]
          },
          "metadata": {},
          "execution_count": 45
        }
      ]
    },
    {
      "cell_type": "code",
      "metadata": {
        "id": "twJ-0aIkftY-",
        "colab": {
          "base_uri": "https://localhost:8080/"
        },
        "outputId": "37f8bd8f-6086-434c-9a59-c14cfe900447"
      },
      "source": [
        "print(f\"Giá trị trung bình (mean) của Rastrigin (d=2, n=64) trong DE: {np.mean([all_results[i][1] for i in range(len(all_results))])}\")\n",
        "print(f\"Độ lệch chuẩn (std) của Rastrigin (d=2, n=64) trong DE: {np.std([all_results[i][1] for i in range(len(all_results))])}\")"
      ],
      "execution_count": null,
      "outputs": [
        {
          "output_type": "stream",
          "name": "stdout",
          "text": [
            "Giá trị trung bình (mean) của Rastrigin (d=2, n=64) trong DE: 5.141282735188213e-06\n",
            "Độ lệch chuẩn (std) của Rastrigin (d=2, n=64) trong DE: 2.4036284148929588e-06\n"
          ]
        }
      ]
    },
    {
      "cell_type": "markdown",
      "metadata": {
        "id": "z17f2Y3-d4mr"
      },
      "source": [
        "#### **popsize = 128**"
      ]
    },
    {
      "cell_type": "code",
      "metadata": {
        "id": "CDGoX7n2fwaO"
      },
      "source": [
        "all_results = []\n",
        "\n",
        "dimension = 2\n",
        "max_evals = 1e5\n",
        "fobj = Rastrigin_f\n",
        "seed_number = 18520186\n",
        "popsize = 128 # kích thước quần thể\n",
        "lower_bound = -6\n",
        "upper_bound = 6\n",
        "\n",
        "for i in range(10):\n",
        "    np.random.rand(seed_number)\n",
        "    results, all_pops, generation_count = DE(fobj, dimension, [(lower_bound, upper_bound)]*dimension, F_scale, cross_prob, popsize, max_evals)\n",
        "    all_results.append(results[-1])\n",
        "    seed_number += 1"
      ],
      "execution_count": null,
      "outputs": []
    },
    {
      "cell_type": "code",
      "metadata": {
        "id": "HCJbIFRifwhE",
        "colab": {
          "base_uri": "https://localhost:8080/"
        },
        "outputId": "305a3945-c4a0-4cd0-f7fe-e463db47aa19"
      },
      "source": [
        "all_results"
      ],
      "execution_count": null,
      "outputs": [
        {
          "output_type": "execute_result",
          "data": {
            "text/plain": [
              "[(array([-5.1712392e-05, -6.2288006e-07]), 5.306114321257382e-07, 7425),\n",
              " (array([-9.95630946e-05,  1.66365244e-04]), 7.4575985511415865e-06, 6913),\n",
              " (array([7.19964169e-05, 5.14592785e-05]), 1.553715827995461e-06, 7297),\n",
              " (array([-2.02122368e-04,  8.28098716e-05]), 9.46546919244895e-06, 7297),\n",
              " (array([ 1.02296124e-04, -4.44209504e-05]), 2.467544728546045e-06, 6401),\n",
              " (array([5.75034675e-05, 9.39142782e-05]), 2.405809617300747e-06, 6657),\n",
              " (array([-3.19086859e-05,  1.85039019e-04]), 6.9948286576249075e-06, 7297),\n",
              " (array([-8.25206151e-05, -8.68996499e-05]), 2.8491485988269005e-06, 7681),\n",
              " (array([-1.47199235e-04, -6.05622251e-05]), 5.026342149605512e-06, 6657),\n",
              " (array([3.56215267e-05, 1.26960502e-04]), 3.4496141054773943e-06, 7041)]"
            ]
          },
          "metadata": {},
          "execution_count": 48
        }
      ]
    },
    {
      "cell_type": "code",
      "metadata": {
        "id": "W6lzDFGSfwjk",
        "colab": {
          "base_uri": "https://localhost:8080/"
        },
        "outputId": "afbe9652-8bb1-4cdb-b3e0-a52c19e2030d"
      },
      "source": [
        "print(f\"Giá trị trung bình (mean) của Rastrigin (d=2, n=128) trong DE: {np.mean([all_results[i][1] for i in range(len(all_results))])}\")\n",
        "print(f\"Độ lệch chuẩn (std) của Rastrigin (d=2, n=128) trong DE: {np.std([all_results[i][1] for i in range(len(all_results))])}\")"
      ],
      "execution_count": null,
      "outputs": [
        {
          "output_type": "stream",
          "name": "stdout",
          "text": [
            "Giá trị trung bình (mean) của Rastrigin (d=2, n=128) trong DE: 4.220068286109324e-06\n",
            "Độ lệch chuẩn (std) của Rastrigin (d=2, n=128) trong DE: 2.7550431326280204e-06\n"
          ]
        }
      ]
    },
    {
      "cell_type": "markdown",
      "metadata": {
        "id": "vc1A5KQEd6Cd"
      },
      "source": [
        "#### **popsize = 256**"
      ]
    },
    {
      "cell_type": "code",
      "metadata": {
        "id": "QGZRQmALfz-8"
      },
      "source": [
        "all_results = []\n",
        "\n",
        "dimension = 2\n",
        "max_evals = 1e5\n",
        "fobj = Rastrigin_f\n",
        "seed_number = 18520186\n",
        "popsize = 256 # kích thước quần thể\n",
        "lower_bound = -6\n",
        "upper_bound = 6\n",
        "\n",
        "for i in range(10):\n",
        "    np.random.rand(seed_number)\n",
        "    results, all_pops, generation_count = DE(fobj, dimension, [(lower_bound, upper_bound)]*dimension, F_scale, cross_prob, popsize, max_evals)\n",
        "    all_results.append(results[-1])\n",
        "    seed_number += 1"
      ],
      "execution_count": null,
      "outputs": []
    },
    {
      "cell_type": "code",
      "metadata": {
        "id": "P5yC1RAqf0BT",
        "colab": {
          "base_uri": "https://localhost:8080/"
        },
        "outputId": "84672d15-94be-44fa-f3cb-96ca09926504"
      },
      "source": [
        "all_results"
      ],
      "execution_count": null,
      "outputs": [
        {
          "output_type": "execute_result",
          "data": {
            "text/plain": [
              "[(array([1.94479221e-05, 1.36173735e-04]), 3.753877201972955e-06, 14337),\n",
              " (array([-1.00247914e-05,  1.63675168e-04]), 5.3347740696096935e-06, 13569),\n",
              " (array([-5.95005982e-05,  4.68152947e-05]), 1.1371820516359321e-06, 14593),\n",
              " (array([-1.80232782e-05, -5.91292004e-05]), 7.580761796077695e-07, 13825),\n",
              " (array([-1.41959499e-04,  8.34183016e-06]), 4.011901488354397e-06, 14849),\n",
              " (array([-4.11505181e-05,  9.74394695e-05]), 2.2195739894925737e-06, 15105),\n",
              " (array([-1.68067808e-05, -1.13507125e-04]), 2.6120966261089507e-06, 14849),\n",
              " (array([6.67029260e-05, 1.06550555e-04]), 3.135051395375399e-06, 13313),\n",
              " (array([ 6.32138739e-05, -4.42994840e-05]), 1.182106972308361e-06, 14337),\n",
              " (array([6.99438146e-05, 6.52958350e-05]), 1.816415093003343e-06, 13057)]"
            ]
          },
          "metadata": {},
          "execution_count": 51
        }
      ]
    },
    {
      "cell_type": "code",
      "metadata": {
        "id": "TE8dIbOgf0Fz",
        "colab": {
          "base_uri": "https://localhost:8080/"
        },
        "outputId": "98103c66-9d14-4171-8fca-7c87d9f9ac8f"
      },
      "source": [
        "print(f\"Giá trị trung bình (mean) của Rastrigin (d=2, n=256) trong DE: {np.mean([all_results[i][1] for i in range(len(all_results))])}\")\n",
        "print(f\"Độ lệch chuẩn (std) của Rastrigin (d=2, n=256) trong DE: {np.std([all_results[i][1] for i in range(len(all_results))])}\")"
      ],
      "execution_count": null,
      "outputs": [
        {
          "output_type": "stream",
          "name": "stdout",
          "text": [
            "Giá trị trung bình (mean) của Rastrigin (d=2, n=256) trong DE: 2.5961055067469372e-06\n",
            "Độ lệch chuẩn (std) của Rastrigin (d=2, n=256) trong DE: 1.3925455784010718e-06\n"
          ]
        }
      ]
    },
    {
      "cell_type": "markdown",
      "metadata": {
        "id": "QsQDLBd0d7oY"
      },
      "source": [
        "#### **popsize = 512**"
      ]
    },
    {
      "cell_type": "code",
      "metadata": {
        "id": "x0lHuSLGwydX"
      },
      "source": [
        "all_results = []\n",
        "\n",
        "dimension = 2\n",
        "max_evals = 1e5\n",
        "fobj = Rastrigin_f\n",
        "seed_number = 18520186\n",
        "popsize = 512 # kích thước quần thể\n",
        "lower_bound = -6\n",
        "upper_bound = 6\n",
        "\n",
        "for i in range(10):\n",
        "    np.random.rand(seed_number)\n",
        "    results, all_pops, generation_count = DE(fobj, dimension, [(lower_bound, upper_bound)]*dimension, F_scale, cross_prob, popsize, max_evals)\n",
        "    all_results.append(results[-1])\n",
        "    seed_number += 1"
      ],
      "execution_count": null,
      "outputs": []
    },
    {
      "cell_type": "code",
      "metadata": {
        "id": "-38Srk6xgSLm",
        "colab": {
          "base_uri": "https://localhost:8080/"
        },
        "outputId": "6e2d0ee0-d832-48bd-dde9-a80fdf64cce6"
      },
      "source": [
        "all_results"
      ],
      "execution_count": null,
      "outputs": [
        {
          "output_type": "execute_result",
          "data": {
            "text/plain": [
              "[(array([7.26701448e-05, 1.35013781e-04]), 4.664132513099162e-06, 27137),\n",
              " (array([-1.06497458e-04,  3.92937346e-05]), 2.5564220464957543e-06, 26625),\n",
              " (array([ 1.24810910e-04, -5.75659047e-05]), 3.747943141618748e-06, 26625),\n",
              " (array([-4.03369716e-05,  1.42674081e-04]), 4.361245999007224e-06, 25089),\n",
              " (array([2.03930992e-04, 8.07766250e-05]), 9.545180407855014e-06, 28673),\n",
              " (array([ 6.34376199e-05, -4.91584639e-05]), 1.277820846468103e-06, 27649),\n",
              " (array([-7.23378654e-05,  1.61065401e-04]), 6.184839218548177e-06, 26625),\n",
              " (array([-1.65131355e-04,  4.73413259e-05]), 5.854463809740196e-06, 23041),\n",
              " (array([ 4.67298852e-05, -4.42935952e-05]), 8.224551777402667e-07, 25089),\n",
              " (array([-2.02608658e-04,  7.31176185e-05]), 9.204688350195056e-06, 24065)]"
            ]
          },
          "metadata": {},
          "execution_count": 54
        }
      ]
    },
    {
      "cell_type": "code",
      "metadata": {
        "id": "tqPUAkhegSRD",
        "colab": {
          "base_uri": "https://localhost:8080/"
        },
        "outputId": "0c211230-49cf-49d2-9ca6-535324f5fdfd"
      },
      "source": [
        "print(f\"Giá trị trung bình (mean) của Rastrigin (d=2, n=512) trong DE: {np.mean([all_results[i][1] for i in range(len(all_results))])}\")\n",
        "print(f\"Độ lệch chuẩn (std) của Rastrigin (d=2, n=512) trong DE: {np.std([all_results[i][1] for i in range(len(all_results))])}\")"
      ],
      "execution_count": null,
      "outputs": [
        {
          "output_type": "stream",
          "name": "stdout",
          "text": [
            "Giá trị trung bình (mean) của Rastrigin (d=2, n=512) trong DE: 4.82191915107677e-06\n",
            "Độ lệch chuẩn (std) của Rastrigin (d=2, n=512) trong DE: 2.819945481346012e-06\n"
          ]
        }
      ]
    },
    {
      "cell_type": "markdown",
      "metadata": {
        "id": "DzXkqj_Yd79f"
      },
      "source": [
        "#### **popsize = 1024**"
      ]
    },
    {
      "cell_type": "code",
      "metadata": {
        "id": "grCOY8_MfxND"
      },
      "source": [
        "all_results = []\n",
        "\n",
        "dimension = 2\n",
        "max_evals = 1e5\n",
        "fobj = Rastrigin_f\n",
        "seed_number = 18520186\n",
        "popsize = 1024 # kích thước quần thể\n",
        "lower_bound = -6\n",
        "upper_bound = 6\n",
        "\n",
        "for i in range(10):\n",
        "    np.random.rand(seed_number)\n",
        "    results, all_pops, generation_count = DE(fobj, dimension, [(lower_bound, upper_bound)]*dimension, F_scale, cross_prob, popsize, max_evals)\n",
        "    all_results.append(results[-1])\n",
        "    seed_number += 1"
      ],
      "execution_count": null,
      "outputs": []
    },
    {
      "cell_type": "code",
      "metadata": {
        "id": "ke3RPXu8fxPp",
        "colab": {
          "base_uri": "https://localhost:8080/"
        },
        "outputId": "ad2d34f6-1d55-4761-af4f-752f3f779b87"
      },
      "source": [
        "all_results"
      ],
      "execution_count": null,
      "outputs": [
        {
          "output_type": "execute_result",
          "data": {
            "text/plain": [
              "[(array([8.00046769e-05, 1.28326132e-04]), 4.536898412510482e-06, 55297),\n",
              " (array([-6.42744710e-05, -1.14665283e-04]), 3.4280831542332635e-06, 49153),\n",
              " (array([1.99817379e-04, 3.57284355e-05]), 8.174448554498781e-06, 47105),\n",
              " (array([ 2.02703120e-05, -2.18485346e-04]), 9.5519291782864e-06, 53249),\n",
              " (array([1.22191886e-05, 7.69314877e-05]), 1.2037960228639122e-06, 56321),\n",
              " (array([-0.00011501,  0.00012324]), 5.637347383569136e-06, 57345),\n",
              " (array([-1.60628683e-04,  3.14166659e-06]), 5.120785823820029e-06, 49153),\n",
              " (array([-1.00539413e-04, -3.15397603e-05]), 2.2027333965723983e-06, 53249),\n",
              " (array([-2.45241596e-05, -4.28912178e-05]), 4.842931335957701e-07, 50177),\n",
              " (array([-4.75060768e-05,  1.38932464e-04]), 4.2771460719848164e-06, 53249)]"
            ]
          },
          "metadata": {},
          "execution_count": 57
        }
      ]
    },
    {
      "cell_type": "code",
      "metadata": {
        "id": "xd7F0qLUfxR-",
        "colab": {
          "base_uri": "https://localhost:8080/"
        },
        "outputId": "351e4276-8042-41ad-8947-56ca1bf57efe"
      },
      "source": [
        "print(f\"Giá trị trung bình (mean) của Rastrigin (d=2, n=1024) trong DE: {np.mean([all_results[i][1] for i in range(len(all_results))])}\")\n",
        "print(f\"Độ lệch chuẩn (std) của Rastrigin (d=2, n=1024) trong DE: {np.std([all_results[i][1] for i in range(len(all_results))])}\")"
      ],
      "execution_count": null,
      "outputs": [
        {
          "output_type": "stream",
          "name": "stdout",
          "text": [
            "Giá trị trung bình (mean) của Rastrigin (d=2, n=1024) trong DE: 4.461746113193499e-06\n",
            "Độ lệch chuẩn (std) của Rastrigin (d=2, n=1024) trong DE: 2.7231633874375373e-06\n"
          ]
        }
      ]
    },
    {
      "cell_type": "markdown",
      "metadata": {
        "id": "i-JB1EzLdiiP"
      },
      "source": [
        "### **dimensions (d=10)**"
      ]
    },
    {
      "cell_type": "markdown",
      "metadata": {
        "id": "T-If8VK3eAxm"
      },
      "source": [
        "#### **popsize = 32**"
      ]
    },
    {
      "cell_type": "code",
      "metadata": {
        "id": "RX6tqQdcgQAV"
      },
      "source": [
        "all_results = []\n",
        "\n",
        "dimension = 10\n",
        "max_evals = 1e6\n",
        "fobj = Rastrigin_f\n",
        "seed_number = 18520186\n",
        "popsize = 32 # kích thước quần thể\n",
        "lower_bound = -6\n",
        "upper_bound = 6\n",
        "\n",
        "for i in range(10):\n",
        "    np.random.rand(seed_number)\n",
        "    results, all_pops, generation_count = DE(fobj, dimension, [(lower_bound, upper_bound)]*dimension, F_scale, cross_prob, popsize, max_evals)\n",
        "    all_results.append(results[-1])\n",
        "    seed_number += 1"
      ],
      "execution_count": null,
      "outputs": []
    },
    {
      "cell_type": "code",
      "metadata": {
        "id": "QEXhQWz1gQCW",
        "colab": {
          "base_uri": "https://localhost:8080/"
        },
        "outputId": "e977966b-afae-4fa9-c8b8-985fe63faa22"
      },
      "source": [
        "all_results"
      ],
      "execution_count": null,
      "outputs": [
        {
          "output_type": "execute_result",
          "data": {
            "text/plain": [
              "[(array([-7.35175614e-06,  5.02836881e-05, -9.89018383e-06,  8.07543132e-05,\n",
              "         -6.91661225e-05, -1.24152500e-04, -4.77834284e-05,  2.02564492e-05,\n",
              "         -7.24917126e-05, -6.05002192e-05]), 8.13571668345503e-06, 85697),\n",
              " (array([-1.85880726e-05,  6.45468256e-06, -1.19249956e-04,  3.91895860e-06,\n",
              "         -1.16860790e-04, -2.32770211e-05, -1.06168261e-04, -6.46521489e-05,\n",
              "         -6.57831460e-05,  1.77545469e-06]), 9.642555115263463e-06, 89665),\n",
              " (array([ 9.17460634e-06, -9.53101487e-06, -1.10230740e-04, -6.52913154e-05,\n",
              "          1.29380275e-04, -1.67205440e-06,  1.97778797e-05,  1.72164810e-05,\n",
              "         -6.09728576e-05,  5.37784499e-06]), 7.492280726495437e-06, 97441),\n",
              " (array([ 3.59829632e-05, -9.38357914e-05, -9.15488949e-05,  3.55590712e-06,\n",
              "          1.59280823e-04,  2.48876677e-05, -6.44298242e-07, -3.10174446e-05,\n",
              "         -2.03593985e-05, -3.69991345e-05]), 9.369956343263652e-06, 73089),\n",
              " (array([ 6.86126626e-05,  5.29002241e-05,  7.40520941e-05,  5.40003875e-05,\n",
              "          5.40527957e-05,  3.06700109e-05, -1.76795670e-05, -6.47251934e-05,\n",
              "          2.46716064e-05,  6.29293928e-05]), 5.721420311743941e-06, 101985),\n",
              " (array([-4.50601705e-05,  4.15319317e-05,  6.76837398e-05, -4.80275390e-07,\n",
              "         -2.26354116e-05,  4.14634332e-05, -8.66580530e-05, -1.19329402e-04,\n",
              "          7.83142286e-05, -3.43269035e-05]), 7.86203952429787e-06, 115649),\n",
              " (array([-2.17630882e-05, -3.90872400e-05, -1.63084285e-05, -1.38962786e-05,\n",
              "         -2.17094044e-05, -1.90862274e-05,  3.02163787e-06, -1.63746566e-05,\n",
              "          1.62344431e-04, -9.26963158e-05]), 7.642395813078906e-06, 118337),\n",
              " (array([-2.07366847e-05, -3.63712998e-05,  1.87564322e-05,  2.71726141e-05,\n",
              "         -1.06551698e-04, -7.48917133e-06,  1.61618940e-05,  8.45841664e-05,\n",
              "         -2.18456810e-05,  9.22083386e-05]), 6.080258629026503e-06, 74401),\n",
              " (array([-1.01043290e-05, -4.37695992e-05,  6.57307733e-05, -7.15050238e-05,\n",
              "         -1.21065540e-04, -5.94083343e-05,  1.25718539e-05,  6.58535456e-05,\n",
              "          3.04396257e-06, -1.27445618e-04]), 9.995783775806899e-06, 119329),\n",
              " (array([ 2.38326093e-05,  1.28785023e-05, -5.02630759e-05, -5.67225361e-05,\n",
              "         -7.03088382e-05, -6.02721165e-05, -9.26970235e-05,  3.70572619e-05,\n",
              "         -8.54642083e-05,  2.14341831e-05]), 6.503940612745396e-06, 75521)]"
            ]
          },
          "metadata": {},
          "execution_count": 60
        }
      ]
    },
    {
      "cell_type": "code",
      "metadata": {
        "id": "kJ_NSTRdgQFv",
        "colab": {
          "base_uri": "https://localhost:8080/"
        },
        "outputId": "f48f63d3-1928-4b01-83da-43b724692d6e"
      },
      "source": [
        "print(f\"Giá trị trung bình (mean) của Rastrigin (d=10, n=32) trong DE: {np.mean([all_results[i][1] for i in range(len(all_results))])}\")\n",
        "print(f\"Độ lệch chuẩn (std) của Rastrigin (d=10, n=32) trong DE: {np.std([all_results[i][1] for i in range(len(all_results))])}\")"
      ],
      "execution_count": null,
      "outputs": [
        {
          "output_type": "stream",
          "name": "stdout",
          "text": [
            "Giá trị trung bình (mean) của Rastrigin (d=10, n=32) trong DE: 7.84463475351771e-06\n",
            "Độ lệch chuẩn (std) của Rastrigin (d=10, n=32) trong DE: 1.409083912133124e-06\n"
          ]
        }
      ]
    },
    {
      "cell_type": "markdown",
      "metadata": {
        "id": "S-tr_WiReBEL"
      },
      "source": [
        "#### **popsize = 64**"
      ]
    },
    {
      "cell_type": "code",
      "metadata": {
        "id": "YkBM5yCygPBW"
      },
      "source": [
        "all_results = []\n",
        "\n",
        "dimension = 10\n",
        "max_evals = 1e6\n",
        "fobj = Rastrigin_f\n",
        "seed_number = 18520186\n",
        "popsize = 64 # kích thước quần thể\n",
        "lower_bound = -6\n",
        "upper_bound = 6\n",
        "\n",
        "for i in range(10):\n",
        "    np.random.rand(seed_number)\n",
        "    results, all_pops, generation_count = DE(fobj, dimension, [(lower_bound, upper_bound)]*dimension, F_scale, cross_prob, popsize, max_evals)\n",
        "    all_results.append(results[-1])\n",
        "    seed_number += 1"
      ],
      "execution_count": null,
      "outputs": []
    },
    {
      "cell_type": "code",
      "metadata": {
        "id": "xNbdoNHfgPD7",
        "colab": {
          "base_uri": "https://localhost:8080/"
        },
        "outputId": "5bf5a7fb-6883-4019-bc75-62387067e792"
      },
      "source": [
        "all_results"
      ],
      "execution_count": null,
      "outputs": [
        {
          "output_type": "execute_result",
          "data": {
            "text/plain": [
              "[(array([-9.36162572e-05, -1.35677088e-05, -8.59995003e-07, -1.44029279e-04,\n",
              "          5.52434984e-05,  7.90186151e-05,  4.92100602e-05, -3.46788027e-05,\n",
              "         -2.96624490e-07, -3.78887014e-05]), 8.738959994758488e-06, 238081),\n",
              " (array([ 1.25157994e-04, -6.63162278e-05, -2.82386743e-05, -2.18468568e-05,\n",
              "         -6.88414388e-05, -6.06076694e-06,  4.05041075e-05, -6.20112255e-05,\n",
              "          5.73003050e-05,  1.27369217e-05]), 6.9525471282361195e-06, 208769),\n",
              " (array([-2.86811483e-05,  7.45188446e-05,  2.84883760e-05, -4.11773384e-05,\n",
              "          2.05174131e-05,  8.98699487e-05,  4.57069857e-05, -1.30511136e-04,\n",
              "          4.18754505e-05,  9.23568042e-05]), 9.28197529859176e-06, 157825),\n",
              " (array([-6.95733688e-05, -2.31628780e-05,  1.65549894e-05,  8.73636922e-05,\n",
              "          5.47668476e-05, -8.89212007e-05,  3.48206931e-05, -5.05294434e-05,\n",
              "          5.50430494e-05,  5.45165329e-06]), 6.153131602459894e-06, 194561),\n",
              " (array([-7.74002231e-05, -1.28639276e-04, -2.96854119e-05,  3.76576290e-05,\n",
              "         -1.24102883e-05, -9.55217483e-05, -3.53313193e-05, -3.46792215e-05,\n",
              "         -1.13161120e-04,  1.25569773e-06]), 9.795522599276296e-06, 205569),\n",
              " (array([ 1.36521945e-04,  4.16607266e-05, -8.41656618e-06,  2.88271801e-05,\n",
              "          7.67791586e-06, -5.65681936e-05,  9.79306827e-06, -1.26408215e-05,\n",
              "         -3.68180225e-05, -5.33210378e-05]), 5.751189515734723e-06, 174593),\n",
              " (array([ 1.39343527e-05, -9.33185193e-05, -5.46076131e-05, -4.90504643e-05,\n",
              "          2.72360149e-05,  6.26758468e-05, -1.00590937e-04, -6.37682778e-05,\n",
              "         -6.61679524e-05,  1.03964705e-04]), 9.588746060273934e-06, 217153),\n",
              " (array([-5.13889316e-05, -7.03747321e-05, -8.11330315e-05, -4.82211627e-05,\n",
              "         -6.72464718e-05,  1.20382160e-04,  1.63959179e-05, -8.20131858e-05,\n",
              "          6.84790993e-06,  1.12544658e-05]), 8.46812257826457e-06, 241921),\n",
              " (array([-5.34582831e-05, -8.41037984e-05,  8.68399284e-05,  1.16400070e-04,\n",
              "         -2.94049841e-05, -6.22471489e-05,  5.45783260e-05, -5.43345064e-05,\n",
              "         -6.08785441e-05, -3.59968109e-05]), 9.263669705106281e-06, 224769),\n",
              " (array([ 8.16003179e-05,  7.88334900e-05, -4.75207505e-05,  1.79579462e-05,\n",
              "          2.19408963e-05,  1.31603064e-04,  3.50021491e-05,  1.16470178e-04,\n",
              "          1.85731568e-05, -3.22533265e-05]), 9.80662015237499e-06, 237057)]"
            ]
          },
          "metadata": {},
          "execution_count": 63
        }
      ]
    },
    {
      "cell_type": "code",
      "metadata": {
        "id": "Mv4Na64PgPIj",
        "colab": {
          "base_uri": "https://localhost:8080/"
        },
        "outputId": "4594fb14-0add-4383-a7ca-1038f492dba4"
      },
      "source": [
        "print(f\"Giá trị trung bình (mean) của Rastrigin (d=10, n=64) trong DE: {np.mean([all_results[i][1] for i in range(len(all_results))])}\")\n",
        "print(f\"Độ lệch chuẩn (std) của Rastrigin (d=10, n=64) trong DE: {np.std([all_results[i][1] for i in range(len(all_results))])}\")"
      ],
      "execution_count": null,
      "outputs": [
        {
          "output_type": "stream",
          "name": "stdout",
          "text": [
            "Giá trị trung bình (mean) của Rastrigin (d=10, n=64) trong DE: 8.380048463507705e-06\n",
            "Độ lệch chuẩn (std) của Rastrigin (d=10, n=64) trong DE: 1.4539007834046708e-06\n"
          ]
        }
      ]
    },
    {
      "cell_type": "markdown",
      "metadata": {
        "id": "CNIio_bxeBV5"
      },
      "source": [
        "#### **popsize = 128**"
      ]
    },
    {
      "cell_type": "code",
      "metadata": {
        "id": "xZFeOl2-gOEy"
      },
      "source": [
        "all_results = []\n",
        "\n",
        "dimension = 10\n",
        "max_evals = 1e6\n",
        "fobj = Rastrigin_f\n",
        "seed_number = 18520186\n",
        "popsize = 128 # kích thước quần thể\n",
        "lower_bound = -6\n",
        "upper_bound = 6\n",
        "\n",
        "for i in range(10):\n",
        "    np.random.rand(seed_number)\n",
        "    results, all_pops, generation_count = DE(fobj, dimension, [(lower_bound, upper_bound)]*dimension, F_scale, cross_prob, popsize, max_evals)\n",
        "    all_results.append(results[-1])\n",
        "    seed_number += 1"
      ],
      "execution_count": null,
      "outputs": []
    },
    {
      "cell_type": "code",
      "metadata": {
        "id": "-0Tk4Oj2gOHj",
        "colab": {
          "base_uri": "https://localhost:8080/"
        },
        "outputId": "73b2fb86-7b57-4f01-f7c8-602631a715b2"
      },
      "source": [
        "all_results"
      ],
      "execution_count": null,
      "outputs": [
        {
          "output_type": "execute_result",
          "data": {
            "text/plain": [
              "[(array([ 1.05741960e-05,  1.81981855e-05, -1.03368013e-04,  9.35970114e-06,\n",
              "         -4.08427309e-05,  2.35439978e-07,  1.60904465e-06, -9.18621667e-05,\n",
              "          8.38335128e-05, -9.66302370e-05]), 7.477482702356042e-06, 412929),\n",
              " (array([-3.78537004e-07,  3.94064376e-05,  2.79277506e-05, -1.25585268e-04,\n",
              "          2.83823442e-06, -1.03401031e-05,  6.23634495e-05, -2.62269973e-05,\n",
              "         -4.63462842e-06, -9.52327050e-05]), 6.326208815465861e-06, 444545),\n",
              " (array([-1.21675493e-04, -3.43573001e-05, -3.17144303e-05,  2.17016962e-06,\n",
              "          8.71145935e-05,  8.31761611e-05,  5.98139145e-05, -1.10558798e-04,\n",
              "          2.55375150e-05, -5.09892394e-07]), 9.514183423320333e-06, 419969),\n",
              " (array([ 6.09794589e-05,  3.26420409e-06, -1.09183286e-04,  3.06428875e-05,\n",
              "          1.13070435e-04, -4.37713118e-05,  7.47641915e-05,  3.53765971e-05,\n",
              "          6.15149609e-05, -2.32641971e-05]), 8.423029120407932e-06, 425601),\n",
              " (array([-6.07665748e-06,  4.37558511e-05,  4.54487161e-05,  4.60473535e-05,\n",
              "         -1.32807109e-04,  1.53541429e-06,  5.37926791e-05, -9.79665217e-05,\n",
              "         -5.08312144e-05,  7.20822881e-06]), 7.718323500327529e-06, 413825),\n",
              " (array([ 5.74926653e-05, -6.09020029e-06,  2.64082027e-05,  1.55008267e-05,\n",
              "         -1.42629636e-04,  6.73088592e-05, -1.39194427e-05,  1.24793661e-05,\n",
              "         -8.96703600e-05,  4.03109870e-06]), 7.451679914893816e-06, 425985),\n",
              " (array([ 1.59782434e-04, -4.56867910e-05, -2.11607686e-05,  5.81478106e-06,\n",
              "          2.67267418e-05, -1.25980660e-04,  1.45779595e-05, -1.24643442e-05,\n",
              "         -5.94150360e-05,  4.05598218e-05]), 9.964810750773268e-06, 401793),\n",
              " (array([ 3.61165430e-05,  1.52385730e-05, -5.69748012e-05,  7.91906720e-06,\n",
              "          5.63694728e-05,  8.02223799e-05, -1.49516852e-04,  1.55877472e-05,\n",
              "         -4.10754712e-06, -9.20399080e-05]), 9.035785025091059e-06, 438401),\n",
              " (array([-9.72971398e-05, -1.06119342e-04, -7.39059148e-05,  8.06548721e-05,\n",
              "         -6.95349786e-05,  7.22789272e-05,  3.87852870e-05, -3.48761770e-05,\n",
              "         -8.28434739e-06,  9.36792618e-06]), 9.052974389689439e-06, 425345),\n",
              " (array([ 6.08193085e-05,  1.80972761e-06,  6.45779405e-05,  8.78517808e-06,\n",
              "         -1.15389399e-05,  1.62946784e-04,  6.18453357e-05,  4.75807060e-05,\n",
              "         -3.62830724e-05,  5.69065416e-05]), 8.982824152070634e-06, 426497)]"
            ]
          },
          "metadata": {},
          "execution_count": 66
        }
      ]
    },
    {
      "cell_type": "code",
      "metadata": {
        "id": "HCGEVgDDgOL0",
        "colab": {
          "base_uri": "https://localhost:8080/"
        },
        "outputId": "b0d8956f-292d-4aab-fa8c-1b9a74e9ba59"
      },
      "source": [
        "print(f\"Giá trị trung bình (mean) của Rastrigin (d=10, n=128) trong DE: {np.mean([all_results[i][1] for i in range(len(all_results))])}\")\n",
        "print(f\"Độ lệch chuẩn (std) của Rastrigin (d=10, n=128) trong DE: {np.std([all_results[i][1] for i in range(len(all_results))])}\")"
      ],
      "execution_count": null,
      "outputs": [
        {
          "output_type": "stream",
          "name": "stdout",
          "text": [
            "Giá trị trung bình (mean) của Rastrigin (d=10, n=128) trong DE: 8.394730179439591e-06\n",
            "Độ lệch chuẩn (std) của Rastrigin (d=10, n=128) trong DE: 1.0665933637670593e-06\n"
          ]
        }
      ]
    },
    {
      "cell_type": "markdown",
      "metadata": {
        "id": "suDBHqU_eBh4"
      },
      "source": [
        "#### **popsize = 256**"
      ]
    },
    {
      "cell_type": "code",
      "metadata": {
        "id": "5qMv1FaagNDB"
      },
      "source": [
        "all_results = []\n",
        "\n",
        "dimension = 10\n",
        "max_evals = 1e6\n",
        "fobj = Rastrigin_f\n",
        "seed_number = 18520186\n",
        "popsize = 256 # kích thước quần thể\n",
        "lower_bound = -6\n",
        "upper_bound = 6\n",
        "\n",
        "for i in range(10):\n",
        "    np.random.rand(seed_number)\n",
        "    results, all_pops, generation_count = DE(fobj, dimension, [(lower_bound, upper_bound)]*dimension, F_scale, cross_prob, popsize, max_evals)\n",
        "    all_results.append(results[-1])\n",
        "    seed_number += 1"
      ],
      "execution_count": null,
      "outputs": []
    },
    {
      "cell_type": "code",
      "metadata": {
        "id": "SEE89FJ-gNFy",
        "colab": {
          "base_uri": "https://localhost:8080/"
        },
        "outputId": "4b6e5a71-8422-4e56-be37-cc054d043c7c"
      },
      "source": [
        "all_results"
      ],
      "execution_count": null,
      "outputs": [
        {
          "output_type": "execute_result",
          "data": {
            "text/plain": [
              "[(array([ 5.94886732e-06, -5.75852858e-06, -6.41136621e-05,  1.36457575e-05,\n",
              "          6.56137771e-06,  1.44922144e-04, -2.42079696e-05,  1.32031981e-04,\n",
              "         -4.23891671e-06, -3.57850175e-05]), 8.87364177160066e-06, 908033),\n",
              " (array([-4.83625030e-05,  3.82687988e-05,  9.81234361e-06, -9.88430734e-05,\n",
              "         -8.99514575e-05, -5.22289173e-05,  8.00995005e-05,  8.91618033e-05,\n",
              "         -7.85620460e-05,  6.59579177e-06]), 8.941540937001946e-06, 910081),\n",
              " (array([ 4.08669475e-05, -4.71028903e-05, -5.98490976e-05,  6.90636619e-05,\n",
              "          1.19211869e-05, -3.35861629e-05, -6.81167598e-05, -1.39733161e-04,\n",
              "          5.42092057e-05, -2.86179704e-05]), 8.220081090470899e-06, 922625),\n",
              " (array([ 1.58233543e-04,  8.01453916e-05,  5.57430935e-05,  3.85739442e-05,\n",
              "          4.42306953e-05,  5.14752449e-05,  3.98848076e-05, -1.54690710e-05,\n",
              "         -3.65219811e-05,  1.67015894e-05]), 8.750146628599964e-06, 944385),\n",
              " (array([-3.26204198e-05, -2.01330336e-05, -9.41995403e-05, -2.17843231e-05,\n",
              "         -3.93632807e-05,  7.22062675e-05,  9.36322346e-05,  6.10924167e-05,\n",
              "          1.11157900e-04, -6.49551761e-05]), 9.256039394500704e-06, 950273),\n",
              " (array([-5.31112595e-06, -1.06986619e-04,  7.97133251e-05,  1.71929668e-06,\n",
              "          2.50009119e-05,  1.24094418e-04, -4.08521698e-05,  1.16459088e-05,\n",
              "          2.05589704e-05,  1.07329045e-04]), 9.444000113489892e-06, 832769),\n",
              " (array([ 1.39441337e-05,  8.82467976e-05,  2.20476575e-05, -5.28568989e-05,\n",
              "         -5.82152793e-05, -9.46409032e-05,  9.42989198e-06, -1.11777036e-04,\n",
              "         -3.33941370e-05,  9.73697120e-05]), 9.28214343609568e-06, 873985),\n",
              " (array([ 4.63417228e-05, -1.59897792e-05,  2.29101208e-06,  2.82963494e-05,\n",
              "          4.62295924e-05,  5.65366169e-05,  1.32421345e-04,  1.21281522e-04,\n",
              "         -6.04833941e-05,  5.74555404e-05]), 9.472572067181773e-06, 920065),\n",
              " (array([-1.96233365e-05, -4.66649788e-06,  1.51198496e-04, -4.02262572e-06,\n",
              "          7.25208858e-05,  9.02394966e-06,  1.86243674e-05,  3.66937223e-05,\n",
              "          4.22644828e-05, -9.87525356e-07]), 6.369434528252782e-06, 921345),\n",
              " (array([-1.39976488e-04,  7.77296201e-06, -1.04689109e-04,  2.90190317e-05,\n",
              "          1.02209527e-04,  1.32429416e-05, -1.62421248e-05, -6.89385566e-07,\n",
              "         -6.49366523e-05,  4.80536756e-05]), 9.695047776148158e-06, 888065)]"
            ]
          },
          "metadata": {},
          "execution_count": 69
        }
      ]
    },
    {
      "cell_type": "code",
      "metadata": {
        "id": "SPukv5HFgNJ-",
        "colab": {
          "base_uri": "https://localhost:8080/"
        },
        "outputId": "1154fcc4-5d64-4f85-d1f5-1ae74161b2a1"
      },
      "source": [
        "print(f\"Giá trị trung bình (mean) của Rastrigin (d=10, n=256) trong DE: {np.mean([all_results[i][1] for i in range(len(all_results))])}\")\n",
        "print(f\"Độ lệch chuẩn (std) của Rastrigin (d=10, n=256) trong DE: {np.std([all_results[i][1] for i in range(len(all_results))])}\")"
      ],
      "execution_count": null,
      "outputs": [
        {
          "output_type": "stream",
          "name": "stdout",
          "text": [
            "Giá trị trung bình (mean) của Rastrigin (d=10, n=256) trong DE: 8.830464774334245e-06\n",
            "Độ lệch chuẩn (std) của Rastrigin (d=10, n=256) trong DE: 9.149453432288343e-07\n"
          ]
        }
      ]
    },
    {
      "cell_type": "markdown",
      "metadata": {
        "id": "SrcxC98-eBr6"
      },
      "source": [
        "#### **popsize = 512**"
      ]
    },
    {
      "cell_type": "code",
      "metadata": {
        "id": "NpfYTqM_gMAr"
      },
      "source": [
        "all_results = []\n",
        "\n",
        "dimension = 10\n",
        "max_evals = 1e6\n",
        "fobj = Rastrigin_f\n",
        "seed_number = 18520186\n",
        "popsize = 512 # kích thước quần thể\n",
        "lower_bound = -6\n",
        "upper_bound = 6\n",
        "\n",
        "for i in range(10):\n",
        "    np.random.rand(seed_number)\n",
        "    results, all_pops, generation_count = DE(fobj, dimension, [(lower_bound, upper_bound)]*dimension, F_scale, cross_prob, popsize, max_evals)\n",
        "    all_results.append(results[-1])\n",
        "    seed_number += 1"
      ],
      "execution_count": null,
      "outputs": []
    },
    {
      "cell_type": "code",
      "metadata": {
        "id": "Zrv8A1iOgMD0",
        "colab": {
          "base_uri": "https://localhost:8080/"
        },
        "outputId": "5d48da5d-eee1-4361-91fe-f74f8a86ad96"
      },
      "source": [
        "all_results"
      ],
      "execution_count": null,
      "outputs": [
        {
          "output_type": "execute_result",
          "data": {
            "text/plain": [
              "[(array([-0.02074061, -0.01699776,  1.01650923,  0.05995332, -0.05657229,\n",
              "          0.98477491, -0.04595994,  0.96903595,  0.94119544, -0.00349337]),\n",
              "  6.685083080922999,\n",
              "  1000449),\n",
              " (array([-0.0388574 , -0.02866616, -0.95513074,  0.9936217 , -1.01509203,\n",
              "          0.01775544,  0.00976381, -0.94471002, -1.03704613, -0.04344126]),\n",
              "  7.126844010540287,\n",
              "  1000449),\n",
              " (array([-2.99635745e-02, -4.29677759e-02,  5.23265263e-02,  7.33829717e-02,\n",
              "          2.13133250e-04, -4.52552226e-02,  1.03336515e+00, -1.14744912e-01,\n",
              "         -3.72790689e-03, -3.45800366e-02]), 6.560599046708495, 1000449),\n",
              " (array([ 9.16897439e-01,  3.36049724e-02, -7.08318636e-02,  8.33639663e-03,\n",
              "          9.96027765e-01, -1.02299720e+00,  9.72019045e-01,  9.81215148e-01,\n",
              "          9.03954157e-04, -5.58923245e-02]), 8.280195936176941, 1000449),\n",
              " (array([ 0.06272975,  0.02556203, -0.02316194,  0.03126359,  0.91770935,\n",
              "          1.00999144, -0.03670466,  0.94782399, -0.08936242, -0.01810588]),\n",
              "  7.694036252102238,\n",
              "  1000449),\n",
              " (array([ 0.02100695, -0.04929676, -0.95376221, -1.0235864 , -0.95526278,\n",
              "         -0.05305311, -0.01598726, -0.9639538 , -0.01763353, -0.04364049]),\n",
              "  6.582419824783431,\n",
              "  1000449),\n",
              " (array([-1.00180781, -0.03317238, -1.03419359,  1.00693678, -0.03303229,\n",
              "          1.03648952, -1.00728584, -0.02731169, -0.01258462,  0.02446937]),\n",
              "  6.419041047513941,\n",
              "  1000449),\n",
              " (array([ 0.01730357,  0.07609519, -0.03042361, -0.0127407 , -0.91188851,\n",
              "          1.02512991,  0.02646449,  1.00340148,  0.95962182, -0.01748195]),\n",
              "  7.351625146792568,\n",
              "  1000449),\n",
              " (array([-0.01907133,  0.00458541, -0.0399245 , -0.93979233,  1.01101788,\n",
              "         -1.08993877,  0.01494591,  0.0092231 ,  0.08546065,  0.05564641]),\n",
              "  6.819891489653623,\n",
              "  1000449),\n",
              " (array([-1.03444792,  0.98555095,  0.00548527,  1.02285354,  0.03308674,\n",
              "          0.94913284,  0.06684868,  1.02676269, -0.0671914 , -1.00938058]),\n",
              "  9.082384499638916,\n",
              "  1000449)]"
            ]
          },
          "metadata": {},
          "execution_count": 72
        }
      ]
    },
    {
      "cell_type": "code",
      "metadata": {
        "id": "mOu_KOJjgMHb",
        "colab": {
          "base_uri": "https://localhost:8080/"
        },
        "outputId": "c931c955-c413-48d0-ce79-95923045f564"
      },
      "source": [
        "print(f\"Giá trị trung bình (mean) của Rastrigin (d=10, n=512) trong DE: {np.mean([all_results[i][1] for i in range(len(all_results))])}\")\n",
        "print(f\"Độ lệch chuẩn (std) của Rastrigin (d=10, n=512) trong DE: {np.std([all_results[i][1] for i in range(len(all_results))])}\")"
      ],
      "execution_count": null,
      "outputs": [
        {
          "output_type": "stream",
          "name": "stdout",
          "text": [
            "Giá trị trung bình (mean) của Rastrigin (d=10, n=512) trong DE: 7.260212033483344\n",
            "Độ lệch chuẩn (std) của Rastrigin (d=10, n=512) trong DE: 0.821955669615168\n"
          ]
        }
      ]
    },
    {
      "cell_type": "markdown",
      "metadata": {
        "id": "wHcXmI6feB28"
      },
      "source": [
        "#### **popsize = 1024**"
      ]
    },
    {
      "cell_type": "code",
      "metadata": {
        "id": "Q8YKbX6dgKcw"
      },
      "source": [
        "all_results = []\n",
        "\n",
        "dimension = 10\n",
        "max_evals = 1e6\n",
        "fobj = Rastrigin_f\n",
        "seed_number = 18520186\n",
        "popsize = 1024 # kích thước quần thể\n",
        "lower_bound = -6\n",
        "upper_bound = 6\n",
        "\n",
        "for i in range(10):\n",
        "    np.random.rand(seed_number)\n",
        "    results, all_pops, generation_count = DE(fobj, dimension, [(lower_bound, upper_bound)]*dimension, F_scale, cross_prob, popsize, max_evals)\n",
        "    all_results.append(results[-1])\n",
        "    seed_number += 1"
      ],
      "execution_count": null,
      "outputs": []
    },
    {
      "cell_type": "code",
      "metadata": {
        "id": "KzcEPfZigKhv",
        "colab": {
          "base_uri": "https://localhost:8080/"
        },
        "outputId": "78a4daa6-6e7e-4a80-e862-5f464f7c64f1"
      },
      "source": [
        "all_results"
      ],
      "execution_count": null,
      "outputs": [
        {
          "output_type": "execute_result",
          "data": {
            "text/plain": [
              "[(array([ 1.00546738, -0.95802816,  0.07769763,  0.00891743, -1.02378824,\n",
              "         -0.94495114, -0.07864187,  0.00783787, -0.87964279,  0.05888057]),\n",
              "  11.509195200396384,\n",
              "  1000449),\n",
              " (array([ 0.06572459, -0.07309465, -0.03097411, -1.00466711, -0.01384124,\n",
              "         -0.09930431, -0.86770546,  1.00972255,  0.06592057,  1.01298941]),\n",
              "  11.982767403017158,\n",
              "  1000449),\n",
              " (array([-3.69564168e-02,  9.30190833e-01,  9.44140752e-01,  9.34657391e-01,\n",
              "          9.14259396e-01, -2.61454755e-02,  6.03762948e-02,  9.51227366e-01,\n",
              "         -3.88458774e-02,  8.88987269e-05]), 10.058039602066152, 1000449),\n",
              " (array([ 0.94728675, -0.99641648, -0.86064913, -0.95154892,  0.01018116,\n",
              "          0.01060312,  0.03939596,  0.09711186,  1.01323622,  0.0022508 ]),\n",
              "  11.36194461562527,\n",
              "  1000449),\n",
              " (array([-0.08389798, -0.95596201,  0.05013923,  1.02123912,  0.02513738,\n",
              "         -1.03959892, -1.00561773, -0.9809083 ,  1.01580882,  0.93124056]),\n",
              "  10.717836953274789,\n",
              "  1000449),\n",
              " (array([-0.90360124,  0.05583826, -1.07427888, -0.03323995,  0.07040313,\n",
              "          0.05572468,  0.02648469,  0.87854512, -0.95585562,  0.06129181]),\n",
              "  12.942866864058992,\n",
              "  1000449),\n",
              " (array([ 0.05736569, -0.02578657, -0.03759135,  0.09458932,  0.03922566,\n",
              "         -0.05607385, -0.91046558,  0.95362137, -0.0438523 ,  0.02164598]),\n",
              "  7.874297374199214,\n",
              "  1000449),\n",
              " (array([ 0.07530316, -0.00761967,  0.00564094,  0.0243426 ,  0.97572165,\n",
              "         -0.92101476, -0.12979518,  0.99228276,  0.00206338,  0.91093869]),\n",
              "  10.876548471965165,\n",
              "  1000449),\n",
              " (array([-0.03245905,  1.05213294, -0.07480306, -0.11818315,  0.98854641,\n",
              "         -0.03957057,  1.02698627,  0.02252967,  0.05575512, -0.03347008]),\n",
              "  9.026243109145234,\n",
              "  1000449),\n",
              " (array([ 1.02621917, -0.1074155 ,  1.93818504,  0.92706896, -1.03187228,\n",
              "         -1.02048798, -0.02345385,  0.05522713, -1.0058594 , -0.97014366]),\n",
              "  15.01685810067533,\n",
              "  1000449)]"
            ]
          },
          "metadata": {},
          "execution_count": 75
        }
      ]
    },
    {
      "cell_type": "code",
      "metadata": {
        "id": "V1GpIOA-gKsr",
        "colab": {
          "base_uri": "https://localhost:8080/"
        },
        "outputId": "d96b64c7-6495-466b-c4ef-f639457cc6a8"
      },
      "source": [
        "print(f\"Giá trị trung bình (mean) của Rastrigin (d=10, n=1024) trong DE: {np.mean([all_results[i][1] for i in range(len(all_results))])}\")\n",
        "print(f\"Độ lệch chuẩn (std) của Rastrigin (d=10, n=1024) trong DE: {np.std([all_results[i][1] for i in range(len(all_results))])}\")"
      ],
      "execution_count": null,
      "outputs": [
        {
          "output_type": "stream",
          "name": "stdout",
          "text": [
            "Giá trị trung bình (mean) của Rastrigin (d=10, n=1024) trong DE: 11.13665976944237\n",
            "Độ lệch chuẩn (std) của Rastrigin (d=10, n=1024) trong DE: 1.8901617914088897\n"
          ]
        }
      ]
    },
    {
      "cell_type": "markdown",
      "metadata": {
        "id": "-ZQotEu0c4Ev"
      },
      "source": [
        "## **Hàm Rosenbrock**"
      ]
    },
    {
      "cell_type": "markdown",
      "metadata": {
        "id": "aJstb-8OdtKo"
      },
      "source": [
        "### **dimensions (d=2)**"
      ]
    },
    {
      "cell_type": "markdown",
      "metadata": {
        "id": "fHtsEdvCe2oa"
      },
      "source": [
        "#### **popsize = 32**"
      ]
    },
    {
      "cell_type": "code",
      "metadata": {
        "id": "q4gl7dIEhaeV"
      },
      "source": [
        "all_results = []\n",
        "\n",
        "dimension = 2\n",
        "max_evals = 1e5\n",
        "fobj = Rosenbrock_f\n",
        "seed_number = 18520186\n",
        "popsize = 32 # kích thước quần thể\n",
        "lower_bound = -3\n",
        "upper_bound = 3\n",
        "\n",
        "for i in range(10):\n",
        "    np.random.rand(seed_number)\n",
        "    results, all_pops, generation_count = DE(fobj, dimension, [(lower_bound, upper_bound)]*dimension, F_scale, cross_prob, popsize, max_evals)\n",
        "    all_results.append(results[-1])\n",
        "    seed_number += 1"
      ],
      "execution_count": null,
      "outputs": []
    },
    {
      "cell_type": "code",
      "metadata": {
        "id": "ZVcsBAe8ham7",
        "colab": {
          "base_uri": "https://localhost:8080/"
        },
        "outputId": "9fbdc4a4-4a91-49d6-a6e9-23bec9024308"
      },
      "source": [
        "all_results"
      ],
      "execution_count": null,
      "outputs": [
        {
          "output_type": "execute_result",
          "data": {
            "text/plain": [
              "[(array([1.00086246, 1.00187245]), 2.8985298108756154e-06, 2273),\n",
              " (array([1.00086731, 1.00189301]), 3.237231483532901e-06, 2337),\n",
              " (array([1.0006901 , 1.00124908]), 2.208069362575672e-06, 2593),\n",
              " (array([1.00111457, 1.00237325]), 3.2834440051667783e-06, 2241),\n",
              " (array([0.99733706, 0.99454739]), 8.882261542894959e-06, 1569),\n",
              " (array([0.99745453, 0.99491769]), 6.479876372005908e-06, 2401),\n",
              " (array([1.0012431 , 1.00261713]), 3.219617030089621e-06, 2753),\n",
              " (array([1.00291908, 1.00588296]), 8.65264623725799e-06, 2113),\n",
              " (array([1.0003601 , 1.00054813]), 3.095074156126711e-06, 1985),\n",
              " (array([0.99820848, 0.99639552]), 3.2703269550290713e-06, 2081)]"
            ]
          },
          "metadata": {},
          "execution_count": 78
        }
      ]
    },
    {
      "cell_type": "code",
      "metadata": {
        "id": "_NPydJnuhaqQ",
        "colab": {
          "base_uri": "https://localhost:8080/"
        },
        "outputId": "08f5fa40-e715-419c-c815-4e8eeb28eaae"
      },
      "source": [
        "print(f\"Giá trị trung bình (mean) của Rosenbrock (d=2, n=32) trong DE: {np.mean([all_results[i][1] for i in range(len(all_results))])}\")\n",
        "print(f\"Độ lệch chuẩn (std) của Rosenbrock (d=2, n=32) trong DE: {np.std([all_results[i][1] for i in range(len(all_results))])}\")"
      ],
      "execution_count": null,
      "outputs": [
        {
          "output_type": "stream",
          "name": "stdout",
          "text": [
            "Giá trị trung bình (mean) của Rosenbrock (d=2, n=32) trong DE: 4.522707695555522e-06\n",
            "Độ lệch chuẩn (std) của Rosenbrock (d=2, n=32) trong DE: 2.3744679332076297e-06\n"
          ]
        }
      ]
    },
    {
      "cell_type": "markdown",
      "metadata": {
        "id": "cMOuB_BTe2wS"
      },
      "source": [
        "#### **popsize = 64**"
      ]
    },
    {
      "cell_type": "code",
      "metadata": {
        "id": "Bh-pTID4hgWV"
      },
      "source": [
        "all_results = []\n",
        "\n",
        "dimension = 2\n",
        "max_evals = 1e5\n",
        "fobj = Rosenbrock_f\n",
        "seed_number = 18520186\n",
        "popsize = 64 # kích thước quần thể\n",
        "lower_bound = -3\n",
        "upper_bound = 3\n",
        "\n",
        "for i in range(10):\n",
        "    np.random.rand(seed_number)\n",
        "    results, all_pops, generation_count = DE(fobj, dimension, [(lower_bound, upper_bound)]*dimension, F_scale, cross_prob, popsize, max_evals)\n",
        "    all_results.append(results[-1])\n",
        "    seed_number += 1"
      ],
      "execution_count": null,
      "outputs": []
    },
    {
      "cell_type": "code",
      "metadata": {
        "id": "FOw0otqZhgZg",
        "colab": {
          "base_uri": "https://localhost:8080/"
        },
        "outputId": "8f6c17e9-1522-4e6c-9c95-61eba74695a3"
      },
      "source": [
        "all_results"
      ],
      "execution_count": null,
      "outputs": [
        {
          "output_type": "execute_result",
          "data": {
            "text/plain": [
              "[(array([1.00153841, 1.00302172]), 2.696838383877652e-06, 4865),\n",
              " (array([0.99738707, 0.99470262]), 7.4413307523698925e-06, 4353),\n",
              " (array([0.99948872, 0.9989654 ]), 2.765141388368656e-07, 4801),\n",
              " (array([1.00113667, 1.00237144]), 2.2292616822922985e-06, 4545),\n",
              " (array([1.00057926, 1.00138258]), 5.340364162646234e-06, 4289),\n",
              " (array([0.99798865, 0.99602583]), 4.243413308805528e-06, 3969),\n",
              " (array([1.00120993, 1.00247959]), 1.80344439864935e-06, 3841),\n",
              " (array([1.00235227, 1.00485717]), 7.696574844876102e-06, 3969),\n",
              " (array([1.00053683, 1.00089488]), 3.4943920184624753e-06, 4289),\n",
              " (array([1.00125474, 1.00223278]), 9.318252120164563e-06, 4417)]"
            ]
          },
          "metadata": {},
          "execution_count": 81
        }
      ]
    },
    {
      "cell_type": "code",
      "metadata": {
        "id": "l0CRbRBEhgdQ",
        "colab": {
          "base_uri": "https://localhost:8080/"
        },
        "outputId": "7d749366-19b4-4d7b-e619-757524a18cf6"
      },
      "source": [
        "print(f\"Giá trị trung bình (mean) của Rosenbrock (d=2, n=64) trong DE: {np.mean([all_results[i][1] for i in range(len(all_results))])}\")\n",
        "print(f\"Độ lệch chuẩn (std) của Rosenbrock (d=2, n=64) trong DE: {np.std([all_results[i][1] for i in range(len(all_results))])}\")"
      ],
      "execution_count": null,
      "outputs": [
        {
          "output_type": "stream",
          "name": "stdout",
          "text": [
            "Giá trị trung bình (mean) của Rosenbrock (d=2, n=64) trong DE: 4.454038581098096e-06\n",
            "Độ lệch chuẩn (std) của Rosenbrock (d=2, n=64) trong DE: 2.781440842933761e-06\n"
          ]
        }
      ]
    },
    {
      "cell_type": "markdown",
      "metadata": {
        "id": "Vbs3kwq_e24n"
      },
      "source": [
        "#### **popsize = 128**"
      ]
    },
    {
      "cell_type": "code",
      "metadata": {
        "id": "96-sWEXFhrcf"
      },
      "source": [
        "all_results = []\n",
        "\n",
        "dimension = 2\n",
        "max_evals = 1e5\n",
        "fobj = Rosenbrock_f\n",
        "seed_number = 18520186\n",
        "popsize = 128 # kích thước quần thể\n",
        "lower_bound = -3\n",
        "upper_bound = 3\n",
        "\n",
        "for i in range(10):\n",
        "    np.random.rand(seed_number)\n",
        "    results, all_pops, generation_count = DE(fobj, dimension, [(lower_bound, upper_bound)]*dimension, F_scale, cross_prob, popsize, max_evals)\n",
        "    all_results.append(results[-1])\n",
        "    seed_number += 1"
      ],
      "execution_count": null,
      "outputs": []
    },
    {
      "cell_type": "code",
      "metadata": {
        "id": "_PLQwMFGhrfU",
        "colab": {
          "base_uri": "https://localhost:8080/"
        },
        "outputId": "2380b2bf-36b8-4ee0-ffb0-5bd8ca57862e"
      },
      "source": [
        "all_results"
      ],
      "execution_count": null,
      "outputs": [
        {
          "output_type": "execute_result",
          "data": {
            "text/plain": [
              "[(array([0.99939515, 0.99863344]), 2.837495870454761e-06, 8321),\n",
              " (array([1.00097398, 1.00207609]), 2.5659823573152563e-06, 6913),\n",
              " (array([1.00112872, 1.00232729]), 1.7442159933417385e-06, 8577),\n",
              " (array([1.0009543 , 1.00208654]), 4.044406353287451e-06, 7553),\n",
              " (array([0.99728362, 0.99471502]), 9.349881205125526e-06, 7809),\n",
              " (array([1.00129313, 1.00272505]), 3.552343866905933e-06, 8321),\n",
              " (array([1.00289451, 1.00586931]), 8.895347144224852e-06, 8065),\n",
              " (array([0.99791966, 0.99589099]), 4.5519932635245535e-06, 7937),\n",
              " (array([1.00149651, 1.00314878]), 4.596321365629593e-06, 10369),\n",
              " (array([1.00298729, 1.00608622]), 9.979103304173552e-06, 7169)]"
            ]
          },
          "metadata": {},
          "execution_count": 84
        }
      ]
    },
    {
      "cell_type": "code",
      "metadata": {
        "id": "rgHHZ0pqhrkK",
        "colab": {
          "base_uri": "https://localhost:8080/"
        },
        "outputId": "0af25ded-703d-4448-c9a1-72804ca47228"
      },
      "source": [
        "print(f\"Giá trị trung bình (mean) của Rosenbrock (d=2, n=128) trong DE: {np.mean([all_results[i][1] for i in range(len(all_results))])}\")\n",
        "print(f\"Độ lệch chuẩn (std) của Rosenbrock (d=2, n=128) trong DE: {np.std([all_results[i][1] for i in range(len(all_results))])}\")"
      ],
      "execution_count": null,
      "outputs": [
        {
          "output_type": "stream",
          "name": "stdout",
          "text": [
            "Giá trị trung bình (mean) của Rosenbrock (d=2, n=128) trong DE: 5.211709072398321e-06\n",
            "Độ lệch chuẩn (std) của Rosenbrock (d=2, n=128) trong DE: 2.881180100918871e-06\n"
          ]
        }
      ]
    },
    {
      "cell_type": "markdown",
      "metadata": {
        "id": "59C-0wK5e3Em"
      },
      "source": [
        "#### **popsize = 256**"
      ]
    },
    {
      "cell_type": "code",
      "metadata": {
        "id": "zI7HbVgAho3j"
      },
      "source": [
        "all_results = []\n",
        "\n",
        "dimension = 2\n",
        "max_evals = 1e5\n",
        "fobj = Rosenbrock_f\n",
        "seed_number = 18520186\n",
        "popsize = 256 # kích thước quần thể\n",
        "lower_bound = -3\n",
        "upper_bound = 3\n",
        "\n",
        "for i in range(10):\n",
        "    np.random.rand(seed_number)\n",
        "    results, all_pops, generation_count = DE(fobj, dimension, [(lower_bound, upper_bound)]*dimension, F_scale, cross_prob, popsize, max_evals)\n",
        "    all_results.append(results[-1])\n",
        "    seed_number += 1"
      ],
      "execution_count": null,
      "outputs": []
    },
    {
      "cell_type": "code",
      "metadata": {
        "id": "fQDsh7F5ho85",
        "colab": {
          "base_uri": "https://localhost:8080/"
        },
        "outputId": "a0ccf236-aa52-443d-ec5e-1f233b78a49b"
      },
      "source": [
        "all_results"
      ],
      "execution_count": null,
      "outputs": [
        {
          "output_type": "execute_result",
          "data": {
            "text/plain": [
              "[(array([1.00105869, 1.00183513]), 9.150351716619881e-06, 14849),\n",
              " (array([0.99737554, 0.99472519]), 6.995196056555107e-06, 18433),\n",
              " (array([0.99959797, 0.99942037]), 5.191071145488789e-06, 16897),\n",
              " (array([1.00046805, 1.00090989]), 2.8889455604300884e-07, 12801),\n",
              " (array([0.9989209 , 0.99786604]), 1.2176921053517324e-06, 18433),\n",
              " (array([1.00054761, 1.00089335]), 4.386894976328315e-06, 16897),\n",
              " (array([0.99866116, 0.99734534]), 1.8375509663280988e-06, 15617),\n",
              " (array([0.99787974, 0.99570955]), 4.791712403078735e-06, 16897),\n",
              " (array([0.99883489, 0.997487  ]), 4.748104157773104e-06, 16385),\n",
              " (array([0.99923647, 0.99851355]), 7.431665063433929e-07, 14593)]"
            ]
          },
          "metadata": {},
          "execution_count": 87
        }
      ]
    },
    {
      "cell_type": "code",
      "metadata": {
        "id": "HaKte9eehpJr",
        "colab": {
          "base_uri": "https://localhost:8080/"
        },
        "outputId": "bf8040df-7c21-4c3b-b409-6230555fe38a"
      },
      "source": [
        "print(f\"Giá trị trung bình (mean) của Rosenbrock (d=2, n=256) trong DE: {np.mean([all_results[i][1] for i in range(len(all_results))])}\")\n",
        "print(f\"Độ lệch chuẩn (std) của Rosenbrock (d=2, n=256) trong DE: {np.std([all_results[i][1] for i in range(len(all_results))])}\")"
      ],
      "execution_count": null,
      "outputs": [
        {
          "output_type": "stream",
          "name": "stdout",
          "text": [
            "Giá trị trung bình (mean) của Rosenbrock (d=2, n=256) trong DE: 3.935063458991016e-06\n",
            "Độ lệch chuẩn (std) của Rosenbrock (d=2, n=256) trong DE: 2.738734238664314e-06\n"
          ]
        }
      ]
    },
    {
      "cell_type": "markdown",
      "metadata": {
        "id": "T3QL2YkBe3Mt"
      },
      "source": [
        "#### **popsize = 512**"
      ]
    },
    {
      "cell_type": "code",
      "metadata": {
        "id": "Q7lk_XJrhmbZ"
      },
      "source": [
        "all_results = []\n",
        "\n",
        "dimension = 2\n",
        "max_evals = 1e5\n",
        "fobj = Rosenbrock_f\n",
        "seed_number = 18520186\n",
        "popsize = 512 # kích thước quần thể\n",
        "lower_bound = -3\n",
        "upper_bound = 3\n",
        "\n",
        "for i in range(10):\n",
        "    np.random.rand(seed_number)\n",
        "    results, all_pops, generation_count = DE(fobj, dimension, [(lower_bound, upper_bound)]*dimension, F_scale, cross_prob, popsize, max_evals)\n",
        "    all_results.append(results[-1])\n",
        "    seed_number += 1"
      ],
      "execution_count": null,
      "outputs": []
    },
    {
      "cell_type": "code",
      "metadata": {
        "id": "A_d7LtcVhmdy",
        "colab": {
          "base_uri": "https://localhost:8080/"
        },
        "outputId": "96b4ae9c-f77d-4f97-8bfb-65544463555d"
      },
      "source": [
        "all_results"
      ],
      "execution_count": null,
      "outputs": [
        {
          "output_type": "execute_result",
          "data": {
            "text/plain": [
              "[(array([0.99982449, 0.99957134]), 6.33929076479394e-07, 29185),\n",
              " (array([1.00047082, 1.00066132]), 8.092037218790961e-06, 22529),\n",
              " (array([1.00134021, 1.00279043]), 2.967412757724198e-06, 32257),\n",
              " (array([0.99929518, 0.99868989]), 1.4776248359211246e-06, 31745),\n",
              " (array([1.00147239, 1.00313245]), 5.608992395181108e-06, 32257),\n",
              " (array([0.99938945, 0.99890059]), 1.8447875689129121e-06, 34817),\n",
              " (array([1.00179087, 1.00357529]), 3.2165398200877556e-06, 25089),\n",
              " (array([0.99934949, 0.99865663]), 6.061003418496035e-07, 35841),\n",
              " (array([0.99922565, 0.99845669]), 6.019274427776653e-07, 31233),\n",
              " (array([0.99942067, 0.99858838]), 6.751789808263813e-06, 30721)]"
            ]
          },
          "metadata": {},
          "execution_count": 90
        }
      ]
    },
    {
      "cell_type": "code",
      "metadata": {
        "id": "Jgkj_Iabhmip",
        "colab": {
          "base_uri": "https://localhost:8080/"
        },
        "outputId": "fbb34ad3-fb3e-49f7-f34d-ba654c777d5c"
      },
      "source": [
        "print(f\"Giá trị trung bình (mean) của Rosenbrock (d=2, n=512) trong DE: {np.mean([all_results[i][1] for i in range(len(all_results))])}\")\n",
        "print(f\"Độ lệch chuẩn (std) của Rosenbrock (d=2, n=512) trong DE: {np.std([all_results[i][1] for i in range(len(all_results))])}\")"
      ],
      "execution_count": null,
      "outputs": [
        {
          "output_type": "stream",
          "name": "stdout",
          "text": [
            "Giá trị trung bình (mean) của Rosenbrock (d=2, n=512) trong DE: 3.180114126598853e-06\n",
            "Độ lệch chuẩn (std) của Rosenbrock (d=2, n=512) trong DE: 2.5935900338404098e-06\n"
          ]
        }
      ]
    },
    {
      "cell_type": "markdown",
      "metadata": {
        "id": "nsOFMWB1e3ab"
      },
      "source": [
        "#### **popsize = 1024**"
      ]
    },
    {
      "cell_type": "code",
      "metadata": {
        "id": "C5oilRBfhkZC"
      },
      "source": [
        "all_results = []\n",
        "\n",
        "dimension = 2\n",
        "max_evals = 1e5\n",
        "fobj = Rosenbrock_f\n",
        "seed_number = 18520186\n",
        "popsize = 1024 # kích thước quần thể\n",
        "lower_bound = -3\n",
        "upper_bound = 3\n",
        "\n",
        "for i in range(10):\n",
        "    np.random.rand(seed_number)\n",
        "    results, all_pops, generation_count = DE(fobj, dimension, [(lower_bound, upper_bound)]*dimension, F_scale, cross_prob, popsize, max_evals)\n",
        "    all_results.append(results[-1])\n",
        "    seed_number += 1"
      ],
      "execution_count": null,
      "outputs": []
    },
    {
      "cell_type": "code",
      "metadata": {
        "id": "UbZWJy9OhkbS",
        "colab": {
          "base_uri": "https://localhost:8080/"
        },
        "outputId": "fd542cf8-8878-4b28-b68a-b21e3b7161ab"
      },
      "source": [
        "all_results"
      ],
      "execution_count": null,
      "outputs": [
        {
          "output_type": "execute_result",
          "data": {
            "text/plain": [
              "[(array([1.00176025, 1.00349227]), 3.196663879016096e-06, 63489),\n",
              " (array([0.99738828, 0.99468009]), 7.887957725260555e-06, 60417),\n",
              " (array([0.99726992, 0.99468014]), 9.218146327008513e-06, 31745),\n",
              " (array([0.99830098, 0.99666529]), 3.2520201342646046e-06, 65537),\n",
              " (array([0.99966033, 0.99918665]), 1.9144804890915616e-06, 35841),\n",
              " (array([1.00002948, 0.99999026]), 4.727376397617277e-07, 57345),\n",
              " (array([0.99769656, 0.99561261]), 9.893315680681375e-06, 57345),\n",
              " (array([0.99836401, 0.99688524]), 5.0649182507210575e-06, 66561),\n",
              " (array([0.99957982, 0.99906877]), 1.0056929130594712e-06, 44033),\n",
              " (array([0.99912351, 0.99813765]), 1.98117113182131e-06, 55297)]"
            ]
          },
          "metadata": {},
          "execution_count": 93
        }
      ]
    },
    {
      "cell_type": "code",
      "metadata": {
        "id": "6nO9K8o0hke1",
        "colab": {
          "base_uri": "https://localhost:8080/"
        },
        "outputId": "837ae68a-8e53-4518-840d-5bf14a887968"
      },
      "source": [
        "print(f\"Giá trị trung bình (mean) của Rosenbrock (d=2, n=1024) trong DE: {np.mean([all_results[i][1] for i in range(len(all_results))])}\")\n",
        "print(f\"Độ lệch chuẩn (std) của Rosenbrock (d=2, n=1024) trong DE: {np.std([all_results[i][1] for i in range(len(all_results))])}\")"
      ],
      "execution_count": null,
      "outputs": [
        {
          "output_type": "stream",
          "name": "stdout",
          "text": [
            "Giá trị trung bình (mean) của Rosenbrock (d=2, n=1024) trong DE: 4.3887104170686275e-06\n",
            "Độ lệch chuẩn (std) của Rosenbrock (d=2, n=1024) trong DE: 3.2823294806287065e-06\n"
          ]
        }
      ]
    },
    {
      "cell_type": "markdown",
      "metadata": {
        "id": "1EV5Vu-rdtOA"
      },
      "source": [
        "### **dimensions (d=10)**"
      ]
    },
    {
      "cell_type": "markdown",
      "metadata": {
        "id": "5i6G0avbfDu7"
      },
      "source": [
        "#### **popsize = 32**"
      ]
    },
    {
      "cell_type": "code",
      "metadata": {
        "id": "Ni7bJGxxhhfA"
      },
      "source": [
        "all_results = []\n",
        "\n",
        "dimension = 10\n",
        "max_evals = 1e6\n",
        "fobj = Rosenbrock_f\n",
        "seed_number = 18520186\n",
        "popsize = 32 # kích thước quần thể\n",
        "lower_bound = -3\n",
        "upper_bound = 3\n",
        "\n",
        "for i in range(10):\n",
        "    np.random.rand(seed_number)\n",
        "    results, all_pops, generation_count = DE(fobj, dimension, [(lower_bound, upper_bound)]*dimension, F_scale, cross_prob, popsize, max_evals)\n",
        "    all_results.append(results[-1])\n",
        "    seed_number += 1"
      ],
      "execution_count": null,
      "outputs": []
    },
    {
      "cell_type": "code",
      "metadata": {
        "id": "e-I0YwRKhhhO",
        "colab": {
          "base_uri": "https://localhost:8080/"
        },
        "outputId": "72505304-eea1-4285-969a-b0ef1e528bbe"
      },
      "source": [
        "all_results"
      ],
      "execution_count": null,
      "outputs": [
        {
          "output_type": "execute_result",
          "data": {
            "text/plain": [
              "[(array([1.00000008, 0.99994139, 0.9999105 , 0.99998947, 1.00001408,\n",
              "         1.00009499, 1.00029165, 1.00050738, 1.00114954, 1.00228397]),\n",
              "  8.962895840672907e-06,\n",
              "  65601),\n",
              " (array([0.99997903, 1.00002266, 0.9999985 , 0.99999247, 1.00000565,\n",
              "         0.99998756, 0.99993459, 0.99994944, 0.99990206, 0.99980764]),\n",
              "  1.5661665087175597e-06,\n",
              "  67489),\n",
              " (array([0.99995801, 0.99995275, 1.00001399, 0.99998704, 0.99997335,\n",
              "         0.99995958, 1.00001705, 1.00008283, 1.00019178, 1.00055666]),\n",
              "  5.805579210653757e-06,\n",
              "  64961),\n",
              " (array([1.00001194, 0.99990145, 0.99996826, 0.99998346, 1.00004912,\n",
              "         1.00005563, 0.99999688, 0.99992506, 0.99970032, 0.99944053]),\n",
              "  9.604965820776777e-06,\n",
              "  65345),\n",
              " (array([0.99997401, 0.99995189, 1.00000152, 1.00003443, 1.00007364,\n",
              "         1.00001003, 0.99988217, 0.99976657, 0.99942221, 0.99895457]),\n",
              "  7.693093525310574e-06,\n",
              "  65409),\n",
              " (array([1.00001071, 1.00009527, 1.00004725, 0.99998304, 0.99991436,\n",
              "         0.99989183, 0.99983445, 0.99951597, 0.99907432, 0.9980873 ]),\n",
              "  8.818216129738702e-06,\n",
              "  63425),\n",
              " (array([0.9999961 , 0.99998856, 0.99993183, 0.99994428, 1.000051  ,\n",
              "         1.00001121, 1.00012529, 1.00031527, 1.00054126, 1.00096489]),\n",
              "  8.404119159503568e-06,\n",
              "  62753),\n",
              " (array([1.00004251, 0.99999338, 0.99997845, 1.00001797, 1.00006453,\n",
              "         1.00021762, 1.00027568, 1.00049558, 1.00108842, 1.00202289]),\n",
              "  9.852992014294923e-06,\n",
              "  66561),\n",
              " (array([0.99998458, 1.00001996, 1.00010814, 1.00012572, 1.0001706 ,\n",
              "         1.00018383, 1.0003106 , 1.00068366, 1.00123439, 1.00247963]),\n",
              "  9.356616236254494e-06,\n",
              "  66305),\n",
              " (array([1.00005558, 1.00007477, 1.00006112, 0.99998909, 1.00007357,\n",
              "         1.00011447, 1.00017475, 1.00044542, 1.00078427, 1.0016018 ]),\n",
              "  7.038929124567457e-06,\n",
              "  66049)]"
            ]
          },
          "metadata": {},
          "execution_count": 96
        }
      ]
    },
    {
      "cell_type": "code",
      "metadata": {
        "id": "ozHsh8U1hhkp",
        "colab": {
          "base_uri": "https://localhost:8080/"
        },
        "outputId": "6888a620-f7c0-47b3-e32e-0182c197e775"
      },
      "source": [
        "print(f\"Giá trị trung bình (mean) của Rosenbrock (d=10, n=32) trong DE: {np.mean([all_results[i][1] for i in range(len(all_results))])}\")\n",
        "print(f\"Độ lệch chuẩn (std) của Rosenbrock (d=10, n=32) trong DE: {np.std([all_results[i][1] for i in range(len(all_results))])}\")"
      ],
      "execution_count": null,
      "outputs": [
        {
          "output_type": "stream",
          "name": "stdout",
          "text": [
            "Giá trị trung bình (mean) của Rosenbrock (d=10, n=32) trong DE: 7.710357357049072e-06\n",
            "Độ lệch chuẩn (std) của Rosenbrock (d=10, n=32) trong DE: 2.366399730250934e-06\n"
          ]
        }
      ]
    },
    {
      "cell_type": "markdown",
      "metadata": {
        "id": "ef9zI48NfD9j"
      },
      "source": [
        "#### **popsize = 64**"
      ]
    },
    {
      "cell_type": "code",
      "metadata": {
        "id": "6sCRpCPXh8Ye"
      },
      "source": [
        "all_results = []\n",
        "\n",
        "dimension = 10\n",
        "max_evals = 1e6\n",
        "fobj = Rosenbrock_f\n",
        "seed_number = 18520186\n",
        "popsize = 64 # kích thước quần thể\n",
        "lower_bound = -3\n",
        "upper_bound = 3\n",
        "\n",
        "for i in range(10):\n",
        "    np.random.rand(seed_number)\n",
        "    results, all_pops, generation_count = DE(fobj, dimension, [(lower_bound, upper_bound)]*dimension, F_scale, cross_prob, popsize, max_evals)\n",
        "    all_results.append(results[-1])\n",
        "    seed_number += 1"
      ],
      "execution_count": null,
      "outputs": []
    },
    {
      "cell_type": "code",
      "metadata": {
        "id": "VdLuTDDXh8a0",
        "colab": {
          "base_uri": "https://localhost:8080/"
        },
        "outputId": "769a89a0-a25d-4866-857a-bef8f017b9a0"
      },
      "source": [
        "all_results"
      ],
      "execution_count": null,
      "outputs": [
        {
          "output_type": "execute_result",
          "data": {
            "text/plain": [
              "[(array([1.00005765, 1.00012486, 1.00006791, 1.00000966, 1.00007517,\n",
              "         1.00011444, 1.00027237, 1.00044747, 1.00086394, 1.00157849]),\n",
              "  9.898617324783117e-06,\n",
              "  145089),\n",
              " (array([0.99990973, 0.99994575, 0.99998278, 0.99998249, 1.00002072,\n",
              "         1.0000179 , 1.00006505, 1.00018574, 1.00031626, 1.000663  ]),\n",
              "  3.7664670595768145e-06,\n",
              "  144129),\n",
              " (array([1.00002338, 1.00001881, 0.99992002, 1.00003153, 0.99996147,\n",
              "         0.99994699, 0.99997915, 1.00004597, 1.00008316, 1.00020628]),\n",
              "  7.900379648417811e-06,\n",
              "  142849),\n",
              " (array([0.99995985, 0.99998557, 0.99998341, 1.00004388, 1.0001362 ,\n",
              "         1.00017528, 1.0002823 , 1.00037078, 1.0007573 , 1.00166039]),\n",
              "  9.423833195150578e-06,\n",
              "  136897),\n",
              " (array([0.99990483, 0.99994449, 1.00005178, 1.00006751, 1.00005409,\n",
              "         1.00006128, 1.0001101 , 1.00023071, 1.0004941 , 1.00104264]),\n",
              "  6.234752131220426e-06,\n",
              "  147201),\n",
              " (array([0.99995081, 0.99998522, 1.00003771, 1.00004485, 1.00003952,\n",
              "         1.00000494, 0.99995275, 0.99979828, 0.99940721, 0.99885877]),\n",
              "  7.70434208139339e-06,\n",
              "  140737),\n",
              " (array([1.00001659, 1.00010279, 1.00003174, 1.00002953, 0.99997346,\n",
              "         0.99987633, 0.99962875, 0.99933625, 0.99869782, 0.99744015]),\n",
              "  9.554918170149247e-06,\n",
              "  141249),\n",
              " (array([1.00000735, 0.99991343, 1.00000533, 1.00005535, 1.00002754,\n",
              "         1.00004149, 0.99989974, 0.99985088, 0.99972503, 0.9993993 ]),\n",
              "  9.174974890333993e-06,\n",
              "  144193),\n",
              " (array([0.99997522, 0.999902  , 0.99998798, 1.0000457 , 1.0000625 ,\n",
              "         0.9999956 , 0.99992469, 0.99990162, 0.99995802, 0.99985875]),\n",
              "  9.335430335553062e-06,\n",
              "  126913),\n",
              " (array([0.9999353 , 0.9999826 , 0.99996603, 0.99998855, 1.00006993,\n",
              "         1.00001195, 1.00010337, 0.99999122, 0.99997586, 0.99999073]),\n",
              "  9.526063733256692e-06,\n",
              "  145537)]"
            ]
          },
          "metadata": {},
          "execution_count": 99
        }
      ]
    },
    {
      "cell_type": "code",
      "metadata": {
        "id": "oEyfa3_Lh8jW",
        "colab": {
          "base_uri": "https://localhost:8080/"
        },
        "outputId": "34762634-09d3-4ba3-ccd3-b1de00c17dd6"
      },
      "source": [
        "print(f\"Giá trị trung bình (mean) của Rosenbrock (d=10, n=64) trong DE: {np.mean([all_results[i][1] for i in range(len(all_results))])}\")\n",
        "print(f\"Độ lệch chuẩn (std) của Rosenbrock (d=10, n=64) trong DE: {np.std([all_results[i][1] for i in range(len(all_results))])}\")"
      ],
      "execution_count": null,
      "outputs": [
        {
          "output_type": "stream",
          "name": "stdout",
          "text": [
            "Giá trị trung bình (mean) của Rosenbrock (d=10, n=64) trong DE: 8.251977856983513e-06\n",
            "Độ lệch chuẩn (std) của Rosenbrock (d=10, n=64) trong DE: 1.8451000117200911e-06\n"
          ]
        }
      ]
    },
    {
      "cell_type": "markdown",
      "metadata": {
        "id": "GW2-AXZHfEsO"
      },
      "source": [
        "#### **popsize = 128**"
      ]
    },
    {
      "cell_type": "code",
      "metadata": {
        "id": "HlupbSPph5tY"
      },
      "source": [
        "all_results = []\n",
        "\n",
        "dimension = 10\n",
        "max_evals = 1e6\n",
        "fobj = Rosenbrock_f\n",
        "seed_number = 18520186\n",
        "popsize = 128 # kích thước quần thể\n",
        "lower_bound = -3\n",
        "upper_bound = 3\n",
        "\n",
        "for i in range(10):\n",
        "    np.random.rand(seed_number)\n",
        "    results, all_pops, generation_count = DE(fobj, dimension, [(lower_bound, upper_bound)]*dimension, F_scale, cross_prob, popsize, max_evals)\n",
        "    all_results.append(results[-1])\n",
        "    seed_number += 1"
      ],
      "execution_count": null,
      "outputs": []
    },
    {
      "cell_type": "code",
      "metadata": {
        "id": "fXwfk-8Yh5vY",
        "colab": {
          "base_uri": "https://localhost:8080/"
        },
        "outputId": "1bab5b47-4e00-483d-a5b4-2e09c529fc23"
      },
      "source": [
        "all_results"
      ],
      "execution_count": null,
      "outputs": [
        {
          "output_type": "execute_result",
          "data": {
            "text/plain": [
              "[(array([0.99995229, 1.00004257, 1.00003887, 0.99997616, 0.99995974,\n",
              "         0.99997541, 1.0000257 , 0.99993805, 1.00002716, 1.00009396]),\n",
              "  7.76571065014581e-06,\n",
              "  296321),\n",
              " (array([1.00002271, 0.99993452, 1.00002173, 1.00004746, 1.0000578 ,\n",
              "         1.00009692, 1.00027364, 1.00054952, 1.00119528, 1.00223881]),\n",
              "  9.465344915228479e-06,\n",
              "  300417),\n",
              " (array([0.9999844 , 1.00000843, 0.99996438, 0.99996724, 1.00006307,\n",
              "         1.00016399, 1.00039914, 1.00091107, 1.00170428, 1.00337236]),\n",
              "  9.640599340761593e-06,\n",
              "  286593),\n",
              " (array([1.00010583, 1.00007825, 0.99999224, 0.99992929, 0.99999063,\n",
              "         0.99995759, 0.99996334, 0.9998746 , 0.99968752, 0.99933555]),\n",
              "  7.761645557310466e-06,\n",
              "  283649),\n",
              " (array([0.99998712, 1.00003262, 0.99999635, 1.00000128, 1.00008943,\n",
              "         1.00009874, 1.00020448, 1.00037708, 1.00091769, 1.00188675]),\n",
              "  6.296318984780836e-06,\n",
              "  285697),\n",
              " (array([0.99994716, 0.99995977, 1.00001213, 0.99993206, 0.99987126,\n",
              "         0.99990662, 0.99997382, 0.99992129, 0.99980169, 0.99955276]),\n",
              "  7.985179190876871e-06,\n",
              "  296705),\n",
              " (array([1.00008245, 1.0000214 , 1.00007139, 1.00006629, 0.99996838,\n",
              "         1.00001084, 0.99999843, 0.99986204, 0.99959154, 0.99915558]),\n",
              "  9.880463337904875e-06,\n",
              "  298241),\n",
              " (array([0.99998686, 0.99997064, 1.0000509 , 1.00010672, 0.99996959,\n",
              "         0.99991164, 0.99987745, 0.99976767, 0.99945687, 0.99889096]),\n",
              "  8.59442522776728e-06,\n",
              "  299649),\n",
              " (array([1.00002025, 1.00003001, 0.99995603, 0.99991956, 0.99996862,\n",
              "         1.00002066, 0.9999628 , 0.99981943, 0.99956774, 0.99900432]),\n",
              "  7.677423687481862e-06,\n",
              "  286977),\n",
              " (array([1.0000025 , 0.9999734 , 1.00004939, 0.99997312, 0.99992241,\n",
              "         0.99984971, 0.99960733, 0.99927112, 0.99853858, 0.99721407]),\n",
              "  8.628123765390254e-06,\n",
              "  279297)]"
            ]
          },
          "metadata": {},
          "execution_count": 102
        }
      ]
    },
    {
      "cell_type": "code",
      "metadata": {
        "id": "Mw_IYjNqh5y_",
        "colab": {
          "base_uri": "https://localhost:8080/"
        },
        "outputId": "03fa31f2-c771-4d04-dd25-4315b90265d2"
      },
      "source": [
        "print(f\"Giá trị trung bình (mean) của Rosenbrock (d=10, n=128) trong DE: {np.mean([all_results[i][1] for i in range(len(all_results))])}\")\n",
        "print(f\"Độ lệch chuẩn (std) của Rosenbrock (d=10, n=128) trong DE: {np.std([all_results[i][1] for i in range(len(all_results))])}\")"
      ],
      "execution_count": null,
      "outputs": [
        {
          "output_type": "stream",
          "name": "stdout",
          "text": [
            "Giá trị trung bình (mean) của Rosenbrock (d=10, n=128) trong DE: 8.369523465764833e-06\n",
            "Độ lệch chuẩn (std) của Rosenbrock (d=10, n=128) trong DE: 1.0428738013991606e-06\n"
          ]
        }
      ]
    },
    {
      "cell_type": "markdown",
      "metadata": {
        "id": "k0tiAD7yfdlr"
      },
      "source": [
        "#### **popsize = 256**"
      ]
    },
    {
      "cell_type": "code",
      "metadata": {
        "id": "YPZWDjTOh33S"
      },
      "source": [
        "all_results = []\n",
        "\n",
        "dimension = 10\n",
        "max_evals = 1e6\n",
        "fobj = Rosenbrock_f\n",
        "seed_number = 18520186\n",
        "popsize = 256 # kích thước quần thể\n",
        "lower_bound = -3\n",
        "upper_bound = 3\n",
        "\n",
        "for i in range(10):\n",
        "    np.random.rand(seed_number)\n",
        "    results, all_pops, generation_count = DE(fobj, dimension, [(lower_bound, upper_bound)]*dimension, F_scale, cross_prob, popsize, max_evals)\n",
        "    all_results.append(results[-1])\n",
        "    seed_number += 1"
      ],
      "execution_count": null,
      "outputs": []
    },
    {
      "cell_type": "code",
      "metadata": {
        "id": "b2dRmNMKh353",
        "colab": {
          "base_uri": "https://localhost:8080/"
        },
        "outputId": "4f291e15-91b2-4764-cf7a-8c07e12ab691"
      },
      "source": [
        "all_results"
      ],
      "execution_count": null,
      "outputs": [
        {
          "output_type": "execute_result",
          "data": {
            "text/plain": [
              "[(array([0.99999187, 0.99993008, 0.99995078, 0.99999393, 0.99992729,\n",
              "         0.99985046, 0.99978161, 0.99961654, 0.9992936 , 0.9984195 ]),\n",
              "  7.187790830393656e-06,\n",
              "  593921),\n",
              " (array([1.00006061, 1.00008997, 1.00010006, 1.00008362, 1.00005147,\n",
              "         0.99996732, 0.99998598, 1.00008047, 1.00020026, 1.00044052]),\n",
              "  7.107753962435515e-06,\n",
              "  577025),\n",
              " (array([1.00008268, 1.00002857, 0.99995439, 1.00001232, 1.0000724 ,\n",
              "         1.00006227, 1.00007186, 1.00028181, 1.00046456, 1.00091025]),\n",
              "  8.43107391431558e-06,\n",
              "  584961),\n",
              " (array([0.99999948, 1.00010318, 1.00010052, 1.00008839, 1.00011223,\n",
              "         1.0001682 , 1.00022096, 1.00047681, 1.00078633, 1.00152862]),\n",
              "  9.63405251502174e-06,\n",
              "  566785),\n",
              " (array([1.00001867, 0.99995719, 0.99997848, 0.99995129, 1.00002554,\n",
              "         0.99997006, 0.99991319, 0.99989577, 0.99974367, 0.99950773]),\n",
              "  4.140522902599574e-06,\n",
              "  580353),\n",
              " (array([1.00006463, 1.00008293, 1.00015063, 1.00014671, 1.0001147 ,\n",
              "         1.00012785, 1.00013862, 1.00019032, 1.0003962 , 1.00079819]),\n",
              "  9.304821885425532e-06,\n",
              "  576001),\n",
              " (array([1.00006348, 0.99996672, 0.99996262, 1.00005219, 0.99996216,\n",
              "         0.99986141, 0.99982728, 0.99965424, 0.99933917, 0.99856647]),\n",
              "  9.744854056202987e-06,\n",
              "  583681),\n",
              " (array([0.99991217, 0.99993567, 0.99991166, 0.99995859, 0.99993627,\n",
              "         1.00001358, 1.00014182, 1.00014099, 1.00022831, 1.00045569]),\n",
              "  9.01338137247436e-06,\n",
              "  591105),\n",
              " (array([0.9999747 , 0.99987632, 0.99992374, 0.99995416, 0.99993689,\n",
              "         0.99990293, 0.99985286, 0.99956903, 0.99924388, 0.99850333]),\n",
              "  8.810280827479644e-06,\n",
              "  574209),\n",
              " (array([1.00003974, 1.0000457 , 1.00000193, 0.99991282, 0.99997109,\n",
              "         0.99996286, 1.00002101, 1.00011325, 1.00023936, 1.00047415]),\n",
              "  5.4192343089497764e-06,\n",
              "  567041)]"
            ]
          },
          "metadata": {},
          "execution_count": 105
        }
      ]
    },
    {
      "cell_type": "code",
      "metadata": {
        "id": "zIFOrjo8h3-i",
        "colab": {
          "base_uri": "https://localhost:8080/"
        },
        "outputId": "0601efdc-5291-41d5-8fad-367155078258"
      },
      "source": [
        "print(f\"Giá trị trung bình (mean) của Rosenbrock (d=10, n=256) trong DE: {np.mean([all_results[i][1] for i in range(len(all_results))])}\")\n",
        "print(f\"Độ lệch chuẩn (std) của Rosenbrock (d=10, n=256) trong DE: {np.std([all_results[i][1] for i in range(len(all_results))])}\")"
      ],
      "execution_count": null,
      "outputs": [
        {
          "output_type": "stream",
          "name": "stdout",
          "text": [
            "Giá trị trung bình (mean) của Rosenbrock (d=10, n=256) trong DE: 7.879376657529836e-06\n",
            "Độ lệch chuẩn (std) của Rosenbrock (d=10, n=256) trong DE: 1.7931181454037146e-06\n"
          ]
        }
      ]
    },
    {
      "cell_type": "markdown",
      "metadata": {
        "id": "QiDiOhJEfE5n"
      },
      "source": [
        "#### **popsize = 512**"
      ]
    },
    {
      "cell_type": "code",
      "metadata": {
        "id": "08zh0ECLh1zC"
      },
      "source": [
        "all_results = []\n",
        "\n",
        "dimension = 10\n",
        "max_evals = 1e6\n",
        "fobj = Rosenbrock_f\n",
        "seed_number = 18520186\n",
        "popsize = 512 # kích thước quần thể\n",
        "lower_bound = -3\n",
        "upper_bound = 3\n",
        "\n",
        "for i in range(10):\n",
        "    np.random.rand(seed_number)\n",
        "    results, all_pops, generation_count = DE(fobj, dimension, [(lower_bound, upper_bound)]*dimension, F_scale, cross_prob, popsize, max_evals)\n",
        "    all_results.append(results[-1])\n",
        "    seed_number += 1"
      ],
      "execution_count": null,
      "outputs": []
    },
    {
      "cell_type": "code",
      "metadata": {
        "id": "gz6KYXENh12V",
        "colab": {
          "base_uri": "https://localhost:8080/"
        },
        "outputId": "28fba35e-3c74-4f5b-f48a-b97db404c926"
      },
      "source": [
        "all_results"
      ],
      "execution_count": null,
      "outputs": [
        {
          "output_type": "execute_result",
          "data": {
            "text/plain": [
              "[(array([0.99983303, 0.99999534, 0.99998519, 0.99985725, 1.00016447,\n",
              "         1.00041161, 1.00036908, 1.00041412, 1.00089191, 1.00171929]),\n",
              "  6.637878737826089e-05,\n",
              "  1000449),\n",
              " (array([1.00036498, 1.0002982 , 1.00012262, 1.00021173, 0.99990094,\n",
              "         1.00022971, 1.00042634, 1.00099228, 1.00162475, 1.00320385]),\n",
              "  0.00010628786861003005,\n",
              "  1000449),\n",
              " (array([1.00014831, 0.99987207, 0.99992007, 0.99983639, 0.99986258,\n",
              "         0.9998032 , 0.99995227, 0.99968525, 0.99959593, 0.99922279]),\n",
              "  4.766567507543273e-05,\n",
              "  1000449),\n",
              " (array([0.99978571, 0.99978126, 0.99978335, 0.99974578, 0.99951291,\n",
              "         0.99944416, 0.9990509 , 0.99815974, 0.99669487, 0.99383188]),\n",
              "  8.136255441942083e-05,\n",
              "  1000449),\n",
              " (array([1.00021726, 1.00012998, 1.00011399, 0.99989285, 0.99988135,\n",
              "         0.99976788, 0.99996241, 0.99946492, 0.99868268, 0.997299  ]),\n",
              "  7.167232388450118e-05,\n",
              "  1000449),\n",
              " (array([0.99994907, 0.99991571, 0.99969907, 0.9998454 , 0.99995339,\n",
              "         1.00018653, 1.00034659, 1.00067992, 1.00120603, 1.00218445]),\n",
              "  4.641219153304672e-05,\n",
              "  1000449),\n",
              " (array([1.00010704, 1.00004555, 1.00026945, 1.00041944, 1.00023536,\n",
              "         1.00012666, 1.00039432, 1.00083391, 1.00206085, 1.00476318]),\n",
              "  0.00011935632561143013,\n",
              "  1000449),\n",
              " (array([0.99965473, 0.999847  , 0.99990923, 0.99995644, 0.99998072,\n",
              "         1.00017252, 1.00056517, 1.00108099, 1.00208738, 1.0044764 ]),\n",
              "  6.086385466598518e-05,\n",
              "  1000449),\n",
              " (array([1.00005022, 1.00018979, 1.0001864 , 1.00021328, 1.00027009,\n",
              "         1.0003297 , 1.0002441 , 1.00078959, 1.00113601, 1.00150028]),\n",
              "  0.00012202339428879956,\n",
              "  1000449),\n",
              " (array([0.99979732, 0.99949445, 0.99988213, 0.99998491, 0.99982944,\n",
              "         0.9998827 , 0.99986827, 0.99944747, 0.99942583, 0.99891515]),\n",
              "  0.00013156372681010268,\n",
              "  1000449)]"
            ]
          },
          "metadata": {},
          "execution_count": 108
        }
      ]
    },
    {
      "cell_type": "code",
      "metadata": {
        "id": "pxb_-w6Fh168",
        "colab": {
          "base_uri": "https://localhost:8080/"
        },
        "outputId": "68388c78-28ea-4699-a415-6b0f753e3b06"
      },
      "source": [
        "print(f\"Giá trị trung bình (mean) của Rosenbrock (d=10, n=512) trong DE: {np.mean([all_results[i][1] for i in range(len(all_results))])}\")\n",
        "print(f\"Độ lệch chuẩn (std) của Rosenbrock (d=10, n=512) trong DE: {np.std([all_results[i][1] for i in range(len(all_results))])}\")"
      ],
      "execution_count": null,
      "outputs": [
        {
          "output_type": "stream",
          "name": "stdout",
          "text": [
            "Giá trị trung bình (mean) của Rosenbrock (d=10, n=512) trong DE: 8.535867022770101e-05\n",
            "Độ lệch chuẩn (std) của Rosenbrock (d=10, n=512) trong DE: 3.0288922409355144e-05\n"
          ]
        }
      ]
    },
    {
      "cell_type": "markdown",
      "metadata": {
        "id": "-fIj6DG6fFGW"
      },
      "source": [
        "#### **popsize = 1024**"
      ]
    },
    {
      "cell_type": "code",
      "metadata": {
        "id": "PR5dcYR9hiOc"
      },
      "source": [
        "all_results = []\n",
        "\n",
        "dimension = 10\n",
        "max_evals = 1e6\n",
        "fobj = Rosenbrock_f\n",
        "seed_number = 18520186\n",
        "popsize = 1024 # kích thước quần thể\n",
        "lower_bound = -3\n",
        "upper_bound = 3\n",
        "\n",
        "for i in range(10):\n",
        "    np.random.rand(seed_number)\n",
        "    results, all_pops, generation_count = DE(fobj, dimension, [(lower_bound, upper_bound)]*dimension, F_scale, cross_prob, popsize, max_evals)\n",
        "    all_results.append(results[-1])\n",
        "    seed_number += 1"
      ],
      "execution_count": null,
      "outputs": []
    },
    {
      "cell_type": "code",
      "metadata": {
        "id": "xE-xnPUbhiRD",
        "colab": {
          "base_uri": "https://localhost:8080/"
        },
        "outputId": "5ae4f59d-36ab-4e56-92af-7ee3966be18c"
      },
      "source": [
        "all_results"
      ],
      "execution_count": null,
      "outputs": [
        {
          "output_type": "execute_result",
          "data": {
            "text/plain": [
              "[(array([0.99946281, 1.00098509, 1.00656298, 1.0080581 , 0.99008517,\n",
              "         0.95743671, 0.92773384, 0.8599176 , 0.72968662, 0.52946902]),\n",
              "  0.24800823901780425,\n",
              "  1000449),\n",
              " (array([0.9988294 , 0.99679281, 0.99314373, 0.99072026, 0.98680473,\n",
              "         0.97507847, 0.92636368, 0.86567208, 0.75705066, 0.57557646]),\n",
              "  0.16014005754544233,\n",
              "  1000449),\n",
              " (array([1.00777736, 0.99503069, 0.99500847, 0.98475446, 0.97652824,\n",
              "         0.95349418, 0.90552216, 0.82261547, 0.67976915, 0.46902174]),\n",
              "  0.20596495409109766,\n",
              "  1000449),\n",
              " (array([1.00103423, 0.99700453, 0.99168786, 0.98665794, 0.97237996,\n",
              "         0.95243831, 0.91451805, 0.83720626, 0.68364511, 0.46106067]),\n",
              "  0.1855428690902528,\n",
              "  1000449),\n",
              " (array([1.00088731, 0.99521077, 0.9995774 , 0.99823293, 0.97543271,\n",
              "         0.97578926, 0.95852694, 0.92053754, 0.83077673, 0.70753059]),\n",
              "  0.21604962888308368,\n",
              "  1000449),\n",
              " (array([1.00207738, 0.99696134, 0.99634141, 0.99399655, 0.9909829 ,\n",
              "         0.97329858, 0.93881482, 0.8681721 , 0.73874976, 0.56567026]),\n",
              "  0.19142783003487546,\n",
              "  1000449),\n",
              " (array([0.99616553, 1.00293818, 1.00024796, 0.98909341, 0.98102827,\n",
              "         0.95120744, 0.92845557, 0.86303776, 0.76527896, 0.58080131]),\n",
              "  0.22279188619958987,\n",
              "  1000449),\n",
              " (array([1.00066325, 0.99125293, 0.98807577, 0.98225245, 0.97958181,\n",
              "         0.97258358, 0.9417961 , 0.87475161, 0.7644816 , 0.56476441]),\n",
              "  0.18704774076476904,\n",
              "  1000449),\n",
              " (array([1.00674735, 1.00526072, 0.99950178, 0.98168383, 0.96824459,\n",
              "         0.9590666 , 0.92549416, 0.8654202 , 0.73899073, 0.54652604]),\n",
              "  0.2135834433158877,\n",
              "  1000449),\n",
              " (array([0.99525293, 0.9882208 , 0.98638935, 0.98102736, 0.97228332,\n",
              "         0.95342405, 0.90333917, 0.79736554, 0.6373916 , 0.40431742]),\n",
              "  0.2571371648550534,\n",
              "  1000449)]"
            ]
          },
          "metadata": {},
          "execution_count": 111
        }
      ]
    },
    {
      "cell_type": "code",
      "metadata": {
        "id": "iFBMGffthiVl",
        "colab": {
          "base_uri": "https://localhost:8080/"
        },
        "outputId": "b750adc5-7672-42c5-daa4-9ac00103a367"
      },
      "source": [
        "print(f\"Giá trị trung bình (mean) của Rosenbrock (d=10, n=1024) trong DE: {np.mean([all_results[i][1] for i in range(len(all_results))])}\")\n",
        "print(f\"Độ lệch chuẩn (std) của Rosenbrock (d=10, n=1024) trong DE: {np.std([all_results[i][1] for i in range(len(all_results))])}\")"
      ],
      "execution_count": null,
      "outputs": [
        {
          "output_type": "stream",
          "name": "stdout",
          "text": [
            "Giá trị trung bình (mean) của Rosenbrock (d=10, n=1024) trong DE: 0.20876938137978565\n",
            "Độ lệch chuẩn (std) của Rosenbrock (d=10, n=1024) trong DE: 0.02799400678841329\n"
          ]
        }
      ]
    },
    {
      "cell_type": "markdown",
      "metadata": {
        "id": "B-2gxTyVfFP1"
      },
      "source": [
        "## **Hàm Griewank**"
      ]
    },
    {
      "cell_type": "markdown",
      "metadata": {
        "id": "HtSva_Gzc4J1"
      },
      "source": [
        "### **dimensions (d=2)**"
      ]
    },
    {
      "cell_type": "markdown",
      "metadata": {
        "id": "SNx_sk9Zc4Mz"
      },
      "source": [
        "#### **popsize = 32**"
      ]
    },
    {
      "cell_type": "code",
      "metadata": {
        "id": "nZ4_StP2ifm9"
      },
      "source": [
        "all_results = []\n",
        "\n",
        "dimension = 2\n",
        "max_evals = 1e5\n",
        "fobj = Griewank_f\n",
        "seed_number = 18520186\n",
        "popsize = 32 # kích thước quần thể\n",
        "lower_bound = -600\n",
        "upper_bound = 600\n",
        "\n",
        "for i in range(10):\n",
        "    np.random.rand(seed_number)\n",
        "    results, all_pops, generation_count = DE(fobj, dimension, [(lower_bound, upper_bound)]*dimension, F_scale, cross_prob, popsize, max_evals)\n",
        "    all_results.append(results[-1])\n",
        "    seed_number += 1"
      ],
      "execution_count": null,
      "outputs": []
    },
    {
      "cell_type": "code",
      "metadata": {
        "id": "WEWOXUenifqa",
        "colab": {
          "base_uri": "https://localhost:8080/"
        },
        "outputId": "743495f5-55eb-4808-9099-58d60cec2140"
      },
      "source": [
        "all_results"
      ],
      "execution_count": null,
      "outputs": [
        {
          "output_type": "execute_result",
          "data": {
            "text/plain": [
              "[(array([-0.00250012, -0.00503019]), 9.45885432002136e-06, 5377),\n",
              " (array([0.00246062, 0.00187374]), 3.907446514128665e-06, 5409),\n",
              " (array([ 5.56354521e-04, -1.26305174e-05]), 1.5488247739892103e-07, 5825),\n",
              " (array([ 0.00243428, -0.00332558]), 5.7319671267208605e-06, 4385),\n",
              " (array([-0.00174454,  0.00446837]), 6.519027766382912e-06, 5313),\n",
              " (array([-0.00017066, -0.00047851]), 7.186968664640858e-08, 6145),\n",
              " (array([0.00046456, 0.00085555]), 2.9113892674459407e-07, 3617),\n",
              " (array([-0.00192981, -0.00535668]), 9.043653336981983e-06, 3873),\n",
              " (array([-0.00223234, -0.00163936]), 3.1654558908522645e-06, 4353),\n",
              " (array([ 3.14002264, -4.43844449]), 0.007396040334114895, 100001)]"
            ]
          },
          "metadata": {},
          "execution_count": 114
        }
      ]
    },
    {
      "cell_type": "code",
      "metadata": {
        "id": "3aMGdMu7ifzd",
        "colab": {
          "base_uri": "https://localhost:8080/"
        },
        "outputId": "737468c1-95f2-4843-8aa7-e27566261d95"
      },
      "source": [
        "print(f\"Giá trị trung bình (mean) của Griewank (d=2, n=32) trong DE: {np.mean([all_results[i][1] for i in range(len(all_results))])}\")\n",
        "print(f\"Độ lệch chuẩn (std) của Griewank (d=2, n=32) trong DE: {np.std([all_results[i][1] for i in range(len(all_results))])}\")"
      ],
      "execution_count": null,
      "outputs": [
        {
          "output_type": "stream",
          "name": "stdout",
          "text": [
            "Giá trị trung bình (mean) của Griewank (d=2, n=32) trong DE: 0.0007434384630160773\n",
            "Độ lệch chuẩn (std) của Griewank (d=2, n=32) trong DE: 0.002217536406778097\n"
          ]
        }
      ]
    },
    {
      "cell_type": "markdown",
      "metadata": {
        "id": "hNmbSms7c4PV"
      },
      "source": [
        "#### **popsize = 64**"
      ]
    },
    {
      "cell_type": "code",
      "metadata": {
        "id": "UMAZirz7igmG"
      },
      "source": [
        "all_results = []\n",
        "\n",
        "dimension = 2\n",
        "max_evals = 1e5\n",
        "fobj = Griewank_f\n",
        "seed_number = 18520186\n",
        "popsize = 64 # kích thước quần thể\n",
        "lower_bound = -600\n",
        "upper_bound = 600\n",
        "\n",
        "for i in range(10):\n",
        "    np.random.rand(seed_number)\n",
        "    results, all_pops, generation_count = DE(fobj, dimension, [(lower_bound, upper_bound)]*dimension, F_scale, cross_prob, popsize, max_evals)\n",
        "    all_results.append(results[-1])\n",
        "    seed_number += 1"
      ],
      "execution_count": null,
      "outputs": []
    },
    {
      "cell_type": "code",
      "metadata": {
        "id": "veD0XEZnigoZ",
        "colab": {
          "base_uri": "https://localhost:8080/"
        },
        "outputId": "b0c4073c-b373-4425-b6bd-49ca1dbe869b"
      },
      "source": [
        "all_results"
      ],
      "execution_count": null,
      "outputs": [
        {
          "output_type": "execute_result",
          "data": {
            "text/plain": [
              "[(array([-0.00172564, -0.00061558]), 1.5844818579413555e-06, 13953),\n",
              " (array([ 0.00038935, -0.00112319]), 3.9153815567516403e-07, 7425),\n",
              " (array([0.002925 , 0.0023543]), 5.6669992304358985e-06, 10945),\n",
              " (array([-0.00192849,  0.00299784]), 4.1094794850371485e-06, 9665),\n",
              " (array([-4.39649000e-03, -6.62448805e-05]), 9.670477035705893e-06, 9857),\n",
              " (array([-0.00305285, -0.00264597]), 6.414303856061565e-06, 12737),\n",
              " (array([-0.00141006,  0.00323761]), 3.617779659070841e-06, 12417),\n",
              " (array([0.00239704, 0.00363039]), 6.172556067274293e-06, 10177),\n",
              " (array([ 0.00178421, -0.00389636]), 5.391691383693775e-06, 11201),\n",
              " (array([0.00115522, 0.00269225]), 2.481463607928447e-06, 12161)]"
            ]
          },
          "metadata": {},
          "execution_count": 117
        }
      ]
    },
    {
      "cell_type": "code",
      "metadata": {
        "id": "sxX30xNEigrq",
        "colab": {
          "base_uri": "https://localhost:8080/"
        },
        "outputId": "df3acc4b-f347-44a3-cb38-81fd762d50c9"
      },
      "source": [
        "print(f\"Giá trị trung bình (mean) của Griewank (d=2, n=64) trong DE: {np.mean([all_results[i][1] for i in range(len(all_results))])}\")\n",
        "print(f\"Độ lệch chuẩn (std) của Griewank (d=2, n=64) trong DE: {np.std([all_results[i][1] for i in range(len(all_results))])}\")"
      ],
      "execution_count": null,
      "outputs": [
        {
          "output_type": "stream",
          "name": "stdout",
          "text": [
            "Giá trị trung bình (mean) của Griewank (d=2, n=64) trong DE: 4.550077033882438e-06\n",
            "Độ lệch chuẩn (std) của Griewank (d=2, n=64) trong DE: 2.563450260766857e-06\n"
          ]
        }
      ]
    },
    {
      "cell_type": "markdown",
      "metadata": {
        "id": "FsP9VrsWc4Rk"
      },
      "source": [
        "#### **popsize = 128**"
      ]
    },
    {
      "cell_type": "code",
      "metadata": {
        "id": "Y1XHFijAiiPE"
      },
      "source": [
        "all_results = []\n",
        "\n",
        "dimension = 2\n",
        "max_evals = 1e5\n",
        "fobj = Griewank_f\n",
        "seed_number = 18520186\n",
        "popsize = 128 # kích thước quần thể\n",
        "lower_bound = -600\n",
        "upper_bound = 600\n",
        "\n",
        "for i in range(10):\n",
        "    np.random.rand(seed_number)\n",
        "    results, all_pops, generation_count = DE(fobj, dimension, [(lower_bound, upper_bound)]*dimension, F_scale, cross_prob, popsize, max_evals)\n",
        "    all_results.append(results[-1])\n",
        "    seed_number += 1"
      ],
      "execution_count": null,
      "outputs": []
    },
    {
      "cell_type": "code",
      "metadata": {
        "id": "vOYzNe4qiiRf",
        "colab": {
          "base_uri": "https://localhost:8080/"
        },
        "outputId": "ddb50351-c316-4513-8bf2-c74396b67974"
      },
      "source": [
        "all_results"
      ],
      "execution_count": null,
      "outputs": [
        {
          "output_type": "execute_result",
          "data": {
            "text/plain": [
              "[(array([-0.00250082, -0.00133337]), 3.5735194718888863e-06, 18049),\n",
              " (array([-0.00025832, -0.00380029]), 3.647537222262187e-06, 21633),\n",
              " (array([-0.00239201,  0.00314462]), 5.336908627362469e-06, 20097),\n",
              " (array([ 0.00358316, -0.00105683]), 6.702222468790708e-06, 20737),\n",
              " (array([0.00150281, 0.00396882]), 5.071599652906045e-06, 22401),\n",
              " (array([ 0.00013196, -0.00358636]), 3.227427442964448e-06, 19713),\n",
              " (array([ 0.00347695, -0.00048215]), 6.105775998466179e-06, 23041),\n",
              " (array([-0.0021376 ,  0.00260801]), 3.9879488231697735e-06, 21505),\n",
              " (array([ 9.90356811e-04, -1.08589462e-05]), 4.906779769164871e-07, 20865),\n",
              " (array([-0.00073786, -0.00102263]), 5.340598947523034e-07, 22913)]"
            ]
          },
          "metadata": {},
          "execution_count": 120
        }
      ]
    },
    {
      "cell_type": "code",
      "metadata": {
        "id": "vsCOm1NviiUv",
        "colab": {
          "base_uri": "https://localhost:8080/"
        },
        "outputId": "33b233e5-db2e-432f-bca8-679bc1bfe7f8"
      },
      "source": [
        "print(f\"Giá trị trung bình (mean) của Griewank (d=2, n=128) trong DE: {np.mean([all_results[i][1] for i in range(len(all_results))])}\")\n",
        "print(f\"Độ lệch chuẩn (std) của Griewank (d=2, n=128) trong DE: {np.std([all_results[i][1] for i in range(len(all_results))])}\")"
      ],
      "execution_count": null,
      "outputs": [
        {
          "output_type": "stream",
          "name": "stdout",
          "text": [
            "Giá trị trung bình (mean) của Griewank (d=2, n=128) trong DE: 3.867767757947949e-06\n",
            "Độ lệch chuẩn (std) của Griewank (d=2, n=128) trong DE: 1.9931960960817785e-06\n"
          ]
        }
      ]
    },
    {
      "cell_type": "markdown",
      "metadata": {
        "id": "nt2ldG8dc4T-"
      },
      "source": [
        "#### **popsize = 256**"
      ]
    },
    {
      "cell_type": "code",
      "metadata": {
        "id": "5p4iL0zEijTx"
      },
      "source": [
        "all_results = []\n",
        "\n",
        "dimension = 2\n",
        "max_evals = 1e5\n",
        "fobj = Griewank_f\n",
        "seed_number = 18520186\n",
        "popsize = 256 # kích thước quần thể\n",
        "lower_bound = -600\n",
        "upper_bound = 600\n",
        "\n",
        "for i in range(10):\n",
        "    np.random.rand(seed_number)\n",
        "    results, all_pops, generation_count = DE(fobj, dimension, [(lower_bound, upper_bound)]*dimension, F_scale, cross_prob, popsize, max_evals)\n",
        "    all_results.append(results[-1])\n",
        "    seed_number += 1"
      ],
      "execution_count": null,
      "outputs": []
    },
    {
      "cell_type": "code",
      "metadata": {
        "id": "fdcdEWYnijWZ",
        "colab": {
          "base_uri": "https://localhost:8080/"
        },
        "outputId": "763b3ac2-caf2-45d7-e782-a48823d1ecfb"
      },
      "source": [
        "all_results"
      ],
      "execution_count": null,
      "outputs": [
        {
          "output_type": "execute_result",
          "data": {
            "text/plain": [
              "[(array([-0.00044622, -0.0038423 ]), 3.794117319655399e-06, 40449),\n",
              " (array([-0.00184301,  0.0028141 ]), 3.6809621157818384e-06, 45569),\n",
              " (array([ 0.00344064, -0.0013633 ]), 6.3870732146531495e-06, 42241),\n",
              " (array([-0.00065727,  0.00109889]), 5.182987526941574e-07, 46337),\n",
              " (array([0.00106251, 0.00432036]), 5.2357764637189774e-06, 47361),\n",
              " (array([ 0.00120623, -0.00473342]), 6.334769442672972e-06, 45313),\n",
              " (array([0.00385243, 0.00272099]), 9.277078822256257e-06, 42497),\n",
              " (array([-0.00195042, -0.00182532]), 2.736812472203809e-06, 44033),\n",
              " (array([0.00344239, 0.00181586]), 6.753141963522502e-06, 40705),\n",
              " (array([-0.00158489, -0.00579995]), 9.674806384474266e-06, 46849)]"
            ]
          },
          "metadata": {},
          "execution_count": 123
        }
      ]
    },
    {
      "cell_type": "code",
      "metadata": {
        "id": "tfGEVS4hijZ3",
        "colab": {
          "base_uri": "https://localhost:8080/"
        },
        "outputId": "c30d5d20-09e1-44b0-fbe4-4002ec290d99"
      },
      "source": [
        "print(f\"Giá trị trung bình (mean) của Griewank (d=2, n=256) trong DE: {np.mean([all_results[i][1] for i in range(len(all_results))])}\")\n",
        "print(f\"Độ lệch chuẩn (std) của Griewank (d=2, n=256) trong DE: {np.std([all_results[i][1] for i in range(len(all_results))])}\")"
      ],
      "execution_count": null,
      "outputs": [
        {
          "output_type": "stream",
          "name": "stdout",
          "text": [
            "Giá trị trung bình (mean) của Griewank (d=2, n=256) trong DE: 5.439283695163333e-06\n",
            "Độ lệch chuẩn (std) của Griewank (d=2, n=256) trong DE: 2.71023749925339e-06\n"
          ]
        }
      ]
    },
    {
      "cell_type": "markdown",
      "metadata": {
        "id": "twnq7Jf-c4WX"
      },
      "source": [
        "#### **popsize = 512**"
      ]
    },
    {
      "cell_type": "code",
      "metadata": {
        "id": "0U-22DRGihnO"
      },
      "source": [
        "all_results = []\n",
        "\n",
        "dimension = 2\n",
        "max_evals = 1e5\n",
        "fobj = Griewank_f\n",
        "seed_number = 18520186\n",
        "popsize = 512 # kích thước quần thể\n",
        "lower_bound = -600\n",
        "upper_bound = 600\n",
        "\n",
        "for i in range(10):\n",
        "    np.random.rand(seed_number)\n",
        "    results, all_pops, generation_count = DE(fobj, dimension, [(lower_bound, upper_bound)]*dimension, F_scale, cross_prob, popsize, max_evals)\n",
        "    all_results.append(results[-1])\n",
        "    seed_number += 1"
      ],
      "execution_count": null,
      "outputs": []
    },
    {
      "cell_type": "code",
      "metadata": {
        "id": "NFcA3abqihpX",
        "colab": {
          "base_uri": "https://localhost:8080/"
        },
        "outputId": "e670878c-c6ba-414e-ad9f-bf26440b8d4f"
      },
      "source": [
        "all_results"
      ],
      "execution_count": null,
      "outputs": [
        {
          "output_type": "execute_result",
          "data": {
            "text/plain": [
              "[(array([-0.00392818, -0.00093444]), 7.937665136292793e-06, 59393),\n",
              " (array([0.00276279, 0.00460576]), 9.12694502586131e-06, 92161),\n",
              " (array([0.00230131, 0.00140235]), 3.141480677038011e-06, 78849),\n",
              " (array([ 0.00147811, -0.00035308]), 1.1241479569434887e-06, 91137),\n",
              " (array([-0.00376496, -0.00159372]), 7.726618386549866e-06, 78849),\n",
              " (array([-0.00211577, -0.00199475]), 3.235104335419514e-06, 71169),\n",
              " (array([-0.00030024,  0.00182478]), 8.783857019523111e-07, 88577),\n",
              " (array([-0.00223012, -0.00036742]), 2.521746278350001e-06, 86017),\n",
              " (array([0.00264034, 0.00235746]), 4.878227574556249e-06, 77313),\n",
              " (array([0.00045822, 0.00123898]), 4.891881454360814e-07, 87553)]"
            ]
          },
          "metadata": {},
          "execution_count": 126
        }
      ]
    },
    {
      "cell_type": "code",
      "metadata": {
        "id": "JemtgQ35ihs3",
        "colab": {
          "base_uri": "https://localhost:8080/"
        },
        "outputId": "a3511320-8a3d-4630-ed42-6209c02d8e55"
      },
      "source": [
        "print(f\"Giá trị trung bình (mean) của Griewank (d=2, n=512) trong DE: {np.mean([all_results[i][1] for i in range(len(all_results))])}\")\n",
        "print(f\"Độ lệch chuẩn (std) của Griewank (d=2, n=512) trong DE: {np.std([all_results[i][1] for i in range(len(all_results))])}\")"
      ],
      "execution_count": null,
      "outputs": [
        {
          "output_type": "stream",
          "name": "stdout",
          "text": [
            "Giá trị trung bình (mean) của Griewank (d=2, n=512) trong DE: 4.105950921839962e-06\n",
            "Độ lệch chuẩn (std) của Griewank (d=2, n=512) trong DE: 3.003092403934896e-06\n"
          ]
        }
      ]
    },
    {
      "cell_type": "markdown",
      "metadata": {
        "id": "jAtL21V0c4Y8"
      },
      "source": [
        "#### **popsize = 1024**"
      ]
    },
    {
      "cell_type": "code",
      "metadata": {
        "id": "EUuu5KFDikpc"
      },
      "source": [
        "all_results = []\n",
        "\n",
        "dimension = 2\n",
        "max_evals = 1e5\n",
        "fobj = Griewank_f\n",
        "seed_number = 18520186\n",
        "popsize = 1024 # kích thước quần thể\n",
        "lower_bound = -600\n",
        "upper_bound = 600\n",
        "\n",
        "for i in range(10):\n",
        "    np.random.rand(seed_number)\n",
        "    results, all_pops, generation_count = DE(fobj, dimension, [(lower_bound, upper_bound)]*dimension, F_scale, cross_prob, popsize, max_evals)\n",
        "    all_results.append(results[-1])\n",
        "    seed_number += 1"
      ],
      "execution_count": null,
      "outputs": []
    },
    {
      "cell_type": "code",
      "metadata": {
        "id": "Rr_FzE83ikrw",
        "colab": {
          "base_uri": "https://localhost:8080/"
        },
        "outputId": "fd34bd17-1834-4c5c-90f4-1951e95855af"
      },
      "source": [
        "all_results"
      ],
      "execution_count": null,
      "outputs": [
        {
          "output_type": "execute_result",
          "data": {
            "text/plain": [
              "[(array([-0.00330752, -0.0315981 ]), 0.0002553204412251153, 100353),\n",
              " (array([ 0.00749202, -0.04375716]), 0.0005071783993033652, 100353),\n",
              " (array([ 0.03836102, -0.01627803]), 0.000802322014961776, 100353),\n",
              " (array([0.00164059, 0.0158965 ]), 6.458355599414656e-05, 100353),\n",
              " (array([ 0.05029371, -0.05129683]), 0.0019226896411737027, 100353),\n",
              " (array([0.00501545, 0.03280835]), 0.00028193429419420823, 100353),\n",
              " (array([ 0.05474402, -0.0055956 ]), 0.0015066524959912453, 100353),\n",
              " (array([-0.04502663,  0.00984505]), 0.0010382652929127323, 100353),\n",
              " (array([-0.0378428 , -0.02715958]), 0.0009007688463124053, 100353),\n",
              " (array([ 0.00658294, -0.02003378]), 0.00012211290325636615, 100353)]"
            ]
          },
          "metadata": {},
          "execution_count": 129
        }
      ]
    },
    {
      "cell_type": "code",
      "metadata": {
        "id": "VySojaDiikva",
        "colab": {
          "base_uri": "https://localhost:8080/"
        },
        "outputId": "5f874f74-00c7-4b2e-d46c-7c39963b6ce7"
      },
      "source": [
        "print(f\"Giá trị trung bình (mean) của Griewank (d=2, n=1024) trong DE: {np.mean([all_results[i][1] for i in range(len(all_results))])}\")\n",
        "print(f\"Độ lệch chuẩn (std) của Griewank (d=2, n=1024) trong DE: {np.std([all_results[i][1] for i in range(len(all_results))])}\")"
      ],
      "execution_count": null,
      "outputs": [
        {
          "output_type": "stream",
          "name": "stdout",
          "text": [
            "Giá trị trung bình (mean) của Griewank (d=2, n=1024) trong DE: 0.0007401827885325063\n",
            "Độ lệch chuẩn (std) của Griewank (d=2, n=1024) trong DE: 0.00058669579372268\n"
          ]
        }
      ]
    },
    {
      "cell_type": "markdown",
      "metadata": {
        "id": "g0Mne01Fc4eU"
      },
      "source": [
        "### **dimensions (d=10)**"
      ]
    },
    {
      "cell_type": "markdown",
      "metadata": {
        "id": "j_B3DXY7c4hT"
      },
      "source": [
        "#### **popsize = 32**"
      ]
    },
    {
      "cell_type": "code",
      "metadata": {
        "id": "QGBEFYjUiXhr"
      },
      "source": [
        "all_results = []\n",
        "\n",
        "dimension = 10\n",
        "max_evals = 1e6\n",
        "fobj = Griewank_f\n",
        "seed_number = 18520186\n",
        "popsize = 32 # kích thước quần thể\n",
        "lower_bound = -600\n",
        "upper_bound = 600\n",
        "\n",
        "for i in range(10):\n",
        "    np.random.rand(seed_number)\n",
        "    results, all_pops, generation_count = DE(fobj, dimension, [(lower_bound, upper_bound)]*dimension, F_scale, cross_prob, popsize, max_evals)\n",
        "    all_results.append(results[-1])\n",
        "    seed_number += 1"
      ],
      "execution_count": null,
      "outputs": []
    },
    {
      "cell_type": "code",
      "metadata": {
        "id": "n_6EsYLoiXkv",
        "colab": {
          "base_uri": "https://localhost:8080/"
        },
        "outputId": "dc08d796-8cb2-4c1a-fe57-e5dfa4b73bbd"
      },
      "source": [
        "all_results"
      ],
      "execution_count": null,
      "outputs": [
        {
          "output_type": "execute_result",
          "data": {
            "text/plain": [
              "[(array([-0.00061435, -0.0007513 , -0.00158874, -0.00197503, -0.00468247,\n",
              "         -0.00132781, -0.00418833, -0.00216533, -0.00129071,  0.00647142]),\n",
              "  7.334323159580158e-06,\n",
              "  197025),\n",
              " (array([-3.14002263e+00, -4.43844448e+00, -1.64380945e-08,  1.98136155e-08,\n",
              "         -6.95053736e-10, -1.36509748e-08,  7.78573049e-09,  5.54642810e-09,\n",
              "         -1.96508989e-09,  2.65507634e-08]), 0.007396040334114895, 1000001),\n",
              " (array([-3.14002263e+00,  4.43844448e+00, -1.71536293e-08,  1.52872577e-08,\n",
              "         -1.16195354e-08, -1.24131640e-08, -6.02025574e-10, -1.26648895e-08,\n",
              "         -2.82426315e-08, -8.91311868e-09]), 0.007396040334114895, 1000001),\n",
              " (array([-0.00084928,  0.00136163, -0.00337287, -0.00179343, -0.00088199,\n",
              "          0.00234039,  0.00175572, -0.00450572, -0.00171752, -0.00476013]),\n",
              "  6.460416303810668e-06,\n",
              "  272353),\n",
              " (array([-3.14002257e+00, -7.04184844e-09,  4.04688686e-09, -1.58682372e-11,\n",
              "          2.22701684e-08, -7.67228179e+00, -2.25831176e-09,  1.92566100e-08,\n",
              "          2.81705259e-08,  4.91039793e-09]), 0.01722629385971286, 1000001),\n",
              " (array([ 3.14002264e+00, -4.43844449e+00, -1.43935456e-08,  1.19649567e-08,\n",
              "         -1.66464844e-08,  3.36667516e-09, -2.48141288e-08,  4.12698229e-09,\n",
              "         -2.90438091e-08,  2.74172536e-08]), 0.007396040334114895, 1000001),\n",
              " (array([-9.61684593e-04,  8.00104172e-06, -7.47792826e-04,  4.27529200e-04,\n",
              "          9.91291664e-05, -4.36589070e-04,  6.70643268e-03,  6.64788397e-03,\n",
              "          5.74995452e-03,  4.38938720e-03]), 9.406001976630662e-06, 206209),\n",
              " (array([ 0.00080962,  0.00051877,  0.00182626,  0.00255727,  0.00306606,\n",
              "         -0.00718176, -0.00208214, -0.0033667 ,  0.00568258, -0.00118778]),\n",
              "  9.919420303594606e-06,\n",
              "  174881),\n",
              " (array([ 1.12093730e-03,  2.42554360e-05, -7.99188579e-04,  3.02496696e-03,\n",
              "          1.35491026e-03,  3.70386603e-04,  5.11501334e-03,  3.41484378e-04,\n",
              "         -1.57737987e-03, -9.54549304e-03]), 8.677009368573962e-06, 181697),\n",
              " (array([ 3.14002264e+00, -4.43844449e+00, -1.06990988e-08, -9.98176221e-09,\n",
              "         -1.51124271e-08,  8.88661805e-09,  1.34464714e-08, -2.24151140e-08,\n",
              "         -2.62547649e-08,  2.27721573e-09]), 0.007396040334114895, 1000001)]"
            ]
          },
          "metadata": {},
          "execution_count": 132
        }
      ]
    },
    {
      "cell_type": "code",
      "metadata": {
        "id": "w1_pnDNEiXoI",
        "colab": {
          "base_uri": "https://localhost:8080/"
        },
        "outputId": "65a92678-c77d-49f0-9aa8-65da74a7d4b7"
      },
      "source": [
        "print(f\"Giá trị trung bình (mean) của Griewank (d=10, n=32) trong DE: {np.mean([all_results[i][1] for i in range(len(all_results))])}\")\n",
        "print(f\"Độ lệch chuẩn (std) của Griewank (d=10, n=32) trong DE: {np.std([all_results[i][1] for i in range(len(all_results))])}\")"
      ],
      "execution_count": null,
      "outputs": [
        {
          "output_type": "stream",
          "name": "stdout",
          "text": [
            "Giá trị trung bình (mean) của Griewank (d=10, n=32) trong DE: 0.004685225236728463\n",
            "Độ lệch chuẩn (std) của Griewank (d=10, n=32) trong DE: 0.005440936069605711\n"
          ]
        }
      ]
    },
    {
      "cell_type": "markdown",
      "metadata": {
        "id": "mMh6Kkwdc4lH"
      },
      "source": [
        "#### **popsize = 64**"
      ]
    },
    {
      "cell_type": "code",
      "metadata": {
        "id": "OQ0ANTePiYLn"
      },
      "source": [
        "all_results = []\n",
        "\n",
        "dimension = 10\n",
        "max_evals = 1e6\n",
        "fobj = Griewank_f\n",
        "seed_number = 18520186\n",
        "popsize = 64 # kích thước quần thể\n",
        "lower_bound = -600\n",
        "upper_bound = 600\n",
        "\n",
        "for i in range(10):\n",
        "    np.random.rand(seed_number)\n",
        "    results, all_pops, generation_count = DE(fobj, dimension, [(lower_bound, upper_bound)]*dimension, F_scale, cross_prob, popsize, max_evals)\n",
        "    all_results.append(results[-1])\n",
        "    seed_number += 1"
      ],
      "execution_count": null,
      "outputs": []
    },
    {
      "cell_type": "code",
      "metadata": {
        "id": "SZnlrbjCiYN3",
        "colab": {
          "base_uri": "https://localhost:8080/"
        },
        "outputId": "5f0b7999-653e-4370-bdec-0a72bdf2d0ec"
      },
      "source": [
        "all_results"
      ],
      "execution_count": null,
      "outputs": [
        {
          "output_type": "execute_result",
          "data": {
            "text/plain": [
              "[(array([ 1.36241232e-05,  3.13195856e-03, -2.55736140e-03,  2.49495513e-03,\n",
              "         -8.72536601e-04, -4.12957101e-03, -3.69653426e-03, -1.62555311e-03,\n",
              "          4.87222753e-03,  3.45188232e-03]), 8.896561023985505e-06, 751425),\n",
              " (array([-0.00140913,  0.00078259, -0.00233555,  0.00121562, -0.00211729,\n",
              "          0.00119783,  0.00561953, -0.00493638,  0.00419413,  0.00512735]),\n",
              "  8.906813971032435e-06,\n",
              "  507905),\n",
              " (array([ 1.97580614e-05,  2.60440107e-04, -1.71768531e-03,  9.61829370e-04,\n",
              "          7.21451300e-04, -6.06007661e-03,  1.43732621e-03,  2.51650897e-03,\n",
              "         -2.78040296e-03,  2.75389113e-03]), 5.1052166128995324e-06, 596289),\n",
              " (array([-0.00065364, -0.00230457, -0.00208905, -0.0017554 ,  0.00241751,\n",
              "          0.00321608,  0.00189076, -0.00028384,  0.00171333, -0.00073091]),\n",
              "  4.55958336342821e-06,\n",
              "  398465),\n",
              " (array([ 0.00093622,  0.00078298,  0.00092585, -0.00214756,  0.00198413,\n",
              "          0.00298669,  0.00522031,  0.00563957,  0.00142889,  0.00123121]),\n",
              "  6.592076711386952e-06,\n",
              "  657793),\n",
              " (array([-5.36858413e-05, -1.68301809e-03,  1.70838379e-03,  2.43644591e-03,\n",
              "          5.89866004e-03,  3.27291094e-03,  6.21626296e-04,  3.91744986e-03,\n",
              "         -3.51987434e-03, -4.75384666e-03]), 9.142077585844177e-06, 568001),\n",
              " (array([ 0.00026279, -0.00241561, -0.0008655 , -0.00325665,  0.00037011,\n",
              "         -0.00592716,  0.00406784,  0.00087633, -0.00253356,  0.00160041]),\n",
              "  7.6194825323616655e-06,\n",
              "  654209),\n",
              " (array([-4.65925917e-04,  5.54409585e-04,  6.04029165e-03, -4.73975354e-04,\n",
              "          9.60814185e-04, -2.90293061e-03,  4.14791473e-05,  4.45227053e-03,\n",
              "          2.84841460e-03,  3.74668004e-03]), 9.502667721927871e-06, 637569),\n",
              " (array([ 3.68994844e-04,  2.24637663e-04,  3.00159072e-04, -2.05267949e-03,\n",
              "          5.82248536e-03, -1.60827190e-03,  1.59159500e-03, -4.41320032e-06,\n",
              "          3.66316962e-03, -2.44786069e-03]), 5.469827833781693e-06, 524737),\n",
              " (array([-0.00036745, -0.00068292,  0.00282763,  0.00522357,  0.00156636,\n",
              "          0.00250685,  0.00269514, -0.00559894,  0.0013062 , -0.00249017]),\n",
              "  8.602123053091937e-06,\n",
              "  591617)]"
            ]
          },
          "metadata": {},
          "execution_count": 135
        }
      ]
    },
    {
      "cell_type": "code",
      "metadata": {
        "id": "3hYOoOZAiYRp",
        "colab": {
          "base_uri": "https://localhost:8080/"
        },
        "outputId": "0b8ca199-9867-4c24-9edc-9b5b9c9f172c"
      },
      "source": [
        "print(f\"Giá trị trung bình (mean) của Griewank (d=10, n=64) trong DE: {np.mean([all_results[i][1] for i in range(len(all_results))])}\")\n",
        "print(f\"Độ lệch chuẩn (std) của Griewank (d=10, n=64) trong DE: {np.std([all_results[i][1] for i in range(len(all_results))])}\")"
      ],
      "execution_count": null,
      "outputs": [
        {
          "output_type": "stream",
          "name": "stdout",
          "text": [
            "Giá trị trung bình (mean) của Griewank (d=10, n=64) trong DE: 7.439643040973997e-06\n",
            "Độ lệch chuẩn (std) của Griewank (d=10, n=64) trong DE: 1.7651087193176713e-06\n"
          ]
        }
      ]
    },
    {
      "cell_type": "markdown",
      "metadata": {
        "id": "3Uy0nJOlc4nB"
      },
      "source": [
        "#### **popsize = 128**"
      ]
    },
    {
      "cell_type": "code",
      "metadata": {
        "id": "pOzTHg3LiY9W"
      },
      "source": [
        "all_results = []\n",
        "\n",
        "dimension = 10\n",
        "max_evals = 1e6\n",
        "fobj = Griewank_f\n",
        "seed_number = 18520186\n",
        "popsize = 128 # kích thước quần thể\n",
        "lower_bound = -600\n",
        "upper_bound = 600\n",
        "\n",
        "for i in range(10):\n",
        "    np.random.rand(seed_number)\n",
        "    results, all_pops, generation_count = DE(fobj, dimension, [(lower_bound, upper_bound)]*dimension, F_scale, cross_prob, popsize, max_evals)\n",
        "    all_results.append(results[-1])\n",
        "    seed_number += 1"
      ],
      "execution_count": null,
      "outputs": []
    },
    {
      "cell_type": "code",
      "metadata": {
        "id": "OQy0BJhViZAq",
        "colab": {
          "base_uri": "https://localhost:8080/"
        },
        "outputId": "45b6a575-f81a-47ec-d44d-e519b06dcfb4"
      },
      "source": [
        "all_results"
      ],
      "execution_count": null,
      "outputs": [
        {
          "output_type": "execute_result",
          "data": {
            "text/plain": [
              "[(array([-3.18186949, -0.08471734, -0.35447538, -0.01274832, -6.73561818,\n",
              "          0.23398486, -0.13799395, -0.1932421 ,  0.24180028, -0.30438731]),\n",
              "  0.06108713977288738,\n",
              "  1000065),\n",
              " (array([ 6.34317973,  0.02212455,  0.23643318, -0.11689244,  0.05148044,\n",
              "         -0.02071564,  0.38654657,  0.36699086, -0.28520755, -0.43829226]),\n",
              "  0.05574071093650923,\n",
              "  1000065),\n",
              " (array([ 3.09174948,  4.41372848, -5.34743738,  6.16209385,  0.11462083,\n",
              "          0.26356371, -0.15286716,  0.06939797, -0.03895665, -0.55772714]),\n",
              "  0.0531401526195634,\n",
              "  1000065),\n",
              " (array([ 0.08680996, -0.05706651,  0.00988055,  0.03157832,  0.07676067,\n",
              "         -0.01119494,  0.04527588,  0.06421904,  0.09276353,  0.01418283]),\n",
              "  0.00620911472892316,\n",
              "  1000065),\n",
              " (array([-0.15099391, -0.09526062,  0.13459306,  0.00441343, -0.08412511,\n",
              "         -0.15244979,  0.32985827, -0.22172194,  0.16780628, -0.10401946]),\n",
              "  0.031909583109946404,\n",
              "  1000065),\n",
              " (array([ 6.2381094 ,  0.1585408 ,  0.1274957 , -6.26915209, -0.01370888,\n",
              "         -0.38247683, -0.29714345,  0.03971668,  9.15008796, -0.43202411]),\n",
              "  0.0820063057170417,\n",
              "  1000065),\n",
              " (array([-0.14662341,  4.40221706, -0.10693249,  6.31052174, -0.10306532,\n",
              "         -0.22154125,  8.55806258, -0.10960991, -9.57499054,  0.06729958]),\n",
              "  0.08067715618241034,\n",
              "  1000065),\n",
              " (array([ 0.00261084, -0.07526748, -0.03662748,  0.20974355,  0.0504246 ,\n",
              "          0.00915489,  0.01439394,  0.23741095,  0.18717864, -0.34356205]),\n",
              "  0.018707074109117983,\n",
              "  1000065),\n",
              " (array([-0.0013603 , -0.00084108,  0.00062531, -0.00390727,  0.00349327,\n",
              "          0.00115142, -0.00220628, -0.00736379, -0.00436773,  0.00179682]),\n",
              "  9.392644914507642e-06,\n",
              "  996097),\n",
              " (array([-2.50539880e-03,  4.37274336e+00,  5.45498117e+00,  3.34562448e-01,\n",
              "         -4.04514299e-01,  2.11426300e-01,  6.74724043e-02, -3.52430516e-03,\n",
              "          1.51696696e-01,  1.81426495e-01]), 0.05032934158811253, 1000065)]"
            ]
          },
          "metadata": {},
          "execution_count": 138
        }
      ]
    },
    {
      "cell_type": "code",
      "metadata": {
        "id": "6v_S60fUiZEG",
        "colab": {
          "base_uri": "https://localhost:8080/"
        },
        "outputId": "8cef96cd-1f0f-4045-e21a-6284f841e509"
      },
      "source": [
        "print(f\"Giá trị trung bình (mean) của Griewank (d=10, n=128) trong DE: {np.mean([all_results[i][1] for i in range(len(all_results))])}\")\n",
        "print(f\"Độ lệch chuẩn (std) của Griewank (d=10, n=128) trong DE: {np.std([all_results[i][1] for i in range(len(all_results))])}\")"
      ],
      "execution_count": null,
      "outputs": [
        {
          "output_type": "stream",
          "name": "stdout",
          "text": [
            "Giá trị trung bình (mean) của Griewank (d=10, n=128) trong DE: 0.043981597140942665\n",
            "Độ lệch chuẩn (std) của Griewank (d=10, n=128) trong DE: 0.02737214294265734\n"
          ]
        }
      ]
    },
    {
      "cell_type": "markdown",
      "metadata": {
        "id": "QOm1f6Yac4oy"
      },
      "source": [
        "#### **popsize = 256**"
      ]
    },
    {
      "cell_type": "code",
      "metadata": {
        "id": "NF-4pnXyibfl"
      },
      "source": [
        "all_results = []\n",
        "\n",
        "dimension = 10\n",
        "max_evals = 1e6\n",
        "fobj = Griewank_f\n",
        "seed_number = 18520186\n",
        "popsize = 256 # kích thước quần thể\n",
        "lower_bound = -600\n",
        "upper_bound = 600\n",
        "\n",
        "for i in range(10):\n",
        "    np.random.rand(seed_number)\n",
        "    results, all_pops, generation_count = DE(fobj, dimension, [(lower_bound, upper_bound)]*dimension, F_scale, cross_prob, popsize, max_evals)\n",
        "    all_results.append(results[-1])\n",
        "    seed_number += 1"
      ],
      "execution_count": null,
      "outputs": []
    },
    {
      "cell_type": "code",
      "metadata": {
        "id": "eU_arimtibh4",
        "colab": {
          "base_uri": "https://localhost:8080/"
        },
        "outputId": "d376ae79-70f8-491a-b590-1cb2d525add4"
      },
      "source": [
        "all_results"
      ],
      "execution_count": null,
      "outputs": [
        {
          "output_type": "execute_result",
          "data": {
            "text/plain": [
              "[(array([ 2.930353  ,  4.26368025, -5.37073441, -0.54845113, -0.0253883 ,\n",
              "         -7.51166549,  0.27463516,  0.72622607,  0.96062594,  0.41328247]),\n",
              "  0.1863441474006582,\n",
              "  1000193),\n",
              " (array([ 6.24045871e+00, -4.45243214e+00, -5.37605438e+00, -8.20755296e-02,\n",
              "         -6.02518874e+00,  1.01098647e-03, -8.03435069e+00, -3.46882743e-01,\n",
              "         -6.42429367e-02, -2.57413355e-01]), 0.16250023326480134, 1000193),\n",
              " (array([-3.39606411, -0.0948016 ,  0.1582889 , -6.29400507, -0.25233085,\n",
              "          6.74724561,  7.68426038,  0.21362413,  0.04281691, -0.56426519]),\n",
              "  0.19518967213821614,\n",
              "  1000193),\n",
              " (array([-3.24405724, -4.12042177,  0.14658136,  6.39852273, -0.08965638,\n",
              "         -0.50859996,  0.64596018, -0.01339706, -0.60071419, -9.34581731]),\n",
              "  0.15846373094817057,\n",
              "  1000193),\n",
              " (array([-3.03863621e+00,  4.38747497e+00,  4.69424868e-03, -6.37463634e+00,\n",
              "          5.05469136e-02,  8.31139512e+00, -2.15871255e-01, -3.94378620e-01,\n",
              "         -8.98569608e-01, -2.02098902e-01]), 0.12999833375669434, 1000193),\n",
              " (array([ 3.40748413,  0.23131151, -0.36654   ,  0.1964302 , -0.05587875,\n",
              "          0.53542531,  8.2189538 ,  0.45644048,  0.36266734,  0.60135738]),\n",
              "  0.15091787159791847,\n",
              "  1000193),\n",
              " (array([ 3.11557588, -4.43549515,  5.53873642,  0.07652835,  0.14435585,\n",
              "         -7.80993802, -0.31776941, -9.06352245,  9.73486412,  0.31080837]),\n",
              "  0.09947294804692419,\n",
              "  1000193),\n",
              " (array([-6.1136279 ,  4.35181586,  5.48734399, -0.25469682, 14.22682764,\n",
              "         -0.05165586,  8.15678924, -0.08004884, -9.44249457,  0.40938524]),\n",
              "  0.14935127753362876,\n",
              "  1000193),\n",
              " (array([ 0.13307796,  8.54806151, -5.70167716,  6.29426893,  0.46283059,\n",
              "          0.22864751, -0.35257816,  0.61344535, -0.29061863, -0.99589378]),\n",
              "  0.1846117899408236,\n",
              "  1000193),\n",
              " (array([-0.20851808,  8.84520802, 10.77153707,  0.18555321,  0.05796055,\n",
              "         -0.17891383, -0.49223544, -8.95629864, -0.49172774,  9.52130694]),\n",
              "  0.16040654266703136,\n",
              "  1000193)]"
            ]
          },
          "metadata": {},
          "execution_count": 141
        }
      ]
    },
    {
      "cell_type": "code",
      "metadata": {
        "id": "JDXGZwEzibk-",
        "colab": {
          "base_uri": "https://localhost:8080/"
        },
        "outputId": "80b13f10-bd18-4a9d-e2f7-1148e82dcb48"
      },
      "source": [
        "print(f\"Giá trị trung bình (mean) của Griewank (d=10, n=256) trong DE: {np.mean([all_results[i][1] for i in range(len(all_results))])}\")\n",
        "print(f\"Độ lệch chuẩn (std) của Griewank (d=10, n=256) trong DE: {np.std([all_results[i][1] for i in range(len(all_results))])}\")"
      ],
      "execution_count": null,
      "outputs": [
        {
          "output_type": "stream",
          "name": "stdout",
          "text": [
            "Giá trị trung bình (mean) của Griewank (d=10, n=256) trong DE: 0.1577256547294867\n",
            "Độ lệch chuẩn (std) của Griewank (d=10, n=256) trong DE: 0.02693440508969857\n"
          ]
        }
      ]
    },
    {
      "cell_type": "markdown",
      "metadata": {
        "id": "y2UTg-ydc4rw"
      },
      "source": [
        "#### **popsize = 512**"
      ]
    },
    {
      "cell_type": "code",
      "metadata": {
        "id": "29b-NlvpiaZH"
      },
      "source": [
        "all_results = []\n",
        "\n",
        "dimension = 10\n",
        "max_evals = 1e6\n",
        "fobj = Griewank_f\n",
        "seed_number = 18520186\n",
        "popsize = 512 # kích thước quần thể\n",
        "lower_bound = -600\n",
        "upper_bound = 600\n",
        "\n",
        "for i in range(10):\n",
        "    np.random.rand(seed_number)\n",
        "    results, all_pops, generation_count = DE(fobj, dimension, [(lower_bound, upper_bound)]*dimension, F_scale, cross_prob, popsize, max_evals)\n",
        "    all_results.append(results[-1])\n",
        "    seed_number += 1"
      ],
      "execution_count": null,
      "outputs": []
    },
    {
      "cell_type": "code",
      "metadata": {
        "id": "KGcAPSWniaeK",
        "colab": {
          "base_uri": "https://localhost:8080/"
        },
        "outputId": "2f0b2fed-f745-44c8-d9ac-106e233a94d9"
      },
      "source": [
        "all_results"
      ],
      "execution_count": null,
      "outputs": [
        {
          "output_type": "execute_result",
          "data": {
            "text/plain": [
              "[(array([ 3.05284269, -0.09099574,  0.553175  , -0.71012496, -0.76870535,\n",
              "         -7.38854858, -0.11452568, -0.28764901,  0.43377973,  0.72602435]),\n",
              "  0.22490575687666114,\n",
              "  1000449),\n",
              " (array([ -9.46102714, -12.85561572,   5.03236198,   6.29351538,\n",
              "          -0.38404056,   0.28696998,   0.3663016 ,  -0.61808622,\n",
              "          -0.14888651,   0.24535884]), 0.215513476109931, 1000449),\n",
              " (array([ 0.09643244,  0.47039482, -0.07946237,  6.08532063, -0.02181308,\n",
              "         -7.23461986,  0.38152496,  8.10151395, -0.04509574, 10.33860874]),\n",
              "  0.19837533651113004,\n",
              "  1000449),\n",
              " (array([ 3.26338175, -0.2131591 ,  5.94253041,  6.65277873,  7.11740238,\n",
              "         -0.15244325, -8.13403182, -0.08247831,  9.39485444,  0.13301332]),\n",
              "  0.15522643999935604,\n",
              "  1000449),\n",
              " (array([-2.91428025, -4.46821956, -0.08773175,  0.02025855,  0.27815664,\n",
              "          0.8937115 , -0.38632748, -9.48373147,  9.2851816 , -0.38980228]),\n",
              "  0.18670365275480771,\n",
              "  1000449),\n",
              " (array([ 3.29329863,  9.05811591,  0.23062412, -0.63464571,  0.61350512,\n",
              "          0.47345736,  8.26838712, -0.2473308 , -0.21338203,  0.42316481]),\n",
              "  0.18122973064652892,\n",
              "  1000449),\n",
              " (array([-3.19817675, -0.25486958,  5.44642492,  0.34433458, -0.52026767,\n",
              "          7.21112211,  0.08168798,  0.09398749, -8.42168975,  0.63605082]),\n",
              "  0.18722366424885728,\n",
              "  1000449),\n",
              " (array([-3.27951497e+00,  3.14591289e-01, -7.59344422e-02, -2.94487583e-01,\n",
              "          2.63443360e-02, -7.60235058e-03, -8.40920485e+00, -4.01250741e-01,\n",
              "         -1.87192003e+01,  1.17910264e+00]), 0.22970445809360673, 1000449),\n",
              " (array([-5.99916293, -4.07418708,  0.28622809,  6.11094089,  6.95904253,\n",
              "          0.35754704,  8.1027209 , -9.25014437, -9.86261502,  0.53926967]),\n",
              "  0.22797328835904607,\n",
              "  1000449),\n",
              " (array([-0.24220831, -0.01036054,  0.25727635, -5.97159951, -6.4533916 ,\n",
              "         -0.27243878, -8.2081532 , -0.61125496, -0.0545053 , 10.09326811]),\n",
              "  0.17295298944695348,\n",
              "  1000449)]"
            ]
          },
          "metadata": {},
          "execution_count": 7
        }
      ]
    },
    {
      "cell_type": "code",
      "metadata": {
        "id": "STT2-rxkiagb",
        "colab": {
          "base_uri": "https://localhost:8080/"
        },
        "outputId": "89025060-d8eb-44ae-a071-b850dbd3f25f"
      },
      "source": [
        "print(f\"Giá trị trung bình (mean) của Griewank (d=10, n=512) trong DE: {np.mean([all_results[i][1] for i in range(len(all_results))])}\")\n",
        "print(f\"Độ lệch chuẩn (std) của Griewank (d=10, n=512) trong DE: {np.std([all_results[i][1] for i in range(len(all_results))])}\")"
      ],
      "execution_count": null,
      "outputs": [
        {
          "output_type": "stream",
          "name": "stdout",
          "text": [
            "Giá trị trung bình (mean) của Griewank (d=10, n=512) trong DE: 0.19798087930468783\n",
            "Độ lệch chuẩn (std) của Griewank (d=10, n=512) trong DE: 0.024323360126380592\n"
          ]
        }
      ]
    },
    {
      "cell_type": "markdown",
      "metadata": {
        "id": "zAR2-fpvc5QP"
      },
      "source": [
        "#### **popsize = 1024**"
      ]
    },
    {
      "cell_type": "code",
      "metadata": {
        "id": "tj9WuZDDiZwM"
      },
      "source": [
        "all_results = []\n",
        "\n",
        "dimension = 10\n",
        "max_evals = 1e6\n",
        "fobj = Griewank_f\n",
        "seed_number = 18520186\n",
        "popsize = 1024 # kích thước quần thể\n",
        "lower_bound = -600\n",
        "upper_bound = 600\n",
        "\n",
        "for i in range(10):\n",
        "    np.random.rand(seed_number)\n",
        "    results, all_pops, generation_count = DE(fobj, dimension, [(lower_bound, upper_bound)]*dimension, F_scale, cross_prob, popsize, max_evals)\n",
        "    all_results.append(results[-1])\n",
        "    seed_number += 1"
      ],
      "execution_count": null,
      "outputs": []
    },
    {
      "cell_type": "code",
      "metadata": {
        "id": "18Njrz_LiZym",
        "colab": {
          "base_uri": "https://localhost:8080/"
        },
        "outputId": "f493fcda-1371-4ac2-dedf-b176dca7e22d"
      },
      "source": [
        "all_results"
      ],
      "execution_count": null,
      "outputs": [
        {
          "output_type": "execute_result",
          "data": {
            "text/plain": [
              "[(array([-3.23990678,  0.25540869, -5.42115219, -6.60746762, -0.16092948,\n",
              "         -6.79034778,  0.2323009 ,  0.04520942, -0.27549424, -0.09148216]),\n",
              "  0.14162729843730926,\n",
              "  1000449),\n",
              " (array([-6.23936694,  4.11501267,  0.15423264,  0.02047099, -6.88712382,\n",
              "         -0.08160258, -8.33293348, -9.09378329, -0.37827692, -0.22283118]),\n",
              "  0.0823746391596103,\n",
              "  1000449),\n",
              " (array([-6.48608025, -8.55393598, 10.56055919,  0.18047032,  0.43892412,\n",
              "         -7.77176414,  0.75009969,  0.21332334,  1.09712491, -9.34544568]),\n",
              "  0.29107885907393694,\n",
              "  1000449),\n",
              " (array([ 6.27642267, -0.42448143, -5.74077542,  0.23337144,  0.8170075 ,\n",
              "          7.74415748, -0.3939157 , -8.43654883,  1.22504602, -9.98089843]),\n",
              "  0.29432812362559135,\n",
              "  1000449),\n",
              " (array([ -3.10738389,   8.75484159,  10.89535154,  -7.26118079,\n",
              "           0.03013146,   0.23378607,  -0.3793259 ,  -8.59252013,\n",
              "          -0.06278015, -10.18566825]), 0.2509894365398535, 1000449),\n",
              " (array([ 0.29909329,  4.47609458,  5.60990131, -5.84455183, -7.21320299,\n",
              "          0.24193147,  0.82052789, -8.75264369,  9.49540962, -0.16949559]),\n",
              "  0.20245177328401187,\n",
              "  1000449),\n",
              " (array([ 9.36039366,  3.98802034, -5.44181871, -6.03350346, -6.81163755,\n",
              "          0.06562728,  0.49871193,  8.63982557,  0.70221308, -0.35194434]),\n",
              "  0.18855606240012135,\n",
              "  1000449),\n",
              " (array([ -0.01741948,  -0.19915822, -11.29092667,  -0.083425  ,\n",
              "           0.34709347,  -0.69429654,  -0.65868113,   0.95135564,\n",
              "          -0.93406409,   1.05757304]), 0.28240335099714053, 1000449),\n",
              " (array([ 3.30600685,  0.3504482 , -0.19810154,  6.0417889 , -7.39827676,\n",
              "          8.07781794,  0.59009595,  0.27038038,  9.59676036, 10.62963554]),\n",
              "  0.22423230442769204,\n",
              "  1000449),\n",
              " (array([  6.11529277,   9.02620185, -10.69278511,   0.56851554,\n",
              "           0.07969556,  -1.10523758,   0.08269485,  -0.5975857 ,\n",
              "          -0.36389757,  -0.56714838]), 0.2553242524593837, 1000449)]"
            ]
          },
          "metadata": {},
          "execution_count": 11
        }
      ]
    },
    {
      "cell_type": "code",
      "metadata": {
        "id": "fGEDjuZSiZ14",
        "colab": {
          "base_uri": "https://localhost:8080/"
        },
        "outputId": "4c7a9f52-258b-49db-d78b-d8919b72b71f"
      },
      "source": [
        "print(f\"Giá trị trung bình (mean) của Griewank (d=10, n=1024) trong DE: {np.mean([all_results[i][1] for i in range(len(all_results))])}\")\n",
        "print(f\"Độ lệch chuẩn (std) của Griewank (d=10, n=1024) trong DE: {np.std([all_results[i][1] for i in range(len(all_results))])}\")"
      ],
      "execution_count": null,
      "outputs": [
        {
          "output_type": "stream",
          "name": "stdout",
          "text": [
            "Giá trị trung bình (mean) của Griewank (d=10, n=1024) trong DE: 0.22133661004046506\n",
            "Độ lệch chuẩn (std) của Griewank (d=10, n=1024) trong DE: 0.06561930301337159\n"
          ]
        }
      ]
    },
    {
      "cell_type": "markdown",
      "metadata": {
        "id": "ey7AbsfWdSkJ"
      },
      "source": [
        "## **Hàm Ackley**"
      ]
    },
    {
      "cell_type": "markdown",
      "metadata": {
        "id": "kNvxSrdKc5Z9"
      },
      "source": [
        "### **dimensions (d=2)**"
      ]
    },
    {
      "cell_type": "markdown",
      "metadata": {
        "id": "rZzA5rP5c5cn"
      },
      "source": [
        "#### **popsize = 32**"
      ]
    },
    {
      "cell_type": "code",
      "metadata": {
        "id": "5jL5B6KDiQmI"
      },
      "source": [
        "all_results = []\n",
        "\n",
        "dimension = 2\n",
        "max_evals = 1e5\n",
        "fobj = Ackley_f\n",
        "seed_number = 18520186\n",
        "popsize = 32 # kích thước quần thể\n",
        "lower_bound = -33\n",
        "upper_bound = 433\n",
        "\n",
        "for i in range(10):\n",
        "    np.random.rand(seed_number)\n",
        "    results, all_pops, generation_count = DE(fobj, dimension, [(lower_bound, upper_bound)]*dimension, F_scale, cross_prob, popsize, max_evals)\n",
        "    all_results.append(results[-1])\n",
        "    seed_number += 1"
      ],
      "execution_count": null,
      "outputs": []
    },
    {
      "cell_type": "code",
      "metadata": {
        "id": "Xlbwk_cViQoZ",
        "colab": {
          "base_uri": "https://localhost:8080/"
        },
        "outputId": "a483e9a8-8744-4f16-f065-a05004e1febd"
      },
      "source": [
        "all_results"
      ],
      "execution_count": null,
      "outputs": [
        {
          "output_type": "execute_result",
          "data": {
            "text/plain": [
              "[(array([-33., -33.]), 19.972792639249043, 100001),\n",
              " (array([-3.26523568e-06,  1.33282551e-06]), 9.975575725906793e-06, 7169),\n",
              " (array([-33., -33.]), 19.972792639249043, 100001),\n",
              " (array([-33., -33.]), 19.972792639249043, 100001),\n",
              " (array([-33., -33.]), 19.972792639249043, 100001),\n",
              " (array([-9.63089563e-08,  3.57905826e-07]), 1.0483241976722013e-06, 2753),\n",
              " (array([-1.01752767e-06, -2.92046171e-06]), 8.747578466472561e-06, 2753),\n",
              " (array([-33., -33.]), 19.972792639249043, 100001),\n",
              " (array([-33.       ,  -1.0630519]), 19.915685448824735, 100001),\n",
              " (array([1.87351164e-06, 7.88313366e-07]), 5.749185643555421e-06, 2977)]"
            ]
          },
          "metadata": {},
          "execution_count": 23
        }
      ]
    },
    {
      "cell_type": "code",
      "metadata": {
        "id": "T5JbKOEFiQsJ",
        "colab": {
          "base_uri": "https://localhost:8080/"
        },
        "outputId": "f5797841-93fe-4880-8229-8830bf228846"
      },
      "source": [
        "print(f\"Giá trị trung bình (mean) của Ackley (d=2, n=32) trong DE: {np.mean([all_results[i][1] for i in range(len(all_results))])}\")\n",
        "print(f\"Độ lệch chuẩn (std) của Ackley (d=2, n=32) trong DE: {np.std([all_results[i][1] for i in range(len(all_results))])}\")"
      ],
      "execution_count": null,
      "outputs": [
        {
          "output_type": "stream",
          "name": "stdout",
          "text": [
            "Giá trị trung bình (mean) của Ackley (d=2, n=32) trong DE: 11.9779674165734\n",
            "Độ lệch chuẩn (std) của Ackley (d=2, n=32) trong DE: 9.779978126887622\n"
          ]
        }
      ]
    },
    {
      "cell_type": "markdown",
      "metadata": {
        "id": "9uZlSC7iegY7"
      },
      "source": [
        "#### **popsize = 64**"
      ]
    },
    {
      "cell_type": "code",
      "metadata": {
        "id": "lIAhIEzSiRpP"
      },
      "source": [
        "all_results = []\n",
        "\n",
        "dimension = 2\n",
        "max_evals = 1e5\n",
        "fobj = Ackley_f\n",
        "seed_number = 18520186\n",
        "popsize = 64 # kích thước quần thể\n",
        "lower_bound = -33\n",
        "upper_bound = 433\n",
        "\n",
        "for i in range(10):\n",
        "    np.random.rand(seed_number)\n",
        "    results, all_pops, generation_count = DE(fobj, dimension, [(lower_bound, upper_bound)]*dimension, F_scale, cross_prob, popsize, max_evals)\n",
        "    all_results.append(results[-1])\n",
        "    seed_number += 1"
      ],
      "execution_count": null,
      "outputs": []
    },
    {
      "cell_type": "code",
      "metadata": {
        "id": "2MDRi-hXiRsF",
        "colab": {
          "base_uri": "https://localhost:8080/"
        },
        "outputId": "eff392e9-4b0b-4fe9-fbc5-84ea0b0bc920"
      },
      "source": [
        "all_results"
      ],
      "execution_count": null,
      "outputs": [
        {
          "output_type": "execute_result",
          "data": {
            "text/plain": [
              "[(array([-21.18429174,   3.90775852]), 19.571035245925074, 100033),\n",
              " (array([ 8.54768975e-07, -4.73930256e-07]), 2.764427560197902e-06, 5569),\n",
              " (array([7.83147312e-07, 3.50389521e-07]), 2.426692266244146e-06, 5889),\n",
              " (array([-7.61488272e-07,  6.91549875e-07]), 2.909468833411921e-06, 5377),\n",
              " (array([-1.05375118e-06,  5.33656602e-07]), 3.340912382743255e-06, 5377),\n",
              " (array([-3.67305332e-07, -2.55867024e-06]), 7.3113784151424e-06, 5121),\n",
              " (array([-2.31089779e-06,  3.61030201e-07]), 6.61563742143656e-06, 5505),\n",
              " (array([-9.54456826e-07, -1.08245952e-08]), 2.6998094431185393e-06, 5761),\n",
              " (array([ 10.06469571, -33.        ]), 19.956455680605625, 100033),\n",
              " (array([ 15.97373681, -33.        ]), 19.904285172678456, 100033)]"
            ]
          },
          "metadata": {},
          "execution_count": 26
        }
      ]
    },
    {
      "cell_type": "code",
      "metadata": {
        "id": "SUUyZwjkiRwE",
        "colab": {
          "base_uri": "https://localhost:8080/"
        },
        "outputId": "55e92909-a6b4-4ca4-d9ec-8c5c4eb9e28c"
      },
      "source": [
        "print(f\"Giá trị trung bình (mean) của Ackley (d=2, n=64) trong DE: {np.mean([all_results[i][1] for i in range(len(all_results))])}\")\n",
        "print(f\"Độ lệch chuẩn (std) của Ackley (d=2, n=64) trong DE: {np.std([all_results[i][1] for i in range(len(all_results))])}\")"
      ],
      "execution_count": null,
      "outputs": [
        {
          "output_type": "stream",
          "name": "stdout",
          "text": [
            "Giá trị trung bình (mean) của Ackley (d=2, n=64) trong DE: 5.943180416753547\n",
            "Độ lệch chuẩn (std) của Ackley (d=2, n=64) trong DE: 9.078833501633536\n"
          ]
        }
      ]
    },
    {
      "cell_type": "markdown",
      "metadata": {
        "id": "PL2mN7SheghK"
      },
      "source": [
        "#### **popsize = 128**"
      ]
    },
    {
      "cell_type": "code",
      "metadata": {
        "id": "xeNVuLYMiSuZ"
      },
      "source": [
        "all_results = []\n",
        "\n",
        "dimension = 2\n",
        "max_evals = 1e5\n",
        "fobj = Ackley_f\n",
        "seed_number = 18520186\n",
        "popsize = 128 # kích thước quần thể\n",
        "lower_bound = -33\n",
        "upper_bound = 433\n",
        "\n",
        "for i in range(10):\n",
        "    np.random.rand(seed_number)\n",
        "    results, all_pops, generation_count = DE(fobj, dimension, [(lower_bound, upper_bound)]*dimension, F_scale, cross_prob, popsize, max_evals)\n",
        "    all_results.append(results[-1])\n",
        "    seed_number += 1"
      ],
      "execution_count": null,
      "outputs": []
    },
    {
      "cell_type": "code",
      "metadata": {
        "id": "RAcH552fiSw3",
        "colab": {
          "base_uri": "https://localhost:8080/"
        },
        "outputId": "fb40f8f1-34b6-49c1-8cb1-b25eb16db977"
      },
      "source": [
        "all_results"
      ],
      "execution_count": null,
      "outputs": [
        {
          "output_type": "execute_result",
          "data": {
            "text/plain": [
              "[(array([-2.58861124e-06,  1.24556284e-06]), 8.125407721326638e-06, 10753),\n",
              " (array([-3.06988339e-06,  1.16331638e-06]), 9.285754782428768e-06, 10369),\n",
              " (array([-4.97002287e-08, -6.86936213e-07]), 1.9480402966287613e-06, 10753),\n",
              " (array([-2.00991302e-07, -2.93374850e-06]), 8.3175749243658e-06, 10497),\n",
              " (array([9.72527341e-07, 3.13485427e-06]), 9.283872707488428e-06, 11393),\n",
              " (array([ 2.20041474e-06, -2.42489271e-06]), 9.26178849569581e-06, 10113),\n",
              " (array([-1.02132116e-06, -1.96513419e-07]), 2.941748608709105e-06, 11009),\n",
              " (array([-1.22520880e-06, -1.38647798e-06]), 5.233413468364034e-06, 11265),\n",
              " (array([ 1.28080773e-06, -1.36136331e-06]), 5.286890548905632e-06, 10881),\n",
              " (array([3.47716357e-07, 9.02254597e-07]), 2.7349399194243063e-06, 11777)]"
            ]
          },
          "metadata": {},
          "execution_count": 29
        }
      ]
    },
    {
      "cell_type": "code",
      "metadata": {
        "id": "2zXUcntiiS0e",
        "colab": {
          "base_uri": "https://localhost:8080/"
        },
        "outputId": "53d5b6d5-1669-481a-fbfa-c82384909e16"
      },
      "source": [
        "print(f\"Giá trị trung bình (mean) của Ackley (d=2, n=128) trong DE: {np.mean([all_results[i][1] for i in range(len(all_results))])}\")\n",
        "print(f\"Độ lệch chuẩn (std) của Ackley (d=2, n=128) trong DE: {np.std([all_results[i][1] for i in range(len(all_results))])}\")"
      ],
      "execution_count": null,
      "outputs": [
        {
          "output_type": "stream",
          "name": "stdout",
          "text": [
            "Giá trị trung bình (mean) của Ackley (d=2, n=128) trong DE: 6.241943147333729e-06\n",
            "Độ lệch chuẩn (std) của Ackley (d=2, n=128) trong DE: 2.8115919267556013e-06\n"
          ]
        }
      ]
    },
    {
      "cell_type": "markdown",
      "metadata": {
        "id": "I-87SQKgegrW"
      },
      "source": [
        "#### **popsize = 256**"
      ]
    },
    {
      "cell_type": "code",
      "metadata": {
        "id": "t98NLVV8iTwj"
      },
      "source": [
        "all_results = []\n",
        "\n",
        "dimension = 2\n",
        "max_evals = 1e5\n",
        "fobj = Ackley_f\n",
        "seed_number = 18520186\n",
        "popsize = 256 # kích thước quần thể\n",
        "lower_bound = -33\n",
        "upper_bound = 433\n",
        "\n",
        "for i in range(10):\n",
        "    np.random.rand(seed_number)\n",
        "    results, all_pops, generation_count = DE(fobj, dimension, [(lower_bound, upper_bound)]*dimension, F_scale, cross_prob, popsize, max_evals)\n",
        "    all_results.append(results[-1])\n",
        "    seed_number += 1"
      ],
      "execution_count": null,
      "outputs": []
    },
    {
      "cell_type": "code",
      "metadata": {
        "id": "hc8rzDxIiTys",
        "colab": {
          "base_uri": "https://localhost:8080/"
        },
        "outputId": "317ef4af-d66b-40b0-d023-736115c93fa2"
      },
      "source": [
        "all_results"
      ],
      "execution_count": null,
      "outputs": [
        {
          "output_type": "execute_result",
          "data": {
            "text/plain": [
              "[(array([8.11626217e-07, 2.80974041e-06]), 8.272290763944312e-06, 21249),\n",
              " (array([4.67613747e-07, 7.68970594e-07]), 2.54557202383765e-06, 21249),\n",
              " (array([ 2.94038741e-06, -2.34720835e-07]), 8.343359152451768e-06, 20737),\n",
              " (array([1.96052469e-06, 1.84796444e-06]), 7.620497538329829e-06, 22017),\n",
              " (array([5.30030186e-08, 3.28917753e-06]), 9.304694903011779e-06, 19969),\n",
              " (array([-2.99262274e-06,  1.75120070e-06]), 9.807458255739476e-06, 19457),\n",
              " (array([-3.60566655e-07,  6.71115718e-07]), 2.1548326079035007e-06, 21505),\n",
              " (array([3.08926007e-06, 1.28737703e-06]), 9.466392445478533e-06, 20993),\n",
              " (array([ 3.11783765e-06, -3.78422257e-07]), 8.883557093941619e-06, 20481),\n",
              " (array([ 1.88212012e-06, -4.30473102e-07]), 5.461002669182591e-06, 20225)]"
            ]
          },
          "metadata": {},
          "execution_count": 32
        }
      ]
    },
    {
      "cell_type": "code",
      "metadata": {
        "id": "I5XITn-ZiT2Z",
        "colab": {
          "base_uri": "https://localhost:8080/"
        },
        "outputId": "db25f7f9-355e-4185-b162-09508b598ca3"
      },
      "source": [
        "print(f\"Giá trị trung bình (mean) của Ackley (d=2, n=256) trong DE: {np.mean([all_results[i][1] for i in range(len(all_results))])}\")\n",
        "print(f\"Độ lệch chuẩn (std) của Ackley (d=2, n=256) trong DE: {np.std([all_results[i][1] for i in range(len(all_results))])}\")"
      ],
      "execution_count": null,
      "outputs": [
        {
          "output_type": "stream",
          "name": "stdout",
          "text": [
            "Giá trị trung bình (mean) của Ackley (d=2, n=256) trong DE: 7.185965745382106e-06\n",
            "Độ lệch chuẩn (std) của Ackley (d=2, n=256) trong DE: 2.6827771081934445e-06\n"
          ]
        }
      ]
    },
    {
      "cell_type": "markdown",
      "metadata": {
        "id": "zO2mHI9Gc5ey"
      },
      "source": [
        "#### **popsize = 512**"
      ]
    },
    {
      "cell_type": "code",
      "metadata": {
        "id": "cbftD9-yiU0W"
      },
      "source": [
        "all_results = []\n",
        "\n",
        "dimension = 2\n",
        "max_evals = 1e5\n",
        "fobj = Ackley_f\n",
        "seed_number = 18520186\n",
        "popsize = 512 # kích thước quần thể\n",
        "lower_bound = -33\n",
        "upper_bound = 433\n",
        "\n",
        "for i in range(10):\n",
        "    np.random.rand(seed_number)\n",
        "    results, all_pops, generation_count = DE(fobj, dimension, [(lower_bound, upper_bound)]*dimension, F_scale, cross_prob, popsize, max_evals)\n",
        "    all_results.append(results[-1])\n",
        "    seed_number += 1"
      ],
      "execution_count": null,
      "outputs": []
    },
    {
      "cell_type": "code",
      "metadata": {
        "id": "EjCvGRNqiU8P",
        "colab": {
          "base_uri": "https://localhost:8080/"
        },
        "outputId": "7eef810b-6c6f-403d-8e6a-ac2bf001c1bb"
      },
      "source": [
        "all_results"
      ],
      "execution_count": null,
      "outputs": [
        {
          "output_type": "execute_result",
          "data": {
            "text/plain": [
              "[(array([ 2.51300250e-06, -1.21192238e-07]), 7.116273725404909e-06, 41473),\n",
              " (array([ 2.85557092e-06, -1.34599516e-06]), 8.929313829231234e-06, 40449),\n",
              " (array([ 1.18813967e-06, -3.25724422e-07]), 3.4846032588298215e-06, 39937),\n",
              " (array([-5.45601670e-07, -1.84308492e-06]), 5.436746772335965e-06, 41985),\n",
              " (array([1.14968816e-06, 6.56266522e-07]), 3.744342170097781e-06, 42497),\n",
              " (array([-2.08972744e-06, -6.98034980e-07]), 6.231799080769207e-06, 40961),\n",
              " (array([ 1.93113358e-06, -1.97904531e-06]), 7.821148419129287e-06, 39937),\n",
              " (array([-1.01925398e-06,  2.75093742e-06]), 8.297956750613622e-06, 38913),\n",
              " (array([-1.91288795e-06,  2.96035531e-06]), 9.96942057129857e-06, 39425),\n",
              " (array([-2.92771163e-06,  8.94009332e-07]), 8.658539450312475e-06, 37377)]"
            ]
          },
          "metadata": {},
          "execution_count": 35
        }
      ]
    },
    {
      "cell_type": "code",
      "metadata": {
        "id": "E20GZaeviU__",
        "colab": {
          "base_uri": "https://localhost:8080/"
        },
        "outputId": "409abbe2-2d04-4142-fd9b-7687712c92b4"
      },
      "source": [
        "print(f\"Giá trị trung bình (mean) của Ackley (d=2, n=512) trong DE: {np.mean([all_results[i][1] for i in range(len(all_results))])}\")\n",
        "print(f\"Độ lệch chuẩn (std) của Ackley (d=2, n=512) trong DE: {np.std([all_results[i][1] for i in range(len(all_results))])}\")"
      ],
      "execution_count": null,
      "outputs": [
        {
          "output_type": "stream",
          "name": "stdout",
          "text": [
            "Giá trị trung bình (mean) của Ackley (d=2, n=512) trong DE: 6.969014402802287e-06\n",
            "Độ lệch chuẩn (std) của Ackley (d=2, n=512) trong DE: 2.0891283806430844e-06\n"
          ]
        }
      ]
    },
    {
      "cell_type": "markdown",
      "metadata": {
        "id": "kOtr55cRc5hV"
      },
      "source": [
        "#### **popsize = 1024**"
      ]
    },
    {
      "cell_type": "code",
      "metadata": {
        "id": "FKi1k7JciV9D"
      },
      "source": [
        "all_results = []\n",
        "\n",
        "dimension = 2\n",
        "max_evals = 1e5\n",
        "fobj = Ackley_f\n",
        "seed_number = 18520186\n",
        "popsize = 1024 # kích thước quần thể\n",
        "lower_bound = -33\n",
        "upper_bound = 433\n",
        "\n",
        "for i in range(10):\n",
        "    np.random.rand(seed_number)\n",
        "    results, all_pops, generation_count = DE(fobj, dimension, [(lower_bound, upper_bound)]*dimension, F_scale, cross_prob, popsize, max_evals)\n",
        "    all_results.append(results[-1])\n",
        "    seed_number += 1"
      ],
      "execution_count": null,
      "outputs": []
    },
    {
      "cell_type": "code",
      "metadata": {
        "id": "j4Un5IHqiV_b",
        "colab": {
          "base_uri": "https://localhost:8080/"
        },
        "outputId": "9703b79e-a120-4ab1-fc6c-d677df7cc679"
      },
      "source": [
        "all_results"
      ],
      "execution_count": null,
      "outputs": [
        {
          "output_type": "execute_result",
          "data": {
            "text/plain": [
              "[(array([-3.15983778e-06, -3.56782177e-07]), 8.99443105639719e-06, 73729),\n",
              " (array([1.53812098e-07, 3.44189338e-06]), 9.745176555941981e-06, 82945),\n",
              " (array([1.12124169e-06, 3.25077090e-06]), 9.726442322222084e-06, 83969),\n",
              " (array([ 9.87399679e-07, -1.01402158e-06]), 4.0032499488695805e-06, 78849),\n",
              " (array([-2.15735307e-06, -2.06205135e-06]), 8.441198261710525e-06, 77825),\n",
              " (array([8.95317172e-07, 8.30133005e-07]), 3.4534017037124443e-06, 80897),\n",
              " (array([-2.20177908e-06,  1.41101596e-06]), 7.3968284728387346e-06, 78849),\n",
              " (array([-2.56600214e-06, -2.31555874e-09]), 7.25792835298833e-06, 79873),\n",
              " (array([1.32904652e-06, 3.68746242e-07]), 3.9011668317989745e-06, 71681),\n",
              " (array([2.84811192e-06, 1.02675125e-06]), 8.563402204675441e-06, 81921)]"
            ]
          },
          "metadata": {},
          "execution_count": 38
        }
      ]
    },
    {
      "cell_type": "code",
      "metadata": {
        "id": "4d-Akf8MiWCz",
        "colab": {
          "base_uri": "https://localhost:8080/"
        },
        "outputId": "86c5c77f-51ea-4824-9d25-a1dbf4d8652d"
      },
      "source": [
        "print(f\"Giá trị trung bình (mean) của Ackley (d=2, n=1024) trong DE: {np.mean([all_results[i][1] for i in range(len(all_results))])}\")\n",
        "print(f\"Độ lệch chuẩn (std) của Ackley (d=2, n=1024) trong DE: {np.std([all_results[i][1] for i in range(len(all_results))])}\")"
      ],
      "execution_count": null,
      "outputs": [
        {
          "output_type": "stream",
          "name": "stdout",
          "text": [
            "Giá trị trung bình (mean) của Ackley (d=2, n=1024) trong DE: 7.148322571115528e-06\n",
            "Độ lệch chuẩn (std) của Ackley (d=2, n=1024) trong DE: 2.3373950789541475e-06\n"
          ]
        }
      ]
    },
    {
      "cell_type": "markdown",
      "metadata": {
        "id": "tlga0LWlc5k3"
      },
      "source": [
        "### **dimensions (d=10)**"
      ]
    },
    {
      "cell_type": "markdown",
      "metadata": {
        "id": "ak7gA00mc5nl"
      },
      "source": [
        "#### **popsize = 32**"
      ]
    },
    {
      "cell_type": "code",
      "metadata": {
        "id": "8oNihL-6iLKy"
      },
      "source": [
        "all_results = []\n",
        "\n",
        "dimension = 10\n",
        "max_evals = 1e6\n",
        "fobj = Ackley_f\n",
        "seed_number = 18520186\n",
        "popsize = 32 # kích thước quần thể\n",
        "lower_bound = -33\n",
        "upper_bound = 433\n",
        "\n",
        "for i in range(10):\n",
        "    np.random.rand(seed_number)\n",
        "    results, all_pops, generation_count = DE(fobj, dimension, [(lower_bound, upper_bound)]*dimension, F_scale, cross_prob, popsize, max_evals)\n",
        "    all_results.append(results[-1])\n",
        "    seed_number += 1"
      ],
      "execution_count": null,
      "outputs": []
    },
    {
      "cell_type": "code",
      "metadata": {
        "id": "KlkWbuWCiLNk",
        "colab": {
          "base_uri": "https://localhost:8080/"
        },
        "outputId": "bcd614b6-2389-4a22-a0d5-8dc1a09dd0b5"
      },
      "source": [
        "all_results"
      ],
      "execution_count": null,
      "outputs": [
        {
          "output_type": "execute_result",
          "data": {
            "text/plain": [
              "[(array([-33., -33., -33., -33., -33., -33., -33., -33., -33., 433.]),\n",
              "  19.999999999987384,\n",
              "  1000001),\n",
              " (array([-33., -33., -33., -33., -33., -33., -33., -33., -33., -33.]),\n",
              "  19.972792639249043,\n",
              "  1000001),\n",
              " (array([-33., -33., -33., -33., -33., -33., -33., -33., -33., -33.]),\n",
              "  19.972792639249043,\n",
              "  1000001),\n",
              " (array([433., 433., -33., 433., 433., -33., 433., -33., 433., 433.]),\n",
              "  20.0,\n",
              "  1000001),\n",
              " (array([-33., -33., -33., 433., -33., -33., 433., 433., 433., 433.]),\n",
              "  20.0,\n",
              "  1000001),\n",
              " (array([-33., -33., -33., -33., -33., -33., -33., -33., -33., -33.]),\n",
              "  19.972792639249043,\n",
              "  1000001),\n",
              " (array([-33., -33., -33., -33., -33., -33., -33., -33., -33., -33.]),\n",
              "  19.972792639249043,\n",
              "  1000001),\n",
              " (array([-33., -33., -33., -33., -33., -33., -33., -33., -33., -33.]),\n",
              "  19.972792639249043,\n",
              "  1000001),\n",
              " (array([-33., -33., -33., -33., -33., -33., -33., -33., -33., -33.]),\n",
              "  19.972792639249043,\n",
              "  1000001),\n",
              " (array([433., 433., -33., 433., 433., -33., 433., 433., -33., -33.]),\n",
              "  20.0,\n",
              "  1000001)]"
            ]
          },
          "metadata": {},
          "execution_count": 41
        }
      ]
    },
    {
      "cell_type": "code",
      "metadata": {
        "id": "B1-J7OCuiLQ9",
        "colab": {
          "base_uri": "https://localhost:8080/"
        },
        "outputId": "b782cf10-504c-4eb8-c04b-68274537366b"
      },
      "source": [
        "print(f\"Giá trị trung bình (mean) của Ackley (d=10, n=32) trong DE: {np.mean([all_results[i][1] for i in range(len(all_results))])}\")\n",
        "print(f\"Độ lệch chuẩn (std) của Ackley (d=10, n=32) trong DE: {np.std([all_results[i][1] for i in range(len(all_results))])}\")"
      ],
      "execution_count": null,
      "outputs": [
        {
          "output_type": "stream",
          "name": "stdout",
          "text": [
            "Giá trị trung bình (mean) của Ackley (d=10, n=32) trong DE: 19.983675583548166\n",
            "Độ lệch chuẩn (std) của Ackley (d=10, n=32) trong DE: 0.013328830215988994\n"
          ]
        }
      ]
    },
    {
      "cell_type": "markdown",
      "metadata": {
        "id": "G7lmrGdPeYhp"
      },
      "source": [
        "#### **popsize = 64**"
      ]
    },
    {
      "cell_type": "code",
      "metadata": {
        "id": "7sgvCinviMPx"
      },
      "source": [
        "all_results = []\n",
        "\n",
        "dimension = 10\n",
        "max_evals = 1e6\n",
        "fobj = Ackley_f\n",
        "seed_number = 18520186\n",
        "popsize = 64 # kích thước quần thể\n",
        "lower_bound = -33\n",
        "upper_bound = 433\n",
        "\n",
        "for i in range(10):\n",
        "    np.random.rand(seed_number)\n",
        "    results, all_pops, generation_count = DE(fobj, dimension, [(lower_bound, upper_bound)]*dimension, F_scale, cross_prob, popsize, max_evals)\n",
        "    all_results.append(results[-1])\n",
        "    seed_number += 1"
      ],
      "execution_count": null,
      "outputs": []
    },
    {
      "cell_type": "code",
      "metadata": {
        "id": "1x8nA_ULiMRy",
        "colab": {
          "base_uri": "https://localhost:8080/"
        },
        "outputId": "3fdbc3b1-9d6b-4c8c-e72e-1de4dc784d73"
      },
      "source": [
        "all_results"
      ],
      "execution_count": null,
      "outputs": [
        {
          "output_type": "execute_result",
          "data": {
            "text/plain": [
              "[(array([-33., -33., -33., -33., -33., -33., -33., -33., -33., -33.]),\n",
              "  19.972792639249043,\n",
              "  1000001),\n",
              " (array([-33., -33., -33., -33., -33., -33., -33., -33., -33., -33.]),\n",
              "  19.972792639249043,\n",
              "  1000001),\n",
              " (array([-33., -33., -33., -33., -33., -33., -33., -33., -33., -33.]),\n",
              "  19.972792639249043,\n",
              "  1000001),\n",
              " (array([-33., -33., -33., -33., -33., -33., -33., -33., -33., -33.]),\n",
              "  19.972792639249043,\n",
              "  1000001),\n",
              " (array([-33., -33., -33., -33., -33., -33., -33., -33., -33., 433.]),\n",
              "  19.999999999987384,\n",
              "  1000001),\n",
              " (array([-33., -33., -33., -33., 433., -33., -33., -33., -33., -33.]),\n",
              "  19.999999999987384,\n",
              "  1000001),\n",
              " (array([-33., -33., -33., -33., -33., -33., -33., -33., -33., -33.]),\n",
              "  19.972792639249043,\n",
              "  1000001),\n",
              " (array([-33., -33., -33., -33., -33., -33., -33., -33., -33., -33.]),\n",
              "  19.972792639249043,\n",
              "  1000001),\n",
              " (array([-33., -33., -33., -33., -33., -33., -33., -33., -33., -33.]),\n",
              "  19.972792639249043,\n",
              "  1000001),\n",
              " (array([-33., -33., -33., -33., -33., -33., -33., -33., -33., -33.]),\n",
              "  19.972792639249043,\n",
              "  1000001)]"
            ]
          },
          "metadata": {},
          "execution_count": 44
        }
      ]
    },
    {
      "cell_type": "code",
      "metadata": {
        "id": "bOGfwKo7iMVW",
        "colab": {
          "base_uri": "https://localhost:8080/"
        },
        "outputId": "39153df4-7d0c-4018-8c8e-f88ce8dfec24"
      },
      "source": [
        "print(f\"Giá trị trung bình (mean) của Ackley (d=10, n=64) trong DE: {np.mean([all_results[i][1] for i in range(len(all_results))])}\")\n",
        "print(f\"Độ lệch chuẩn (std) của Ackley (d=10, n=64) trong DE: {np.std([all_results[i][1] for i in range(len(all_results))])}\")"
      ],
      "execution_count": null,
      "outputs": [
        {
          "output_type": "stream",
          "name": "stdout",
          "text": [
            "Giá trị trung bình (mean) của Ackley (d=10, n=64) trong DE: 19.97823411139671\n",
            "Độ lệch chuẩn (std) của Ackley (d=10, n=64) trong DE: 0.010882944295336473\n"
          ]
        }
      ]
    },
    {
      "cell_type": "markdown",
      "metadata": {
        "id": "LP39AC1JeYrW"
      },
      "source": [
        "#### **popsize = 128**"
      ]
    },
    {
      "cell_type": "code",
      "metadata": {
        "id": "8OFzeyrZiNRs"
      },
      "source": [
        "all_results = []\n",
        "\n",
        "dimension = 10\n",
        "max_evals = 1e6\n",
        "fobj = Ackley_f\n",
        "seed_number = 18520186\n",
        "popsize = 128 # kích thước quần thể\n",
        "lower_bound = -33\n",
        "upper_bound = 433\n",
        "\n",
        "for i in range(10):\n",
        "    np.random.rand(seed_number)\n",
        "    results, all_pops, generation_count = DE(fobj, dimension, [(lower_bound, upper_bound)]*dimension, F_scale, cross_prob, popsize, max_evals)\n",
        "    all_results.append(results[-1])\n",
        "    seed_number += 1"
      ],
      "execution_count": null,
      "outputs": []
    },
    {
      "cell_type": "code",
      "metadata": {
        "id": "oA6uiTg4iNVG",
        "colab": {
          "base_uri": "https://localhost:8080/"
        },
        "outputId": "87568479-dce0-49b7-bb9f-e4890b55a28b"
      },
      "source": [
        "all_results"
      ],
      "execution_count": null,
      "outputs": [
        {
          "output_type": "execute_result",
          "data": {
            "text/plain": [
              "[(array([-33., -33., -33., -33., -33., -33., -33., -33., -33., -33.]),\n",
              "  19.972792639249043,\n",
              "  1000065),\n",
              " (array([-33., -33., -33., -33., -33., -33., -33., 433., -33., -33.]),\n",
              "  19.972792639249043,\n",
              "  1000065),\n",
              " (array([-33., -33., -33., -33., -33., -33., -33., -33., -33., -33.]),\n",
              "  19.972792639249043,\n",
              "  1000065),\n",
              " (array([-33., -33., -33., -33., -33., -33., -33., -33., -33., -33.]),\n",
              "  19.972792639249043,\n",
              "  1000065),\n",
              " (array([-33., -33., -33., -33., -33., -33., -33., -33., -33., -33.]),\n",
              "  19.972792639249043,\n",
              "  1000065),\n",
              " (array([-33., -33., -33., -33., -33., -33., -33., -33., -33., -33.]),\n",
              "  19.972792639249043,\n",
              "  1000065),\n",
              " (array([-33., -33., -33., -33., -33., -33., -33., -33., -33., -33.]),\n",
              "  19.972792639249043,\n",
              "  1000065),\n",
              " (array([-33., -33., -33., -33., -33., -33., -33., -33., -33., -33.]),\n",
              "  19.972792639249043,\n",
              "  1000065),\n",
              " (array([-33., -33., -33., -33., -33., -33., -33., -33., -33., -33.]),\n",
              "  19.972792639249043,\n",
              "  1000065),\n",
              " (array([-33., -33., -33., -33., -33., -33., -33., -33., -33., -33.]),\n",
              "  19.972792639249043,\n",
              "  1000065)]"
            ]
          },
          "metadata": {},
          "execution_count": 47
        }
      ]
    },
    {
      "cell_type": "code",
      "metadata": {
        "id": "ec8Qt59KiNeZ",
        "colab": {
          "base_uri": "https://localhost:8080/"
        },
        "outputId": "8f1f6281-de0a-4fc4-93b4-070413f19fac"
      },
      "source": [
        "print(f\"Giá trị trung bình (mean) của Ackley (d=10, n=128) trong DE: {np.mean([all_results[i][1] for i in range(len(all_results))])}\")\n",
        "print(f\"Độ lệch chuẩn (std) của Ackley (d=10, n=128) trong DE: {np.std([all_results[i][1] for i in range(len(all_results))])}\")"
      ],
      "execution_count": null,
      "outputs": [
        {
          "output_type": "stream",
          "name": "stdout",
          "text": [
            "Giá trị trung bình (mean) của Ackley (d=10, n=128) trong DE: 19.972792639249043\n",
            "Độ lệch chuẩn (std) của Ackley (d=10, n=128) trong DE: 0.0\n"
          ]
        }
      ]
    },
    {
      "cell_type": "markdown",
      "metadata": {
        "id": "YLUDWgaoeY2I"
      },
      "source": [
        "#### **popsize = 256**"
      ]
    },
    {
      "cell_type": "code",
      "metadata": {
        "id": "Rv62MOlAiOWt"
      },
      "source": [
        "all_results = []\n",
        "\n",
        "dimension = 10\n",
        "max_evals = 1e6\n",
        "fobj = Ackley_f\n",
        "seed_number = 18520186\n",
        "popsize = 256 # kích thước quần thể\n",
        "lower_bound = -33\n",
        "upper_bound = 433\n",
        "\n",
        "for i in range(10):\n",
        "    np.random.rand(seed_number)\n",
        "    results, all_pops, generation_count = DE(fobj, dimension, [(lower_bound, upper_bound)]*dimension, F_scale, cross_prob, popsize, max_evals)\n",
        "    all_results.append(results[-1])\n",
        "    seed_number += 1"
      ],
      "execution_count": null,
      "outputs": []
    },
    {
      "cell_type": "code",
      "metadata": {
        "id": "8Q8I8JcViOZQ",
        "colab": {
          "base_uri": "https://localhost:8080/"
        },
        "outputId": "e0c65189-93cf-4bda-ad62-4644880e482c"
      },
      "source": [
        "all_results"
      ],
      "execution_count": null,
      "outputs": [
        {
          "output_type": "execute_result",
          "data": {
            "text/plain": [
              "[(array([-33., -33., -33., -33., -33., -33., -33., -33., -33., -33.]),\n",
              "  19.972792639249043,\n",
              "  1000193),\n",
              " (array([-33., -33., -33., -33., -33., -33., -33., -33., -33., -33.]),\n",
              "  19.972792639249043,\n",
              "  1000193),\n",
              " (array([-33., -33., -33., -33., -33., -33., -33., -33., -33., -33.]),\n",
              "  19.972792639249043,\n",
              "  1000193),\n",
              " (array([-33., -33., -33., -33., -33., -33., -33., -33., -33., -33.]),\n",
              "  19.972792639249043,\n",
              "  1000193),\n",
              " (array([-33., -33., -33., -33., -33., -33., -33., -33., -33., -33.]),\n",
              "  19.972792639249043,\n",
              "  1000193),\n",
              " (array([-33.        , -33.        , -33.        , -33.        ,\n",
              "         -33.        , -33.        ,  -6.03579962, -33.        ,\n",
              "         -33.        , -33.        ]), 19.969105520031576, 1000193),\n",
              " (array([-33., -33., -33., -33., -33., -33., -33., -33., -33., -33.]),\n",
              "  19.972792639249043,\n",
              "  1000193),\n",
              " (array([-33., -33., -33., -33., -33., -33., -33., -33., -33., -33.]),\n",
              "  19.972792639249043,\n",
              "  1000193),\n",
              " (array([-33., -33., -33., -33., -33., -33., -33., -33., -33., -33.]),\n",
              "  19.972792639249043,\n",
              "  1000193),\n",
              " (array([-33., -33., -33., -33., -33., -33., -33., -33., -33., -33.]),\n",
              "  19.972792639249043,\n",
              "  1000193)]"
            ]
          },
          "metadata": {},
          "execution_count": 50
        }
      ]
    },
    {
      "cell_type": "code",
      "metadata": {
        "id": "yGD5IZ-IiOct",
        "colab": {
          "base_uri": "https://localhost:8080/"
        },
        "outputId": "26ef63c4-fe1a-497c-a685-a03f5e7969d7"
      },
      "source": [
        "print(f\"Giá trị trung bình (mean) của Ackley (d=10, n=256) trong DE: {np.mean([all_results[i][1] for i in range(len(all_results))])}\")\n",
        "print(f\"Độ lệch chuẩn (std) của Ackley (d=10, n=256) trong DE: {np.std([all_results[i][1] for i in range(len(all_results))])}\")"
      ],
      "execution_count": null,
      "outputs": [
        {
          "output_type": "stream",
          "name": "stdout",
          "text": [
            "Giá trị trung bình (mean) của Ackley (d=10, n=256) trong DE: 19.972423927327295\n",
            "Độ lệch chuẩn (std) của Ackley (d=10, n=256) trong DE: 0.0011061357652401682\n"
          ]
        }
      ]
    },
    {
      "cell_type": "markdown",
      "metadata": {
        "id": "U4ed4hxzeZVy"
      },
      "source": [
        "#### **popsize = 512**"
      ]
    },
    {
      "cell_type": "code",
      "metadata": {
        "id": "vPhO0mq-iJ9G"
      },
      "source": [
        "all_results = []\n",
        "\n",
        "dimension = 10\n",
        "max_evals = 1e6\n",
        "fobj = Ackley_f\n",
        "seed_number = 18520186\n",
        "popsize = 512 # kích thước quần thể\n",
        "lower_bound = -33\n",
        "upper_bound = 433\n",
        "\n",
        "for i in range(10):\n",
        "    np.random.rand(seed_number)\n",
        "    results, all_pops, generation_count = DE(fobj, dimension, [(lower_bound, upper_bound)]*dimension, F_scale, cross_prob, popsize, max_evals)\n",
        "    all_results.append(results[-1])\n",
        "    seed_number += 1"
      ],
      "execution_count": null,
      "outputs": []
    },
    {
      "cell_type": "code",
      "metadata": {
        "id": "WT7eopDRiKAl",
        "colab": {
          "base_uri": "https://localhost:8080/"
        },
        "outputId": "dd693e9a-d3ef-47e6-9597-9ccae21c38a7"
      },
      "source": [
        "all_results"
      ],
      "execution_count": null,
      "outputs": [
        {
          "output_type": "execute_result",
          "data": {
            "text/plain": [
              "[(array([-33., -33., -33., -33., -33., -33., -33., -33., -33., -33.]),\n",
              "  19.972792639249043,\n",
              "  1000449),\n",
              " (array([-33., -33., -33., -33., -33., -33., -33., -33., -33., -33.]),\n",
              "  19.972792639249043,\n",
              "  1000449),\n",
              " (array([-33.        , -33.        , -33.        , -33.        ,\n",
              "         -33.        , -33.        , -33.        ,  15.00191831,\n",
              "         -33.        , -33.        ]), 19.964478371280382, 1000449),\n",
              " (array([-33.        , -33.        ,  -0.99950941, -33.        ,\n",
              "         -33.        , -33.        , -33.        , -33.        ,\n",
              "         -33.        , -33.        ]), 19.961838588093354, 1000449),\n",
              " (array([-33., -33., -33., -33., -33., -33., -33., -33., -33., -33.]),\n",
              "  19.972792639249043,\n",
              "  1000449),\n",
              " (array([-33., -33., -33., -33., -33., -33., -33., -33., -33., -33.]),\n",
              "  19.972792639249043,\n",
              "  1000449),\n",
              " (array([-33., -33., -33., -33., -33., -33., -33., -33., -33., -33.]),\n",
              "  19.972792639249043,\n",
              "  1000449),\n",
              " (array([-33., -33., -33., -33., -33., -33., -33., -33., -33., -33.]),\n",
              "  19.972792639249043,\n",
              "  1000449),\n",
              " (array([-33., -33., -33., -33., -33., -33., -33., -33., -33., -33.]),\n",
              "  19.972792639249043,\n",
              "  1000449),\n",
              " (array([-33., -33., -33., -33., -33., -33., -33., -33., -33., -33.]),\n",
              "  19.972792639249043,\n",
              "  1000449)]"
            ]
          },
          "metadata": {},
          "execution_count": 53
        }
      ]
    },
    {
      "cell_type": "code",
      "metadata": {
        "id": "dvFrMTBwiKEp",
        "colab": {
          "base_uri": "https://localhost:8080/"
        },
        "outputId": "a31a12d1-94bf-4ef6-ea33-0aca0bcd9c89"
      },
      "source": [
        "print(f\"Giá trị trung bình (mean) của Ackley (d=10, n=512) trong DE: {np.mean([all_results[i][1] for i in range(len(all_results))])}\")\n",
        "print(f\"Độ lệch chuẩn (std) của Ackley (d=10, n=512) trong DE: {np.std([all_results[i][1] for i in range(len(all_results))])}\")"
      ],
      "execution_count": null,
      "outputs": [
        {
          "output_type": "stream",
          "name": "stdout",
          "text": [
            "Giá trị trung bình (mean) của Ackley (d=10, n=512) trong DE: 19.970865807336605\n",
            "Độ lệch chuẩn (std) của Ackley (d=10, n=512) trong DE: 0.003898608423378539\n"
          ]
        }
      ]
    },
    {
      "cell_type": "markdown",
      "metadata": {
        "id": "I2OXmQYyeZdW"
      },
      "source": [
        "#### **popsize = 1024**"
      ]
    },
    {
      "cell_type": "code",
      "metadata": {
        "id": "UtPT3HVYiIsX"
      },
      "source": [
        "all_results = []\n",
        "\n",
        "dimension = 10\n",
        "max_evals = 1e6\n",
        "fobj = Ackley_f\n",
        "seed_number = 18520186\n",
        "popsize = 1024 # kích thước quần thể\n",
        "lower_bound = -33\n",
        "upper_bound = 433\n",
        "\n",
        "for i in range(10):\n",
        "    np.random.rand(seed_number)\n",
        "    results, all_pops, generation_count = DE(fobj, dimension, [(lower_bound, upper_bound)]*dimension, F_scale, cross_prob, popsize, max_evals)\n",
        "    all_results.append(results[-1])\n",
        "    seed_number += 1"
      ],
      "execution_count": null,
      "outputs": []
    },
    {
      "cell_type": "code",
      "metadata": {
        "id": "HsS_ate-iIxN",
        "colab": {
          "base_uri": "https://localhost:8080/"
        },
        "outputId": "38708132-8991-40ba-e3c0-ef294bb1481d"
      },
      "source": [
        "all_results"
      ],
      "execution_count": null,
      "outputs": [
        {
          "output_type": "execute_result",
          "data": {
            "text/plain": [
              "[(array([-33.        , -33.        , -33.        , -33.        ,\n",
              "         -33.        , -12.01039902, -33.        , -33.        ,\n",
              "         -33.        , -33.        ]), 19.9641180124859, 1000449),\n",
              " (array([-33., -33., -33., -33., -33., -33., -33., -33., -33., -33.]),\n",
              "  19.972792639249043,\n",
              "  1000449),\n",
              " (array([-33., -33., -33., -33., -33., -33., -33., -33., -33., -33.]),\n",
              "  19.972792639249043,\n",
              "  1000449),\n",
              " (array([-33., -33., -33., -33., -33., -33., -33., -33., -33., -33.]),\n",
              "  19.972792639249043,\n",
              "  1000449),\n",
              " (array([-33., -33., -33., -33., -33., -33., -33., -33., -33., -33.]),\n",
              "  19.972792639249043,\n",
              "  1000449),\n",
              " (array([-33., -33., -33., -33., -33., -33., -33., -33., -33., -33.]),\n",
              "  19.972792639249043,\n",
              "  1000449),\n",
              " (array([-33., -33., -33., -33., -33., -33., -33., -33., -33., -33.]),\n",
              "  19.972792639249043,\n",
              "  1000449),\n",
              " (array([-33., -33., -33., -33., -33., -33., -33., -33., -33., -33.]),\n",
              "  19.972792639249043,\n",
              "  1000449),\n",
              " (array([-17.99996368, -33.        , -33.        , -33.        ,\n",
              "         -33.        , -33.        , -33.        , -33.        ,\n",
              "         -33.        , -33.        ]), 19.96554938920108, 1000449),\n",
              " (array([-33., -33., -33., -33., -33., 433., -33., -33., -33., -33.]),\n",
              "  19.972792639249043,\n",
              "  1000449)]"
            ]
          },
          "metadata": {},
          "execution_count": 56
        }
      ]
    },
    {
      "cell_type": "code",
      "metadata": {
        "id": "8CvjPw81iJCY",
        "colab": {
          "base_uri": "https://localhost:8080/"
        },
        "outputId": "02e6f0f4-37f1-4f6e-b262-ea314b47e107"
      },
      "source": [
        "print(f\"Giá trị trung bình (mean) của Ackley (d=10, n=1024) trong DE: {np.mean([all_results[i][1] for i in range(len(all_results))])}\")\n",
        "print(f\"Độ lệch chuẩn (std) của Ackley (d=10, n=1024) trong DE: {np.std([all_results[i][1] for i in range(len(all_results))])}\")"
      ],
      "execution_count": null,
      "outputs": [
        {
          "output_type": "stream",
          "name": "stdout",
          "text": [
            "Giá trị trung bình (mean) của Ackley (d=10, n=1024) trong DE: 19.971200851567932\n",
            "Độ lệch chuẩn (std) của Ackley (d=10, n=1024) trong DE: 0.0031996240485374044\n"
          ]
        }
      ]
    },
    {
      "cell_type": "markdown",
      "metadata": {
        "id": "P_V8WRSwYllS"
      },
      "source": [
        "#**Evolution Strategies (ES)**"
      ]
    },
    {
      "cell_type": "code",
      "metadata": {
        "id": "ieqJEkjPYijt"
      },
      "source": [
        "# (1+lamda)ES\n",
        "def ES(fobj, bounds, sigma_init, c_inc, c_dec, popsize, max_evals, dimension):\n",
        "\n",
        "    lower_bound, upper_bound = np.asarray(bounds).T\n",
        "\n",
        "    eps = 0.00001\n",
        "\n",
        "    diff = np.fabs(lower_bound - upper_bound)\n",
        "\n",
        "    mu = lower_bound + diff * np.random.rand(dimension)\n",
        "    mu_fitness = fobj(mu)\n",
        "    num_eval = 0\n",
        "\n",
        "    results = []\n",
        "    all_pops = []\n",
        "    results.append((np.copy(mu), mu_fitness, num_eval))\n",
        "    generation_count = 0\n",
        "    sigma = sigma_init\n",
        "    \n",
        "    while True:\n",
        "        max_evals = 10000 if popsize >= 512 else 5000\n",
        "        if num_eval > max_evals:\n",
        "            break\n",
        "        epsilon = np.random.randn(popsize, dimension)\n",
        "        offspring = mu + sigma * epsilon\n",
        "        offspring = np.clip(offspring, lower_bound, upper_bound)\n",
        "        offspring_fitness = np.asarray([fobj(offspring[i]) for i in range(popsize)])\n",
        "        num_eval += popsize\n",
        "        \n",
        "        best_idx = offspring_fitness.argmin()\n",
        "        best_fitness = offspring_fitness[best_idx]\n",
        "        best_offspring = offspring[best_idx]\n",
        "\n",
        "        if best_fitness <= mu_fitness:\n",
        "            mu = best_offspring.copy()\n",
        "            mu_fitness = best_fitness\n",
        "            sigma *= c_inc \n",
        "        else:\n",
        "            sigma *= c_dec\n",
        "        \n",
        "        results.append((np.copy(mu), mu_fitness, num_eval))\n",
        "        all_pops.append(np.copy(offspring))\n",
        "        if abs(mu_fitness) < eps:\n",
        "            break\n",
        "        generation_count += 1\n",
        "\n",
        "    return results, all_pops, generation_count"
      ],
      "execution_count": null,
      "outputs": []
    },
    {
      "cell_type": "code",
      "metadata": {
        "id": "mtIeSKUdSIwe"
      },
      "source": [
        "sigma_init = 1.0 # kích thước step-size \n",
        "c_inc = 1.1 # hệ số tăng\n",
        "c_dec = 0.6 # hệ số giảm"
      ],
      "execution_count": null,
      "outputs": []
    },
    {
      "cell_type": "markdown",
      "metadata": {
        "id": "EITrnKp8pXE8"
      },
      "source": [
        "# **Test**"
      ]
    },
    {
      "cell_type": "markdown",
      "metadata": {
        "id": "DGtGE3aLpX2D"
      },
      "source": [
        "## **Hàm Sphere**"
      ]
    },
    {
      "cell_type": "markdown",
      "metadata": {
        "id": "D_331002pX_M"
      },
      "source": [
        "### **dimensions (d=2)**"
      ]
    },
    {
      "cell_type": "markdown",
      "metadata": {
        "id": "OiceL2uapYCu"
      },
      "source": [
        "#### **popsize = 32**"
      ]
    },
    {
      "cell_type": "code",
      "metadata": {
        "id": "ewblFDHlraGO"
      },
      "source": [
        "dimension = 2\n",
        "fobj = Sphere_f\n",
        "max_evals = 1e5\n",
        "seed_number = 18520186\n",
        "lower_bound = -6\n",
        "upper_bound = 6\n",
        "popsize = 32\n",
        "bounds = [(lower_bound, upper_bound)]*dimension\n",
        "np.random.rand(seed_number)\n",
        "all_results = []\n",
        "\n",
        "for i in range(10):\n",
        "    np.random.rand(seed_number)\n",
        "    results, all_pops, generation_count = ES(fobj, bounds, sigma_init, c_inc, c_dec, popsize, max_evals, dimension)\n",
        "    all_results.append(results[-1])\n",
        "    seed_number += 1"
      ],
      "execution_count": null,
      "outputs": []
    },
    {
      "cell_type": "code",
      "metadata": {
        "id": "-LiR52hzraPL",
        "colab": {
          "base_uri": "https://localhost:8080/"
        },
        "outputId": "76cf1bf4-15cd-4669-f097-e8b49efac803"
      },
      "source": [
        "all_results"
      ],
      "execution_count": null,
      "outputs": [
        {
          "output_type": "execute_result",
          "data": {
            "text/plain": [
              "[(array([0.00128117, 0.00046414]), 1.8568154550116397e-06, 512),\n",
              " (array([0.0010967 , 0.00223912]), 6.216381421066172e-06, 448),\n",
              " (array([0.00166224, 0.00090566]), 3.5832682781719883e-06, 672),\n",
              " (array([ 0.00069644, -0.00021169]), 5.298402548461961e-07, 704),\n",
              " (array([-0.00208633,  0.00163847]), 7.0373532886483145e-06, 640),\n",
              " (array([-0.00073959,  0.00084037]), 1.253220134629013e-06, 704),\n",
              " (array([-0.00244997,  0.00066905]), 6.449976237695363e-06, 640),\n",
              " (array([-0.00300243,  0.00088376]), 9.795603361637439e-06, 704),\n",
              " (array([ 0.00019702, -0.00031549]), 1.3835196858329432e-07, 576),\n",
              " (array([-0.00187743, -0.00027804]), 3.602033726617122e-06, 416)]"
            ]
          },
          "metadata": {},
          "execution_count": 61
        }
      ]
    },
    {
      "cell_type": "code",
      "metadata": {
        "id": "dlZVt7cXraU_",
        "colab": {
          "base_uri": "https://localhost:8080/"
        },
        "outputId": "02f44ef1-337e-4db9-a69e-0b5b81b315fe"
      },
      "source": [
        "print(f\"Giá trị trung bình (mean) của Sphere (d=2, n=32) trong ES: {np.mean([all_results[i][1] for i in range(len(all_results))])}\")\n",
        "print(f\"Độ lệch chuẩn (std) của Sphere (d=2, n=32) trong ES: {np.std([all_results[i][1] for i in range(len(all_results))])}\")"
      ],
      "execution_count": null,
      "outputs": [
        {
          "output_type": "stream",
          "name": "stdout",
          "text": [
            "Giá trị trung bình (mean) của Sphere (d=2, n=32) trong ES: 4.046284412690654e-06\n",
            "Độ lệch chuẩn (std) của Sphere (d=2, n=32) trong ES: 3.051757809962429e-06\n"
          ]
        }
      ]
    },
    {
      "cell_type": "markdown",
      "metadata": {
        "id": "TTCYlm1ZpYTG"
      },
      "source": [
        "#### **popsize = 64**"
      ]
    },
    {
      "cell_type": "code",
      "metadata": {
        "id": "cSuQov1gu728"
      },
      "source": [
        "dimension = 2\n",
        "fobj = Sphere_f\n",
        "max_evals = 1e5\n",
        "seed_number = 18520186\n",
        "lower_bound = -6\n",
        "upper_bound = 6\n",
        "popsize = 64\n",
        "bounds = [(lower_bound, upper_bound)]*dimension\n",
        "np.random.rand(seed_number)\n",
        "all_results = []\n",
        "\n",
        "for i in range(10):\n",
        "    np.random.rand(seed_number)\n",
        "    results, all_pops, generation_count = ES(fobj, bounds, sigma_init, c_inc, c_dec, popsize, max_evals, dimension)\n",
        "    all_results.append(results[-1])\n",
        "    seed_number += 1"
      ],
      "execution_count": null,
      "outputs": []
    },
    {
      "cell_type": "code",
      "metadata": {
        "id": "e_zDFKUru79S",
        "colab": {
          "base_uri": "https://localhost:8080/"
        },
        "outputId": "a6779609-6dd0-4786-ce01-40697c03d7d8"
      },
      "source": [
        "all_results"
      ],
      "execution_count": null,
      "outputs": [
        {
          "output_type": "execute_result",
          "data": {
            "text/plain": [
              "[(array([0.00051592, 0.00155297]), 2.677898900891863e-06, 1280),\n",
              " (array([ 0.00095768, -0.0010508 ]), 2.0213276354334047e-06, 1024),\n",
              " (array([ 0.00075653, -0.00264025]), 7.543266440945152e-06, 704),\n",
              " (array([ 0.00188672, -0.0002503 ]), 3.6223788987915914e-06, 1216),\n",
              " (array([-0.0020921,  0.0013941]), 6.3204113769446e-06, 1088),\n",
              " (array([-0.00045387,  0.00160966]), 2.7969933051514743e-06, 1280),\n",
              " (array([-0.0013489 ,  0.00057319]), 2.14808704994356e-06, 832),\n",
              " (array([ 0.00267554, -0.00099865]), 8.155842365169513e-06, 1216),\n",
              " (array([-0.00077904,  0.0016222 ]), 3.238434018048672e-06, 1216),\n",
              " (array([ 0.00023477, -0.00245044]), 6.059756591567866e-06, 832)]"
            ]
          },
          "metadata": {},
          "execution_count": 64
        }
      ]
    },
    {
      "cell_type": "code",
      "metadata": {
        "id": "jIoRjsWEu8JU",
        "colab": {
          "base_uri": "https://localhost:8080/"
        },
        "outputId": "a5765d88-89ab-42fd-c07d-f05a4fe9dbf0"
      },
      "source": [
        "print(f\"Giá trị trung bình (mean) của Sphere (d=2, n=64) trong ES: {np.mean([all_results[i][1] for i in range(len(all_results))])}\")\n",
        "print(f\"Độ lệch chuẩn (std) của Sphere (d=2, n=64) trong ES: {np.std([all_results[i][1] for i in range(len(all_results))])}\")"
      ],
      "execution_count": null,
      "outputs": [
        {
          "output_type": "stream",
          "name": "stdout",
          "text": [
            "Giá trị trung bình (mean) của Sphere (d=2, n=64) trong ES: 4.45843965828877e-06\n",
            "Độ lệch chuẩn (std) của Sphere (d=2, n=64) trong ES: 2.2048465382754146e-06\n"
          ]
        }
      ]
    },
    {
      "cell_type": "markdown",
      "metadata": {
        "id": "BuymWOaCpYW1"
      },
      "source": [
        "#### **popsize = 128**"
      ]
    },
    {
      "cell_type": "code",
      "metadata": {
        "id": "LyKphgVmu_5m"
      },
      "source": [
        "dimension = 2\n",
        "fobj = Sphere_f\n",
        "max_evals = 1e5\n",
        "seed_number = 18520186\n",
        "lower_bound = -6\n",
        "upper_bound = 6\n",
        "popsize = 128\n",
        "bounds = [(lower_bound, upper_bound)]*dimension\n",
        "np.random.rand(seed_number)\n",
        "all_results = []\n",
        "\n",
        "for i in range(10):\n",
        "    np.random.rand(seed_number)\n",
        "    results, all_pops, generation_count = ES(fobj, bounds, sigma_init, c_inc, c_dec, popsize, max_evals, dimension)\n",
        "    all_results.append(results[-1])\n",
        "    seed_number += 1"
      ],
      "execution_count": null,
      "outputs": []
    },
    {
      "cell_type": "code",
      "metadata": {
        "id": "Tx6DXp0Lu_9A",
        "colab": {
          "base_uri": "https://localhost:8080/"
        },
        "outputId": "8cce0019-3c3f-429d-932c-de8761b22b24"
      },
      "source": [
        "all_results"
      ],
      "execution_count": null,
      "outputs": [
        {
          "output_type": "execute_result",
          "data": {
            "text/plain": [
              "[(array([ 0.00015043, -0.00024807]), 8.416703590372984e-08, 2432),\n",
              " (array([0.00152596, 0.00169373]), 5.1972807728016586e-06, 2048),\n",
              " (array([0.00170984, 0.00198142]), 6.849580160396526e-06, 1664),\n",
              " (array([ 0.00102376, -0.00220585]), 5.913843320002721e-06, 1280),\n",
              " (array([-0.00127036,  0.00220146]), 6.460226568475053e-06, 2304),\n",
              " (array([0.00144932, 0.00067852]), 2.5609241031973263e-06, 1408),\n",
              " (array([ 0.00011208, -0.0003593 ]), 1.4165913970683596e-07, 2048),\n",
              " (array([0.00132899, 0.00030442]), 1.8588945786337584e-06, 1664),\n",
              " (array([0.00118985, 0.00012824]), 1.4321854232876579e-06, 2432),\n",
              " (array([ 5.9729644e-05, -1.2074045e-03]), 1.4613932491882089e-06, 2304)]"
            ]
          },
          "metadata": {},
          "execution_count": 67
        }
      ]
    },
    {
      "cell_type": "code",
      "metadata": {
        "id": "VltV3UlTvAKV",
        "colab": {
          "base_uri": "https://localhost:8080/"
        },
        "outputId": "ae103d09-4d0d-457f-b695-7c1777bb4fa3"
      },
      "source": [
        "print(f\"Giá trị trung bình (mean) của Sphere (d=2, n=128) trong ES: {np.mean([all_results[i][1] for i in range(len(all_results))])}\")\n",
        "print(f\"Độ lệch chuẩn (std) của Sphere (d=2, n=128) trong ES: {np.std([all_results[i][1] for i in range(len(all_results))])}\")"
      ],
      "execution_count": null,
      "outputs": [
        {
          "output_type": "stream",
          "name": "stdout",
          "text": [
            "Giá trị trung bình (mean) của Sphere (d=2, n=128) trong ES: 3.196015435159348e-06\n",
            "Độ lệch chuẩn (std) của Sphere (d=2, n=128) trong ES: 2.5043801099452166e-06\n"
          ]
        }
      ]
    },
    {
      "cell_type": "markdown",
      "metadata": {
        "id": "4kccLAOhpYaj"
      },
      "source": [
        "#### **popsize = 256**"
      ]
    },
    {
      "cell_type": "code",
      "metadata": {
        "id": "nL7vgqB-vIxQ"
      },
      "source": [
        "dimension = 2\n",
        "fobj = Sphere_f\n",
        "max_evals = 1e5\n",
        "seed_number = 18520186\n",
        "lower_bound = -6\n",
        "upper_bound = 6\n",
        "popsize = 256\n",
        "bounds = [(lower_bound, upper_bound)]*dimension\n",
        "np.random.rand(seed_number)\n",
        "all_results = []\n",
        "\n",
        "for i in range(10):\n",
        "    np.random.rand(seed_number)\n",
        "    results, all_pops, generation_count = ES(fobj, bounds, sigma_init, c_inc, c_dec, popsize, max_evals, dimension)\n",
        "    all_results.append(results[-1])\n",
        "    seed_number += 1"
      ],
      "execution_count": null,
      "outputs": []
    },
    {
      "cell_type": "code",
      "metadata": {
        "id": "Eq-7AAogvI2d",
        "colab": {
          "base_uri": "https://localhost:8080/"
        },
        "outputId": "6cfbe367-f34b-4183-cc47-1f5f902d1885"
      },
      "source": [
        "all_results"
      ],
      "execution_count": null,
      "outputs": [
        {
          "output_type": "execute_result",
          "data": {
            "text/plain": [
              "[(array([-0.00013687, -0.00263915]), 6.9838601909592665e-06, 4352),\n",
              " (array([-0.00018665, -0.00045441]), 2.4133022747166477e-07, 3072),\n",
              " (array([0.00068921, 0.00018235]), 5.082653671919022e-07, 3584),\n",
              " (array([-0.00113972, -0.00186062]), 4.760858747804139e-06, 4864),\n",
              " (array([-0.00046325, -0.00110607]), 1.438000866822277e-06, 3328),\n",
              " (array([-0.00210906, -0.00045686]), 4.656859597325992e-06, 3072),\n",
              " (array([ 0.00088441, -0.00303169]), 9.973328644891887e-06, 3328),\n",
              " (array([ 0.00253872, -0.00027643]), 6.521493712920576e-06, 2304),\n",
              " (array([ 0.00049828, -0.00069676]), 7.337567821358871e-07, 4352),\n",
              " (array([0.00140636, 0.00375057]), 1.604461689970741e-05, 5120)]"
            ]
          },
          "metadata": {},
          "execution_count": 70
        }
      ]
    },
    {
      "cell_type": "code",
      "metadata": {
        "id": "iW5fekCXvJJe",
        "colab": {
          "base_uri": "https://localhost:8080/"
        },
        "outputId": "a706f992-820b-48ca-a459-227773219652"
      },
      "source": [
        "print(f\"Giá trị trung bình (mean) của Sphere (d=2, n=256) trong ES: {np.mean([all_results[i][1] for i in range(len(all_results))])}\")\n",
        "print(f\"Độ lệch chuẩn (std) của Sphere (d=2, n=256) trong ES: {np.std([all_results[i][1] for i in range(len(all_results))])}\")"
      ],
      "execution_count": null,
      "outputs": [
        {
          "output_type": "stream",
          "name": "stdout",
          "text": [
            "Giá trị trung bình (mean) của Sphere (d=2, n=256) trong ES: 5.186237103723101e-06\n",
            "Độ lệch chuẩn (std) của Sphere (d=2, n=256) trong ES: 4.759260267812897e-06\n"
          ]
        }
      ]
    },
    {
      "cell_type": "markdown",
      "metadata": {
        "id": "wFuo6XpUpYeX"
      },
      "source": [
        "#### **popsize = 512**"
      ]
    },
    {
      "cell_type": "code",
      "metadata": {
        "id": "koil4AXZvGR_"
      },
      "source": [
        "dimension = 2\n",
        "fobj = Sphere_f\n",
        "max_evals = 1e5\n",
        "seed_number = 18520186\n",
        "lower_bound = -6\n",
        "upper_bound = 6\n",
        "popsize = 512\n",
        "bounds = [(lower_bound, upper_bound)]*dimension\n",
        "np.random.rand(seed_number)\n",
        "all_results = []\n",
        "\n",
        "for i in range(10):\n",
        "    np.random.rand(seed_number)\n",
        "    results, all_pops, generation_count = ES(fobj, bounds, sigma_init, c_inc, c_dec, popsize, max_evals, dimension)\n",
        "    all_results.append(results[-1])\n",
        "    seed_number += 1"
      ],
      "execution_count": null,
      "outputs": []
    },
    {
      "cell_type": "code",
      "metadata": {
        "id": "2pF734pEvGck",
        "colab": {
          "base_uri": "https://localhost:8080/"
        },
        "outputId": "04cbef5b-fd79-4aa4-e654-5183016075d6"
      },
      "source": [
        "all_results"
      ],
      "execution_count": null,
      "outputs": [
        {
          "output_type": "execute_result",
          "data": {
            "text/plain": [
              "[(array([-0.0022784, -0.0018713]), 8.692853321746018e-06, 6144),\n",
              " (array([0.00027169, 0.00134131]), 1.8729221734529892e-06, 1536),\n",
              " (array([-0.00133405,  0.00259355]), 8.506163639571973e-06, 8704),\n",
              " (array([-0.00017748, -0.00268678]), 7.250296926035343e-06, 5120),\n",
              " (array([0.00193064, 0.0004852 ]), 3.962771519860245e-06, 6144),\n",
              " (array([-0.00033974, -0.00236289]), 5.698650447423064e-06, 6144),\n",
              " (array([-0.00127347, -0.00158541]), 4.135238356904745e-06, 8704),\n",
              " (array([-0.00044854, -0.00070954]), 7.04642398113453e-07, 6144),\n",
              " (array([-0.00388978, -0.00443957]), 3.484017828147021e-05, 10240),\n",
              " (array([ 0.00256798, -0.00114312]), 7.901231815048127e-06, 6144)]"
            ]
          },
          "metadata": {},
          "execution_count": 73
        }
      ]
    },
    {
      "cell_type": "code",
      "metadata": {
        "id": "K8epsyiuvGoN",
        "colab": {
          "base_uri": "https://localhost:8080/"
        },
        "outputId": "93149140-473e-42de-8980-9745fe0e78f5"
      },
      "source": [
        "print(f\"Giá trị trung bình (mean) của Sphere (d=2, n=512) trong ES: {np.mean([all_results[i][1] for i in range(len(all_results))])}\")\n",
        "print(f\"Độ lệch chuẩn (std) của Sphere (d=2, n=512) trong ES: {np.std([all_results[i][1] for i in range(len(all_results))])}\")"
      ],
      "execution_count": null,
      "outputs": [
        {
          "output_type": "stream",
          "name": "stdout",
          "text": [
            "Giá trị trung bình (mean) của Sphere (d=2, n=512) trong ES: 8.356494887962617e-06\n",
            "Độ lệch chuẩn (std) của Sphere (d=2, n=512) trong ES: 9.207211698948419e-06\n"
          ]
        }
      ]
    },
    {
      "cell_type": "markdown",
      "metadata": {
        "id": "SDVJikMYpYie"
      },
      "source": [
        "#### **popsize = 1024**"
      ]
    },
    {
      "cell_type": "code",
      "metadata": {
        "id": "n4UdqdU7vDQo"
      },
      "source": [
        "dimension = 2\n",
        "fobj = Sphere_f\n",
        "max_evals = 1e5\n",
        "seed_number = 18520186\n",
        "lower_bound = -6\n",
        "upper_bound = 6\n",
        "popsize = 1024\n",
        "bounds = [(lower_bound, upper_bound)]*dimension\n",
        "np.random.rand(seed_number)\n",
        "all_results = []\n",
        "\n",
        "for i in range(10):\n",
        "    np.random.rand(seed_number)\n",
        "    results, all_pops, generation_count = ES(fobj, bounds, sigma_init, c_inc, c_dec, popsize, max_evals, dimension)\n",
        "    all_results.append(results[-1])\n",
        "    seed_number += 1"
      ],
      "execution_count": null,
      "outputs": []
    },
    {
      "cell_type": "code",
      "metadata": {
        "id": "7R9-M3rJvDZg",
        "colab": {
          "base_uri": "https://localhost:8080/"
        },
        "outputId": "c1d4cba0-7b45-4d21-d3d7-2fc813c72be6"
      },
      "source": [
        "all_results"
      ],
      "execution_count": null,
      "outputs": [
        {
          "output_type": "execute_result",
          "data": {
            "text/plain": [
              "[(array([ 0.00797016, -0.01227729]), 0.00021425531531793802, 10240),\n",
              " (array([0.00115105, 0.00355148]), 1.39379476164138e-05, 10240),\n",
              " (array([-0.00252881, -0.00108704]), 7.576543551005483e-06, 9216),\n",
              " (array([0.00463677, 0.00699505]), 7.04303947269826e-05, 10240),\n",
              " (array([0.00310749, 0.01142372]), 0.0001401578154189014, 10240),\n",
              " (array([0.00261927, 0.00879264]), 8.417111072943051e-05, 10240),\n",
              " (array([ 0.00069586, -0.00540675]), 2.9717179681561693e-05, 10240),\n",
              " (array([0.00470408, 0.00303646]), 3.134848088182928e-05, 10240),\n",
              " (array([-0.00485803,  0.00493436]), 4.79483424973168e-05, 10240),\n",
              " (array([ 0.0076122 , -0.00047246]), 5.816878606167023e-05, 10240)]"
            ]
          },
          "metadata": {},
          "execution_count": 76
        }
      ]
    },
    {
      "cell_type": "code",
      "metadata": {
        "id": "hL5Ug8IgvDqO",
        "colab": {
          "base_uri": "https://localhost:8080/"
        },
        "outputId": "dc43ab09-02b5-4a8b-a25c-2efe901e9920"
      },
      "source": [
        "print(f\"Giá trị trung bình (mean) của Sphere (d=2, n=1024) trong ES: {np.mean([all_results[i][1] for i in range(len(all_results))])}\")\n",
        "print(f\"Độ lệch chuẩn (std) của Sphere (d=2, n=1024) trong ES: {np.std([all_results[i][1] for i in range(len(all_results))])}\")"
      ],
      "execution_count": null,
      "outputs": [
        {
          "output_type": "stream",
          "name": "stdout",
          "text": [
            "Giá trị trung bình (mean) của Sphere (d=2, n=1024) trong ES: 6.977119164830498e-05\n",
            "Độ lệch chuẩn (std) của Sphere (d=2, n=1024) trong ES: 6.0592687302560404e-05\n"
          ]
        }
      ]
    },
    {
      "cell_type": "markdown",
      "metadata": {
        "id": "SYV6WFIxpY2K"
      },
      "source": [
        "### **dimensions (d=10)**"
      ]
    },
    {
      "cell_type": "markdown",
      "metadata": {
        "id": "78UosmCSpY91"
      },
      "source": [
        "#### **popsize = 32**"
      ]
    },
    {
      "cell_type": "code",
      "metadata": {
        "id": "okvsYMF8vSyJ"
      },
      "source": [
        "dimension = 10\n",
        "fobj = Sphere_f\n",
        "max_evals = 1e6\n",
        "seed_number = 18520186\n",
        "lower_bound = -6\n",
        "upper_bound = 6\n",
        "popsize = 32\n",
        "bounds = [(lower_bound, upper_bound)]*dimension\n",
        "np.random.rand(seed_number)\n",
        "all_results = []\n",
        "\n",
        "for i in range(10):\n",
        "    np.random.rand(seed_number)\n",
        "    results, all_pops, generation_count = ES(fobj, bounds, sigma_init, c_inc, c_dec, popsize, max_evals, dimension)\n",
        "    all_results.append(results[-1])\n",
        "    seed_number += 1"
      ],
      "execution_count": null,
      "outputs": []
    },
    {
      "cell_type": "code",
      "metadata": {
        "id": "ncTNgox-vTIE",
        "colab": {
          "base_uri": "https://localhost:8080/"
        },
        "outputId": "41866ae1-2a95-42de-f123-d93a277a561a"
      },
      "source": [
        "all_results"
      ],
      "execution_count": null,
      "outputs": [
        {
          "output_type": "execute_result",
          "data": {
            "text/plain": [
              "[(array([-7.44444286e-04, -4.63829347e-05, -9.23822006e-04, -1.72174527e-03,\n",
              "         -1.10926517e-03,  9.80208194e-04,  1.85714298e-04,  1.23956999e-04,\n",
              "          5.00846991e-04,  9.61860658e-05]), 6.875434489518515e-06, 2496),\n",
              " (array([ 2.92594250e-05, -6.03804816e-04,  1.42915620e-03,  8.35513039e-04,\n",
              "          2.05558434e-04, -1.23685569e-04,  9.15978797e-04,  7.61656705e-04,\n",
              "         -1.27601495e-03, -1.53518817e-04]), 6.234478529513008e-06, 2336),\n",
              " (array([ 0.00040167,  0.00022597, -0.00091908,  0.00029139, -0.00123944,\n",
              "         -0.0004558 , -0.00114469,  0.00105548,  0.0011616 ,  0.00049003]),\n",
              "  6.899786892598139e-06,\n",
              "  1728),\n",
              " (array([-6.39568078e-05,  2.97271901e-04, -1.64380978e-03, -8.56813483e-04,\n",
              "         -1.15858458e-03,  1.10919269e-03,  3.11202234e-04,  5.34585386e-04,\n",
              "         -6.15756363e-04, -1.53147009e-03]), 9.208512554029532e-06, 2016),\n",
              " (array([-3.89127656e-04,  3.95425897e-04,  1.66950948e-03, -9.57115839e-04,\n",
              "          7.15359253e-04,  3.76980945e-04,  1.18750085e-03, -1.24250875e-04,\n",
              "         -9.51100549e-05,  1.58753695e-04]), 6.124813308099602e-06, 2048),\n",
              " (array([ 0.00033902, -0.00013557, -0.0002916 , -0.00218083,  0.00142783,\n",
              "          0.00018073,  0.00068971,  0.00087257,  0.0001882 , -0.00038728]),\n",
              "  8.468228377277565e-06,\n",
              "  2016),\n",
              " (array([ 6.17012973e-04,  1.97339561e-03, -5.19443319e-05, -6.40883006e-04,\n",
              "          6.00874019e-04,  4.51775712e-04,  4.77992947e-04, -4.77711626e-04,\n",
              "          9.89583020e-04, -1.10228281e-03]), 7.90456297972438e-06, 1856),\n",
              " (array([ 5.27494910e-04, -2.94774868e-05,  2.44474710e-04, -4.96661656e-04,\n",
              "          3.30161661e-04,  7.34496278e-04, -9.46807995e-04,  7.35762449e-04,\n",
              "         -1.06395919e-03, -1.17295929e-03]), 5.179686394712176e-06, 2080),\n",
              " (array([-5.95960960e-05, -1.80005139e-04,  9.76921783e-04, -2.52224632e-04,\n",
              "          1.20284338e-04,  1.02479840e-04,  1.24290160e-03,  5.08084557e-04,\n",
              "         -1.33599267e-03, -6.83343703e-04]), 5.133706731012139e-06, 2144),\n",
              " (array([ 1.62588913e-03, -1.16771057e-03, -1.18162042e-03, -8.44406590e-04,\n",
              "         -5.44465783e-04, -7.12220565e-05,  4.08079953e-04, -5.83305821e-04,\n",
              "          1.62448264e-04,  2.00372713e-04]), 6.991141883086342e-06, 1792)]"
            ]
          },
          "metadata": {},
          "execution_count": 79
        }
      ]
    },
    {
      "cell_type": "code",
      "metadata": {
        "id": "pOqQ62cwvTO2",
        "colab": {
          "base_uri": "https://localhost:8080/"
        },
        "outputId": "e88cd082-6147-44cf-d69d-d0029ae87873"
      },
      "source": [
        "print(f\"Giá trị trung bình (mean) của Sphere (d=10, n=32) trong ES: {np.mean([all_results[i][1] for i in range(len(all_results))])}\")\n",
        "print(f\"Độ lệch chuẩn (std) của Sphere (d=10, n=32) trong ES: {np.std([all_results[i][1] for i in range(len(all_results))])}\")"
      ],
      "execution_count": null,
      "outputs": [
        {
          "output_type": "stream",
          "name": "stdout",
          "text": [
            "Giá trị trung bình (mean) của Sphere (d=10, n=32) trong ES: 6.9020352139571395e-06\n",
            "Độ lệch chuẩn (std) của Sphere (d=10, n=32) trong ES: 1.2621287658098186e-06\n"
          ]
        }
      ]
    },
    {
      "cell_type": "markdown",
      "metadata": {
        "id": "FGnuLBQ1pZCH"
      },
      "source": [
        "#### **popsize = 64**"
      ]
    },
    {
      "cell_type": "code",
      "metadata": {
        "id": "jIAhfdjevVnQ"
      },
      "source": [
        "dimension = 10\n",
        "fobj = Sphere_f\n",
        "max_evals = 1e6\n",
        "seed_number = 18520186\n",
        "lower_bound = -6\n",
        "upper_bound = 6\n",
        "popsize = 64\n",
        "bounds = [(lower_bound, upper_bound)]*dimension\n",
        "np.random.rand(seed_number)\n",
        "all_results = []\n",
        "\n",
        "for i in range(10):\n",
        "    np.random.rand(seed_number)\n",
        "    results, all_pops, generation_count = ES(fobj, bounds, sigma_init, c_inc, c_dec, popsize, max_evals, dimension)\n",
        "    all_results.append(results[-1])\n",
        "    seed_number += 1"
      ],
      "execution_count": null,
      "outputs": []
    },
    {
      "cell_type": "code",
      "metadata": {
        "id": "kzuX2V8XvVtK",
        "colab": {
          "base_uri": "https://localhost:8080/"
        },
        "outputId": "a072319f-4a84-45ec-89b2-2e2b6950aee9"
      },
      "source": [
        "all_results"
      ],
      "execution_count": null,
      "outputs": [
        {
          "output_type": "execute_result",
          "data": {
            "text/plain": [
              "[(array([-0.0001807 , -0.00029521, -0.00100108, -0.00023884,  0.00160579,\n",
              "         -0.00024085, -0.00066392, -0.00144207, -0.00046161, -0.00129193]),\n",
              "  8.218105557135637e-06,\n",
              "  4288),\n",
              " (array([-7.72305657e-04, -3.13523296e-04, -1.72974281e-04, -5.83169902e-04,\n",
              "          1.60706076e-03, -9.17006402e-04, -6.42974987e-05, -6.66261636e-04,\n",
              "          1.13226340e-03,  9.90708787e-04]), 7.199868211779942e-06, 4480),\n",
              " (array([-0.00065266,  0.00040169,  0.00099426, -0.00148953,  0.00061394,\n",
              "         -0.00053064, -0.00035275,  0.00111533,  0.00053343, -0.00145421]),\n",
              "  8.2207576193026e-06,\n",
              "  3520),\n",
              " (array([ 0.00028372, -0.00042402,  0.00212673,  0.00052398, -0.00097703,\n",
              "          0.00097911, -0.00012026,  0.00040298, -0.00067796, -0.00111066]),\n",
              "  8.841149631574388e-06,\n",
              "  3776),\n",
              " (array([-0.00028002, -0.00096685, -0.00075328,  0.00100345,  0.00060775,\n",
              "          0.00017964,  0.00036296,  0.00098391, -0.00065354,  0.00028475]),\n",
              "  4.59720318684025e-06,\n",
              "  4032),\n",
              " (array([-7.73624498e-04,  7.83737277e-04, -2.43879218e-04, -3.75484909e-05,\n",
              "          1.71477848e-03, -1.89514888e-04, -9.98433646e-04, -2.37449395e-04,\n",
              "         -1.99331903e-03, -4.90452471e-04]), 9.517123407229875e-06, 3456),\n",
              " (array([-0.00024427, -0.00131078,  0.00022275,  0.00028782,  0.000303  ,\n",
              "          0.00085415,  0.00117687, -0.00044036, -0.00060545, -0.00115323]),\n",
              "  6.007098289519902e-06,\n",
              "  3904),\n",
              " (array([ 4.57944889e-05,  1.05064397e-03, -8.65000475e-05,  2.19406071e-04,\n",
              "          6.06123207e-04,  1.60222362e-03,  1.22954375e-03,  3.14807736e-04,\n",
              "         -4.58745812e-04, -4.02739495e-04]), 6.0796056227640505e-06, 3776),\n",
              " (array([-7.90749149e-04,  1.11826512e-03, -6.34721315e-04,  2.33766771e-04,\n",
              "          1.05307993e-03, -1.96461158e-03,  2.45704540e-05, -8.62808699e-05,\n",
              "          1.21096282e-04, -2.58899221e-04]), 7.391736373014213e-06, 3712),\n",
              " (array([-0.00010389,  0.00032688, -0.00053067,  0.00130212, -0.00047144,\n",
              "         -0.00053512,  0.00115311,  0.00089831,  0.00058017,  0.0018945 ]),\n",
              "  8.66574213239872e-06,\n",
              "  3968)]"
            ]
          },
          "metadata": {},
          "execution_count": 82
        }
      ]
    },
    {
      "cell_type": "code",
      "metadata": {
        "id": "v7rdAuC1vVzG",
        "colab": {
          "base_uri": "https://localhost:8080/"
        },
        "outputId": "31183650-ae25-42aa-cf74-f3463b54d6dd"
      },
      "source": [
        "print(f\"Giá trị trung bình (mean) của Sphere (d=10, n=64) trong ES: {np.mean([all_results[i][1] for i in range(len(all_results))])}\")\n",
        "print(f\"Độ lệch chuẩn (std) của Sphere (d=10, n=64) trong ES: {np.std([all_results[i][1] for i in range(len(all_results))])}\")"
      ],
      "execution_count": null,
      "outputs": [
        {
          "output_type": "stream",
          "name": "stdout",
          "text": [
            "Giá trị trung bình (mean) của Sphere (d=10, n=64) trong ES: 7.473839003155958e-06\n",
            "Độ lệch chuẩn (std) của Sphere (d=10, n=64) trong ES: 1.4501397242571482e-06\n"
          ]
        }
      ]
    },
    {
      "cell_type": "markdown",
      "metadata": {
        "id": "4JmrZ0cxpZFr"
      },
      "source": [
        "#### **popsize = 128**"
      ]
    },
    {
      "cell_type": "code",
      "metadata": {
        "id": "sRiSCrW5vYFm"
      },
      "source": [
        "dimension = 10\n",
        "fobj = Sphere_f\n",
        "max_evals = 1e6\n",
        "seed_number = 18520186\n",
        "lower_bound = -6\n",
        "upper_bound = 6\n",
        "popsize = 128\n",
        "bounds = [(lower_bound, upper_bound)]*dimension\n",
        "np.random.rand(seed_number)\n",
        "all_results = []\n",
        "\n",
        "for i in range(10):\n",
        "    np.random.rand(seed_number)\n",
        "    results, all_pops, generation_count = ES(fobj, bounds, sigma_init, c_inc, c_dec, popsize, max_evals, dimension)\n",
        "    all_results.append(results[-1])\n",
        "    seed_number += 1"
      ],
      "execution_count": null,
      "outputs": []
    },
    {
      "cell_type": "code",
      "metadata": {
        "id": "Vp-KeOivvYMQ",
        "colab": {
          "base_uri": "https://localhost:8080/"
        },
        "outputId": "ea45abf9-9d64-48e5-d04d-ad195ee6c5e5"
      },
      "source": [
        "all_results"
      ],
      "execution_count": null,
      "outputs": [
        {
          "output_type": "execute_result",
          "data": {
            "text/plain": [
              "[(array([-0.01228566,  0.00150164,  0.00036093, -0.0036006 , -0.00417709,\n",
              "          0.00340205, -0.01189514,  0.00986636,  0.01128778,  0.00015367]),\n",
              "  0.0005615862270455766,\n",
              "  5120),\n",
              " (array([-0.00140664, -0.00241753, -0.00198188,  0.00278263,  0.00196946,\n",
              "          0.00152319,  0.00258637,  0.00195236,  0.00086486,  0.00145916]),\n",
              "  3.907093946419964e-05,\n",
              "  5120),\n",
              " (array([-0.00467154,  0.02165554, -0.01859907,  0.03707034,  0.01244091,\n",
              "         -0.0198508 ,  0.00316779,  0.01745456, -0.01882177,  0.00814643]),\n",
              "  0.003495071345801739,\n",
              "  5120),\n",
              " (array([-0.00508544, -0.00092117,  0.00469845, -0.00064039, -0.00025708,\n",
              "         -0.00120457, -0.00421451,  0.00154165, -0.0024228 ,  0.00280277]),\n",
              "  8.457715688792823e-05,\n",
              "  5120),\n",
              " (array([ 0.0078415 , -0.00591665, -0.00261379, -0.00599799,  0.00785748,\n",
              "         -0.01477284, -0.00091594, -0.00656485, -0.00198328,  0.00520359]),\n",
              "  0.0004942274093306165,\n",
              "  5120),\n",
              " (array([ 0.00409781, -0.00190053,  0.00700612,  0.00080846, -0.00579341,\n",
              "         -0.00574786,  0.00054451, -0.00470063,  0.002072  ,  0.00646577]),\n",
              "  0.00020523657195985868,\n",
              "  5120),\n",
              " (array([-0.00963241, -0.01754104,  0.01387148,  0.00138284,  0.0221208 ,\n",
              "          0.01366053, -0.02305372, -0.01154747, -0.01824788, -0.01753837]),\n",
              "  0.0025761392737824263,\n",
              "  5120),\n",
              " (array([-0.0139069 , -0.01781551, -0.02051571, -0.00024824,  0.00415834,\n",
              "          0.00211492, -0.01569099, -0.0082596 , -0.00960866, -0.01451252]),\n",
              "  0.0015708826740253054,\n",
              "  5120),\n",
              " (array([ 0.00221103, -0.0546734 ,  0.03633535,  0.02110587,  0.00662163,\n",
              "         -0.0144679 , -0.03060167,  0.01997059,  0.02210393, -0.00532031]),\n",
              "  0.006865126590623064,\n",
              "  5120),\n",
              " (array([-0.00835201, -0.00097014,  0.00203287,  0.00230975, -0.00097095,\n",
              "         -0.00384106,  0.01702172, -0.0122192 ,  0.00232692,  0.00550609]),\n",
              "  0.0005706405285533609,\n",
              "  5120)]"
            ]
          },
          "metadata": {},
          "execution_count": 85
        }
      ]
    },
    {
      "cell_type": "code",
      "metadata": {
        "id": "oweYQR3HvYRf",
        "colab": {
          "base_uri": "https://localhost:8080/"
        },
        "outputId": "7eca1fbf-32bb-4b32-ef29-1a9177a31b54"
      },
      "source": [
        "print(f\"Giá trị trung bình (mean) của Sphere (d=10, n=128) trong ES: {np.mean([all_results[i][1] for i in range(len(all_results))])}\")\n",
        "print(f\"Độ lệch chuẩn (std) của Sphere (d=10, n=128) trong ES: {np.std([all_results[i][1] for i in range(len(all_results))])}\")"
      ],
      "execution_count": null,
      "outputs": [
        {
          "output_type": "stream",
          "name": "stdout",
          "text": [
            "Giá trị trung bình (mean) của Sphere (d=10, n=128) trong ES: 0.0016462558717474074\n",
            "Độ lệch chuẩn (std) của Sphere (d=10, n=128) trong ES: 0.0020563108013622235\n"
          ]
        }
      ]
    },
    {
      "cell_type": "markdown",
      "metadata": {
        "id": "SQd6cNOypZJR"
      },
      "source": [
        "#### **popsize = 256**"
      ]
    },
    {
      "cell_type": "code",
      "metadata": {
        "id": "iMvsqeVwvZ4_"
      },
      "source": [
        "dimension = 10\n",
        "fobj = Sphere_f\n",
        "max_evals = 1e6\n",
        "seed_number = 18520186\n",
        "lower_bound = -6\n",
        "upper_bound = 6\n",
        "popsize = 256\n",
        "bounds = [(lower_bound, upper_bound)]*dimension\n",
        "np.random.rand(seed_number)\n",
        "all_results = []\n",
        "\n",
        "for i in range(10):\n",
        "    np.random.rand(seed_number)\n",
        "    results, all_pops, generation_count = ES(fobj, bounds, sigma_init, c_inc, c_dec, popsize, max_evals, dimension)\n",
        "    all_results.append(results[-1])\n",
        "    seed_number += 1"
      ],
      "execution_count": null,
      "outputs": []
    },
    {
      "cell_type": "code",
      "metadata": {
        "id": "qrixSMygvaCR",
        "colab": {
          "base_uri": "https://localhost:8080/"
        },
        "outputId": "601cd48c-109f-4bee-b412-a1dabc89c1eb"
      },
      "source": [
        "all_results"
      ],
      "execution_count": null,
      "outputs": [
        {
          "output_type": "execute_result",
          "data": {
            "text/plain": [
              "[(array([ 0.21254108, -0.02621393, -0.11406886,  0.02590202,  0.05848369,\n",
              "         -0.03906117, -0.12073205, -0.05344316, -0.16516898, -0.02094373]),\n",
              "  0.10964144505588613,\n",
              "  5120),\n",
              " (array([ 0.06206186, -0.07821312, -0.02406838,  0.05469003, -0.13938285,\n",
              "          0.06965334,  0.01690535,  0.12212096, -0.05236874, -0.09598421]),\n",
              "  0.06497319392640089,\n",
              "  5120),\n",
              " (array([-0.10278325,  0.18606414, -0.00982491,  0.2408815 , -0.15067904,\n",
              "         -0.0950769 ,  0.08808845, -0.16608491,  0.08334041, -0.27826507]),\n",
              "  0.25476931936852254,\n",
              "  5120),\n",
              " (array([ 0.10450994,  0.11627949, -0.02879814,  0.03125263, -0.11293917,\n",
              "         -0.16613674,  0.11647804,  0.03392319,  0.02761107, -0.03544841]),\n",
              "  0.08334285771513686,\n",
              "  5120),\n",
              " (array([-1.38980212e-01,  2.52224164e-02,  2.23458202e-01,  7.74447028e-02,\n",
              "          7.28139934e-02, -1.59133250e-01,  1.26028070e-01,  7.30002111e-02,\n",
              "         -1.33480590e-01,  1.77204636e-04]), 0.1455373930804172, 5120),\n",
              " (array([-0.07756697,  0.07320691,  0.0134364 , -0.05950537,  0.12028308,\n",
              "         -0.01227604,  0.01233089, -0.0175241 , -0.10614287, -0.00359748]),\n",
              "  0.04145442657987903,\n",
              "  5120),\n",
              " (array([ 0.03771755, -0.0469573 ,  0.14172341,  0.27182373,  0.00085942,\n",
              "          0.18613732, -0.11698036,  0.00215667,  0.03380811, -0.05778222]),\n",
              "  0.150419941365387,\n",
              "  5120),\n",
              " (array([-0.15782121, -0.22555013, -0.20259511, -0.02314386, -0.26400851,\n",
              "         -0.27857874,  0.32891165, -0.08447066,  0.02629351, -0.0821261 ]),\n",
              "  0.38742163068225494,\n",
              "  5120),\n",
              " (array([-0.02201016,  0.03494127, -0.0070908 , -0.04712793, -0.01096652,\n",
              "          0.11384236,  0.04223495,  0.0254829 , -0.13755468,  0.07111856]),\n",
              "  0.04346931774488712,\n",
              "  5120),\n",
              " (array([-0.02862163, -0.17508528,  0.08285401,  0.01679728, -0.06633792,\n",
              "          0.1121388 , -0.10657571, -0.0418897 , -0.00240058, -0.03520995]),\n",
              "  0.06995545365681544,\n",
              "  5120)]"
            ]
          },
          "metadata": {},
          "execution_count": 88
        }
      ]
    },
    {
      "cell_type": "code",
      "metadata": {
        "id": "wTDFas54vaGX",
        "colab": {
          "base_uri": "https://localhost:8080/"
        },
        "outputId": "0b6a5d2a-8543-4598-af98-0dd3dae9d022"
      },
      "source": [
        "print(f\"Giá trị trung bình (mean) của Sphere (d=10, n=256) trong ES: {np.mean([all_results[i][1] for i in range(len(all_results))])}\")\n",
        "print(f\"Độ lệch chuẩn (std) của Sphere (d=10, n=256) trong ES: {np.std([all_results[i][1] for i in range(len(all_results))])}\")"
      ],
      "execution_count": null,
      "outputs": [
        {
          "output_type": "stream",
          "name": "stdout",
          "text": [
            "Giá trị trung bình (mean) của Sphere (d=10, n=256) trong ES: 0.1350984979175587\n",
            "Độ lệch chuẩn (std) của Sphere (d=10, n=256) trong ES: 0.10391572886761247\n"
          ]
        }
      ]
    },
    {
      "cell_type": "markdown",
      "metadata": {
        "id": "vTe7Gy0trPOO"
      },
      "source": [
        "#### **popsize = 512**"
      ]
    },
    {
      "cell_type": "code",
      "metadata": {
        "id": "hJSbtBl-vZIj"
      },
      "source": [
        "dimension = 10\n",
        "fobj = Sphere_f\n",
        "max_evals = 1e6\n",
        "seed_number = 18520186\n",
        "lower_bound = -6\n",
        "upper_bound = 6\n",
        "popsize = 512\n",
        "bounds = [(lower_bound, upper_bound)]*dimension\n",
        "np.random.rand(seed_number)\n",
        "all_results = []\n",
        "\n",
        "for i in range(10):\n",
        "    np.random.rand(seed_number)\n",
        "    results, all_pops, generation_count = ES(fobj, bounds, sigma_init, c_inc, c_dec, popsize, max_evals, dimension)\n",
        "    all_results.append(results[-1])\n",
        "    seed_number += 1"
      ],
      "execution_count": null,
      "outputs": []
    },
    {
      "cell_type": "code",
      "metadata": {
        "id": "p1zLf0SIvZNB",
        "colab": {
          "base_uri": "https://localhost:8080/"
        },
        "outputId": "65ce0ce0-ab27-4d62-b950-e09ef7af5bf6"
      },
      "source": [
        "all_results"
      ],
      "execution_count": null,
      "outputs": [
        {
          "output_type": "execute_result",
          "data": {
            "text/plain": [
              "[(array([-0.07065987, -0.02775038, -0.08263986, -0.03723326,  0.14098114,\n",
              "          0.01041295, -0.0244155 , -0.07031591,  0.02313906,  0.08164551]),\n",
              "  0.04670452481110507,\n",
              "  10240),\n",
              " (array([-0.0382712 ,  0.08893921, -0.03726993, -0.07209479, -0.08426358,\n",
              "         -0.06824694, -0.0669441 , -0.08317338,  0.05684793, -0.04682707]),\n",
              "  0.0445433539127607,\n",
              "  10240),\n",
              " (array([ 0.0199864 ,  0.02355489, -0.01453522, -0.01294177, -0.0454033 ,\n",
              "         -0.06474633,  0.00471405,  0.01169199,  0.00592572, -0.00069312]),\n",
              "  0.007781117873304965,\n",
              "  10240),\n",
              " (array([ 0.00027046, -0.05104853, -0.03538059, -0.11646357,  0.03433062,\n",
              "         -0.01923356,  0.16402538,  0.14076263, -0.12951395, -0.24794367]),\n",
              "  0.14393846622036435,\n",
              "  10240),\n",
              " (array([ 0.0627041 ,  0.05006086,  0.04115816, -0.05446413, -0.05626006,\n",
              "          0.01219851, -0.1078552 , -0.08333075, -0.00989831,  0.03841862]),\n",
              "  0.03456295043296949,\n",
              "  10240),\n",
              " (array([ 0.07139621, -0.10785517,  0.09452322,  0.07040799,  0.10085189,\n",
              "          0.07969693,  0.02783371, -0.0079173 , -0.02870131, -0.11255407]),\n",
              "  0.06147436843892941,\n",
              "  10240),\n",
              " (array([ 0.02038433, -0.0918762 ,  0.06821459,  0.08128378, -0.0849241 ,\n",
              "         -0.05196611, -0.04441077, -0.1199731 , -0.01197894, -0.00054275]),\n",
              "  0.046539268706637237,\n",
              "  10240),\n",
              " (array([-0.05424708, -0.06779909, -0.06309079,  0.03076166,  0.01239414,\n",
              "          0.0628594 , -0.12262785, -0.08425345, -0.0286533 ,  0.05385812]),\n",
              "  0.042429050023686986,\n",
              "  10240),\n",
              " (array([-0.00285828,  0.00103696, -0.02138541, -0.02879383,  0.02567016,\n",
              "          0.04048761,  0.02053955,  0.01177717, -0.05820722,  0.02898151]),\n",
              "  0.008382452466966742,\n",
              "  10240),\n",
              " (array([ 0.00098689, -0.04175847, -0.1415801 , -0.0523488 , -0.13060714,\n",
              "          0.14083908, -0.00738072,  0.05098802,  0.00893408,  0.21217194]),\n",
              "  0.10917494011961962,\n",
              "  10240)]"
            ]
          },
          "metadata": {},
          "execution_count": 91
        }
      ]
    },
    {
      "cell_type": "code",
      "metadata": {
        "id": "lZCfy0DnvZSL",
        "colab": {
          "base_uri": "https://localhost:8080/"
        },
        "outputId": "00380b34-43a5-4302-9bc0-7c7566fe06ab"
      },
      "source": [
        "print(f\"Giá trị trung bình (mean) của Sphere (d=10, n=512) trong ES: {np.mean([all_results[i][1] for i in range(len(all_results))])}\")\n",
        "print(f\"Độ lệch chuẩn (std) của Sphere (d=10, n=512) trong ES: {np.std([all_results[i][1] for i in range(len(all_results))])}\")"
      ],
      "execution_count": null,
      "outputs": [
        {
          "output_type": "stream",
          "name": "stdout",
          "text": [
            "Giá trị trung bình (mean) của Sphere (d=10, n=512) trong ES: 0.05455304930063446\n",
            "Độ lệch chuẩn (std) của Sphere (d=10, n=512) trong ES: 0.040141195029078335\n"
          ]
        }
      ]
    },
    {
      "cell_type": "markdown",
      "metadata": {
        "id": "j0Rr10DSqlKq"
      },
      "source": [
        "#### **popsize = 1024**"
      ]
    },
    {
      "cell_type": "code",
      "metadata": {
        "id": "u9K2mwEFvODD"
      },
      "source": [
        "dimension = 10\n",
        "fobj = Sphere_f\n",
        "max_evals = 1e6\n",
        "seed_number = 18520186\n",
        "lower_bound = -6\n",
        "upper_bound = 6\n",
        "popsize = 1024\n",
        "bounds = [(lower_bound, upper_bound)]*dimension\n",
        "np.random.rand(seed_number)\n",
        "all_results = []\n",
        "\n",
        "for i in range(10):\n",
        "    np.random.rand(seed_number)\n",
        "    results, all_pops, generation_count = ES(fobj, bounds, sigma_init, c_inc, c_dec, popsize, max_evals, dimension)\n",
        "    all_results.append(results[-1])\n",
        "    seed_number += 1"
      ],
      "execution_count": null,
      "outputs": []
    },
    {
      "cell_type": "code",
      "metadata": {
        "id": "4hIae96tvOKt",
        "colab": {
          "base_uri": "https://localhost:8080/"
        },
        "outputId": "0c7f0999-f55b-4338-8899-71cf789349e7"
      },
      "source": [
        "all_results"
      ],
      "execution_count": null,
      "outputs": [
        {
          "output_type": "execute_result",
          "data": {
            "text/plain": [
              "[(array([ 0.08104841,  0.30953958,  0.1058797 ,  0.03883672, -0.1751769 ,\n",
              "          0.48364082, -0.1817109 , -0.02211842,  0.04673243, -0.22407749]),\n",
              "  0.4656005076148742,\n",
              "  10240),\n",
              " (array([ 0.86898525,  0.35341585, -0.72132979,  0.03840949, -0.08298086,\n",
              "          0.05533505, -0.0021362 ,  0.44676364, -0.34285834,  0.1762984 ]),\n",
              "  1.7600131668118069,\n",
              "  10240),\n",
              " (array([ 0.12017204, -0.27758141,  0.04991619,  0.31528442, -0.17412804,\n",
              "         -0.12476464, -0.66812717, -0.31479723, -0.05471046,  0.22114975]),\n",
              "  0.8366670926077986,\n",
              "  10240),\n",
              " (array([ 0.45833659, -0.24852512,  0.062598  ,  0.02025584, -0.06596969,\n",
              "         -0.05452347,  0.42994703, -0.39055417,  1.02016133,  0.00663649]),\n",
              "  1.66165096680207,\n",
              "  10240),\n",
              " (array([-0.2065219 ,  0.02246197,  0.15422206,  0.10974512,  0.34810531,\n",
              "          0.15211222,  0.22024121,  0.39411381, -0.2693626 ,  0.29363171]),\n",
              "  0.5859073781029434,\n",
              "  10240),\n",
              " (array([ 0.27319701, -0.08607438,  0.18791659,  0.08262827, -0.18632301,\n",
              "          0.32699456, -0.42151871,  0.33124553,  0.17325754,  0.37830652]),\n",
              "  0.7263628069582934,\n",
              "  10240),\n",
              " (array([-0.12909741, -0.43012307,  0.08874547, -0.2302848 ,  0.06881558,\n",
              "         -0.3958357 , -0.21896523,  0.09781913, -0.22848651,  0.05086577]),\n",
              "  0.5363080977165808,\n",
              "  10240),\n",
              " (array([ 0.11378759,  0.0421397 , -0.1895925 ,  0.15250452,  0.10993119,\n",
              "         -0.12549977, -0.13528408,  0.32000567,  0.08837579, -0.02407842]),\n",
              "  0.23085683489650596,\n",
              "  10240),\n",
              " (array([-0.27372505, -0.77565816,  0.02818615,  0.50597156,  0.28557382,\n",
              "          0.56909021,  0.12507115,  0.09783998, -0.19844311, -0.45172273]),\n",
              "  1.6074372765511173,\n",
              "  10240),\n",
              " (array([-0.0576436 , -0.12880297, -0.06012961, -0.0569902 , -0.32986354,\n",
              "          0.01363464,  0.07210656, -0.01564614, -0.31407586, -0.07111581]),\n",
              "  0.2449175672040887,\n",
              "  10240)]"
            ]
          },
          "metadata": {},
          "execution_count": 94
        }
      ]
    },
    {
      "cell_type": "code",
      "metadata": {
        "id": "iK75A0RSvOYR",
        "colab": {
          "base_uri": "https://localhost:8080/"
        },
        "outputId": "a7bc7fce-341b-407c-c8d8-bd1cc3dda5cb"
      },
      "source": [
        "print(f\"Giá trị trung bình (mean) của Sphere (d=10, n=1024) trong ES: {np.mean([all_results[i][1] for i in range(len(all_results))])}\")\n",
        "print(f\"Độ lệch chuẩn (std) của Sphere (d=10, n=1024) trong ES: {np.std([all_results[i][1] for i in range(len(all_results))])}\")"
      ],
      "execution_count": null,
      "outputs": [
        {
          "output_type": "stream",
          "name": "stdout",
          "text": [
            "Giá trị trung bình (mean) của Sphere (d=10, n=1024) trong ES: 0.8655721695266079\n",
            "Độ lệch chuẩn (std) của Sphere (d=10, n=1024) trong ES: 0.5602700226224007\n"
          ]
        }
      ]
    },
    {
      "cell_type": "markdown",
      "metadata": {
        "id": "XL8ep0TCqlVO"
      },
      "source": [
        "## **Hàm Rastrigin**"
      ]
    },
    {
      "cell_type": "markdown",
      "metadata": {
        "id": "ETH-vCWUqpXj"
      },
      "source": [
        "### **dimensions (d=2)**"
      ]
    },
    {
      "cell_type": "markdown",
      "metadata": {
        "id": "JJLwcdFeqpj6"
      },
      "source": [
        "#### **popsize = 32**"
      ]
    },
    {
      "cell_type": "code",
      "metadata": {
        "id": "gjeDVUpd05Zq"
      },
      "source": [
        "dimension = 2\n",
        "fobj = Rastrigin_f\n",
        "max_evals = 1e5\n",
        "seed_number = 18520186\n",
        "lower_bound = -6\n",
        "upper_bound = 6\n",
        "popsize = 32\n",
        "bounds = [(lower_bound, upper_bound)]*dimension\n",
        "np.random.rand(seed_number)\n",
        "all_results = []\n",
        "\n",
        "for i in range(10):\n",
        "    np.random.rand(seed_number)\n",
        "    results, all_pops, generation_count = ES(fobj, bounds, sigma_init, c_inc, c_dec, popsize, max_evals, dimension)\n",
        "    all_results.append(results[-1])\n",
        "    seed_number += 1"
      ],
      "execution_count": null,
      "outputs": []
    },
    {
      "cell_type": "code",
      "metadata": {
        "id": "4OF-SGVx05lb",
        "colab": {
          "base_uri": "https://localhost:8080/"
        },
        "outputId": "e13b47ef-4e07-4989-95ae-c70f297eb569"
      },
      "source": [
        "all_results"
      ],
      "execution_count": null,
      "outputs": [
        {
          "output_type": "execute_result",
          "data": {
            "text/plain": [
              "[(array([2.9848557, 2.9848557]), 17.909202482974017, 5024),\n",
              " (array([-0.99495864, -0.99495864]), 1.9899181141865796, 5024),\n",
              " (array([-1.98991224, -0.99495864]), 4.974790247647377, 5024),\n",
              " (array([-1.85299730e-05,  1.11007209e-04]), 2.512826204892349e-06, 864),\n",
              " (array([-0.99495864, -0.99495864]), 1.9899181141865796, 5024),\n",
              " (array([ 2.22806164e-07, -3.17867018e-05]), 2.0046410398322223e-07, 896),\n",
              " (array([1.30696556e-04, 3.58042713e-05]), 3.6431799959046884e-06, 608),\n",
              " (array([ 3.77014429e-05, -8.64511557e-06]), 2.9682170676892383e-07, 960),\n",
              " (array([-8.22982561e-10, -1.98991223e+00]), 3.9798311905540853, 5024),\n",
              " (array([-9.92893379e-06,  7.86467836e-05]), 1.2466760761498108e-06, 928)]"
            ]
          },
          "metadata": {},
          "execution_count": 97
        }
      ]
    },
    {
      "cell_type": "code",
      "metadata": {
        "id": "f97qtOl_05ww",
        "colab": {
          "base_uri": "https://localhost:8080/"
        },
        "outputId": "38f70e0a-4f95-472f-80b0-3d213ea3f977"
      },
      "source": [
        "print(f\"Giá trị trung bình (mean) của Rastrigin (d=2, n=32) trong ES: {np.mean([all_results[i][1] for i in range(len(all_results))])}\")\n",
        "print(f\"Độ lệch chuẩn (std) của Rastrigin (d=2, n=32) trong ES: {np.std([all_results[i][1] for i in range(len(all_results))])}\")"
      ],
      "execution_count": null,
      "outputs": [
        {
          "output_type": "stream",
          "name": "stdout",
          "text": [
            "Giá trị trung bình (mean) của Rastrigin (d=2, n=32) trong ES: 3.084366804951673\n",
            "Độ lệch chuẩn (std) của Rastrigin (d=2, n=32) trong ES: 5.235584878664813\n"
          ]
        }
      ]
    },
    {
      "cell_type": "markdown",
      "metadata": {
        "id": "kZdLDBZwqpv6"
      },
      "source": [
        "#### **popsize = 64**"
      ]
    },
    {
      "cell_type": "code",
      "metadata": {
        "id": "oGYgXtLg1h5a"
      },
      "source": [
        "dimension = 2\n",
        "fobj = Rastrigin_f\n",
        "max_evals = 1e5\n",
        "seed_number = 18520186\n",
        "lower_bound = -6\n",
        "upper_bound = 6\n",
        "popsize = 64\n",
        "bounds = [(lower_bound, upper_bound)]*dimension\n",
        "np.random.rand(seed_number)\n",
        "all_results = []\n",
        "\n",
        "for i in range(10):\n",
        "    np.random.rand(seed_number)\n",
        "    results, all_pops, generation_count = ES(fobj, bounds, sigma_init, c_inc, c_dec, popsize, max_evals, dimension)\n",
        "    all_results.append(results[-1])\n",
        "    seed_number += 1"
      ],
      "execution_count": null,
      "outputs": []
    },
    {
      "cell_type": "code",
      "metadata": {
        "id": "vsrdOSFi1h82",
        "colab": {
          "base_uri": "https://localhost:8080/"
        },
        "outputId": "c4ee6463-83a1-46eb-fdb2-5a70ff5efa4b"
      },
      "source": [
        "all_results"
      ],
      "execution_count": null,
      "outputs": [
        {
          "output_type": "execute_result",
          "data": {
            "text/plain": [
              "[(array([ 3.53682766e-10, -9.94958637e-01]), 0.9949590570932898, 5056),\n",
              " (array([-8.27675378e-05, -1.75243017e-04]), 7.4517213128899584e-06, 2048),\n",
              " (array([1.47971015e-09, 9.94958640e-01]), 0.9949590570932916, 5056),\n",
              " (array([ 3.51105449e-10, -1.98991223e+00]), 3.979831190554087, 5056),\n",
              " (array([4.41552166e-05, 9.36047138e-05]), 2.1250818775797597e-06, 1472),\n",
              " (array([1.52181335e-09, 9.94958636e-01]), 0.9949590570932916, 5056),\n",
              " (array([-0.00013428,  0.00016236]), 8.806958707197055e-06, 1664),\n",
              " (array([-9.94958639e-01, -1.10014842e-09]), 0.9949590570932898, 5056),\n",
              " (array([ 3.12513545e-05, -2.98648065e-05]), 3.707062923297144e-07, 2304),\n",
              " (array([-9.94958638e-01, -1.64782976e-10]), 0.9949590570932898, 5056)]"
            ]
          },
          "metadata": {},
          "execution_count": 100
        }
      ]
    },
    {
      "cell_type": "code",
      "metadata": {
        "id": "_zg-dcTr1iAZ",
        "colab": {
          "base_uri": "https://localhost:8080/"
        },
        "outputId": "f04de09e-20ac-4f3f-892e-a2b7df20e11a"
      },
      "source": [
        "print(f\"Giá trị trung bình (mean) của Rastrigin (d=2, n=64) trong ES: {np.mean([all_results[i][1] for i in range(len(all_results))])}\")\n",
        "print(f\"Độ lệch chuẩn (std) của Rastrigin (d=2, n=64) trong ES: {np.std([all_results[i][1] for i in range(len(all_results))])}\")"
      ],
      "execution_count": null,
      "outputs": [
        {
          "output_type": "stream",
          "name": "stdout",
          "text": [
            "Giá trị trung bình (mean) của Rastrigin (d=2, n=64) trong ES: 0.8954645230488729\n",
            "Độ lệch chuẩn (std) của Rastrigin (d=2, n=64) trong ES: 1.1300533974778935\n"
          ]
        }
      ]
    },
    {
      "cell_type": "markdown",
      "metadata": {
        "id": "0bsnXwNbqqCJ"
      },
      "source": [
        "#### **popsize = 128**"
      ]
    },
    {
      "cell_type": "code",
      "metadata": {
        "id": "iJpQM-021j9Z"
      },
      "source": [
        "dimension = 2\n",
        "fobj = Rastrigin_f\n",
        "max_evals = 1e5\n",
        "seed_number = 18520186\n",
        "lower_bound = -6\n",
        "upper_bound = 6\n",
        "popsize = 128\n",
        "bounds = [(lower_bound, upper_bound)]*dimension\n",
        "np.random.rand(seed_number)\n",
        "all_results = []\n",
        "\n",
        "for i in range(10):\n",
        "    np.random.rand(seed_number)\n",
        "    results, all_pops, generation_count = ES(fobj, bounds, sigma_init, c_inc, c_dec, popsize, max_evals, dimension)\n",
        "    all_results.append(results[-1])\n",
        "    seed_number += 1"
      ],
      "execution_count": null,
      "outputs": []
    },
    {
      "cell_type": "code",
      "metadata": {
        "id": "-cQcPbyf1kCi",
        "colab": {
          "base_uri": "https://localhost:8080/"
        },
        "outputId": "7adba265-43cd-4462-c726-8db2b7fa81db"
      },
      "source": [
        "all_results"
      ],
      "execution_count": null,
      "outputs": [
        {
          "output_type": "execute_result",
          "data": {
            "text/plain": [
              "[(array([1.60510293e-04, 4.92211382e-05]), 5.591933438964247e-06, 4224),\n",
              " (array([5.99298803e-05, 1.44934751e-04]), 4.879983318772929e-06, 2688),\n",
              " (array([-0.00010252,  0.00010741]), 4.3737528354625965e-06, 3840),\n",
              " (array([-8.15409529e-05, -1.85567485e-04]), 8.150783060045796e-06, 3584),\n",
              " (array([-1.44720321e-04, -7.60491897e-05]), 5.302514392013791e-06, 2560),\n",
              " (array([ 1.51644809e-05, -2.22233571e-04]), 9.843761809236184e-06, 3328),\n",
              " (array([-1.27929667e-04, -7.62946778e-05]), 4.401700776313078e-06, 3968),\n",
              " (array([8.18811903e-05, 2.00021623e-04]), 9.267524077927192e-06, 2560),\n",
              " (array([ 9.94958492e-01, -9.78788980e-08]), 0.9949590570994022, 5120),\n",
              " (array([-4.34574194e-05,  2.51079335e-05]), 4.997408638018896e-07, 3840)]"
            ]
          },
          "metadata": {},
          "execution_count": 103
        }
      ]
    },
    {
      "cell_type": "code",
      "metadata": {
        "id": "Ce8pHPy41kGJ",
        "colab": {
          "base_uri": "https://localhost:8080/"
        },
        "outputId": "8bf74d17-3e18-4922-9275-c2329db6669d"
      },
      "source": [
        "print(f\"Giá trị trung bình (mean) của Rastrigin (d=2, n=128) trong ES: {np.mean([all_results[i][1] for i in range(len(all_results))])}\")\n",
        "print(f\"Độ lệch chuẩn (std) của Rastrigin (d=2, n=128) trong ES: {np.std([all_results[i][1] for i in range(len(all_results))])}\")"
      ],
      "execution_count": null,
      "outputs": [
        {
          "output_type": "stream",
          "name": "stdout",
          "text": [
            "Giá trị trung bình (mean) của Rastrigin (d=2, n=128) trong ES: 0.09950113687939748\n",
            "Độ lệch chuẩn (std) của Rastrigin (d=2, n=128) trong ES: 0.29848597341791167\n"
          ]
        }
      ]
    },
    {
      "cell_type": "markdown",
      "metadata": {
        "id": "Ys4Kuf_tqqN7"
      },
      "source": [
        "#### **popsize = 256**"
      ]
    },
    {
      "cell_type": "code",
      "metadata": {
        "id": "TLA2GQ3J1mgW"
      },
      "source": [
        "dimension = 2\n",
        "fobj = Rastrigin_f\n",
        "max_evals = 1e5\n",
        "seed_number = 18520186\n",
        "lower_bound = -6\n",
        "upper_bound = 6\n",
        "popsize = 256\n",
        "bounds = [(lower_bound, upper_bound)]*dimension\n",
        "np.random.rand(seed_number)\n",
        "all_results = []\n",
        "\n",
        "for i in range(10):\n",
        "    np.random.rand(seed_number)\n",
        "    results, all_pops, generation_count = ES(fobj, bounds, sigma_init, c_inc, c_dec, popsize, max_evals, dimension)\n",
        "    all_results.append(results[-1])\n",
        "    seed_number += 1"
      ],
      "execution_count": null,
      "outputs": []
    },
    {
      "cell_type": "code",
      "metadata": {
        "id": "gBMVBGyv1mjA",
        "colab": {
          "base_uri": "https://localhost:8080/"
        },
        "outputId": "a17e2ae6-362c-476c-e790-2681bb7e4537"
      },
      "source": [
        "all_results"
      ],
      "execution_count": null,
      "outputs": [
        {
          "output_type": "execute_result",
          "data": {
            "text/plain": [
              "[(array([4.07635801e-04, 8.78528886e-05]), 3.449740543004509e-05, 5120),\n",
              " (array([-0.00063154,  0.00014299]), 8.318266846707445e-05, 5120),\n",
              " (array([-0.00042061, -0.00021695]), 4.4435864479552833e-05, 5120),\n",
              " (array([-0.00117972,  0.00048524]), 0.0003228210310357582, 5120),\n",
              " (array([-0.00010183, -0.000289  ]), 1.8627826282369142e-05, 5120),\n",
              " (array([ 6.28841224e-05, -7.18390129e-06]), 7.947629168114645e-07, 4864),\n",
              " (array([ 0.00183358, -0.00343951]), 0.0030139256681795956, 5120),\n",
              " (array([-0.00100761,  0.00018987]), 0.00020857617609237877, 5120),\n",
              " (array([-0.00019012, -0.00112697]), 0.000259140624685017, 5120),\n",
              " (array([0.00017706, 0.00031365]), 2.57366815965554e-05, 5120)]"
            ]
          },
          "metadata": {},
          "execution_count": 106
        }
      ]
    },
    {
      "cell_type": "code",
      "metadata": {
        "id": "IRNRyT_y1mmU",
        "colab": {
          "base_uri": "https://localhost:8080/"
        },
        "outputId": "ba17d4fa-2339-4533-8bdf-bd3db72bc014"
      },
      "source": [
        "print(f\"Giá trị trung bình (mean) của Rastrigin (d=2, n=256) trong ES: {np.mean([all_results[i][1] for i in range(len(all_results))])}\")\n",
        "print(f\"Độ lệch chuẩn (std) của Rastrigin (d=2, n=256) trong ES: {np.std([all_results[i][1] for i in range(len(all_results))])}\")"
      ],
      "execution_count": null,
      "outputs": [
        {
          "output_type": "stream",
          "name": "stdout",
          "text": [
            "Giá trị trung bình (mean) của Rastrigin (d=2, n=256) trong ES: 0.0004011738709165158\n",
            "Độ lệch chuẩn (std) của Rastrigin (d=2, n=256) trong ES: 0.0008775140150807458\n"
          ]
        }
      ]
    },
    {
      "cell_type": "markdown",
      "metadata": {
        "id": "GUEtmtuXqqbx"
      },
      "source": [
        "#### **popsize = 512**"
      ]
    },
    {
      "cell_type": "code",
      "metadata": {
        "id": "Ify4J1uK1ogp"
      },
      "source": [
        "dimension = 2\n",
        "fobj = Rastrigin_f\n",
        "max_evals = 1e5\n",
        "seed_number = 18520186\n",
        "lower_bound = -6\n",
        "upper_bound = 6\n",
        "popsize = 512\n",
        "bounds = [(lower_bound, upper_bound)]*dimension\n",
        "np.random.rand(seed_number)\n",
        "all_results = []\n",
        "\n",
        "for i in range(10):\n",
        "    np.random.rand(seed_number)\n",
        "    results, all_pops, generation_count = ES(fobj, bounds, sigma_init, c_inc, c_dec, popsize, max_evals, dimension)\n",
        "    all_results.append(results[-1])\n",
        "    seed_number += 1"
      ],
      "execution_count": null,
      "outputs": []
    },
    {
      "cell_type": "code",
      "metadata": {
        "id": "bqNNssJs1oi5",
        "colab": {
          "base_uri": "https://localhost:8080/"
        },
        "outputId": "3524c06e-c054-4490-d155-4d0891c64c37"
      },
      "source": [
        "all_results"
      ],
      "execution_count": null,
      "outputs": [
        {
          "output_type": "execute_result",
          "data": {
            "text/plain": [
              "[(array([2.29593888e-05, 2.16602701e-04]), 9.41248570107689e-06, 9216),\n",
              " (array([0.00054547, 0.00019337]), 6.644730245142227e-05, 10240),\n",
              " (array([0.00119783, 0.00090035]), 0.00044547446920262246, 10240),\n",
              " (array([ 3.50206769e-04, -9.95026170e-01]), 0.9949842931804564, 10240),\n",
              " (array([ 0.00025379, -0.00052332]), 6.711064184727888e-05, 10240),\n",
              " (array([-0.00036516, -0.0005989 ]), 9.761343203074091e-05, 10240),\n",
              " (array([1.01815257e-04, 3.41217530e-05]), 2.287587797411561e-06, 10240),\n",
              " (array([-2.84481695e-05,  2.96213278e-04]), 1.756793266594059e-05, 10240),\n",
              " (array([-0.00021986,  0.00085746]), 0.0001554562726209241, 10240),\n",
              " (array([-1.69132880e-04,  9.53399486e-05]), 7.478515527736818e-06, 9728)]"
            ]
          },
          "metadata": {},
          "execution_count": 109
        }
      ]
    },
    {
      "cell_type": "code",
      "metadata": {
        "id": "G3FMnFTY1omQ",
        "colab": {
          "base_uri": "https://localhost:8080/"
        },
        "outputId": "b6c1d01e-a0c7-4931-d89b-f95ec152921a"
      },
      "source": [
        "print(f\"Giá trị trung bình (mean) của Rastrigin (d=2, n=512) trong ES: {np.mean([all_results[i][1] for i in range(len(all_results))])}\")\n",
        "print(f\"Độ lệch chuẩn (std) của Rastrigin (d=2, n=512) trong ES: {np.std([all_results[i][1] for i in range(len(all_results))])}\")"
      ],
      "execution_count": null,
      "outputs": [
        {
          "output_type": "stream",
          "name": "stdout",
          "text": [
            "Giá trị trung bình (mean) của Rastrigin (d=2, n=512) trong ES: 0.09958531418203016\n",
            "Độ lệch chuẩn (std) của Rastrigin (d=2, n=512) trong ES: 0.29846635274155847\n"
          ]
        }
      ]
    },
    {
      "cell_type": "markdown",
      "metadata": {
        "id": "XV3CdVXCqqn1"
      },
      "source": [
        "#### **popsize = 1024**"
      ]
    },
    {
      "cell_type": "code",
      "metadata": {
        "id": "HZU8J4cM1rAv"
      },
      "source": [
        "dimension = 2\n",
        "fobj = Rastrigin_f\n",
        "max_evals = 1e5\n",
        "seed_number = 18520186\n",
        "lower_bound = -6\n",
        "upper_bound = 6\n",
        "popsize = 1024\n",
        "bounds = [(lower_bound, upper_bound)]*dimension\n",
        "np.random.rand(seed_number)\n",
        "all_results = []\n",
        "\n",
        "for i in range(10):\n",
        "    np.random.rand(seed_number)\n",
        "    results, all_pops, generation_count = ES(fobj, bounds, sigma_init, c_inc, c_dec, popsize, max_evals, dimension)\n",
        "    all_results.append(results[-1])\n",
        "    seed_number += 1"
      ],
      "execution_count": null,
      "outputs": []
    },
    {
      "cell_type": "code",
      "metadata": {
        "id": "QpOsMi3y1rDC",
        "colab": {
          "base_uri": "https://localhost:8080/"
        },
        "outputId": "5968f9dc-f588-436d-c00a-cf8f7cefa8a1"
      },
      "source": [
        "all_results"
      ],
      "execution_count": null,
      "outputs": [
        {
          "output_type": "execute_result",
          "data": {
            "text/plain": [
              "[(array([-0.0062132,  0.0122143]), 0.037241244071704926, 10240),\n",
              " (array([0.01411026, 0.01376953]), 0.07706580102517435, 10240),\n",
              " (array([0.00188671, 0.00043283]), 0.0007433727349379637, 10240),\n",
              " (array([-0.0042447 , -0.00829501]), 0.01722203763818264, 10240),\n",
              " (array([-0.00097969,  0.00494864]), 0.0050484474944756386, 10240),\n",
              " (array([ 0.01084715, -0.00183188]), 0.023999723465436773, 10240),\n",
              " (array([-1.80066495e-03,  1.86220880e-05]), 0.0006433273410735296, 10240),\n",
              " (array([-0.00405679, -0.00268382]), 0.00469383242795729, 10240),\n",
              " (array([-0.00023681,  0.00153104]), 0.0004761667421018245, 10240),\n",
              " (array([0.0011142 , 0.00197976]), 0.001023869394130017, 10240)]"
            ]
          },
          "metadata": {},
          "execution_count": 112
        }
      ]
    },
    {
      "cell_type": "code",
      "metadata": {
        "id": "0ZJlJPzu1rGd",
        "colab": {
          "base_uri": "https://localhost:8080/"
        },
        "outputId": "3a062107-c7dc-47eb-c934-240c91ff4516"
      },
      "source": [
        "print(f\"Giá trị trung bình (mean) của Rastrigin (d=2, n=1024) trong ES: {np.mean([all_results[i][1] for i in range(len(all_results))])}\")\n",
        "print(f\"Độ lệch chuẩn (std) của Rastrigin (d=2, n=1024) trong ES: {np.std([all_results[i][1] for i in range(len(all_results))])}\")"
      ],
      "execution_count": null,
      "outputs": [
        {
          "output_type": "stream",
          "name": "stdout",
          "text": [
            "Giá trị trung bình (mean) của Rastrigin (d=2, n=1024) trong ES: 0.016815782233517495\n",
            "Độ lệch chuẩn (std) của Rastrigin (d=2, n=1024) trong ES: 0.023282371731842985\n"
          ]
        }
      ]
    },
    {
      "cell_type": "markdown",
      "metadata": {
        "id": "NfPZPlThqqzj"
      },
      "source": [
        "### **dimensions (d=10)**"
      ]
    },
    {
      "cell_type": "markdown",
      "metadata": {
        "id": "xsH_SD3Gqq-n"
      },
      "source": [
        "#### **popsize = 32**"
      ]
    },
    {
      "cell_type": "code",
      "metadata": {
        "id": "YGXOTW1T1uNN"
      },
      "source": [
        "dimension = 10\n",
        "fobj = Rastrigin_f\n",
        "max_evals = 1e6\n",
        "seed_number = 18520186\n",
        "lower_bound = -6\n",
        "upper_bound = 6\n",
        "popsize = 32\n",
        "bounds = [(lower_bound, upper_bound)]*dimension\n",
        "np.random.rand(seed_number)\n",
        "all_results = []\n",
        "\n",
        "for i in range(10):\n",
        "    np.random.rand(seed_number)\n",
        "    results, all_pops, generation_count = ES(fobj, bounds, sigma_init, c_inc, c_dec, popsize, max_evals, dimension)\n",
        "    all_results.append(results[-1])\n",
        "    seed_number += 1"
      ],
      "execution_count": null,
      "outputs": []
    },
    {
      "cell_type": "code",
      "metadata": {
        "id": "_cqMVWfE1uWd",
        "colab": {
          "base_uri": "https://localhost:8080/"
        },
        "outputId": "69c37b90-9cd2-4748-b039-7e8f74644a7e"
      },
      "source": [
        "all_results"
      ],
      "execution_count": null,
      "outputs": [
        {
          "output_type": "execute_result",
          "data": {
            "text/plain": [
              "[(array([-1.29211907e-09,  5.96957278e+00, -1.98991224e+00,  3.97978386e+00,\n",
              "          3.54672325e-09,  1.68247277e-09,  1.52042453e-09, -1.98991224e+00,\n",
              "         -2.80986044e-10,  1.98991224e+00]), 63.67672929692053, 5024),\n",
              " (array([ 9.94958641e-01,  2.98485570e+00, -9.94958637e-01,  2.98485570e+00,\n",
              "          1.98991224e+00, -2.98485571e+00, -3.97978386e+00,  3.97978385e+00,\n",
              "         -5.28251788e-09,  1.98991222e+00]), 68.65187180467893, 5024),\n",
              " (array([ 2.98485569e+00,  2.77778689e-09, -9.94958632e-01, -5.96957278e+00,\n",
              "          3.97978386e+00, -9.94958638e-01, -2.98485571e+00,  3.97978386e+00,\n",
              "          2.98485570e+00, -9.94958632e-01]), 97.5051604134607, 5024),\n",
              " (array([ 1.98991222e+00, -1.98991223e+00,  9.94958643e-01, -4.97469140e+00,\n",
              "          2.24333343e-10, -5.96957278e+00, -3.97978386e+00, -5.48776080e-09,\n",
              "          1.98991223e+00, -3.97978388e+00]), 105.46465508101765, 5024),\n",
              " (array([ 2.98485570e+00,  9.94958635e-01, -1.98991223e+00,  9.94958642e-01,\n",
              "          2.57049249e-09,  2.98485570e+00, -9.12911371e-10, -9.03531627e-09,\n",
              "          9.94958645e-01,  1.04774995e-10]), 24.873910844808023, 5024),\n",
              " (array([ 1.53461917e-08, -2.83202737e-09, -9.94958634e-01,  9.94958629e-01,\n",
              "          1.98991222e+00, -9.94958633e-01,  9.94958635e-01, -9.94958649e-01,\n",
              "          6.64857288e-09, -9.94958648e-01]), 9.949585533113991, 5024),\n",
              " (array([-3.97978386, -3.97978385,  5.96957278, -3.97978386,  2.98485571,\n",
              "          4.9746914 , -1.98991224,  2.98485571,  1.98991223, -2.9848557 ]),\n",
              "  143.27291235029276,\n",
              "  5024),\n",
              " (array([-1.69821504e-09,  3.97978386e+00, -2.98485570e+00,  9.94958638e-01,\n",
              "          9.94958637e-01, -9.94958632e-01,  1.98991224e+00, -2.98485570e+00,\n",
              "          1.98991223e+00, -9.94958638e-01]), 45.76794488491689, 5024),\n",
              " (array([-0.99495864, -2.9848557 ,  2.98485571, -5.96957279, -1.98991223,\n",
              "         -0.99495864, -2.9848557 , -3.97978386, -0.99495863, -0.99495863]),\n",
              "  86.56070686864666,\n",
              "  5024),\n",
              " (array([-1.98991222e+00, -1.53159588e-09,  9.94958627e-01, -9.94958609e-01,\n",
              "          1.98991223e+00,  2.98485570e+00, -6.12277606e-09,  1.22236227e-08,\n",
              "          1.98359870e-09,  9.94958660e-01]), 19.899140793875397, 5024)]"
            ]
          },
          "metadata": {},
          "execution_count": 115
        }
      ]
    },
    {
      "cell_type": "code",
      "metadata": {
        "id": "I2UkAnmz1uZ3",
        "colab": {
          "base_uri": "https://localhost:8080/"
        },
        "outputId": "60aa00cd-3bb5-4746-9223-332927ae9bdf"
      },
      "source": [
        "print(f\"Giá trị trung bình (mean) của Rastrigin (d=10, n=32) trong ES: {np.mean([all_results[i][1] for i in range(len(all_results))])}\")\n",
        "print(f\"Độ lệch chuẩn (std) của Rastrigin (d=10, n=32) trong ES: {np.std([all_results[i][1] for i in range(len(all_results))])}\")"
      ],
      "execution_count": null,
      "outputs": [
        {
          "output_type": "stream",
          "name": "stdout",
          "text": [
            "Giá trị trung bình (mean) của Rastrigin (d=10, n=32) trong ES: 66.56226178717314\n",
            "Độ lệch chuẩn (std) của Rastrigin (d=10, n=32) trong ES: 40.39898248206791\n"
          ]
        }
      ]
    },
    {
      "cell_type": "markdown",
      "metadata": {
        "id": "QgS5iiYhqrJF"
      },
      "source": [
        "#### **popsize = 64**"
      ]
    },
    {
      "cell_type": "code",
      "metadata": {
        "id": "ZM4vwL421w0t"
      },
      "source": [
        "dimension = 10\n",
        "fobj = Rastrigin_f\n",
        "max_evals = 1e6\n",
        "seed_number = 18520186\n",
        "lower_bound = -6\n",
        "upper_bound = 6\n",
        "popsize = 64\n",
        "bounds = [(lower_bound, upper_bound)]*dimension\n",
        "np.random.rand(seed_number)\n",
        "all_results = []\n",
        "\n",
        "for i in range(10):\n",
        "    np.random.rand(seed_number)\n",
        "    results, all_pops, generation_count = ES(fobj, bounds, sigma_init, c_inc, c_dec, popsize, max_evals, dimension)\n",
        "    all_results.append(results[-1])\n",
        "    seed_number += 1"
      ],
      "execution_count": null,
      "outputs": []
    },
    {
      "cell_type": "code",
      "metadata": {
        "id": "urgjh8Ua1w4N",
        "colab": {
          "base_uri": "https://localhost:8080/"
        },
        "outputId": "033ec239-1c9f-4742-c801-991ae4e54850"
      },
      "source": [
        "all_results"
      ],
      "execution_count": null,
      "outputs": [
        {
          "output_type": "execute_result",
          "data": {
            "text/plain": [
              "[(array([ 2.98500006e+00,  1.14428289e-04, -1.98992565e+00,  9.94925082e-01,\n",
              "          2.98481008e+00, -9.94886249e-01, -9.94929199e-01, -1.98990789e+00,\n",
              "          3.38399217e-05, -9.94952573e-01]), 29.848709925280573, 5056),\n",
              " (array([-2.98486839, -1.98991113, -0.99494465,  1.98989218, -1.98991671,\n",
              "          5.96958524, -1.98991036, -2.98482414,  0.99494885,  1.9899009 ]),\n",
              "  75.61626890929332,\n",
              "  5056),\n",
              " (array([ 1.98985518e+00, -9.95019864e-01,  3.97987256e+00,  9.95019582e-01,\n",
              "          9.95042980e-01,  9.95007781e-01,  1.98992141e+00,  2.46603052e-05,\n",
              "          9.94930369e-01, -1.09393850e-05]), 28.853707340637616, 5056),\n",
              " (array([ 1.98990844e+00,  2.98483507e+00, -7.20026030e-06,  1.98990143e+00,\n",
              "         -9.94949562e-01,  3.97979837e+00,  9.94966771e-01, -2.98484412e+00,\n",
              "         -4.97469875e+00,  1.98989359e+00]), 72.63158119294718, 5056),\n",
              " (array([ 3.97978569e+00, -2.98484817e+00, -9.94943548e-01,  1.87432567e-05,\n",
              "         -6.09263250e-06,  2.98484899e+00,  9.94954238e-01,  9.94946740e-01,\n",
              "         -9.94974166e-01,  4.97469733e+00]), 62.68200566797178, 5056),\n",
              " (array([ 9.95022352e-01,  1.30661641e-05,  1.20557316e-05,  1.98987413e+00,\n",
              "          9.94942865e-01,  2.80891642e-05, -1.58682817e-05, -2.98488791e+00,\n",
              "         -9.94945703e-01, -1.98987034e+00]), 19.899142790325087, 5056),\n",
              " (array([-2.98486246e+00,  3.97977385e+00,  1.35628505e-05,  5.88786748e-06,\n",
              "         -2.98487694e+00,  9.94952332e-01, -2.98485801e+00,  9.94956559e-01,\n",
              "         -9.94990641e-01, -1.98992565e+00]), 49.747756288516825, 5056),\n",
              " (array([ 9.95005075e-01,  1.98995521e+00, -9.94934042e-01, -9.94994466e-01,\n",
              "          9.94983674e-01, -3.92190361e-05, -9.94945596e-01, -9.94965055e-01,\n",
              "          1.98989680e+00,  2.40480050e-05]), 13.929418524662477, 5056),\n",
              " (array([ 1.98991627, -0.9949812 , -1.98992309, -1.98992828, -2.98485661,\n",
              "         -3.97978543,  4.97470089,  3.97975773, -2.98484198, -0.99494245]),\n",
              "  88.55082510866552,\n",
              "  5056),\n",
              " (array([-0.9949888 ,  1.98992033,  0.99493658,  3.97981381, -1.98991858,\n",
              "          1.98991016, -2.98486192,  2.98485036,  0.99491548,  1.98991517]),\n",
              "  52.732649068322026,\n",
              "  5056)]"
            ]
          },
          "metadata": {},
          "execution_count": 118
        }
      ]
    },
    {
      "cell_type": "code",
      "metadata": {
        "id": "y1lHoDv91xH-",
        "colab": {
          "base_uri": "https://localhost:8080/"
        },
        "outputId": "1e2c9ac9-f9cf-480d-83ce-2d0396d9129f"
      },
      "source": [
        "print(f\"Giá trị trung bình (mean) của Rastrigin (d=10, n=64) trong ES: {np.mean([all_results[i][1] for i in range(len(all_results))])}\")\n",
        "print(f\"Độ lệch chuẩn (std) của Rastrigin (d=10, n=64) trong ES: {np.std([all_results[i][1] for i in range(len(all_results))])}\")"
      ],
      "execution_count": null,
      "outputs": [
        {
          "output_type": "stream",
          "name": "stdout",
          "text": [
            "Giá trị trung bình (mean) của Rastrigin (d=10, n=64) trong ES: 49.449206481662245\n",
            "Độ lệch chuẩn (std) của Rastrigin (d=10, n=64) trong ES: 24.249261813314682\n"
          ]
        }
      ]
    },
    {
      "cell_type": "markdown",
      "metadata": {
        "id": "ccVbP0_2qrUF"
      },
      "source": [
        "#### **popsize = 128**"
      ]
    },
    {
      "cell_type": "code",
      "metadata": {
        "id": "wjzEAZYu1zr9"
      },
      "source": [
        "dimension = 10\n",
        "fobj = Rastrigin_f\n",
        "max_evals = 1e6\n",
        "seed_number = 18520186\n",
        "lower_bound = -6\n",
        "upper_bound = 6\n",
        "popsize = 128\n",
        "bounds = [(lower_bound, upper_bound)]*dimension\n",
        "np.random.rand(seed_number)\n",
        "all_results = []\n",
        "\n",
        "for i in range(10):\n",
        "    np.random.rand(seed_number)\n",
        "    results, all_pops, generation_count = ES(fobj, bounds, sigma_init, c_inc, c_dec, popsize, max_evals, dimension)\n",
        "    all_results.append(results[-1])\n",
        "    seed_number += 1"
      ],
      "execution_count": null,
      "outputs": []
    },
    {
      "cell_type": "code",
      "metadata": {
        "id": "zv_NFg-n1zvX",
        "colab": {
          "base_uri": "https://localhost:8080/"
        },
        "outputId": "6878ae0b-cd16-4502-98fd-ef4fe8827686"
      },
      "source": [
        "all_results"
      ],
      "execution_count": null,
      "outputs": [
        {
          "output_type": "execute_result",
          "data": {
            "text/plain": [
              "[(array([-7.89435674e-03,  9.44767181e-03, -2.20967067e-03, -1.98766769e+00,\n",
              "          9.96637060e-01, -3.13930702e-03,  1.99444520e+00, -1.99472539e+00,\n",
              "          2.98622328e+00, -3.41242183e-03]), 21.934937547959706, 5120),\n",
              " (array([-3.97744123e+00, -2.98429948e+00,  1.99181347e+00,  1.99044387e+00,\n",
              "          2.98117205e+00,  5.83043482e-03,  1.98776200e+00, -9.95484648e-01,\n",
              "         -1.98852799e+00, -1.55681021e-03]), 50.75589375392897, 5120),\n",
              " (array([-3.19165989e-03, -9.95313790e-01, -4.97301559e+00,  9.93781463e-01,\n",
              "         -2.98548667e+00,  2.98776317e+00,  9.93171023e-01,  9.93805270e-01,\n",
              "          1.99012959e+00,  2.25837601e-03]), 50.749130963725506, 5120),\n",
              " (array([ 1.99181869e+00, -2.98403198e+00, -3.98129063e+00, -5.85218724e-04,\n",
              "         -9.93355721e-01, -1.34498869e-03, -1.99218500e+00,  3.98084960e+00,\n",
              "         -2.98397138e+00,  1.98840985e+00]), 62.68622759193185, 5120),\n",
              " (array([-9.94467152e-01, -1.34922973e-03,  1.00004374e+00, -2.97709890e+00,\n",
              "         -2.25736712e-03, -4.28589261e-03,  9.91524849e-01,  4.35602130e-03,\n",
              "          9.98366275e-01, -9.96614241e-01]), 13.96040004924342, 5120),\n",
              " (array([ 4.97474202e+00,  1.99102861e+00,  4.97299729e+00,  2.98490751e+00,\n",
              "         -1.98936441e+00, -2.98458123e+00, -6.45539724e-04,  2.98414831e+00,\n",
              "         -3.97924569e+00,  9.93564771e-01]), 101.48662255796985, 5120),\n",
              " (array([ 9.96181639e-01,  3.55591195e-04,  4.97459043e+00,  8.88152787e-04,\n",
              "          9.97413402e-01, -8.94525574e-04,  1.98990432e+00,  9.38636115e-04,\n",
              "         -9.95766230e-01,  9.93731337e-01]), 32.83582714595952, 5120),\n",
              " (array([ 1.99226018e+00, -1.95948157e-03,  9.91920699e-01, -9.93506219e-01,\n",
              "          9.96017427e-01,  9.94396654e-01, -2.03951225e-03, -2.68971320e-03,\n",
              "         -9.89342615e-01,  1.99160099e+00]), 12.947920453601611, 5120),\n",
              " (array([ 3.98190831, -0.997957  , -1.98356542,  0.98439393, -1.99644042,\n",
              "         -2.98420126,  4.97615978,  2.98214262,  0.99908352,  3.98341614]),\n",
              "  85.61507854919122,\n",
              "  5120),\n",
              " (array([ 1.99233307e+00,  9.93531872e-01, -9.96687104e-01, -3.88667963e-03,\n",
              "         -2.98266833e+00,  9.98842315e-01, -3.98437262e+00,  3.98113330e+00,\n",
              "          1.15912107e-03, -1.98865593e+00]), 51.75180423447901, 5120)]"
            ]
          },
          "metadata": {},
          "execution_count": 121
        }
      ]
    },
    {
      "cell_type": "code",
      "metadata": {
        "id": "awQPzwrv1z9R",
        "colab": {
          "base_uri": "https://localhost:8080/"
        },
        "outputId": "06cbd232-de9d-4172-a08b-22b161a585ce"
      },
      "source": [
        "print(f\"Giá trị trung bình (mean) của Rastrigin (d=10, n=128) trong ES: {np.mean([all_results[i][1] for i in range(len(all_results))])}\")\n",
        "print(f\"Độ lệch chuẩn (std) của Rastrigin (d=10, n=128) trong ES: {np.std([all_results[i][1] for i in range(len(all_results))])}\")"
      ],
      "execution_count": null,
      "outputs": [
        {
          "output_type": "stream",
          "name": "stdout",
          "text": [
            "Giá trị trung bình (mean) của Rastrigin (d=10, n=128) trong ES: 48.47238428479907\n",
            "Độ lệch chuẩn (std) của Rastrigin (d=10, n=128) trong ES: 27.955460485279804\n"
          ]
        }
      ]
    },
    {
      "cell_type": "markdown",
      "metadata": {
        "id": "01DAgy58qrfT"
      },
      "source": [
        "#### **popsize = 256**"
      ]
    },
    {
      "cell_type": "code",
      "metadata": {
        "id": "vUFIeOfB112N"
      },
      "source": [
        "dimension = 10\n",
        "fobj = Rastrigin_f\n",
        "max_evals = 1e6\n",
        "seed_number = 18520186\n",
        "lower_bound = -6\n",
        "upper_bound = 6\n",
        "popsize = 256\n",
        "bounds = [(lower_bound, upper_bound)]*dimension\n",
        "np.random.rand(seed_number)\n",
        "all_results = []\n",
        "\n",
        "for i in range(10):\n",
        "    np.random.rand(seed_number)\n",
        "    results, all_pops, generation_count = ES(fobj, bounds, sigma_init, c_inc, c_dec, popsize, max_evals, dimension)\n",
        "    all_results.append(results[-1])\n",
        "    seed_number += 1"
      ],
      "execution_count": null,
      "outputs": []
    },
    {
      "cell_type": "code",
      "metadata": {
        "id": "WBQU7s8l114e",
        "colab": {
          "base_uri": "https://localhost:8080/"
        },
        "outputId": "4749b839-6bb5-4dff-a992-ef81207ebeb8"
      },
      "source": [
        "all_results"
      ],
      "execution_count": null,
      "outputs": [
        {
          "output_type": "execute_result",
          "data": {
            "text/plain": [
              "[(array([-0.96506132, -0.047703  ,  1.0147979 , -1.05561239, -3.94738396,\n",
              "          0.93637442,  1.904359  , -2.03380535, -1.00144005,  1.95996719]),\n",
              "  37.098732641558605,\n",
              "  5120),\n",
              " (array([ 0.96954999, -2.02954936, -1.07023007, -0.02030919, -1.08036024,\n",
              "         -2.99027307,  0.99883934,  1.93711718,  2.03713869,  1.01574166]),\n",
              "  29.996240995818688,\n",
              "  5120),\n",
              " (array([ 0.94625906,  1.98514878, -2.95865968,  3.04039868, -1.89454863,\n",
              "         -0.93274187, -1.06638599,  3.99354424, -2.95428359,  0.98236877]),\n",
              "  59.66794483389649,\n",
              "  5120),\n",
              " (array([-0.02338917, -1.03854398,  0.98331953,  0.06148174, -1.01712821,\n",
              "         -1.94707943, -1.02579346, -2.01055636, -1.00982547, -0.99954026]),\n",
              "  15.958009985502164,\n",
              "  5120),\n",
              " (array([ 3.00307519e+00,  2.01000410e+00, -1.01988417e+00, -1.99403124e+00,\n",
              "         -1.00416247e-03,  9.78278360e-01,  4.94709350e+00,  9.93442463e-01,\n",
              "         -4.96819221e+00, -2.99408114e+00]), 79.1017257346455, 5120),\n",
              " (array([-2.91729357,  2.0604125 ,  0.03931082,  2.03480815, -2.10852433,\n",
              "         -0.01374029,  0.93996379,  0.99823477, -0.0488077 , -0.96089051]),\n",
              "  30.4672654488918,\n",
              "  5120),\n",
              " (array([-0.04662913,  0.99501622,  1.06127191,  0.96846318,  0.06298886,\n",
              "          1.96006609,  2.06012752,  0.97079402, -2.02181435, -3.04194972]),\n",
              "  29.187064471889045,\n",
              "  5120),\n",
              " (array([ 1.9481096 ,  1.05263109, -0.99126003,  0.01928994,  0.96969164,\n",
              "         -0.93409312,  2.00935484,  2.0240685 , -2.00728439,  0.09251954]),\n",
              "  23.83861626359642,\n",
              "  5120),\n",
              " (array([ 5.98341633, -0.01717125, -2.95171104, -2.03447592,  1.01817033,\n",
              "         -2.97786948, -0.97192302,  0.00722266,  0.98728725, -0.00746648]),\n",
              "  61.64996583577352,\n",
              "  5120),\n",
              " (array([-0.97405233, -0.95873187, -2.05318441,  0.09788198,  0.02802406,\n",
              "          2.99229461,  1.05464077,  0.95623918,  1.04617934, -1.93993402]),\n",
              "  27.03189106879465,\n",
              "  5120)]"
            ]
          },
          "metadata": {},
          "execution_count": 124
        }
      ]
    },
    {
      "cell_type": "code",
      "metadata": {
        "id": "c7PrlZey118U",
        "colab": {
          "base_uri": "https://localhost:8080/"
        },
        "outputId": "50482f8d-b127-4bb7-cc31-c19ab65f0408"
      },
      "source": [
        "print(f\"Giá trị trung bình (mean) của Rastrigin (d=10, n=256) trong ES: {np.mean([all_results[i][1] for i in range(len(all_results))])}\")\n",
        "print(f\"Độ lệch chuẩn (std) của Rastrigin (d=10, n=256) trong ES: {np.std([all_results[i][1] for i in range(len(all_results))])}\")"
      ],
      "execution_count": null,
      "outputs": [
        {
          "output_type": "stream",
          "name": "stdout",
          "text": [
            "Giá trị trung bình (mean) của Rastrigin (d=10, n=256) trong ES: 39.399745728036685\n",
            "Độ lệch chuẩn (std) của Rastrigin (d=10, n=256) trong ES: 19.247222097842265\n"
          ]
        }
      ]
    },
    {
      "cell_type": "markdown",
      "metadata": {
        "id": "4lzcukq5qrtc"
      },
      "source": [
        "#### **popsize = 512**"
      ]
    },
    {
      "cell_type": "code",
      "metadata": {
        "id": "VtaAbmAX13yC"
      },
      "source": [
        "dimension = 10\n",
        "fobj = Rastrigin_f\n",
        "max_evals = 1e6\n",
        "seed_number = 18520186\n",
        "lower_bound = -6\n",
        "upper_bound = 6\n",
        "popsize = 512\n",
        "bounds = [(lower_bound, upper_bound)]*dimension\n",
        "np.random.rand(seed_number)\n",
        "all_results = []\n",
        "\n",
        "for i in range(10):\n",
        "    np.random.rand(seed_number)\n",
        "    results, all_pops, generation_count = ES(fobj, bounds, sigma_init, c_inc, c_dec, popsize, max_evals, dimension)\n",
        "    all_results.append(results[-1])\n",
        "    seed_number += 1"
      ],
      "execution_count": null,
      "outputs": []
    },
    {
      "cell_type": "code",
      "metadata": {
        "id": "TW5aVmyd130c",
        "colab": {
          "base_uri": "https://localhost:8080/"
        },
        "outputId": "ae12fd12-b51e-49cd-846e-1541cf646aec"
      },
      "source": [
        "all_results"
      ],
      "execution_count": null,
      "outputs": [
        {
          "output_type": "execute_result",
          "data": {
            "text/plain": [
              "[(array([-2.02461327, -1.03751117,  1.89592524,  2.00672691,  1.97348704,\n",
              "         -0.00553007, -0.05565146, -2.00699235, -1.94365328,  1.02930435]),\n",
              "  29.57619727438086,\n",
              "  10240),\n",
              " (array([-2.00545542, -1.95579271,  0.00883285,  3.99302258, -0.94967256,\n",
              "          0.97401303,  0.02763406,  0.92728604,  1.05347429, -0.01937359]),\n",
              "  30.464809889147602,\n",
              "  10240),\n",
              " (array([-0.97419559, -3.94022713,  2.03419325, -2.00079757,  1.98093226,\n",
              "         -0.99030652,  2.06510769, -1.93907923,  2.03147205, -0.96295181]),\n",
              "  45.761044884746326,\n",
              "  10240),\n",
              " (array([ 1.01716362e+00,  2.94877246e+00,  2.97782665e-02,  9.84974111e-01,\n",
              "         -2.97128772e-02,  5.03610727e+00, -1.02650379e+00,  2.60283692e-03,\n",
              "          9.83643290e-01,  9.63436303e-01]), 40.689569634651065, 10240),\n",
              " (array([-8.64815585e-03, -2.97704106e+00, -6.87713422e-03,  1.99887218e+00,\n",
              "         -9.77522002e-01,  2.00821307e+00,  1.97492765e-04,  1.64025610e-02,\n",
              "         -9.84426176e-01,  9.77006096e-01]), 20.21694216193435, 10240),\n",
              " (array([ 2.94744051, -0.99373305,  0.96911454,  1.0081861 ,  0.06731791,\n",
              "          0.98551294,  1.99485989,  0.94667269, -0.01634994, -1.0273412 ]),\n",
              "  20.970598893545716,\n",
              "  10240),\n",
              " (array([-1.98102519,  0.99707972,  2.99814057, -2.96974532,  2.95851131,\n",
              "          3.98744317, -4.98317443, -2.9783468 , -0.99833167, -1.98148537]),\n",
              "  86.84370730196223,\n",
              "  10240),\n",
              " (array([ 2.60986039e-02,  9.81643499e-01, -9.71316931e-01,  1.98481239e-03,\n",
              "          7.47717960e-03, -3.01668942e+00, -9.67547355e-01, -3.25166821e-03,\n",
              "         -9.61081188e-01,  2.02410662e+00]), 18.015615401881824, 10240),\n",
              " (array([-0.02553871, -2.98463804, -0.00668715,  0.01311847, -0.02683456,\n",
              "          0.00604297, -3.01676804, -1.96364557,  1.96618947, -1.99449773]),\n",
              "  30.62318423050531,\n",
              "  10240),\n",
              " (array([-9.92292225e-01, -9.84386540e-01,  2.96460165e+00,  2.95429384e+00,\n",
              "          1.97800716e+00, -9.77430044e-01, -4.21169147e-04,  2.18273436e-02,\n",
              "          9.80547423e-01,  1.98535893e+00]), 30.364046420023232, 10240)]"
            ]
          },
          "metadata": {},
          "execution_count": 127
        }
      ]
    },
    {
      "cell_type": "code",
      "metadata": {
        "id": "-BqotVBj134C",
        "colab": {
          "base_uri": "https://localhost:8080/"
        },
        "outputId": "3444cc8a-abb2-4f96-fc2a-2f5ac0b75892"
      },
      "source": [
        "print(f\"Giá trị trung bình (mean) của Rastrigin (d=10, n=512) trong ES: {np.mean([all_results[i][1] for i in range(len(all_results))])}\")\n",
        "print(f\"Độ lệch chuẩn (std) của Rastrigin (d=10, n=512) trong ES: {np.std([all_results[i][1] for i in range(len(all_results))])}\")"
      ],
      "execution_count": null,
      "outputs": [
        {
          "output_type": "stream",
          "name": "stdout",
          "text": [
            "Giá trị trung bình (mean) của Rastrigin (d=10, n=512) trong ES: 35.35257160927785\n",
            "Độ lệch chuẩn (std) của Rastrigin (d=10, n=512) trong ES: 19.050366376802007\n"
          ]
        }
      ]
    },
    {
      "cell_type": "markdown",
      "metadata": {
        "id": "zkmwIQrGqr6_"
      },
      "source": [
        "#### **popsize = 1024**"
      ]
    },
    {
      "cell_type": "code",
      "metadata": {
        "id": "UFRP66Vh16fq"
      },
      "source": [
        "dimension = 10\n",
        "fobj = Rastrigin_f\n",
        "max_evals = 1e6\n",
        "seed_number = 18520186\n",
        "lower_bound = -6\n",
        "upper_bound = 6\n",
        "popsize = 1024\n",
        "bounds = [(lower_bound, upper_bound)]*dimension\n",
        "np.random.rand(seed_number)\n",
        "all_results = []\n",
        "\n",
        "for i in range(10):\n",
        "    np.random.rand(seed_number)\n",
        "    results, all_pops, generation_count = ES(fobj, bounds, sigma_init, c_inc, c_dec, popsize, max_evals, dimension)\n",
        "    all_results.append(results[-1])\n",
        "    seed_number += 1"
      ],
      "execution_count": null,
      "outputs": []
    },
    {
      "cell_type": "code",
      "metadata": {
        "id": "iue0qQOl16jK",
        "colab": {
          "base_uri": "https://localhost:8080/"
        },
        "outputId": "3b366a9e-6e60-44c4-a298-17a4d0617682"
      },
      "source": [
        "all_results"
      ],
      "execution_count": null,
      "outputs": [
        {
          "output_type": "execute_result",
          "data": {
            "text/plain": [
              "[(array([-2.93618851,  0.37351151,  0.04647829,  1.03269925,  1.9443286 ,\n",
              "         -0.06637965,  2.86217207, -2.95175155, -2.03863643,  0.05875214]),\n",
              "  59.516777922587075,\n",
              "  10240),\n",
              " (array([-0.87922198,  0.97781212, -1.97964345, -1.95949442,  0.89367348,\n",
              "          3.06997913,  0.92477887,  2.92908552,  3.13161773,  2.95657233]),\n",
              "  59.71149407205498,\n",
              "  10240),\n",
              " (array([-1.09587014, -0.98845733,  1.92895597, -2.09601624, -0.9679334 ,\n",
              "         -0.99410871,  1.9208215 , -1.06608455,  0.31845882,  0.93577915]),\n",
              "  39.796061717999876,\n",
              "  10240),\n",
              " (array([ 0.06813386,  1.01077148, -2.8466391 , -2.04241177, -2.06714543,\n",
              "         -0.96036728,  0.1982778 , -2.03730688,  3.84055792,  0.9579118 ]),\n",
              "  57.15213457779548,\n",
              "  10240),\n",
              " (array([-0.09217549, -5.08992337,  1.0828754 , -1.01206171,  2.05152117,\n",
              "         -3.0079765 , -0.03733392,  1.87459653, -2.00747016,  0.83872811]),\n",
              "  62.63036465433142,\n",
              "  10240),\n",
              " (array([-1.01558458,  2.02107112, -0.86716067,  2.73417752,  1.0590332 ,\n",
              "          0.09521775, -1.96006051, -2.15590616, -0.65714549, -2.07543175]),\n",
              "  65.88469629339023,\n",
              "  10240),\n",
              " (array([ 0.04328262, -2.08328587,  0.95592281, -1.10611784,  0.90624183,\n",
              "          1.02149232,  1.17277694,  0.09895213, -0.19102383,  0.99762135]),\n",
              "  30.353190686131477,\n",
              "  10240),\n",
              " (array([ 1.97662325,  2.0388794 , -1.03411636,  3.89976892,  0.04406013,\n",
              "         -0.09470909,  1.05095672, -1.87655906, -3.05856559,  4.12862845]),\n",
              "  67.16004810612444,\n",
              "  10240),\n",
              " (array([-1.84733363e+00, -1.82329178e+00, -2.54882453e-01,  8.73133954e-04,\n",
              "          1.88646895e+00, -8.27179408e-01,  2.30450829e-01, -1.37005931e-01,\n",
              "          6.81244279e-02, -2.06838375e+00]), 57.36563563450615, 10240),\n",
              " (array([ 1.12357975, -0.99619661, -1.16351648,  1.00203432,  0.16411509,\n",
              "         -2.13637089,  0.9690763 ,  0.06022641, -2.25350622, -1.94310732]),\n",
              "  46.76136980232238,\n",
              "  10240)]"
            ]
          },
          "metadata": {},
          "execution_count": 130
        }
      ]
    },
    {
      "cell_type": "code",
      "metadata": {
        "id": "dJkRcYwP164M",
        "colab": {
          "base_uri": "https://localhost:8080/"
        },
        "outputId": "f8200710-f467-49e2-f759-966fea2bc8f2"
      },
      "source": [
        "print(f\"Giá trị trung bình (mean) của Rastrigin (d=10, n=1024) trong ES: {np.mean([all_results[i][1] for i in range(len(all_results))])}\")\n",
        "print(f\"Độ lệch chuẩn (std) của Rastrigin (d=10, n=1024) trong ES: {np.std([all_results[i][1] for i in range(len(all_results))])}\")"
      ],
      "execution_count": null,
      "outputs": [
        {
          "output_type": "stream",
          "name": "stdout",
          "text": [
            "Giá trị trung bình (mean) của Rastrigin (d=10, n=1024) trong ES: 54.633177346724345\n",
            "Độ lệch chuẩn (std) của Rastrigin (d=10, n=1024) trong ES: 11.32496185455576\n"
          ]
        }
      ]
    },
    {
      "cell_type": "markdown",
      "metadata": {
        "id": "K2P1c7QqqsKx"
      },
      "source": [
        "## **Hàm Rosenbrock**"
      ]
    },
    {
      "cell_type": "markdown",
      "metadata": {
        "id": "oquo2Cqyqvo8"
      },
      "source": [
        "### **dimensions (d=2)**"
      ]
    },
    {
      "cell_type": "markdown",
      "metadata": {
        "id": "417Tba1Aqvzn"
      },
      "source": [
        "#### **popsize = 32**"
      ]
    },
    {
      "cell_type": "code",
      "metadata": {
        "id": "Rr0A5rHW4XvA"
      },
      "source": [
        "dimension = 2\n",
        "fobj = Rosenbrock_f\n",
        "max_evals = 1e5\n",
        "seed_number = 18520186\n",
        "lower_bound = -3\n",
        "upper_bound = 3\n",
        "popsize = 32\n",
        "bounds = [(lower_bound, upper_bound)]*dimension\n",
        "np.random.rand(seed_number)\n",
        "all_results = []\n",
        "\n",
        "for i in range(10):\n",
        "    np.random.rand(seed_number)\n",
        "    results, all_pops, generation_count = ES(fobj, bounds, sigma_init, c_inc, c_dec, popsize, max_evals, dimension)\n",
        "    all_results.append(results[-1])\n",
        "    seed_number += 1"
      ],
      "execution_count": null,
      "outputs": []
    },
    {
      "cell_type": "code",
      "metadata": {
        "id": "ILFccoBe4Xy2",
        "colab": {
          "base_uri": "https://localhost:8080/"
        },
        "outputId": "99e232e1-a18f-40e2-b8c4-739bad139c3d"
      },
      "source": [
        "all_results"
      ],
      "execution_count": null,
      "outputs": [
        {
          "output_type": "execute_result",
          "data": {
            "text/plain": [
              "[(array([1.00301913, 1.00604632]), 9.115251201786626e-06, 1728),\n",
              " (array([0.99722638, 0.99434218]), 9.091899296723211e-06, 928),\n",
              " (array([1.00029788, 1.00054526]), 3.4468465961248677e-07, 736),\n",
              " (array([0.99876099, 0.99780337]), 9.366926981039014e-06, 576),\n",
              " (array([1.00062409, 1.00115226]), 1.3170182935202305e-06, 1088),\n",
              " (array([1.00268331, 1.00521082]), 9.856762984769384e-06, 960),\n",
              " (array([0.99860008, 0.99729088]), 2.7477202881010657e-06, 640),\n",
              " (array([1.00231864, 1.0047236 ]), 6.031130431789078e-06, 672),\n",
              " (array([0.99731289, 0.99468964]), 7.5413584323433316e-06, 1216),\n",
              " (array([1.0262743 , 1.05304844]), 0.0006939675835104977, 5024)]"
            ]
          },
          "metadata": {},
          "execution_count": 133
        }
      ]
    },
    {
      "cell_type": "code",
      "metadata": {
        "id": "iuvOgifN4X3A",
        "colab": {
          "base_uri": "https://localhost:8080/"
        },
        "outputId": "cc8977c9-3b30-4bce-9677-dd8ec496f086"
      },
      "source": [
        "print(f\"Giá trị trung bình (mean) của Rosenbrock (d=2, n=32) trong ES: {np.mean([all_results[i][1] for i in range(len(all_results))])}\")\n",
        "print(f\"Độ lệch chuẩn (std) của Rosenbrock (d=2, n=32) trong ES: {np.std([all_results[i][1] for i in range(len(all_results))])}\")"
      ],
      "execution_count": null,
      "outputs": [
        {
          "output_type": "stream",
          "name": "stdout",
          "text": [
            "Giá trị trung bình (mean) của Rosenbrock (d=2, n=32) trong ES: 7.493803360801822e-05\n",
            "Độ lệch chuẩn (std) của Rosenbrock (d=2, n=32) trong ES: 0.00020637035000714283\n"
          ]
        }
      ]
    },
    {
      "cell_type": "markdown",
      "metadata": {
        "id": "l9e978r-qv9x"
      },
      "source": [
        "#### **popsize = 64**"
      ]
    },
    {
      "cell_type": "code",
      "metadata": {
        "id": "8siCBqW04dVV"
      },
      "source": [
        "dimension = 2\n",
        "fobj = Rosenbrock_f\n",
        "max_evals = 1e5\n",
        "seed_number = 18520186\n",
        "lower_bound = -3\n",
        "upper_bound = 3\n",
        "popsize = 64\n",
        "bounds = [(lower_bound, upper_bound)]*dimension\n",
        "np.random.rand(seed_number)\n",
        "all_results = []\n",
        "\n",
        "for i in range(10):\n",
        "    np.random.rand(seed_number)\n",
        "    results, all_pops, generation_count = ES(fobj, bounds, sigma_init, c_inc, c_dec, popsize, max_evals, dimension)\n",
        "    all_results.append(results[-1])\n",
        "    seed_number += 1"
      ],
      "execution_count": null,
      "outputs": []
    },
    {
      "cell_type": "code",
      "metadata": {
        "id": "CwYicfeP4dgW",
        "colab": {
          "base_uri": "https://localhost:8080/"
        },
        "outputId": "04cedcde-17ce-4219-d9ad-2a7221527f66"
      },
      "source": [
        "all_results"
      ],
      "execution_count": null,
      "outputs": [
        {
          "output_type": "execute_result",
          "data": {
            "text/plain": [
              "[(array([0.99874559, 0.9977287 ]), 7.140658894310045e-06, 832),\n",
              " (array([1.00157043, 1.00324207]), 3.4411862756382064e-06, 1600),\n",
              " (array([1.00248976, 1.00516801]), 9.522216577360573e-06, 1536),\n",
              " (array([0.99731634, 0.99457687]), 7.59900149694629e-06, 2368),\n",
              " (array([1.00050835, 1.00125666]), 6.00401443719638e-06, 1344),\n",
              " (array([1.0028261 , 1.00579124]), 9.704253610211113e-06, 1024),\n",
              " (array([1.00080086, 1.00182356]), 5.533736844216456e-06, 1664),\n",
              " (array([0.99806882, 0.99623701]), 4.644258014508558e-06, 1344),\n",
              " (array([0.99943255, 0.99902754]), 2.9499382551754056e-06, 1344),\n",
              " (array([0.99752496, 0.99490385]), 8.44235626233152e-06, 1408)]"
            ]
          },
          "metadata": {},
          "execution_count": 136
        }
      ]
    },
    {
      "cell_type": "code",
      "metadata": {
        "id": "BVwSgJYG4dpw",
        "colab": {
          "base_uri": "https://localhost:8080/"
        },
        "outputId": "9de0b783-e8c6-42bb-d79c-2a305d35ecd4"
      },
      "source": [
        "print(f\"Giá trị trung bình (mean) của Rosenbrock (d=2, n=64) trong ES: {np.mean([all_results[i][1] for i in range(len(all_results))])}\")\n",
        "print(f\"Độ lệch chuẩn (std) của Rosenbrock (d=2, n=64) trong ES: {np.std([all_results[i][1] for i in range(len(all_results))])}\")"
      ],
      "execution_count": null,
      "outputs": [
        {
          "output_type": "stream",
          "name": "stdout",
          "text": [
            "Giá trị trung bình (mean) của Rosenbrock (d=2, n=64) trong ES: 6.498162066789454e-06\n",
            "Độ lệch chuẩn (std) của Rosenbrock (d=2, n=64) trong ES: 2.2665992299448882e-06\n"
          ]
        }
      ]
    },
    {
      "cell_type": "markdown",
      "metadata": {
        "id": "60eKkCn3qwLa"
      },
      "source": [
        "#### **popsize = 128**"
      ]
    },
    {
      "cell_type": "code",
      "metadata": {
        "id": "daOBNXjr4f5p"
      },
      "source": [
        "dimension = 2\n",
        "fobj = Rosenbrock_f\n",
        "max_evals = 1e5\n",
        "seed_number = 18520186\n",
        "lower_bound = -3\n",
        "upper_bound = 3\n",
        "popsize = 128\n",
        "bounds = [(lower_bound, upper_bound)]*dimension\n",
        "np.random.rand(seed_number)\n",
        "all_results = []\n",
        "\n",
        "for i in range(10):\n",
        "    np.random.rand(seed_number)\n",
        "    results, all_pops, generation_count = ES(fobj, bounds, sigma_init, c_inc, c_dec, popsize, max_evals, dimension)\n",
        "    all_results.append(results[-1])\n",
        "    seed_number += 1"
      ],
      "execution_count": null,
      "outputs": []
    },
    {
      "cell_type": "code",
      "metadata": {
        "id": "_EP8UsXN4f9B",
        "colab": {
          "base_uri": "https://localhost:8080/"
        },
        "outputId": "0c910c85-046e-481f-87f2-91fffd57b817"
      },
      "source": [
        "all_results"
      ],
      "execution_count": null,
      "outputs": [
        {
          "output_type": "execute_result",
          "data": {
            "text/plain": [
              "[(array([1.00229461, 1.0047627 ]), 8.09488032724405e-06, 2432),\n",
              " (array([1.00040845, 1.00052856]), 8.490907036634652e-06, 2688),\n",
              " (array([1.00060638, 1.00126709]), 6.589012922227574e-07, 2688),\n",
              " (array([0.99913027, 0.99831361]), 1.0302324102103203e-06, 2304),\n",
              " (array([1.001089  , 1.00209128]), 1.9584838681749194e-06, 3584),\n",
              " (array([1.00300843, 1.00596148]), 9.465669163108254e-06, 3200),\n",
              " (array([0.99995537, 1.00015426]), 5.9324441143758e-06, 2304),\n",
              " (array([0.99944231, 0.99858418]), 9.356065601095931e-06, 1920),\n",
              " (array([1.00111177, 1.00215158]), 1.7717314554014773e-06, 4096),\n",
              " (array([0.99949849, 0.99878663]), 4.686737180921125e-06, 2816)]"
            ]
          },
          "metadata": {},
          "execution_count": 139
        }
      ]
    },
    {
      "cell_type": "code",
      "metadata": {
        "id": "i3mjz5QE4gYt",
        "colab": {
          "base_uri": "https://localhost:8080/"
        },
        "outputId": "cc546d7b-24d8-420b-9d0a-1ecae6fdb348"
      },
      "source": [
        "print(f\"Giá trị trung bình (mean) của Rosenbrock (d=2, n=128) trong ES: {np.mean([all_results[i][1] for i in range(len(all_results))])}\")\n",
        "print(f\"Độ lệch chuẩn (std) của Rosenbrock (d=2, n=128) trong ES: {np.std([all_results[i][1] for i in range(len(all_results))])}\")"
      ],
      "execution_count": null,
      "outputs": [
        {
          "output_type": "stream",
          "name": "stdout",
          "text": [
            "Giá trị trung bình (mean) của Rosenbrock (d=2, n=128) trong ES: 5.144605244938929e-06\n",
            "Độ lệch chuẩn (std) của Rosenbrock (d=2, n=128) trong ES: 3.4017265397029478e-06\n"
          ]
        }
      ]
    },
    {
      "cell_type": "markdown",
      "metadata": {
        "id": "RtAatz_ZqwWv"
      },
      "source": [
        "#### **popsize = 256**"
      ]
    },
    {
      "cell_type": "code",
      "metadata": {
        "id": "DajyVLkb4iI0"
      },
      "source": [
        "dimension = 2\n",
        "fobj = Rosenbrock_f\n",
        "max_evals = 1e5\n",
        "seed_number = 18520186\n",
        "lower_bound = -3\n",
        "upper_bound = 3\n",
        "popsize = 256\n",
        "bounds = [(lower_bound, upper_bound)]*dimension\n",
        "np.random.rand(seed_number)\n",
        "all_results = []\n",
        "\n",
        "for i in range(10):\n",
        "    np.random.rand(seed_number)\n",
        "    results, all_pops, generation_count = ES(fobj, bounds, sigma_init, c_inc, c_dec, popsize, max_evals, dimension)\n",
        "    all_results.append(results[-1])\n",
        "    seed_number += 1"
      ],
      "execution_count": null,
      "outputs": []
    },
    {
      "cell_type": "code",
      "metadata": {
        "id": "_m3wcYV04iLY",
        "colab": {
          "base_uri": "https://localhost:8080/"
        },
        "outputId": "918d0262-9176-4617-9c8e-8c0db62e95b8"
      },
      "source": [
        "all_results"
      ],
      "execution_count": null,
      "outputs": [
        {
          "output_type": "execute_result",
          "data": {
            "text/plain": [
              "[(array([0.99932446, 0.99857336]), 1.034105079431124e-06, 5120),\n",
              " (array([0.99732368, 0.99458074]), 7.707193916685666e-06, 4864),\n",
              " (array([1.00217572, 1.00440536]), 4.975695086816705e-06, 4864),\n",
              " (array([1.00219971, 1.00440497]), 4.838773280882815e-06, 4608),\n",
              " (array([1.00019243, 1.00023287]), 2.3480192931318616e-06, 4352),\n",
              " (array([0.99934917, 0.99839119]), 9.883260035003328e-06, 4096),\n",
              " (array([0.99485905, 0.98954574]), 3.038066411552059e-05, 5120),\n",
              " (array([1.00288328, 1.00569336]), 8.97764719437858e-06, 3840),\n",
              " (array([1.00065939, 1.00106237]), 7.03226854601583e-06, 4352),\n",
              " (array([1.00217399, 1.00413828]), 9.324004273053988e-06, 4352)]"
            ]
          },
          "metadata": {},
          "execution_count": 142
        }
      ]
    },
    {
      "cell_type": "code",
      "metadata": {
        "id": "zgVjdAYK4iP6",
        "colab": {
          "base_uri": "https://localhost:8080/"
        },
        "outputId": "b6a46c7b-a921-4716-dc27-66831cf3ae66"
      },
      "source": [
        "print(f\"Giá trị trung bình (mean) của Rosenbrock (d=2, n=256) trong ES: {np.mean([all_results[i][1] for i in range(len(all_results))])}\")\n",
        "print(f\"Độ lệch chuẩn (std) của Rosenbrock (d=2, n=256) trong ES: {np.std([all_results[i][1] for i in range(len(all_results))])}\")"
      ],
      "execution_count": null,
      "outputs": [
        {
          "output_type": "stream",
          "name": "stdout",
          "text": [
            "Giá trị trung bình (mean) của Rosenbrock (d=2, n=256) trong ES: 8.650163082092047e-06\n",
            "Độ lệch chuẩn (std) của Rosenbrock (d=2, n=256) trong ES: 7.768867663514529e-06\n"
          ]
        }
      ]
    },
    {
      "cell_type": "markdown",
      "metadata": {
        "id": "YsjySleUqwiW"
      },
      "source": [
        "#### **popsize = 512**"
      ]
    },
    {
      "cell_type": "code",
      "metadata": {
        "id": "S_1_p71R4i0W"
      },
      "source": [
        "dimension = 2\n",
        "fobj = Rosenbrock_f\n",
        "max_evals = 1e5\n",
        "seed_number = 18520186\n",
        "lower_bound = -3\n",
        "upper_bound = 3\n",
        "popsize = 512\n",
        "bounds = [(lower_bound, upper_bound)]*dimension\n",
        "np.random.rand(seed_number)\n",
        "all_results = []\n",
        "\n",
        "for i in range(10):\n",
        "    np.random.rand(seed_number)\n",
        "    results, all_pops, generation_count = ES(fobj, bounds, sigma_init, c_inc, c_dec, popsize, max_evals, dimension)\n",
        "    all_results.append(results[-1])\n",
        "    seed_number += 1"
      ],
      "execution_count": null,
      "outputs": []
    },
    {
      "cell_type": "code",
      "metadata": {
        "id": "S0hXV_fi4i2_",
        "colab": {
          "base_uri": "https://localhost:8080/"
        },
        "outputId": "1c6ca941-0efa-48ca-e335-f7542bc2e8f4"
      },
      "source": [
        "all_results"
      ],
      "execution_count": null,
      "outputs": [
        {
          "output_type": "execute_result",
          "data": {
            "text/plain": [
              "[(array([0.99843465, 0.99662471]), 8.553505882296319e-06, 10240),\n",
              " (array([0.99759456, 0.99504247]), 8.109835039434783e-06, 8192),\n",
              " (array([1.00223027, 1.00397511]), 2.9023266706511256e-05, 10240),\n",
              " (array([0.9981649 , 0.99600093]), 1.4405842843428546e-05, 10240),\n",
              " (array([1.00093761, 1.0020509 ]), 3.934237147993832e-06, 6656),\n",
              " (array([0.99973078, 0.99947783]), 9.872092075094888e-08, 8704),\n",
              " (array([0.99959227, 0.9991633 ]), 2.1209466655763623e-07, 9728),\n",
              " (array([1.00025875, 1.00093335]), 1.7355230468281574e-05, 10240),\n",
              " (array([1.00035208, 1.0007292 ]), 1.8606690752020648e-07, 10240),\n",
              " (array([0.99916182, 0.99833987]), 7.266783049528767e-07, 8704)]"
            ]
          },
          "metadata": {},
          "execution_count": 145
        }
      ]
    },
    {
      "cell_type": "code",
      "metadata": {
        "id": "H68Ja4qC4i6U",
        "colab": {
          "base_uri": "https://localhost:8080/"
        },
        "outputId": "6e6f0759-50fc-4bf8-c486-d12d0cf01895"
      },
      "source": [
        "print(f\"Giá trị trung bình (mean) của Rosenbrock (d=2, n=512) trong ES: {np.mean([all_results[i][1] for i in range(len(all_results))])}\")\n",
        "print(f\"Độ lệch chuẩn (std) của Rosenbrock (d=2, n=512) trong ES: {np.std([all_results[i][1] for i in range(len(all_results))])}\")"
      ],
      "execution_count": null,
      "outputs": [
        {
          "output_type": "stream",
          "name": "stdout",
          "text": [
            "Giá trị trung bình (mean) của Rosenbrock (d=2, n=512) trong ES: 8.260547888772798e-06\n",
            "Độ lệch chuẩn (std) của Rosenbrock (d=2, n=512) trong ES: 9.076030796166592e-06\n"
          ]
        }
      ]
    },
    {
      "cell_type": "markdown",
      "metadata": {
        "id": "z2v3xXe7qwtR"
      },
      "source": [
        "#### **popsize = 1024**"
      ]
    },
    {
      "cell_type": "code",
      "metadata": {
        "id": "dX-jq-1-4nDt"
      },
      "source": [
        "dimension = 2\n",
        "fobj = Rosenbrock_f\n",
        "max_evals = 1e5\n",
        "seed_number = 18520186\n",
        "lower_bound = -3\n",
        "upper_bound = 3\n",
        "popsize = 32\n",
        "bounds = [(lower_bound, upper_bound)]*dimension\n",
        "np.random.rand(seed_number)\n",
        "all_results = []\n",
        "\n",
        "for i in range(10):\n",
        "    np.random.rand(seed_number)\n",
        "    results, all_pops, generation_count = ES(fobj, bounds, sigma_init, c_inc, c_dec, popsize, max_evals, dimension)\n",
        "    all_results.append(results[-1])\n",
        "    seed_number += 1"
      ],
      "execution_count": null,
      "outputs": []
    },
    {
      "cell_type": "code",
      "metadata": {
        "id": "K_7z5Nxf4nHM",
        "colab": {
          "base_uri": "https://localhost:8080/"
        },
        "outputId": "41510e7d-3950-4984-cfe3-91a186775d2a"
      },
      "source": [
        "all_results"
      ],
      "execution_count": null,
      "outputs": [
        {
          "output_type": "execute_result",
          "data": {
            "text/plain": [
              "[(array([1.00299709, 1.00597719]), 9.050000798621179e-06, 4192),\n",
              " (array([1.0029299 , 1.00589117]), 8.636238983471076e-06, 1888),\n",
              " (array([0.99769841, 0.9954656 ]), 5.700160576507646e-06, 992),\n",
              " (array([0.99770352, 0.99547492]), 5.6657193035654115e-06, 1152),\n",
              " (array([1.00207478, 1.00428276]), 5.966161944801058e-06, 2112),\n",
              " (array([1.00049234, 1.00068194]), 9.42168649820297e-06, 672),\n",
              " (array([0.99789797, 0.9956513 ]), 6.640470301918387e-06, 1632),\n",
              " (array([1.00217575, 1.00455534]), 8.698340843427235e-06, 928),\n",
              " (array([1.00297515, 1.00593653]), 8.902656529795148e-06, 2400),\n",
              " (array([0.99928171, 0.99827779]), 8.703770862535465e-06, 864)]"
            ]
          },
          "metadata": {},
          "execution_count": 148
        }
      ]
    },
    {
      "cell_type": "code",
      "metadata": {
        "id": "4UMF1VEZ4nSO",
        "colab": {
          "base_uri": "https://localhost:8080/"
        },
        "outputId": "106f6100-379a-461c-b5bb-54a4d7cb3e84"
      },
      "source": [
        "print(f\"Giá trị trung bình (mean) của Rosenbrock (d=2, n=1024) trong ES: {np.mean([all_results[i][1] for i in range(len(all_results))])}\")\n",
        "print(f\"Độ lệch chuẩn (std) của Rosenbrock (d=2, n=1024) trong ES: {np.std([all_results[i][1] for i in range(len(all_results))])}\")"
      ],
      "execution_count": null,
      "outputs": [
        {
          "output_type": "stream",
          "name": "stdout",
          "text": [
            "Giá trị trung bình (mean) của Rosenbrock (d=2, n=1024) trong ES: 7.738520664284557e-06\n",
            "Độ lệch chuẩn (std) của Rosenbrock (d=2, n=1024) trong ES: 1.4616938099334153e-06\n"
          ]
        }
      ]
    },
    {
      "cell_type": "markdown",
      "metadata": {
        "id": "SDPhVUiaqw7W"
      },
      "source": [
        "### **dimensions (d=10)**"
      ]
    },
    {
      "cell_type": "markdown",
      "metadata": {
        "id": "dEA2wx7OqxG3"
      },
      "source": [
        "#### **popsize = 32**"
      ]
    },
    {
      "cell_type": "code",
      "metadata": {
        "id": "ip3CL4-B4rUA"
      },
      "source": [
        "dimension = 10\n",
        "fobj = Rosenbrock_f\n",
        "max_evals = 1e6\n",
        "seed_number = 18520186\n",
        "lower_bound = -3\n",
        "upper_bound = 3\n",
        "popsize = 32\n",
        "bounds = [(lower_bound, upper_bound)]*dimension\n",
        "np.random.rand(seed_number)\n",
        "all_results = []\n",
        "\n",
        "for i in range(10):\n",
        "    np.random.rand(seed_number)\n",
        "    results, all_pops, generation_count = ES(fobj, bounds, sigma_init, c_inc, c_dec, popsize, max_evals, dimension)\n",
        "    all_results.append(results[-1])\n",
        "    seed_number += 1"
      ],
      "execution_count": null,
      "outputs": []
    },
    {
      "cell_type": "code",
      "metadata": {
        "id": "odtmJuRz4rXM",
        "colab": {
          "base_uri": "https://localhost:8080/"
        },
        "outputId": "7e747a40-e374-4293-ff57-21b9f41ca4a5"
      },
      "source": [
        "all_results"
      ],
      "execution_count": null,
      "outputs": [
        {
          "output_type": "execute_result",
          "data": {
            "text/plain": [
              "[(array([-4.84473014e-01,  2.49996633e-01,  7.44186431e-02,  1.54822446e-02,\n",
              "          1.04891710e-02,  1.06002669e-02,  1.10720246e-02,  1.11217439e-02,\n",
              "          1.04712293e-02,  8.05258304e-05]), 9.588990689151633, 5024),\n",
              " (array([0.86124815, 0.73849331, 0.53313621, 0.28055212, 0.09590153,\n",
              "         0.02570958, 0.01235088, 0.01748651, 0.01385511, 0.00407412]),\n",
              "  5.640894079384633,\n",
              "  5024),\n",
              " (array([ 0.4664951 ,  0.22015886,  0.04156073,  0.03434579,  0.00487134,\n",
              "          0.00241384,  0.00565911,  0.02344075,  0.00530029, -0.01827746]),\n",
              "  7.868651454834403,\n",
              "  5024),\n",
              " (array([0.64525757, 0.4296204 , 0.18257278, 0.0353202 , 0.01353067,\n",
              "         0.01123985, 0.01720875, 0.00906436, 0.00296938, 0.00117732]),\n",
              "  7.026178236855469,\n",
              "  5024),\n",
              " (array([ 0.8967142 ,  0.80036587,  0.64025518,  0.393988  ,  0.15748003,\n",
              "          0.03678799,  0.00765011,  0.00510143,  0.01510329, -0.00561909]),\n",
              "  5.203754115499599,\n",
              "  5024),\n",
              " (array([0.77298145, 0.60794625, 0.37156896, 0.13861135, 0.02610174,\n",
              "         0.00849   , 0.00365217, 0.00847932, 0.0090463 , 0.00393204]),\n",
              "  6.271699199846889,\n",
              "  5024),\n",
              " (array([ 0.73317492,  0.545327  ,  0.30727522,  0.10203299,  0.02644453,\n",
              "          0.00832301,  0.00623319,  0.01529496,  0.01022448, -0.00536354]),\n",
              "  6.525449232475585,\n",
              "  5024),\n",
              " (array([ 0.86559311,  0.7507645 ,  0.55848557,  0.32049433,  0.11404641,\n",
              "          0.02237491,  0.00981435,  0.00395652,  0.01132187, -0.00911176]),\n",
              "  5.490933107482285,\n",
              "  5024),\n",
              " (array([-0.95537179,  0.91744407,  0.85172922,  0.73156964,  0.53192319,\n",
              "          0.28745641,  0.08938134,  0.02262342,  0.00793728, -0.00596084]),\n",
              "  7.474073041518029,\n",
              "  5024),\n",
              " (array([-0.83113468,  0.70516771,  0.50649644,  0.26266211,  0.07918219,\n",
              "          0.01697449,  0.01068245,  0.01010355,  0.00795664, -0.003766  ]),\n",
              "  9.067459873663584,\n",
              "  5024)]"
            ]
          },
          "metadata": {},
          "execution_count": 151
        }
      ]
    },
    {
      "cell_type": "code",
      "metadata": {
        "id": "Z3hnRtca4rav",
        "colab": {
          "base_uri": "https://localhost:8080/"
        },
        "outputId": "9f2d5da4-0dd8-46dd-e135-3c8775b6ca04"
      },
      "source": [
        "print(f\"Giá trị trung bình (mean) của Rosenbrock (d=10, n=32) trong ES: {np.mean([all_results[i][1] for i in range(len(all_results))])}\")\n",
        "print(f\"Độ lệch chuẩn (std) của Rosenbrock (d=10, n=32) trong ES: {np.std([all_results[i][1] for i in range(len(all_results))])}\")"
      ],
      "execution_count": null,
      "outputs": [
        {
          "output_type": "stream",
          "name": "stdout",
          "text": [
            "Giá trị trung bình (mean) của Rosenbrock (d=10, n=32) trong ES: 7.015808303071211\n",
            "Độ lệch chuẩn (std) của Rosenbrock (d=10, n=32) trong ES: 1.4163799471052614\n"
          ]
        }
      ]
    },
    {
      "cell_type": "markdown",
      "metadata": {
        "id": "-sQOOTr1qxSn"
      },
      "source": [
        "#### **popsize = 64**"
      ]
    },
    {
      "cell_type": "code",
      "metadata": {
        "id": "-tyXO3-H4tCR"
      },
      "source": [
        "dimension = 10\n",
        "fobj = Rosenbrock_f\n",
        "max_evals = 1e6\n",
        "seed_number = 18520186\n",
        "lower_bound = -3\n",
        "upper_bound = 3\n",
        "popsize = 64\n",
        "bounds = [(lower_bound, upper_bound)]*dimension\n",
        "np.random.rand(seed_number)\n",
        "all_results = []\n",
        "\n",
        "for i in range(10):\n",
        "    np.random.rand(seed_number)\n",
        "    results, all_pops, generation_count = ES(fobj, bounds, sigma_init, c_inc, c_dec, popsize, max_evals, dimension)\n",
        "    all_results.append(results[-1])\n",
        "    seed_number += 1"
      ],
      "execution_count": null,
      "outputs": []
    },
    {
      "cell_type": "code",
      "metadata": {
        "id": "TmjiBroK4tEr",
        "colab": {
          "base_uri": "https://localhost:8080/"
        },
        "outputId": "c7b09e02-87a6-4e41-e2ac-bfe0c8d89e23"
      },
      "source": [
        "all_results"
      ],
      "execution_count": null,
      "outputs": [
        {
          "output_type": "execute_result",
          "data": {
            "text/plain": [
              "[(array([0.81994808, 0.771174  , 0.64563385, 0.73336607, 0.83042389,\n",
              "         0.96763627, 0.96990331, 1.03668215, 0.96971688, 0.90717461]),\n",
              "  30.107535020880533,\n",
              "  5056),\n",
              " (array([ 0.41159818,  0.18194419,  0.03720945,  0.01356878,  0.00420097,\n",
              "          0.00320807,  0.01508941,  0.00921392,  0.00074149, -0.00331605]),\n",
              "  7.917699452256216,\n",
              "  5056),\n",
              " (array([ 5.73212478e-01,  3.27008132e-01,  1.02019884e-01,  3.04472250e-02,\n",
              "          2.12939107e-02,  8.42840111e-03,  2.16444005e-02,  1.36899293e-02,\n",
              "          1.05748679e-02, -3.04805981e-05]), 7.3969670181691916, 5056),\n",
              " (array([0.99385793, 0.98153755, 0.96586273, 0.93037859, 0.86300548,\n",
              "         0.73957577, 0.54993327, 0.31472   , 0.10515233, 0.01091864]),\n",
              "  1.5940931835490946,\n",
              "  5056),\n",
              " (array([ 0.58652624,  0.34157814,  0.12117698,  0.02263117,  0.02165368,\n",
              "          0.02335569,  0.00585289,  0.00907973,  0.01733317, -0.01224606]),\n",
              "  7.341451957564966,\n",
              "  5056),\n",
              " (array([ 0.77831941,  0.61694995,  0.36625957,  0.15092936,  0.03281509,\n",
              "          0.00710935, -0.00359414,  0.01246481,  0.01448782, -0.00663748]),\n",
              "  6.31041633349997,\n",
              "  5056),\n",
              " (array([0.96408058, 0.9265473 , 0.86437948, 0.74812607, 0.56314343,\n",
              "         0.32438968, 0.10554084, 0.02048928, 0.01788469, 0.0011829 ]),\n",
              "  3.5100575884387752,\n",
              "  5056),\n",
              " (array([-0.8850486 ,  0.79986171,  0.65679627,  0.42458762,  0.19550091,\n",
              "          0.05275081,  0.00796383,  0.00477549,  0.01377064, -0.00271657]),\n",
              "  8.664021418235372,\n",
              "  5056),\n",
              " (array([0.96877815, 0.93914622, 0.88852947, 0.79808908, 0.64094051,\n",
              "         0.41522625, 0.17081342, 0.03101075, 0.01598189, 0.00999268]),\n",
              "  3.171433117357708,\n",
              "  5056),\n",
              " (array([-0.34965128,  0.1336584 ,  0.0341619 ,  0.0058941 ,  0.00764287,\n",
              "          0.01417971,  0.00886249,  0.00684365,  0.00915065, -0.00329408]),\n",
              "  9.489339284537039,\n",
              "  5056)]"
            ]
          },
          "metadata": {},
          "execution_count": 154
        }
      ]
    },
    {
      "cell_type": "code",
      "metadata": {
        "id": "EV2DRH254tIC",
        "colab": {
          "base_uri": "https://localhost:8080/"
        },
        "outputId": "5c0811f3-ca7c-45fb-e986-fdfa1b5ffcc1"
      },
      "source": [
        "print(f\"Giá trị trung bình (mean) của Rosenbrock (d=10, n=64) trong ES: {np.mean([all_results[i][1] for i in range(len(all_results))])}\")\n",
        "print(f\"Độ lệch chuẩn (std) của Rosenbrock (d=10, n=64) trong ES: {np.std([all_results[i][1] for i in range(len(all_results))])}\")"
      ],
      "execution_count": null,
      "outputs": [
        {
          "output_type": "stream",
          "name": "stdout",
          "text": [
            "Giá trị trung bình (mean) của Rosenbrock (d=10, n=64) trong ES: 8.550301437448885\n",
            "Độ lệch chuẩn (std) của Rosenbrock (d=10, n=64) trong ES: 7.593042392316722\n"
          ]
        }
      ]
    },
    {
      "cell_type": "markdown",
      "metadata": {
        "id": "urPKYpOLqxdb"
      },
      "source": [
        "#### **popsize = 128**"
      ]
    },
    {
      "cell_type": "code",
      "metadata": {
        "id": "DIxHno4b41Is"
      },
      "source": [
        "dimension = 10\n",
        "fobj = Rosenbrock_f\n",
        "max_evals = 1e6\n",
        "seed_number = 18520186\n",
        "lower_bound = -3\n",
        "upper_bound = 3\n",
        "popsize = 128\n",
        "bounds = [(lower_bound, upper_bound)]*dimension\n",
        "np.random.rand(seed_number)\n",
        "all_results = []\n",
        "\n",
        "for i in range(10):\n",
        "    np.random.rand(seed_number)\n",
        "    results, all_pops, generation_count = ES(fobj, bounds, sigma_init, c_inc, c_dec, popsize, max_evals, dimension)\n",
        "    all_results.append(results[-1])\n",
        "    seed_number += 1"
      ],
      "execution_count": null,
      "outputs": []
    },
    {
      "cell_type": "code",
      "metadata": {
        "id": "uvYROVNS41L1",
        "colab": {
          "base_uri": "https://localhost:8080/"
        },
        "outputId": "12f76b0f-7994-41a6-ef22-2e45c61fc7a8"
      },
      "source": [
        "all_results"
      ],
      "execution_count": null,
      "outputs": [
        {
          "output_type": "execute_result",
          "data": {
            "text/plain": [
              "[(array([-0.85128399,  0.73382372,  0.54017426,  0.30514076,  0.09130464,\n",
              "          0.01294943,  0.00444041,  0.01668354,  0.00907717,  0.00981403]),\n",
              "  9.008068960112679,\n",
              "  5120),\n",
              " (array([ 0.49847525,  0.24626867,  0.08892671,  0.02186792,  0.01997777,\n",
              "         -0.00507789,  0.00720204,  0.00962961,  0.00965821, -0.02011861]),\n",
              "  7.729609434589001,\n",
              "  5120),\n",
              " (array([7.19207242e-01, 5.34531198e-01, 2.83995180e-01, 9.15588452e-02,\n",
              "         2.25027825e-02, 2.43447136e-02, 1.87713440e-02, 5.13442436e-03,\n",
              "         3.17364417e-02, 2.79430913e-04]), 6.685666701195294, 5120),\n",
              " (array([8.47113083e-01, 6.98614977e-01, 4.95167589e-01, 2.39729617e-01,\n",
              "         5.44179064e-02, 1.40682771e-02, 2.26269213e-02, 1.98437163e-02,\n",
              "         2.61545428e-03, 5.62463952e-04]), 5.869547283747752, 5120),\n",
              " (array([ 0.29149329,  0.08675416,  0.02623983,  0.00633395, -0.01858203,\n",
              "          0.02344703,  0.00760368,  0.00834201, -0.00058573,  0.01069337]),\n",
              "  8.382042390411254,\n",
              "  5120),\n",
              " (array([0.6698124 , 0.44082687, 0.1924437 , 0.01757005, 0.02706258,\n",
              "         0.04587834, 0.03244431, 0.01215622, 0.00232592, 0.01456913]),\n",
              "  7.249137263910331,\n",
              "  5120),\n",
              " (array([-0.17861123,  0.03952369,  0.01586522,  0.01709843,  0.00692085,\n",
              "          0.00785647,  0.00229247, -0.00346211,  0.01823373, -0.00773511]),\n",
              "  9.289583301398437,\n",
              "  5120),\n",
              " (array([ 6.88539845e-01,  4.72186267e-01,  2.27741769e-01,  6.79102933e-02,\n",
              "          1.28136121e-02, -4.71080281e-03, -3.62600159e-03,  1.23138494e-02,\n",
              "          2.61204028e-02, -2.71152774e-04]), 6.8774627697136586, 5120),\n",
              " (array([-0.38129827,  0.18336226, -0.06667752,  0.00156041, -0.0226398 ,\n",
              "         -0.03573024,  0.08824017, -0.00845802,  0.1082439 ,  0.00865561]),\n",
              "  12.758981969207607,\n",
              "  5120),\n",
              " (array([ 6.03601811e-01,  3.62946264e-01,  1.43966905e-01,  1.00684316e-02,\n",
              "          1.06259273e-02, -4.40595072e-04,  3.04239495e-02,  2.05084099e-02,\n",
              "          2.43851112e-02,  5.36140161e-03]), 7.335019324705392, 5120)]"
            ]
          },
          "metadata": {},
          "execution_count": 157
        }
      ]
    },
    {
      "cell_type": "code",
      "metadata": {
        "id": "LhyQRk8f41Ol",
        "colab": {
          "base_uri": "https://localhost:8080/"
        },
        "outputId": "caf91b0e-88e9-425a-cb31-c21a4837924e"
      },
      "source": [
        "print(f\"Giá trị trung bình (mean) của Rosenbrock (d=10, n=128) trong ES: {np.mean([all_results[i][1] for i in range(len(all_results))])}\")\n",
        "print(f\"Độ lệch chuẩn (std) của Rosenbrock (d=10, n=128) trong ES: {np.std([all_results[i][1] for i in range(len(all_results))])}\")"
      ],
      "execution_count": null,
      "outputs": [
        {
          "output_type": "stream",
          "name": "stdout",
          "text": [
            "Giá trị trung bình (mean) của Rosenbrock (d=10, n=128) trong ES: 8.118511939899141\n",
            "Độ lệch chuẩn (std) của Rosenbrock (d=10, n=128) trong ES: 1.8422306838899145\n"
          ]
        }
      ]
    },
    {
      "cell_type": "markdown",
      "metadata": {
        "id": "3eCC-T37qxoM"
      },
      "source": [
        "#### **popsize = 256**"
      ]
    },
    {
      "cell_type": "code",
      "metadata": {
        "id": "9sjL-ZG-4zJ7"
      },
      "source": [
        "dimension = 10\n",
        "fobj = Rosenbrock_f\n",
        "max_evals = 1e6\n",
        "seed_number = 18520186\n",
        "lower_bound = -3\n",
        "upper_bound = 3\n",
        "popsize = 256\n",
        "bounds = [(lower_bound, upper_bound)]*dimension\n",
        "np.random.rand(seed_number)\n",
        "all_results = []\n",
        "\n",
        "for i in range(10):\n",
        "    np.random.rand(seed_number)\n",
        "    results, all_pops, generation_count = ES(fobj, bounds, sigma_init, c_inc, c_dec, popsize, max_evals, dimension)\n",
        "    all_results.append(results[-1])\n",
        "    seed_number += 1"
      ],
      "execution_count": null,
      "outputs": []
    },
    {
      "cell_type": "code",
      "metadata": {
        "id": "OePnKv9T4zMd",
        "colab": {
          "base_uri": "https://localhost:8080/"
        },
        "outputId": "b67b1dbb-a95f-4af8-9fb7-245277a2aa69"
      },
      "source": [
        "all_results"
      ],
      "execution_count": null,
      "outputs": [
        {
          "output_type": "execute_result",
          "data": {
            "text/plain": [
              "[(array([ 0.33659804,  0.11978345,  0.00680951, -0.00476245,  0.05900315,\n",
              "          0.01971266,  0.08074452,  0.01220241,  0.02928386,  0.0530171 ]),\n",
              "  9.212660853491922,\n",
              "  5120),\n",
              " (array([-0.37978211,  0.27155643,  0.03303742, -0.04493433, -0.12384099,\n",
              "         -0.05458468,  0.07431592,  0.15009416, -0.0094089 ,  0.02730298]),\n",
              "  16.28126780310325,\n",
              "  5120),\n",
              " (array([ 0.93413649,  1.00255565,  0.82496534,  0.57277818,  0.28799596,\n",
              "          0.18266937, -0.10953384,  0.07009009, -0.03399779, -0.14438167]),\n",
              "  16.457623833962632,\n",
              "  5120),\n",
              " (array([ 0.86805731,  0.74457921,  0.49192968,  0.11305258,  0.1605495 ,\n",
              "          0.0051517 ,  0.15738216, -0.08380043, -0.10364239,  0.10506673]),\n",
              "  15.980656104856486,\n",
              "  5120),\n",
              " (array([-0.8821193 ,  0.73228915,  0.51940659,  0.32421958,  0.02307037,\n",
              "          0.0115837 ,  0.04662113, -0.05895495, -0.0023633 , -0.04254451]),\n",
              "  11.262604564647466,\n",
              "  5120),\n",
              " (array([ 0.29127708,  0.09939494,  0.01808691,  0.03487675, -0.04266754,\n",
              "          0.00503444,  0.0139903 ,  0.07842259,  0.02860127, -0.01671224]),\n",
              "  9.104718827535562,\n",
              "  5120),\n",
              " (array([-0.21492476,  0.10762661, -0.03149212,  0.15480491,  0.08759401,\n",
              "         -0.02466105,  0.02768062, -0.00296096, -0.00825313,  0.0296717 ]),\n",
              "  12.50840292850737,\n",
              "  5120),\n",
              " (array([-0.76213136,  0.72303769,  0.4059704 ,  0.13790404, -0.03313329,\n",
              "          0.01516103, -0.03864367, -0.09462669,  0.06661518, -0.07158484]),\n",
              "  15.199384413266706,\n",
              "  5120),\n",
              " (array([-0.19871463, -0.04300531, -0.05913005, -0.04983262,  0.09445516,\n",
              "          0.02141287, -0.04008767,  0.0019621 , -0.02193143,  0.006387  ]),\n",
              "  12.062787279794078,\n",
              "  5120),\n",
              " (array([ 0.59629698,  0.24803939,  0.12127131,  0.10324249, -0.0128109 ,\n",
              "          0.02740754, -0.03593394,  0.08463348, -0.09384848,  0.04996125]),\n",
              "  11.829331163096619,\n",
              "  5120)]"
            ]
          },
          "metadata": {},
          "execution_count": 160
        }
      ]
    },
    {
      "cell_type": "code",
      "metadata": {
        "id": "A22Pv6qs4zO0",
        "colab": {
          "base_uri": "https://localhost:8080/"
        },
        "outputId": "4c304910-f079-4745-a91c-7d9039b57512"
      },
      "source": [
        "print(f\"Giá trị trung bình (mean) của Rosenbrock (d=10, n=256) trong ES: {np.mean([all_results[i][1] for i in range(len(all_results))])}\")\n",
        "print(f\"Độ lệch chuẩn (std) của Rosenbrock (d=10, n=256) trong ES: {np.std([all_results[i][1] for i in range(len(all_results))])}\")"
      ],
      "execution_count": null,
      "outputs": [
        {
          "output_type": "stream",
          "name": "stdout",
          "text": [
            "Giá trị trung bình (mean) của Rosenbrock (d=10, n=256) trong ES: 12.98994377722621\n",
            "Độ lệch chuẩn (std) của Rosenbrock (d=10, n=256) trong ES: 2.673362476746605\n"
          ]
        }
      ]
    },
    {
      "cell_type": "markdown",
      "metadata": {
        "id": "IFL5zGy7qx0N"
      },
      "source": [
        "#### **popsize = 512**"
      ]
    },
    {
      "cell_type": "code",
      "metadata": {
        "id": "0nhlvdAK4xPu"
      },
      "source": [
        "dimension = 10\n",
        "fobj = Rosenbrock_f\n",
        "max_evals = 1e6\n",
        "seed_number = 18520186\n",
        "lower_bound = -3\n",
        "upper_bound = 3\n",
        "popsize = 512\n",
        "bounds = [(lower_bound, upper_bound)]*dimension\n",
        "np.random.rand(seed_number)\n",
        "all_results = []\n",
        "\n",
        "for i in range(10):\n",
        "    np.random.rand(seed_number)\n",
        "    results, all_pops, generation_count = ES(fobj, bounds, sigma_init, c_inc, c_dec, popsize, max_evals, dimension)\n",
        "    all_results.append(results[-1])\n",
        "    seed_number += 1"
      ],
      "execution_count": null,
      "outputs": []
    },
    {
      "cell_type": "code",
      "metadata": {
        "id": "Ja0XMsZ64xTw",
        "colab": {
          "base_uri": "https://localhost:8080/"
        },
        "outputId": "7e0bbac0-8e32-41d2-b7d2-80d8ab5a921f"
      },
      "source": [
        "all_results"
      ],
      "execution_count": null,
      "outputs": [
        {
          "output_type": "execute_result",
          "data": {
            "text/plain": [
              "[(array([ 0.0945945 ,  0.05736135, -0.04198176, -0.00245303, -0.0636781 ,\n",
              "         -0.03228278, -0.03242817, -0.01557103,  0.06328438,  0.05265676]),\n",
              "  10.723225121229119,\n",
              "  10240),\n",
              " (array([ 0.30756457,  0.18662736,  0.03879808,  0.01973819,  0.02434763,\n",
              "          0.11478572,  0.08677258,  0.11690679, -0.0037414 ,  0.02543612]),\n",
              "  11.458820938077197,\n",
              "  10240),\n",
              " (array([-0.05331062, -0.01543134,  0.00764198,  0.0410599 ,  0.06123108,\n",
              "         -0.01052654,  0.03023254,  0.05701994, -0.00240332, -0.02847685]),\n",
              "  9.853599324166382,\n",
              "  10240),\n",
              " (array([-0.61896003,  0.428536  ,  0.18510361, -0.00214869,  0.09420154,\n",
              "         -0.02211729,  0.08100311, -0.04832085,  0.02157504,  0.04548558]),\n",
              "  11.893645525841828,\n",
              "  10240),\n",
              " (array([ 0.10150382, -0.09542913, -0.02769059, -0.06468327,  0.01761834,\n",
              "          0.04880163, -0.01860158, -0.05254567,  0.01159306,  0.04785089]),\n",
              "  11.683322019997977,\n",
              "  10240),\n",
              " (array([-0.83426556,  0.67682765,  0.35826778,  0.06133793,  0.20228782,\n",
              "          0.22087258,  0.09148731,  0.11547642, -0.00791233,  0.06218754]),\n",
              "  19.05152312672682,\n",
              "  10240),\n",
              " (array([ 0.18418679,  0.21759095,  0.01676954, -0.03279184, -0.02034253,\n",
              "          0.04041723, -0.13500498,  0.02097744,  0.02534399, -0.11946512]),\n",
              "  15.62415556446032,\n",
              "  10240),\n",
              " (array([9.15268780e-01, 7.87909867e-01, 7.18230454e-01, 4.93277719e-01,\n",
              "         3.16916739e-01, 1.63982983e-01, 3.85523898e-02, 6.34144725e-03,\n",
              "         2.71666234e-02, 8.81198132e-05]), 6.6952810250956984, 10240),\n",
              " (array([ 0.36840276,  0.16407793,  0.03816969,  0.04352622, -0.01198351,\n",
              "          0.02795243,  0.03095988, -0.01790938, -0.04062458,  0.02047078]),\n",
              "  8.661093755898696,\n",
              "  10240),\n",
              " (array([ 8.32367444e-01,  6.98164172e-01,  5.53567066e-01,  3.58648339e-01,\n",
              "          2.53172560e-02,  9.99851528e-02, -6.37947094e-04,  1.19432378e-02,\n",
              "         -4.47584398e-04, -6.70384386e-02]), 8.71039354824346, 10240)]"
            ]
          },
          "metadata": {},
          "execution_count": 163
        }
      ]
    },
    {
      "cell_type": "code",
      "metadata": {
        "id": "N-sLe14I4xXw",
        "colab": {
          "base_uri": "https://localhost:8080/"
        },
        "outputId": "03e37da5-907e-486b-c74c-a642c32b776e"
      },
      "source": [
        "print(f\"Giá trị trung bình (mean) của Rosenbrock (d=10, n=512) trong ES: {np.mean([all_results[i][1] for i in range(len(all_results))])}\")\n",
        "print(f\"Độ lệch chuẩn (std) của Rosenbrock (d=10, n=512) trong ES: {np.std([all_results[i][1] for i in range(len(all_results))])}\")"
      ],
      "execution_count": null,
      "outputs": [
        {
          "output_type": "stream",
          "name": "stdout",
          "text": [
            "Giá trị trung bình (mean) của Rosenbrock (d=10, n=512) trong ES: 11.435505994973749\n",
            "Độ lệch chuẩn (std) của Rosenbrock (d=10, n=512) trong ES: 3.412088173078877\n"
          ]
        }
      ]
    },
    {
      "cell_type": "markdown",
      "metadata": {
        "id": "LA18YJM5qx_f"
      },
      "source": [
        "#### **popsize = 1024**"
      ]
    },
    {
      "cell_type": "code",
      "metadata": {
        "id": "L7QdQONi4t3B"
      },
      "source": [
        "dimension = 10\n",
        "fobj = Rosenbrock_f\n",
        "max_evals = 1e6\n",
        "seed_number = 18520186\n",
        "lower_bound = -3\n",
        "upper_bound = 3\n",
        "popsize = 1024\n",
        "bounds = [(lower_bound, upper_bound)]*dimension\n",
        "np.random.rand(seed_number)\n",
        "all_results = []\n",
        "\n",
        "for i in range(10):\n",
        "    np.random.rand(seed_number)\n",
        "    results, all_pops, generation_count = ES(fobj, bounds, sigma_init, c_inc, c_dec, popsize, max_evals, dimension)\n",
        "    all_results.append(results[-1])\n",
        "    seed_number += 1"
      ],
      "execution_count": null,
      "outputs": []
    },
    {
      "cell_type": "code",
      "metadata": {
        "id": "e4y4iNoB4t5W",
        "colab": {
          "base_uri": "https://localhost:8080/"
        },
        "outputId": "d8624eab-089d-4d00-c9b6-20f5cb3ef21c"
      },
      "source": [
        "all_results"
      ],
      "execution_count": null,
      "outputs": [
        {
          "output_type": "execute_result",
          "data": {
            "text/plain": [
              "[(array([ 0.48182025, -0.01712978, -0.05749816,  0.31873579,  0.04741558,\n",
              "          0.01432657,  0.07261954,  0.19544121, -0.01516584,  0.10346529]),\n",
              "  29.599397202460477,\n",
              "  10240),\n",
              " (array([ 0.43565618, -0.0007376 , -0.08172374, -0.04398328, -0.00831685,\n",
              "         -0.01917535, -0.21194738,  0.23310726, -0.0804912 ,  0.19760765]),\n",
              "  26.982312593031384,\n",
              "  10240),\n",
              " (array([-0.52046222,  0.27458929,  0.04728881,  0.3999737 ,  0.07890633,\n",
              "         -0.64291523,  0.31348511,  0.13168683, -0.30442289,  0.22531411]),\n",
              "  82.49706726283938,\n",
              "  10240),\n",
              " (array([0.81520466, 0.58127074, 0.64892069, 0.7042742 , 0.85232771,\n",
              "         0.49807462, 0.31350024, 0.1176581 , 0.09104917, 0.2476235 ]),\n",
              "  45.85995786245189,\n",
              "  10240),\n",
              " (array([-0.67783552,  0.47838633,  0.2450551 ,  0.15425788, -0.10283002,\n",
              "         -0.00343222, -0.07254099,  0.06012804,  0.13166106, -0.00224536]),\n",
              "  14.461144894032918,\n",
              "  10240),\n",
              " (array([-0.77650248,  0.52811715,  0.20676725, -0.3892793 , -0.40785952,\n",
              "          0.17419855,  0.04511834,  0.42562108,  0.22303469,  0.06747847]),\n",
              "  79.6629292470408,\n",
              "  10240),\n",
              " (array([ 0.51238814,  0.16613373,  0.00285116,  0.16359065, -0.03405822,\n",
              "         -0.06093451,  0.05074062,  0.79839322,  0.69007706,  0.62218239]),\n",
              "  76.24367861160498,\n",
              "  10240),\n",
              " (array([ 0.94832395,  0.76161186,  0.45003454,  0.39441399,  0.09009592,\n",
              "          0.05955969, -0.14593177, -0.43836477,  0.01515608,  0.05755992]),\n",
              "  41.57997449161369,\n",
              "  10240),\n",
              " (array([-0.61441068,  0.33839238,  0.14564942,  0.39740178, -0.10070331,\n",
              "         -0.02609861, -0.07667991, -0.41884377,  0.39189983,  0.29879011]),\n",
              "  56.5975075940176,\n",
              "  10240),\n",
              " (array([-0.0966111 ,  0.25000446,  0.12502365,  0.44023995,  0.31515312,\n",
              "          0.14803194, -0.16762635, -0.00455086,  0.0818694 ,  0.1476135 ]),\n",
              "  39.53098209286983,\n",
              "  10240)]"
            ]
          },
          "metadata": {},
          "execution_count": 166
        }
      ]
    },
    {
      "cell_type": "code",
      "metadata": {
        "id": "1uqT6GDW4t8_",
        "colab": {
          "base_uri": "https://localhost:8080/"
        },
        "outputId": "7495e804-bd22-45ec-89cc-681c7a0d9d8e"
      },
      "source": [
        "print(f\"Giá trị trung bình (mean) của Rosenbrock (d=10, n=1024) trong ES: {np.mean([all_results[i][1] for i in range(len(all_results))])}\")\n",
        "print(f\"Độ lệch chuẩn (std) của Rosenbrock (d=10, n=1024) trong ES: {np.std([all_results[i][1] for i in range(len(all_results))])}\")"
      ],
      "execution_count": null,
      "outputs": [
        {
          "output_type": "stream",
          "name": "stdout",
          "text": [
            "Giá trị trung bình (mean) của Rosenbrock (d=10, n=1024) trong ES: 49.30149518519629\n",
            "Độ lệch chuẩn (std) của Rosenbrock (d=10, n=1024) trong ES: 22.516601210380156\n"
          ]
        }
      ]
    },
    {
      "cell_type": "markdown",
      "metadata": {
        "id": "CUW3u1DHq0sN"
      },
      "source": [
        "## **Hàm Griewank**"
      ]
    },
    {
      "cell_type": "markdown",
      "metadata": {
        "id": "f1pHtYyk3i5z"
      },
      "source": [
        "### **dimensions (d=2)**"
      ]
    },
    {
      "cell_type": "markdown",
      "metadata": {
        "id": "Mlb324lH3jsE"
      },
      "source": [
        "#### **popsize = 32**"
      ]
    },
    {
      "cell_type": "code",
      "metadata": {
        "id": "p2ZVcA5_5cmZ"
      },
      "source": [
        "dimension = 2\n",
        "fobj = Griewank_f\n",
        "max_evals = 1e5\n",
        "seed_number = 18520186\n",
        "lower_bound = -600\n",
        "upper_bound = 600\n",
        "popsize = 32\n",
        "bounds = [(lower_bound, upper_bound)]*dimension\n",
        "np.random.rand(seed_number)\n",
        "all_results = []\n",
        "\n",
        "for i in range(10):\n",
        "    np.random.rand(seed_number)\n",
        "    results, all_pops, generation_count = ES(fobj, bounds, sigma_init, c_inc, c_dec, popsize, max_evals, dimension)\n",
        "    all_results.append(results[-1])\n",
        "    seed_number += 1"
      ],
      "execution_count": null,
      "outputs": []
    },
    {
      "cell_type": "code",
      "metadata": {
        "id": "KSYsefpT5crq",
        "colab": {
          "base_uri": "https://localhost:8080/"
        },
        "outputId": "0583a9cf-5eca-41b0-d101-f06a4cd47ba7"
      },
      "source": [
        "all_results"
      ],
      "execution_count": null,
      "outputs": [
        {
          "output_type": "execute_result",
          "data": {
            "text/plain": [
              "[(array([ 270.03668516, -363.94457652]), 51.387717187354234, 5024),\n",
              " (array([ 411.32995223, -439.38733555]), 90.63796928865611, 5024),\n",
              " (array([160.13738583, 412.7677268 ]), 49.05250990277551, 5024),\n",
              " (array([ 326.56064431, -150.90473766]), 32.37289226283271, 5024),\n",
              " (array([-178.97723058, -403.89090288]), 48.83639050399638, 5024),\n",
              " (array([ 3.14002262, -4.43844448]), 0.007396040334115006, 5024),\n",
              " (array([ 3.14002264, -4.43844448]), 0.007396040334115006, 5024),\n",
              " (array([6.28004523, 8.87688889]), 0.02958416121206986, 5024),\n",
              " (array([455.30124021,  22.19162355]), 51.97431233588327, 5024),\n",
              " (array([-323.42151895,  -48.82222794]), 26.76005430206517, 5024)]"
            ]
          },
          "metadata": {},
          "execution_count": 60
        }
      ]
    },
    {
      "cell_type": "code",
      "metadata": {
        "id": "9mKXFaeT5cvN",
        "colab": {
          "base_uri": "https://localhost:8080/"
        },
        "outputId": "c039cc13-c2a0-4d9c-a140-3f973d068d7b"
      },
      "source": [
        "print(f\"Giá trị trung bình (mean) của Griewank (d=2, n=32) trong ES: {np.mean([all_results[i][1] for i in range(len(all_results))])}\")\n",
        "print(f\"Độ lệch chuẩn (std) của Griewank (d=2, n=32) trong ES: {np.std([all_results[i][1] for i in range(len(all_results))])}\")"
      ],
      "execution_count": null,
      "outputs": [
        {
          "output_type": "stream",
          "name": "stdout",
          "text": [
            "Giá trị trung bình (mean) của Griewank (d=2, n=32) trong ES: 35.106622202544365\n",
            "Độ lệch chuẩn (std) của Griewank (d=2, n=32) trong ES: 27.906569624591253\n"
          ]
        }
      ]
    },
    {
      "cell_type": "markdown",
      "metadata": {
        "id": "GpzfwF1X3j5G"
      },
      "source": [
        "#### **popsize = 64**"
      ]
    },
    {
      "cell_type": "code",
      "metadata": {
        "id": "cejz292S5db5"
      },
      "source": [
        "dimension = 2\n",
        "fobj = Griewank_f\n",
        "max_evals = 1e5\n",
        "seed_number = 18520186\n",
        "lower_bound = -600\n",
        "upper_bound = 600\n",
        "popsize = 64\n",
        "bounds = [(lower_bound, upper_bound)]*dimension\n",
        "np.random.rand(seed_number)\n",
        "all_results = []\n",
        "\n",
        "for i in range(10):\n",
        "    np.random.rand(seed_number)\n",
        "    results, all_pops, generation_count = ES(fobj, bounds, sigma_init, c_inc, c_dec, popsize, max_evals, dimension)\n",
        "    all_results.append(results[-1])\n",
        "    seed_number += 1"
      ],
      "execution_count": null,
      "outputs": []
    },
    {
      "cell_type": "code",
      "metadata": {
        "id": "HBKITS4u5dm7",
        "colab": {
          "base_uri": "https://localhost:8080/"
        },
        "outputId": "281eae32-c844-42c5-a625-8e8f5655bea4"
      },
      "source": [
        "all_results"
      ],
      "execution_count": null,
      "outputs": [
        {
          "output_type": "execute_result",
          "data": {
            "text/plain": [
              "[(array([-464.70439241,  488.20175564]), 113.66780303016019, 5056),\n",
              " (array([-449.0116429 ,  386.12825447]), 87.74348960092516, 5056),\n",
              " (array([-536.93484665, -270.73246493]), 90.45627561017561, 5056),\n",
              " (array([-188.40002123, -221.92027619]), 21.20280089164263, 5056),\n",
              " (array([-116.17589583, -545.91295402]), 77.95911019591068, 5056),\n",
              " (array([-342.26053233, -155.34287547]), 35.339502472885094, 5056),\n",
              " (array([-128.74084524,   48.82277816]), 4.742140972007322, 5056),\n",
              " (array([21.98015823,  4.43844421]), 0.12577210421580287, 5056),\n",
              " (array([ 455.27848263, -563.64620359]), 131.36141006285655, 5056),\n",
              " (array([-439.60079504,  -97.64323709]), 50.7227917000553, 5056)]"
            ]
          },
          "metadata": {},
          "execution_count": 171
        }
      ]
    },
    {
      "cell_type": "code",
      "metadata": {
        "id": "E3bR1-lc5drw",
        "colab": {
          "base_uri": "https://localhost:8080/"
        },
        "outputId": "50c52542-df8b-4422-ab4c-b92b97566654"
      },
      "source": [
        "print(f\"Giá trị trung bình (mean) của Griewank (d=2, n=64) trong ES: {np.mean([all_results[i][1] for i in range(len(all_results))])}\")\n",
        "print(f\"Độ lệch chuẩn (std) của Griewank (d=2, n=64) trong ES: {np.std([all_results[i][1] for i in range(len(all_results))])}\")"
      ],
      "execution_count": null,
      "outputs": [
        {
          "output_type": "stream",
          "name": "stdout",
          "text": [
            "Giá trị trung bình (mean) của Griewank (d=2, n=64) trong ES: 61.33210966408343\n",
            "Độ lệch chuẩn (std) của Griewank (d=2, n=64) trong ES: 43.37342260674504\n"
          ]
        }
      ]
    },
    {
      "cell_type": "markdown",
      "metadata": {
        "id": "pfvw7OSg3kGA"
      },
      "source": [
        "#### **popsize = 128**"
      ]
    },
    {
      "cell_type": "code",
      "metadata": {
        "id": "CGr_P2xh5e_l"
      },
      "source": [
        "dimension = 2\n",
        "fobj = Griewank_f\n",
        "max_evals = 1e5\n",
        "seed_number = 18520186\n",
        "lower_bound = -600\n",
        "upper_bound = 600\n",
        "popsize = 128\n",
        "bounds = [(lower_bound, upper_bound)]*dimension\n",
        "np.random.rand(seed_number)\n",
        "all_results = []\n",
        "\n",
        "for i in range(10):\n",
        "    np.random.rand(seed_number)\n",
        "    results, all_pops, generation_count = ES(fobj, bounds, sigma_init, c_inc, c_dec, popsize, max_evals, dimension)\n",
        "    all_results.append(results[-1])\n",
        "    seed_number += 1"
      ],
      "execution_count": null,
      "outputs": []
    },
    {
      "cell_type": "code",
      "metadata": {
        "id": "6nCGa9EP5fDU",
        "colab": {
          "base_uri": "https://localhost:8080/"
        },
        "outputId": "bd69210e-4afb-4bd1-eebd-2cdd266f61a1"
      },
      "source": [
        "all_results"
      ],
      "execution_count": null,
      "outputs": [
        {
          "output_type": "execute_result",
          "data": {
            "text/plain": [
              "[(array([-357.95239571, -426.07583951]), 77.4828241179104, 5120),\n",
              " (array([-455.30126717,   -4.4383216 ]), 51.855998590351824, 5120),\n",
              " (array([113.04001325, 230.79767839]), 16.526476543638616, 5120),\n",
              " (array([310.86151105, -48.82227392]), 24.767395385009355, 5120),\n",
              " (array([-323.42070886, -146.46642055]), 31.53210178835437, 5120),\n",
              " (array([3.29285407, 4.05785992]), 0.05465726164483564, 5120),\n",
              " (array([6.67035265, 9.05106165]), 0.11193942197097739, 5120),\n",
              " (array([3.23780457, 4.77660907]), 0.040535781413330474, 5120),\n",
              " (array([  37.68018958, -133.15312046]), 4.792009209201294, 5120),\n",
              " (array([ 50.2403517 , -26.63066277]), 0.8088143381787857, 5120)]"
            ]
          },
          "metadata": {},
          "execution_count": 174
        }
      ]
    },
    {
      "cell_type": "code",
      "metadata": {
        "id": "unoxgRLn5fGH",
        "colab": {
          "base_uri": "https://localhost:8080/"
        },
        "outputId": "da6eb65f-fbf9-4fe9-a536-37c6cf39a59e"
      },
      "source": [
        "print(f\"Giá trị trung bình (mean) của Griewank (d=2, n=128) trong ES: {np.mean([all_results[i][1] for i in range(len(all_results))])}\")\n",
        "print(f\"Độ lệch chuẩn (std) của Griewank (d=2, n=128) trong ES: {np.std([all_results[i][1] for i in range(len(all_results))])}\")"
      ],
      "execution_count": null,
      "outputs": [
        {
          "output_type": "stream",
          "name": "stdout",
          "text": [
            "Giá trị trung bình (mean) của Griewank (d=2, n=128) trong ES: 20.79727524376738\n",
            "Độ lệch chuẩn (std) của Griewank (d=2, n=128) trong ES: 25.04360693995596\n"
          ]
        }
      ]
    },
    {
      "cell_type": "markdown",
      "metadata": {
        "id": "mOAbutZc3kUj"
      },
      "source": [
        "#### **popsize = 256**"
      ]
    },
    {
      "cell_type": "code",
      "metadata": {
        "id": "j1EBX3B25heb"
      },
      "source": [
        "dimension = 2\n",
        "fobj = Griewank_f\n",
        "max_evals = 1e5\n",
        "seed_number = 18520186\n",
        "lower_bound = -600\n",
        "upper_bound = 600\n",
        "popsize = 256\n",
        "bounds = [(lower_bound, upper_bound)]*dimension\n",
        "np.random.rand(seed_number)\n",
        "all_results = []\n",
        "\n",
        "for i in range(10):\n",
        "    np.random.rand(seed_number)\n",
        "    results, all_pops, generation_count = ES(fobj, bounds, sigma_init, c_inc, c_dec, popsize, max_evals, dimension)\n",
        "    all_results.append(results[-1])\n",
        "    seed_number += 1"
      ],
      "execution_count": null,
      "outputs": []
    },
    {
      "cell_type": "code",
      "metadata": {
        "id": "ZJbCDikx5hhG",
        "colab": {
          "base_uri": "https://localhost:8080/"
        },
        "outputId": "9e9d83fc-52ad-4d6b-d218-ccce51bc1b39"
      },
      "source": [
        "all_results"
      ],
      "execution_count": null,
      "outputs": [
        {
          "output_type": "execute_result",
          "data": {
            "text/plain": [
              "[(array([-191.53727718, -297.36532011]), 31.306628747090866, 5120),\n",
              " (array([ 423.79437102, -314.50559569]), 69.88148581666563, 5120),\n",
              " (array([-392.96339815,   77.10719518]), 40.667366924338, 5120),\n",
              " (array([310.42010047, -84.13883948]), 26.04897840122592, 5120),\n",
              " (array([ 555.76861563, -368.36957218]), 111.22254241727151, 5120),\n",
              " (array([160.13812328, 359.50867356]), 38.759106710300806, 5120),\n",
              " (array([ -84.78006332, -181.97599612]), 10.08493277575871, 5120),\n",
              " (array([125.24783106, 275.76677849]), 23.040434666632308, 5120),\n",
              " (array([-317.17536955,   -4.47421068]), 25.163165170053677, 5120),\n",
              " (array([150.72079841,  62.1383928 ]), 6.6483018714868285, 5120)]"
            ]
          },
          "metadata": {},
          "execution_count": 177
        }
      ]
    },
    {
      "cell_type": "code",
      "metadata": {
        "id": "N5LgAw_w5hkP",
        "colab": {
          "base_uri": "https://localhost:8080/"
        },
        "outputId": "fdd1cd9a-2663-4402-cfce-161bb0159e66"
      },
      "source": [
        "print(f\"Giá trị trung bình (mean) của Griewank (d=2, n=256) trong ES: {np.mean([all_results[i][1] for i in range(len(all_results))])}\")\n",
        "print(f\"Độ lệch chuẩn (std) của Griewank (d=2, n=256) trong ES: {np.std([all_results[i][1] for i in range(len(all_results))])}\")"
      ],
      "execution_count": null,
      "outputs": [
        {
          "output_type": "stream",
          "name": "stdout",
          "text": [
            "Giá trị trung bình (mean) của Griewank (d=2, n=256) trong ES: 38.28229435008243\n",
            "Độ lệch chuẩn (std) của Griewank (d=2, n=256) trong ES: 29.53514018471345\n"
          ]
        }
      ]
    },
    {
      "cell_type": "markdown",
      "metadata": {
        "id": "bvARnGyc3kgD"
      },
      "source": [
        "#### **popsize = 512**"
      ]
    },
    {
      "cell_type": "code",
      "metadata": {
        "id": "Vp43hBH_5gbn"
      },
      "source": [
        "dimension = 2\n",
        "fobj = Griewank_f\n",
        "max_evals = 1e5\n",
        "seed_number = 18520186\n",
        "lower_bound = -600\n",
        "upper_bound = 600\n",
        "popsize = 512\n",
        "bounds = [(lower_bound, upper_bound)]*dimension\n",
        "np.random.rand(seed_number)\n",
        "all_results = []\n",
        "\n",
        "for i in range(10):\n",
        "    np.random.rand(seed_number)\n",
        "    results, all_pops, generation_count = ES(fobj, bounds, sigma_init, c_inc, c_dec, popsize, max_evals, dimension)\n",
        "    all_results.append(results[-1])\n",
        "    seed_number += 1"
      ],
      "execution_count": null,
      "outputs": []
    },
    {
      "cell_type": "code",
      "metadata": {
        "id": "t6NuN0ph5geL",
        "colab": {
          "base_uri": "https://localhost:8080/"
        },
        "outputId": "c52a9214-d975-4d48-b251-c463f3b9116d"
      },
      "source": [
        "all_results"
      ],
      "execution_count": null,
      "outputs": [
        {
          "output_type": "execute_result",
          "data": {
            "text/plain": [
              "[(array([ 211.63852894, -324.98258121]), 38.2368032558236, 10240),\n",
              " (array([315.19797948, 238.73431602]), 39.74558369297724, 10240),\n",
              " (array([-116.73063431,  -39.54484031]), 3.958464469781117, 10240),\n",
              " (array([-107.34669468, -364.79917281]), 36.338631982624186, 10240),\n",
              " (array([-266.90150736,   66.5767701 ]), 18.927261822514524, 10240),\n",
              " (array([-389.14560466,  207.85555409]), 50.372801815059724, 10240),\n",
              " (array([  84.6106214, -397.2410467]), 41.96904324584915, 10240),\n",
              " (array([213.52172915, -35.50767227]), 11.719065592175898, 10240),\n",
              " (array([-166.41884189,  315.1266657 ]), 31.778756513430594, 10240),\n",
              " (array([-424.7345476 ,  155.99232539]), 51.4177750266261, 10240)]"
            ]
          },
          "metadata": {},
          "execution_count": 180
        }
      ]
    },
    {
      "cell_type": "code",
      "metadata": {
        "id": "Q-LRMG5y5ghk",
        "colab": {
          "base_uri": "https://localhost:8080/"
        },
        "outputId": "70a29228-42c8-45d4-fa71-c1805a46f258"
      },
      "source": [
        "print(f\"Giá trị trung bình (mean) của Griewank (d=2, n=512) trong ES: {np.mean([all_results[i][1] for i in range(len(all_results))])}\")\n",
        "print(f\"Độ lệch chuẩn (std) của Griewank (d=2, n=512) trong ES: {np.std([all_results[i][1] for i in range(len(all_results))])}\")"
      ],
      "execution_count": null,
      "outputs": [
        {
          "output_type": "stream",
          "name": "stdout",
          "text": [
            "Giá trị trung bình (mean) của Griewank (d=2, n=512) trong ES: 32.44641874168621\n",
            "Độ lệch chuẩn (std) của Griewank (d=2, n=512) trong ES: 15.16015737514058\n"
          ]
        }
      ]
    },
    {
      "cell_type": "markdown",
      "metadata": {
        "id": "xsUlYNoy3krT"
      },
      "source": [
        "#### **popsize = 1024**"
      ]
    },
    {
      "cell_type": "code",
      "metadata": {
        "id": "Y-BhX_8M5idS"
      },
      "source": [
        "dimension = 2\n",
        "fobj = Griewank_f\n",
        "max_evals = 1e5\n",
        "seed_number = 18520186\n",
        "lower_bound = -600\n",
        "upper_bound = 600\n",
        "popsize = 1024\n",
        "bounds = [(lower_bound, upper_bound)]*dimension\n",
        "np.random.rand(seed_number)\n",
        "all_results = []\n",
        "\n",
        "for i in range(10):\n",
        "    np.random.rand(seed_number)\n",
        "    results, all_pops, generation_count = ES(fobj, bounds, sigma_init, c_inc, c_dec, popsize, max_evals, dimension)\n",
        "    all_results.append(results[-1])\n",
        "    seed_number += 1"
      ],
      "execution_count": null,
      "outputs": []
    },
    {
      "cell_type": "code",
      "metadata": {
        "id": "uxkHXBuH5ify",
        "colab": {
          "base_uri": "https://localhost:8080/"
        },
        "outputId": "6ab8d7d7-3068-4ff0-cc84-9cc8227ce3d2"
      },
      "source": [
        "all_results"
      ],
      "execution_count": null,
      "outputs": [
        {
          "output_type": "execute_result",
          "data": {
            "text/plain": [
              "[(array([-561.96738734, -501.63736529]), 141.97082278979616, 10240),\n",
              " (array([-282.60240831, -115.40249214]), 23.308507425808116, 10240),\n",
              " (array([137.75963089, 336.8754726 ]), 33.3577099378152, 10240),\n",
              " (array([ 13.3457922 , 551.51812111]), 76.43946300447068, 10240),\n",
              " (array([-304.52893755,  -30.90686789]), 23.453459713688687, 10240),\n",
              " (array([169.68803168, 328.20030349]), 34.209153302650016, 10240),\n",
              " (array([370.46550879, 382.41803842]), 70.9276294687901, 10240),\n",
              " (array([-310.94998354,  324.28772396]), 50.4658504747307, 10240),\n",
              " (array([-15.70368882, -84.32891643]), 1.8413445087397058, 10240),\n",
              " (array([202.41499647, 425.39867711]), 56.33201918729809, 10240)]"
            ]
          },
          "metadata": {},
          "execution_count": 183
        }
      ]
    },
    {
      "cell_type": "code",
      "metadata": {
        "id": "J0cUXHnT5iiu",
        "colab": {
          "base_uri": "https://localhost:8080/"
        },
        "outputId": "6c5df2b6-8525-49f1-b662-f1cc99bd30b5"
      },
      "source": [
        "print(f\"Giá trị trung bình (mean) của Griewank (d=2, n=1024) trong ES: {np.mean([all_results[i][1] for i in range(len(all_results))])}\")\n",
        "print(f\"Độ lệch chuẩn (std) của Griewank (d=2, n=1024) trong ES: {np.std([all_results[i][1] for i in range(len(all_results))])}\")"
      ],
      "execution_count": null,
      "outputs": [
        {
          "output_type": "stream",
          "name": "stdout",
          "text": [
            "Giá trị trung bình (mean) của Griewank (d=2, n=1024) trong ES: 51.23059598137875\n",
            "Độ lệch chuẩn (std) của Griewank (d=2, n=1024) trong ES: 37.260620333549184\n"
          ]
        }
      ]
    },
    {
      "cell_type": "markdown",
      "metadata": {
        "id": "FbRQBbAe3k2f"
      },
      "source": [
        "### **dimensions (d=10)**"
      ]
    },
    {
      "cell_type": "markdown",
      "metadata": {
        "id": "S_f1Xq-M3mKB"
      },
      "source": [
        "#### **popsize = 32**"
      ]
    },
    {
      "cell_type": "code",
      "metadata": {
        "id": "vTNPoCgF5pAE"
      },
      "source": [
        "dimension = 10\n",
        "fobj = Griewank_f\n",
        "max_evals = 1e6\n",
        "seed_number = 18520186\n",
        "lower_bound = -600\n",
        "upper_bound = 600\n",
        "popsize = 32\n",
        "bounds = [(lower_bound, upper_bound)]*dimension\n",
        "np.random.rand(seed_number)\n",
        "all_results = []\n",
        "\n",
        "for i in range(10):\n",
        "    np.random.rand(seed_number)\n",
        "    results, all_pops, generation_count = ES(fobj, bounds, sigma_init, c_inc, c_dec, popsize, max_evals, dimension)\n",
        "    all_results.append(results[-1])\n",
        "    seed_number += 1"
      ],
      "execution_count": null,
      "outputs": []
    },
    {
      "cell_type": "code",
      "metadata": {
        "id": "XsrsKwdm5pDm",
        "colab": {
          "base_uri": "https://localhost:8080/"
        },
        "outputId": "ed036d2b-1f19-4c67-be39-16738c70936d"
      },
      "source": [
        "all_results"
      ],
      "execution_count": null,
      "outputs": [
        {
          "output_type": "execute_result",
          "data": {
            "text/plain": [
              "[(array([-3.25867830e-06,  9.00066613e-05, -5.43319885e+00,  1.88119481e+01,\n",
              "          7.00712904e+00,  3.74131118e-05, -8.28299815e+00,  8.85038139e+00,\n",
              "         -6.03618384e-05, -9.88526198e+00]), 0.1697697977669418, 5024),\n",
              " (array([-3.14002650e+00,  4.43844399e+00, -1.28473333e-05, -6.27064388e+00,\n",
              "         -1.09509218e-05,  7.67228362e+00,  2.64321822e-05, -2.56829412e-06,\n",
              "         -1.57038611e-05, -4.36466478e-06]), 0.03200606961190666, 5024),\n",
              " (array([-3.14002474e+00, -2.25468068e-07, -1.58471939e-06,  1.86897892e-06,\n",
              "          7.00727890e+00,  2.02842934e-05,  9.56803243e-06, -1.05870884e-05,\n",
              "         -3.77942346e-06, -2.32250970e-06]), 0.014772407805342946, 5024),\n",
              " (array([ 3.14002277e+00,  4.43842625e+00,  1.08664891e+01, -2.44474306e-05,\n",
              "          7.00728555e+00,  7.67226654e+00, -8.28289590e+00, -9.19273576e-06,\n",
              "          9.38255575e+00,  5.45356199e-05]), 0.1033455340223457, 5024),\n",
              " (array([-3.14004266e+00, -4.43840814e+00,  5.43326170e+00, -5.35925104e-05,\n",
              "          2.18449490e-05, -7.67222762e+00,  9.51522421e-05,  3.80252686e-06,\n",
              "         -8.12831484e-05, -1.47610397e-04]), 0.0295472853323544, 5024),\n",
              " (array([ 3.14001043e+00,  1.28560769e-06,  5.43324747e+00,  6.27063091e+00,\n",
              "         -7.00728454e+00,  1.87074901e-06, -1.65657166e+01,  8.85035230e+00,\n",
              "         -2.16805937e-06, -9.88514968e+00]), 0.14507141943037705, 5024),\n",
              " (array([-6.28004399e+00, -8.87688390e+00,  2.10169513e-05,  5.62284438e-06,\n",
              "          3.26253864e-05, -1.09402424e-05, -6.59541686e-06, -8.85037491e+00,\n",
              "         -9.38253455e+00,  1.97702599e+01]), 0.1695567214125604, 5024),\n",
              " (array([-6.28005504e+00,  1.33153228e+01,  5.43320166e+00, -6.27059787e+00,\n",
              "          2.10218456e+01,  7.67226720e+00,  8.28286364e+00, -3.23143439e-05,\n",
              "         -9.38255971e+00, -9.88515591e+00]), 0.2608605839575874, 5024),\n",
              " (array([ 9.42010615e+00,  1.33153117e+01, -3.30538831e-05, -6.27069957e+00,\n",
              "          5.21355923e-05, -1.12888297e-05, -8.28285681e+00,  2.90646955e-05,\n",
              "         -7.88659798e-05, -4.07177086e-05]), 0.09362583006003833, 5024),\n",
              " (array([ 3.09578398e-05, -4.43844678e+00,  3.93930887e-05, -6.27056563e+00,\n",
              "         -1.40145286e+01,  7.67237680e+00,  9.22773213e-05, -6.23533768e-05,\n",
              "         -9.38255340e+00,  4.29227502e-05]), 0.10087196100591511, 5024)]"
            ]
          },
          "metadata": {},
          "execution_count": 186
        }
      ]
    },
    {
      "cell_type": "code",
      "metadata": {
        "id": "89v37LhG5pNZ",
        "colab": {
          "base_uri": "https://localhost:8080/"
        },
        "outputId": "32202a59-1377-451a-95b1-9a4d36c99bc2"
      },
      "source": [
        "print(f\"Giá trị trung bình (mean) của Griewank (d=10, n=32) trong ES: {np.mean([all_results[i][1] for i in range(len(all_results))])}\")\n",
        "print(f\"Độ lệch chuẩn (std) của Griewank (d=10, n=32) trong ES: {np.std([all_results[i][1] for i in range(len(all_results))])}\")"
      ],
      "execution_count": null,
      "outputs": [
        {
          "output_type": "stream",
          "name": "stdout",
          "text": [
            "Giá trị trung bình (mean) của Griewank (d=10, n=32) trong ES: 0.11194276104053698\n",
            "Độ lệch chuẩn (std) của Griewank (d=10, n=32) trong ES: 0.07286309908541508\n"
          ]
        }
      ]
    },
    {
      "cell_type": "markdown",
      "metadata": {
        "id": "VsZ2WCuL3mTj"
      },
      "source": [
        "#### **popsize = 64**"
      ]
    },
    {
      "cell_type": "code",
      "metadata": {
        "id": "HpU1FxwO5nz_"
      },
      "source": [
        "dimension = 10\n",
        "fobj = Griewank_f\n",
        "max_evals = 1e6\n",
        "seed_number = 18520186\n",
        "lower_bound = -600\n",
        "upper_bound = 600\n",
        "popsize = 64\n",
        "bounds = [(lower_bound, upper_bound)]*dimension\n",
        "np.random.rand(seed_number)\n",
        "all_results = []\n",
        "\n",
        "for i in range(10):\n",
        "    np.random.rand(seed_number)\n",
        "    results, all_pops, generation_count = ES(fobj, bounds, sigma_init, c_inc, c_dec, popsize, max_evals, dimension)\n",
        "    all_results.append(results[-1])\n",
        "    seed_number += 1"
      ],
      "execution_count": null,
      "outputs": []
    },
    {
      "cell_type": "code",
      "metadata": {
        "id": "FhPc41yP5n2v",
        "colab": {
          "base_uri": "https://localhost:8080/"
        },
        "outputId": "b55f4db1-6a2d-4866-b11e-cde468dfc57c"
      },
      "source": [
        "all_results"
      ],
      "execution_count": null,
      "outputs": [
        {
          "output_type": "execute_result",
          "data": {
            "text/plain": [
              "[(array([ 8.06700502e-03, -3.83461730e-02,  3.95620026e-04,  6.17663057e+00,\n",
              "         -6.94926454e+00, -7.72393251e+00, -8.16293096e-02, -3.11274606e-02,\n",
              "          2.25395093e-02, -9.92231711e+00]), 0.06416815141581478, 5056),\n",
              " (array([ 8.78191242e-03,  2.98721972e-02,  1.07548492e+01, -1.87108489e+01,\n",
              "          5.39779633e-02, -9.42356118e-02, -7.79143036e+00,  8.59005839e+00,\n",
              "         -9.50286893e+00, -6.24063389e-02]), 0.2040540046306848, 5056),\n",
              " (array([-3.30226465, 13.46148994, -0.10362006, -6.27574721,  0.80635076,\n",
              "          0.20305797,  0.36713312, -8.50541419,  9.95376926,  9.40581065]),\n",
              "  0.25152317312022143,\n",
              "  5056),\n",
              " (array([-9.53120277e+00,  1.79076487e+01, -1.44670186e-02, -6.19284040e+00,\n",
              "         -1.22178523e-01, -6.47529651e-01,  8.12844985e+00,  2.39981365e-01,\n",
              "         -8.81594935e+00,  9.55982681e-02]), 0.22118891702893673, 5056),\n",
              " (array([ -0.07022979,   4.21385899,  -5.42541319,   6.28417342,\n",
              "           0.05202898,   0.20168568, -16.85067726,   0.07500673,\n",
              "          -9.1668009 ,  -0.12020632]), 0.14110367840607252, 5056),\n",
              " (array([ 6.28284067e+00, -8.91617971e+00,  1.63454491e+01,  6.42489961e-03,\n",
              "          6.42610873e-02,  7.57314120e+00, -8.20414188e+00, -7.45646251e-02,\n",
              "         -9.69094156e+00,  1.97443428e+01]), 0.2564774326290461, 5056),\n",
              " (array([ 5.54373692e-03,  8.88075678e+00,  1.08549419e+01,  6.23212387e+00,\n",
              "         -6.91350395e+00,  7.48560771e+00,  8.32004237e+00,  2.66299133e+01,\n",
              "          9.33857536e+00,  1.40138208e-01]), 0.3080515705402591, 5056),\n",
              " (array([-3.05113861,  8.63617519,  5.26514975, -0.35668826,  7.06914205,\n",
              "          0.3215307 ,  0.07101068,  8.19757849,  0.64132929, 19.36792543]),\n",
              "  0.26036166041595066,\n",
              "  5056),\n",
              " (array([ -0.07145795,   4.31431118,   0.08044165, -12.37673221,\n",
              "          -8.08113347,  -7.88122398,  -8.05504222,  -8.37965964,\n",
              "           9.53976868,   0.18187199]), 0.2743770248628393, 5056),\n",
              " (array([ 0.08751817, -0.02400818,  5.47921087, -6.31018044, 14.10869027,\n",
              "          0.08206956, -0.21613372,  8.53032628,  0.21493633, -9.95102763]),\n",
              "  0.12907568380463652,\n",
              "  5056)]"
            ]
          },
          "metadata": {},
          "execution_count": 189
        }
      ]
    },
    {
      "cell_type": "code",
      "metadata": {
        "id": "KXchY5Uj5n5p",
        "colab": {
          "base_uri": "https://localhost:8080/"
        },
        "outputId": "c3bb60d0-35a3-4997-984f-4df2eb861132"
      },
      "source": [
        "print(f\"Giá trị trung bình (mean) của Griewank (d=10, n=64) trong ES: {np.mean([all_results[i][1] for i in range(len(all_results))])}\")\n",
        "print(f\"Độ lệch chuẩn (std) của Griewank (d=10, n=64) trong ES: {np.std([all_results[i][1] for i in range(len(all_results))])}\")"
      ],
      "execution_count": null,
      "outputs": [
        {
          "output_type": "stream",
          "name": "stdout",
          "text": [
            "Giá trị trung bình (mean) của Griewank (d=10, n=64) trong ES: 0.21103812968544622\n",
            "Độ lệch chuẩn (std) của Griewank (d=10, n=64) trong ES: 0.07272639138602234\n"
          ]
        }
      ]
    },
    {
      "cell_type": "markdown",
      "metadata": {
        "id": "wYT7n6UE3mfC"
      },
      "source": [
        "#### **popsize = 128**"
      ]
    },
    {
      "cell_type": "code",
      "metadata": {
        "id": "oPeJ7guR5mtR"
      },
      "source": [
        "dimension = 10\n",
        "fobj = Griewank_f\n",
        "max_evals = 1e6\n",
        "seed_number = 18520186\n",
        "lower_bound = -600\n",
        "upper_bound = 600\n",
        "popsize = 128\n",
        "bounds = [(lower_bound, upper_bound)]*dimension\n",
        "np.random.rand(seed_number)\n",
        "all_results = []\n",
        "\n",
        "for i in range(10):\n",
        "    np.random.rand(seed_number)\n",
        "    results, all_pops, generation_count = ES(fobj, bounds, sigma_init, c_inc, c_dec, popsize, max_evals, dimension)\n",
        "    all_results.append(results[-1])\n",
        "    seed_number += 1"
      ],
      "execution_count": null,
      "outputs": []
    },
    {
      "cell_type": "code",
      "metadata": {
        "id": "9bFD7BMI5mvv",
        "colab": {
          "base_uri": "https://localhost:8080/"
        },
        "outputId": "afe682ba-7ec1-4f41-ce67-d7d97ede2298"
      },
      "source": [
        "all_results"
      ],
      "execution_count": null,
      "outputs": [
        {
          "output_type": "execute_result",
          "data": {
            "text/plain": [
              "[(array([-23.48660224,  12.15069919, -12.75680864,   5.29786178,\n",
              "           0.80591043,  13.83296548,  -0.48917388, -13.59428628,\n",
              "         -13.09950059,  33.83508092]), 1.6460231355166206, 5120),\n",
              " (array([-11.85406205, -14.34220048,  -4.43796307,  -9.09509723,\n",
              "          10.39477508, -27.67423999,   2.54737544, -13.07721956,\n",
              "         -18.01804922,  13.35813516]), 1.5007513613473964, 5120),\n",
              " (array([-40.73234133,  38.72527703, -73.51305055, -90.49575393,\n",
              "          -6.30730913,  -0.42612974,  78.81375626,  35.849153  ,\n",
              "          -3.84022851,  74.30543755]), 8.456305642872344, 5120),\n",
              " (array([ 27.95965313, -17.00779602, -40.69319085,   4.59017176,\n",
              "         -25.27190117, -22.22298292, -28.02205495,  -3.37729393,\n",
              "           0.19575249, -35.4482013 ]), 2.483767036654116, 5120),\n",
              " (array([ 15.56030136,  21.55105393, -41.85008612, -28.41213152,\n",
              "          74.88423914, 117.81076365,  76.48606402,  21.51704562,\n",
              "         -43.59796692,  25.11023006]), 8.899109727289597, 5120),\n",
              " (array([-14.99411668,  31.84817167,   3.13627512, -47.25575332,\n",
              "          12.82802524, -29.48870592,  46.13392318,   9.84680445,\n",
              "          51.08260889,  -4.59783748]), 3.3430538413991218, 5120),\n",
              " (array([-9.61524628, 22.03481922, 22.06685141, -0.767062  , -0.50820005,\n",
              "         21.38956269, 38.03970686, -4.67066518,  7.42308397, -9.30605309]),\n",
              "  1.793300577355535,\n",
              "  5120),\n",
              " (array([-31.28044979, -20.59116047, -36.9867298 ,  29.75152829,\n",
              "          70.54797036, -16.16097019, -12.94671575,  14.46367698,\n",
              "           2.95327447,  35.64626359]), 3.639710941832539, 5120),\n",
              " (array([ 15.34337947,  57.53808107,  74.03714325,  63.00671374,\n",
              "          37.26516902,  16.81062764, -26.76858342, -54.97600232,\n",
              "          -7.05539084,  17.21047521]), 5.732024796449671, 5120),\n",
              " (array([  1.74100574,   7.67959448, -14.64078552,  10.22535795,\n",
              "         -22.97697291,  18.0807209 ,  16.20084936,  17.43515195,\n",
              "          -2.22295684,  -9.47746872]), 1.4689893244608871, 5120)]"
            ]
          },
          "metadata": {},
          "execution_count": 192
        }
      ]
    },
    {
      "cell_type": "code",
      "metadata": {
        "id": "bSaXNjbV5my_",
        "colab": {
          "base_uri": "https://localhost:8080/"
        },
        "outputId": "ab3b9055-34ab-4a3e-f62a-8c26d1197670"
      },
      "source": [
        "print(f\"Giá trị trung bình (mean) của Griewank (d=10, n=128) trong ES: {np.mean([all_results[i][1] for i in range(len(all_results))])}\")\n",
        "print(f\"Độ lệch chuẩn (std) của Griewank (d=10, n=128) trong ES: {np.std([all_results[i][1] for i in range(len(all_results))])}\")"
      ],
      "execution_count": null,
      "outputs": [
        {
          "output_type": "stream",
          "name": "stdout",
          "text": [
            "Giá trị trung bình (mean) của Griewank (d=10, n=128) trong ES: 3.896303638517783\n",
            "Độ lệch chuẩn (std) của Griewank (d=10, n=128) trong ES: 2.695842238006223\n"
          ]
        }
      ]
    },
    {
      "cell_type": "markdown",
      "metadata": {
        "id": "wctWG1-r3mp8"
      },
      "source": [
        "#### **popsize = 256**"
      ]
    },
    {
      "cell_type": "code",
      "metadata": {
        "id": "BY_raIDy5ltD"
      },
      "source": [
        "dimension = 10\n",
        "fobj = Griewank_f\n",
        "max_evals = 1e6\n",
        "seed_number = 18520186\n",
        "lower_bound = -600\n",
        "upper_bound = 600\n",
        "popsize = 256\n",
        "bounds = [(lower_bound, upper_bound)]*dimension\n",
        "np.random.rand(seed_number)\n",
        "all_results = []\n",
        "\n",
        "for i in range(10):\n",
        "    np.random.rand(seed_number)\n",
        "    results, all_pops, generation_count = ES(fobj, bounds, sigma_init, c_inc, c_dec, popsize, max_evals, dimension)\n",
        "    all_results.append(results[-1])\n",
        "    seed_number += 1"
      ],
      "execution_count": null,
      "outputs": []
    },
    {
      "cell_type": "code",
      "metadata": {
        "id": "ZSmQ4gf-5lwI",
        "colab": {
          "base_uri": "https://localhost:8080/"
        },
        "outputId": "57d7e478-d4f2-43da-a34f-ade51ec01ac0"
      },
      "source": [
        "all_results"
      ],
      "execution_count": null,
      "outputs": [
        {
          "output_type": "execute_result",
          "data": {
            "text/plain": [
              "[(array([-462.72119144,  231.89854146,  286.3030289 ,  500.04399557,\n",
              "          447.32103971, -273.36346809,  479.25688023, -148.80605521,\n",
              "          409.08912376,    4.98923549]), 324.4835406445073, 5120),\n",
              " (array([ 473.63068987, -432.32332232,  410.48682687, -452.80032055,\n",
              "           84.00871589,   78.41818364,  -40.60297699, -367.91104787,\n",
              "          263.94509869, -377.19625055]), 287.74665000876007, 5120),\n",
              " (array([-394.98780996, -396.61825103,  266.47178943, -426.87528961,\n",
              "         -332.43002119,  280.82461836,  -24.27960821, -378.73984187,\n",
              "          309.15980562, -168.91918009]), 257.01901277942596, 5120),\n",
              " (array([ 337.34502074,  356.84991809,  128.75405722, -227.73654566,\n",
              "          132.44200639, -127.3929842 ,  197.29254226,  129.70068211,\n",
              "          292.70599902, -127.35312841]), 126.24752470136313, 5120),\n",
              " (array([-472.74485441,  486.46242536,  -74.03921439,  117.20867719,\n",
              "          339.86147112,  -26.50882662,  327.9303796 ,  382.64853269,\n",
              "           53.32503956,  107.17074806]), 216.96224117898655, 5120),\n",
              " (array([  79.31739676, -177.0668947 ,  197.92193636,  120.91436739,\n",
              "         -330.04943936, -120.64464218,   54.83081133,  329.54738914,\n",
              "         -153.48740882, -220.89520292]), 100.73404640478701, 5120),\n",
              " (array([-216.61847289,  384.00751917,  442.22460948,  475.21289318,\n",
              "          -34.60579773, -251.6376082 , -151.96921317, -511.22489845,\n",
              "          464.99089271,  219.90213365]), 308.32925597133294, 5120),\n",
              " (array([ 299.44081278, -360.51309694, -356.27216232, -524.83750485,\n",
              "         -479.92032044,  204.80286598,  -68.38970506, -121.62029055,\n",
              "          515.84977367,   67.4384512 ]), 297.10085673563395, 5120),\n",
              " (array([ 259.85441347,  492.69092913, -157.02427909,  208.40713641,\n",
              "          430.61562187,  434.30025886,  -50.54187354,   30.26481263,\n",
              "          180.35372634,  139.3488783 ]), 202.9688955468799, 5120),\n",
              " (array([ 207.37363536, -358.86290181,  102.4639629 ,  431.21968768,\n",
              "          370.16797749, -517.67291057, -181.51604284, -129.65280656,\n",
              "          392.64724431,  365.61357412]), 278.72160651787897, 5120)]"
            ]
          },
          "metadata": {},
          "execution_count": 195
        }
      ]
    },
    {
      "cell_type": "code",
      "metadata": {
        "id": "jOXfYY6Z5lzq",
        "colab": {
          "base_uri": "https://localhost:8080/"
        },
        "outputId": "59e0a755-d5b3-45f7-9a78-a43ccb3b860c"
      },
      "source": [
        "print(f\"Giá trị trung bình (mean) của Griewank (d=10, n=256) trong ES: {np.mean([all_results[i][1] for i in range(len(all_results))])}\")\n",
        "print(f\"Độ lệch chuẩn (std) của Griewank (d=10, n=256) trong ES: {np.std([all_results[i][1] for i in range(len(all_results))])}\")"
      ],
      "execution_count": null,
      "outputs": [
        {
          "output_type": "stream",
          "name": "stdout",
          "text": [
            "Giá trị trung bình (mean) của Griewank (d=10, n=256) trong ES: 240.03136304895557\n",
            "Độ lệch chuẩn (std) của Griewank (d=10, n=256) trong ES: 73.05633343879083\n"
          ]
        }
      ]
    },
    {
      "cell_type": "markdown",
      "metadata": {
        "id": "x8_ymsOT3mz0"
      },
      "source": [
        "#### **popsize = 512**"
      ]
    },
    {
      "cell_type": "code",
      "metadata": {
        "id": "pgqjPIus5kk5"
      },
      "source": [
        "dimension = 10\n",
        "fobj = Griewank_f\n",
        "max_evals = 1e6\n",
        "seed_number = 18520186\n",
        "lower_bound = -600\n",
        "upper_bound = 600\n",
        "popsize = 512\n",
        "bounds = [(lower_bound, upper_bound)]*dimension\n",
        "np.random.rand(seed_number)\n",
        "all_results = []\n",
        "\n",
        "for i in range(10):\n",
        "    np.random.rand(seed_number)\n",
        "    results, all_pops, generation_count = ES(fobj, bounds, sigma_init, c_inc, c_dec, popsize, max_evals, dimension)\n",
        "    all_results.append(results[-1])\n",
        "    seed_number += 1"
      ],
      "execution_count": null,
      "outputs": []
    },
    {
      "cell_type": "code",
      "metadata": {
        "id": "AINWd_wa5kn1",
        "colab": {
          "base_uri": "https://localhost:8080/"
        },
        "outputId": "4e28582a-8703-421d-b04e-24709a5cfb64"
      },
      "source": [
        "all_results"
      ],
      "execution_count": null,
      "outputs": [
        {
          "output_type": "execute_result",
          "data": {
            "text/plain": [
              "[(array([-242.6819931 ,  -49.43058567,  276.23737828,  230.2614277 ,\n",
              "         -383.36654143,  364.96477084,  232.1120656 ,  183.28534319,\n",
              "          289.13299977,  211.85096154]), 172.6968765561126, 10240),\n",
              " (array([ 289.40685245,  376.12278228,    8.79581885, -309.13985502,\n",
              "         -324.53243519, -335.5226334 , -344.38773618,  -63.54216102,\n",
              "          344.44118093, -443.033625  ]), 245.08106201874872, 10240),\n",
              " (array([ 311.81851839, -313.3219251 ,  346.83741466,  -45.85729111,\n",
              "          252.56175638,  224.39985052, -356.4441185 ,  326.96856132,\n",
              "           76.01370104, -404.62709257]), 209.85956845742353, 10240),\n",
              " (array([  40.62080191,  499.86912084,   38.59774178, -297.42899333,\n",
              "         -169.29285219, -435.34362309, -174.85583758,  160.12425942,\n",
              "          280.18122856, -440.18967967]), 223.03383670874987, 10240),\n",
              " (array([ -30.93303102,  420.26365755,  401.62585611,  490.21301918,\n",
              "           28.97804326, -230.15205388, -275.62774134, -171.22297721,\n",
              "         -436.41641158,   29.91195711]), 233.34882087011974, 10240),\n",
              " (array([ 469.07669092,  201.10733907,  232.41228709,   66.67925998,\n",
              "         -368.29709392,  353.33276204,  230.12079537,  188.63648399,\n",
              "         -378.16515806,  329.89669027]), 230.946092317208, 10240),\n",
              " (array([ 287.99114091, -177.6465991 ,  325.77036894,  427.76878091,\n",
              "          210.82709058,  500.01471274, -381.73633299,  183.91159454,\n",
              "          477.2757442 , -374.59830947]), 312.4993761796335, 10240),\n",
              " (array([ -12.13434549,  301.59234164,  134.89302016,  -50.49692485,\n",
              "         -170.85443187,  -70.30687843,  -50.16469185,  118.76236912,\n",
              "          146.09250956,  415.24607149]), 90.09501259138692, 10240),\n",
              " (array([ 227.00037113,  438.24879064, -285.15331586,  101.23747853,\n",
              "          129.35154733, -113.19296675,  340.48125191,  -63.20078552,\n",
              "          434.44160939,  224.40256547]), 181.93200787007146, 10240),\n",
              " (array([ -57.71995994,   26.78326963,  221.91504723,  216.82355887,\n",
              "          165.0665782 ,   67.40161767,  185.59022796,  -40.9186448 ,\n",
              "         -275.44602133,  418.9429203 ]), 105.89984124162383, 10240)]"
            ]
          },
          "metadata": {},
          "execution_count": 198
        }
      ]
    },
    {
      "cell_type": "code",
      "metadata": {
        "id": "6xnJ8LFq5kuP",
        "colab": {
          "base_uri": "https://localhost:8080/"
        },
        "outputId": "e4b588c5-e44d-4003-f944-1181eb3a9976"
      },
      "source": [
        "print(f\"Giá trị trung bình (mean) của Griewank (d=10, n=512) trong ES: {np.mean([all_results[i][1] for i in range(len(all_results))])}\")\n",
        "print(f\"Độ lệch chuẩn (std) của Griewank (d=10, n=5112) trong ES: {np.std([all_results[i][1] for i in range(len(all_results))])}\")"
      ],
      "execution_count": null,
      "outputs": [
        {
          "output_type": "stream",
          "name": "stdout",
          "text": [
            "Giá trị trung bình (mean) của Griewank (d=10, n=512) trong ES: 200.5392494811078\n",
            "Độ lệch chuẩn (std) của Griewank (d=10, n=5112) trong ES: 62.760605578164224\n"
          ]
        }
      ]
    },
    {
      "cell_type": "markdown",
      "metadata": {
        "id": "eFSiwaPL3m_m"
      },
      "source": [
        "#### **popsize = 1024**"
      ]
    },
    {
      "cell_type": "code",
      "metadata": {
        "id": "nEi6hB0m5jiT"
      },
      "source": [
        "dimension = 10\n",
        "fobj = Griewank_f\n",
        "max_evals = 1e6\n",
        "seed_number = 18520186\n",
        "lower_bound = -600\n",
        "upper_bound = 600\n",
        "popsize = 1024\n",
        "bounds = [(lower_bound, upper_bound)]*dimension\n",
        "np.random.rand(seed_number)\n",
        "all_results = []\n",
        "\n",
        "for i in range(10):\n",
        "    np.random.rand(seed_number)\n",
        "    results, all_pops, generation_count = ES(fobj, bounds, sigma_init, c_inc, c_dec, popsize, max_evals, dimension)\n",
        "    all_results.append(results[-1])\n",
        "    seed_number += 1"
      ],
      "execution_count": null,
      "outputs": []
    },
    {
      "cell_type": "code",
      "metadata": {
        "id": "DoFDSOf95jk0",
        "colab": {
          "base_uri": "https://localhost:8080/"
        },
        "outputId": "c809a25a-e868-4b43-d489-72727fa2ba22"
      },
      "source": [
        "all_results"
      ],
      "execution_count": null,
      "outputs": [
        {
          "output_type": "execute_result",
          "data": {
            "text/plain": [
              "[(array([  -7.99279515,  436.53303973, -136.64603104, -438.57845383,\n",
              "          220.32398387,  170.52595433,  344.26805047,  161.61641562,\n",
              "         -469.5849606 , -222.70814527]), 224.5035864386731, 10240),\n",
              " (array([ 451.33843506,  301.61569528, -157.91870338,   15.15267094,\n",
              "          -16.7791998 , -122.12168722, -323.56451864,  106.86855418,\n",
              "            3.39066106, -273.25920446]), 132.45933383591486, 10240),\n",
              " (array([ 209.89530864,  422.61928946, -294.04183944,  545.44015953,\n",
              "          233.65676501, -106.93322562,  123.51616766,   91.53890295,\n",
              "         -360.9170405 ,  445.99219589]), 257.24416549941185, 10240),\n",
              " (array([-442.18804348,  294.05332293, -463.69642576,  -57.18591105,\n",
              "         -558.71640113, -306.0819807 ,  419.94064984, -223.89466154,\n",
              "          108.39571905, -448.65497393]), 337.4130703777184, 10240),\n",
              " (array([ 109.24279933, -222.3491206 , -445.64021077,  -35.75021901,\n",
              "         -409.18225364, -159.45501779, -527.84899261, -139.89739249,\n",
              "          529.56893089, -560.88840352]), 337.8340939772048, 10240),\n",
              " (array([-309.62862915, -527.51710206, -144.09179311,  509.21374543,\n",
              "          138.15663052, -468.80247416,  414.54063805, -566.22114183,\n",
              "          416.37666343, -475.44420369]), 447.23223496312, 10240),\n",
              " (array([ 286.98072917, -230.39913046,   75.78315698,  424.92052651,\n",
              "          546.28127647,  503.20933119,  162.20914069, -115.40689824,\n",
              "          401.06092028,  -60.13792643]), 270.37021263657033, 10240),\n",
              " (array([-525.58491372,   25.67876365,  147.1427394 ,  328.85862806,\n",
              "         -115.79219773, -297.53198204, -495.85771712, -215.05108223,\n",
              "          382.97091409, -535.46905009]), 309.5358311670234, 10240),\n",
              " (array([ 193.16841658,  559.66245609,  331.16946052,  137.19718381,\n",
              "           15.0849233 ,  -49.277632  , -325.60945325, -396.71830422,\n",
              "          522.23958011,  429.13255917]), 301.49531594394875, 10240),\n",
              " (array([-166.38975217, -363.89381356, -447.99247231, -151.54035821,\n",
              "         -313.52475247, -412.50964381,  210.6300983 ,  294.68565337,\n",
              "          464.86577613,  -11.92929189]), 250.90842967300188, 10240)]"
            ]
          },
          "metadata": {},
          "execution_count": 201
        }
      ]
    },
    {
      "cell_type": "code",
      "metadata": {
        "id": "T1OwTFic5jom",
        "colab": {
          "base_uri": "https://localhost:8080/"
        },
        "outputId": "624db4b2-99cc-49a6-ca84-9086bfc8c659"
      },
      "source": [
        "print(f\"Giá trị trung bình (mean) của Griewank (d=10, n=1024) trong ES: {np.mean([all_results[i][1] for i in range(len(all_results))])}\")\n",
        "print(f\"Độ lệch chuẩn (std) của Griewank (d=10, n=1024) trong ES: {np.std([all_results[i][1] for i in range(len(all_results))])}\")"
      ],
      "execution_count": null,
      "outputs": [
        {
          "output_type": "stream",
          "name": "stdout",
          "text": [
            "Giá trị trung bình (mean) của Griewank (d=10, n=1024) trong ES: 286.89962745125877\n",
            "Độ lệch chuẩn (std) của Griewank (d=10, n=1024) trong ES: 78.59453491853118\n"
          ]
        }
      ]
    },
    {
      "cell_type": "markdown",
      "metadata": {
        "id": "qWEp3xzgqyMA"
      },
      "source": [
        "## **Hàm Ackley**"
      ]
    },
    {
      "cell_type": "markdown",
      "metadata": {
        "id": "mBUH9kAD3oCh"
      },
      "source": [
        "### **dimensions (d=2)**"
      ]
    },
    {
      "cell_type": "markdown",
      "metadata": {
        "id": "W-AbAv0z3osr"
      },
      "source": [
        "#### **popsize = 32**"
      ]
    },
    {
      "cell_type": "code",
      "metadata": {
        "id": "NRIcN86Z5L0j"
      },
      "source": [
        "dimension = 2\n",
        "fobj = Ackley_f\n",
        "max_evals = 1e5\n",
        "seed_number = 18520186\n",
        "lower_bound = -33\n",
        "upper_bound = 433\n",
        "popsize = 32\n",
        "bounds = [(lower_bound, upper_bound)]*dimension\n",
        "np.random.rand(seed_number)\n",
        "all_results = []\n",
        "\n",
        "for i in range(10):\n",
        "    np.random.rand(seed_number)\n",
        "    results, all_pops, generation_count = ES(fobj, bounds, sigma_init, c_inc, c_dec, popsize, max_evals, dimension)\n",
        "    all_results.append(results[-1])\n",
        "    seed_number += 1"
      ],
      "execution_count": null,
      "outputs": []
    },
    {
      "cell_type": "code",
      "metadata": {
        "id": "c0lwvHju5L3L",
        "colab": {
          "base_uri": "https://localhost:8080/"
        },
        "outputId": "c023dc9f-8983-45e8-e7f3-1f5e74a25ba7"
      },
      "source": [
        "all_results"
      ],
      "execution_count": null,
      "outputs": [
        {
          "output_type": "execute_result",
          "data": {
            "text/plain": [
              "[(array([335., 302.]), 20.0, 5024),\n",
              " (array([ -2., 123.]), 19.99999944338605, 5024),\n",
              " (array([382.00000001, 419.99999999]), 20.0, 5024),\n",
              " (array([276., 335.]), 20.0, 5024),\n",
              " (array([240.        , 335.00000001]), 20.0, 5024),\n",
              " (array([144., 276.]), 20.0, 5024),\n",
              " (array([317.        , 336.00000001]), 20.0, 5024),\n",
              " (array([357.,  19.]), 20.0, 5024),\n",
              " (array([425.00000001, 357.        ]), 20.0, 5024),\n",
              " (array([352.        , 115.99999999]), 20.0, 5024)]"
            ]
          },
          "metadata": {},
          "execution_count": 204
        }
      ]
    },
    {
      "cell_type": "code",
      "metadata": {
        "id": "qfMxzKe65L6g",
        "colab": {
          "base_uri": "https://localhost:8080/"
        },
        "outputId": "9488d55e-13a0-4777-9275-d7e3e6cf687c"
      },
      "source": [
        "print(f\"Giá trị trung bình (mean) của Ackley (d=2, n=32) trong ES: {np.mean([all_results[i][1] for i in range(len(all_results))])}\")\n",
        "print(f\"Độ lệch chuẩn (std) của Ackley (d=2, n=32) trong ES: {np.std([all_results[i][1] for i in range(len(all_results))])}\")"
      ],
      "execution_count": null,
      "outputs": [
        {
          "output_type": "stream",
          "name": "stdout",
          "text": [
            "Giá trị trung bình (mean) của Ackley (d=2, n=32) trong ES: 19.999999944338605\n",
            "Độ lệch chuẩn (std) của Ackley (d=2, n=32) trong ES: 1.6698418541238878e-07\n"
          ]
        }
      ]
    },
    {
      "cell_type": "markdown",
      "metadata": {
        "id": "7g5-dVVA3o3u"
      },
      "source": [
        "#### **popsize = 64**"
      ]
    },
    {
      "cell_type": "code",
      "metadata": {
        "id": "SW6u99kx5N9c"
      },
      "source": [
        "dimension = 2\n",
        "fobj = Ackley_f\n",
        "max_evals = 1e5\n",
        "seed_number = 18520186\n",
        "lower_bound = -33\n",
        "upper_bound = 433\n",
        "popsize = 64\n",
        "bounds = [(lower_bound, upper_bound)]*dimension\n",
        "np.random.rand(seed_number)\n",
        "all_results = []\n",
        "\n",
        "for i in range(10):\n",
        "    np.random.rand(seed_number)\n",
        "    results, all_pops, generation_count = ES(fobj, bounds, sigma_init, c_inc, c_dec, popsize, max_evals, dimension)\n",
        "    all_results.append(results[-1])\n",
        "    seed_number += 1"
      ],
      "execution_count": null,
      "outputs": []
    },
    {
      "cell_type": "code",
      "metadata": {
        "id": "SeZouxRM5N_2",
        "colab": {
          "base_uri": "https://localhost:8080/"
        },
        "outputId": "8a2834c6-10d5-427c-8a9a-2fb16c4bece4"
      },
      "source": [
        "all_results"
      ],
      "execution_count": null,
      "outputs": [
        {
          "output_type": "execute_result",
          "data": {
            "text/plain": [
              "[(array([213., 299.]), 20.0, 5056),\n",
              " (array([224., 277.]), 20.0, 5056),\n",
              " (array([191.        , -22.99999999]), 19.999999999969425, 5056),\n",
              " (array([ 94.        , 312.00000001]), 20.0, 5056),\n",
              " (array([ 25., 170.]), 19.999999999440778, 5056),\n",
              " (array([162., 312.]), 20.0, 5056),\n",
              " (array([152., 288.]), 20.0, 5056),\n",
              " (array([210.        , 177.99999999]), 20.0, 5056),\n",
              " (array([294.99999999, 181.        ]), 20.0, 5056),\n",
              " (array([279.99999999, -26.        ]), 20.0, 5056)]"
            ]
          },
          "metadata": {},
          "execution_count": 207
        }
      ]
    },
    {
      "cell_type": "code",
      "metadata": {
        "id": "j2xRQ1BF5ODg",
        "colab": {
          "base_uri": "https://localhost:8080/"
        },
        "outputId": "aa812947-6647-4ed0-ef39-501e6284fbf3"
      },
      "source": [
        "print(f\"Giá trị trung bình (mean) của Ackley (d=2, n=64) trong ES: {np.mean([all_results[i][1] for i in range(len(all_results))])}\")\n",
        "print(f\"Độ lệch chuẩn (std) của Ackley (d=2, n=64) trong ES: {np.std([all_results[i][1] for i in range(len(all_results))])}\")"
      ],
      "execution_count": null,
      "outputs": [
        {
          "output_type": "stream",
          "name": "stdout",
          "text": [
            "Giá trị trung bình (mean) của Ackley (d=2, n=64) trong ES: 19.999999999941018\n",
            "Độ lệch chuẩn (std) của Ackley (d=2, n=64) trong ES: 1.6699642138399377e-10\n"
          ]
        }
      ]
    },
    {
      "cell_type": "markdown",
      "metadata": {
        "id": "Dl-SgGNS3pDA"
      },
      "source": [
        "#### **popsize = 128**"
      ]
    },
    {
      "cell_type": "code",
      "metadata": {
        "id": "rhy4Tw_c5M8-"
      },
      "source": [
        "dimension = 2\n",
        "fobj = Ackley_f\n",
        "max_evals = 1e5\n",
        "seed_number = 18520186\n",
        "lower_bound = -33\n",
        "upper_bound = 433\n",
        "popsize = 128\n",
        "bounds = [(lower_bound, upper_bound)]*dimension\n",
        "np.random.rand(seed_number)\n",
        "all_results = []\n",
        "\n",
        "for i in range(10):\n",
        "    np.random.rand(seed_number)\n",
        "    results, all_pops, generation_count = ES(fobj, bounds, sigma_init, c_inc, c_dec, popsize, max_evals, dimension)\n",
        "    all_results.append(results[-1])\n",
        "    seed_number += 1"
      ],
      "execution_count": null,
      "outputs": []
    },
    {
      "cell_type": "code",
      "metadata": {
        "id": "nPeF-j8X5NAS",
        "colab": {
          "base_uri": "https://localhost:8080/"
        },
        "outputId": "e58103a7-d164-4884-9bd8-fad22103110e"
      },
      "source": [
        "all_results"
      ],
      "execution_count": null,
      "outputs": [
        {
          "output_type": "execute_result",
          "data": {
            "text/plain": [
              "[(array([280.99999931, 164.99999936]), 20.000000000023892, 5120),\n",
              " (array([-25.99999875, 240.00000074]), 20.000000000056506, 5120),\n",
              " (array([194.00000361, 133.99999689]), 20.000000000608832, 5120),\n",
              " (array([210.99999977, 197.99999999]), 20.00000000000143, 5120),\n",
              " (array([142.0000004 , 389.00000085]), 20.000000000023523, 5120),\n",
              " (array([348.99999864, 281.99999796]), 20.000000000160956, 5120),\n",
              " (array([405.00000061, 400.00000391]), 20.00000000042125, 5120),\n",
              " (array([424.99999979, 430.00000142]), 20.000000000055362, 5120),\n",
              " (array([258.99999972, 200.00000043]), 20.000000000007038, 5120),\n",
              " (array([286.00000022, 326.0000028 ]), 20.000000000211717, 5120)]"
            ]
          },
          "metadata": {},
          "execution_count": 210
        }
      ]
    },
    {
      "cell_type": "code",
      "metadata": {
        "id": "Nj9UWigU5NDy",
        "colab": {
          "base_uri": "https://localhost:8080/"
        },
        "outputId": "3fe09cfa-cb0f-4d9d-c2c4-c41931bb2c31"
      },
      "source": [
        "print(f\"Giá trị trung bình (mean) của Ackley (d=2, n=128) trong ES: {np.mean([all_results[i][1] for i in range(len(all_results))])}\")\n",
        "print(f\"Độ lệch chuẩn (std) của Ackley (d=2, n=128) trong ES: {np.std([all_results[i][1] for i in range(len(all_results))])}\")"
      ],
      "execution_count": null,
      "outputs": [
        {
          "output_type": "stream",
          "name": "stdout",
          "text": [
            "Giá trị trung bình (mean) của Ackley (d=2, n=128) trong ES: 20.00000000015705\n",
            "Độ lệch chuẩn (std) của Ackley (d=2, n=128) trong ES: 1.9484421411691724e-10\n"
          ]
        }
      ]
    },
    {
      "cell_type": "markdown",
      "metadata": {
        "id": "_Ky1HsFm3pN4"
      },
      "source": [
        "#### **popsize = 256**"
      ]
    },
    {
      "cell_type": "code",
      "metadata": {
        "id": "_F0k-f335PQM"
      },
      "source": [
        "dimension = 2\n",
        "fobj = Ackley_f\n",
        "max_evals = 1e5\n",
        "seed_number = 18520186\n",
        "lower_bound = -33\n",
        "upper_bound = 433\n",
        "popsize = 256\n",
        "bounds = [(lower_bound, upper_bound)]*dimension\n",
        "np.random.rand(seed_number)\n",
        "all_results = []\n",
        "\n",
        "for i in range(10):\n",
        "    np.random.rand(seed_number)\n",
        "    results, all_pops, generation_count = ES(fobj, bounds, sigma_init, c_inc, c_dec, popsize, max_evals, dimension)\n",
        "    all_results.append(results[-1])\n",
        "    seed_number += 1"
      ],
      "execution_count": null,
      "outputs": []
    },
    {
      "cell_type": "code",
      "metadata": {
        "id": "orxdOBBB5PSm",
        "colab": {
          "base_uri": "https://localhost:8080/"
        },
        "outputId": "c77399a0-77e9-4037-b9ab-4029bdc1a166"
      },
      "source": [
        "all_results"
      ],
      "execution_count": null,
      "outputs": [
        {
          "output_type": "execute_result",
          "data": {
            "text/plain": [
              "[(array([243.00043869, 286.99935539]), 20.000016310908947, 5120),\n",
              " (array([ 36.99995488, 328.00006593]), 20.000000171246327, 5120),\n",
              " (array([ -3.00000843, 359.00005356]), 20.000000078875264, 5120),\n",
              " (array([200.00031573,  45.00129847]), 20.000047906899198, 5120),\n",
              " (array([210.99973152,  84.0002672 ]), 20.000003849268193, 5120),\n",
              " (array([ 98.99922811, -17.99931941]), 20.00001519974971, 5120),\n",
              " (array([125.00005701, 335.99989628]), 20.000000375790844, 5120),\n",
              " (array([218.99976291, 355.00011088]), 20.0000018379356, 5120),\n",
              " (array([347.99974461, 151.0005462 ]), 20.000009753752316, 5120),\n",
              " (array([-16.99963141, 190.00008335]), 20.000003831266326, 5120)]"
            ]
          },
          "metadata": {},
          "execution_count": 213
        }
      ]
    },
    {
      "cell_type": "code",
      "metadata": {
        "id": "DCZRy5L85PWP",
        "colab": {
          "base_uri": "https://localhost:8080/"
        },
        "outputId": "c4fbfbed-686a-4258-f3a9-baab840cae1e"
      },
      "source": [
        "print(f\"Giá trị trung bình (mean) của Ackley (d=2, n=256) trong ES: {np.mean([all_results[i][1] for i in range(len(all_results))])}\")\n",
        "print(f\"Độ lệch chuẩn (std) của Ackley (d=2, n=256) trong ES: {np.std([all_results[i][1] for i in range(len(all_results))])}\")"
      ],
      "execution_count": null,
      "outputs": [
        {
          "output_type": "stream",
          "name": "stdout",
          "text": [
            "Giá trị trung bình (mean) của Ackley (d=2, n=256) trong ES: 20.000009931569274\n",
            "Độ lệch chuẩn (std) của Ackley (d=2, n=256) trong ES: 1.3906740720692364e-05\n"
          ]
        }
      ]
    },
    {
      "cell_type": "markdown",
      "metadata": {
        "id": "vn9k9Ly73paS"
      },
      "source": [
        "#### **popsize = 512**"
      ]
    },
    {
      "cell_type": "code",
      "metadata": {
        "id": "PuavGzqL5QWx"
      },
      "source": [
        "dimension = 2\n",
        "fobj = Ackley_f\n",
        "max_evals = 1e5\n",
        "seed_number = 18520186\n",
        "lower_bound = -33\n",
        "upper_bound = 433\n",
        "popsize = 512\n",
        "bounds = [(lower_bound, upper_bound)]*dimension\n",
        "np.random.rand(seed_number)\n",
        "all_results = []\n",
        "\n",
        "for i in range(10):\n",
        "    np.random.rand(seed_number)\n",
        "    results, all_pops, generation_count = ES(fobj, bounds, sigma_init, c_inc, c_dec, popsize, max_evals, dimension)\n",
        "    all_results.append(results[-1])\n",
        "    seed_number += 1"
      ],
      "execution_count": null,
      "outputs": []
    },
    {
      "cell_type": "code",
      "metadata": {
        "id": "m32AUGB65QZJ",
        "colab": {
          "base_uri": "https://localhost:8080/"
        },
        "outputId": "ddb1f1fe-9477-4024-d736-ae535bfd6978"
      },
      "source": [
        "all_results"
      ],
      "execution_count": null,
      "outputs": [
        {
          "output_type": "execute_result",
          "data": {
            "text/plain": [
              "[(array([203.99956005,  90.00003934]), 20.000005234211468, 10240),\n",
              " (array([400.00004938, 283.99981598]), 20.000000973877416, 10240),\n",
              " (array([-22.00001354, 353.99990659]), 20.00000023901977, 10240),\n",
              " (array([283.00002702,  84.99971694]), 20.00000216909442, 10240),\n",
              " (array([356.0000653 , 399.99989472]), 20.0000004117779, 10240),\n",
              " (array([342.9999403 , -27.99975822]), 20.000001664005516, 10240),\n",
              " (array([46.00005624, 26.0000075 ]), 19.988631392445622, 10240),\n",
              " (array([416.00068469,  31.00028862]), 20.00001481174957, 10240),\n",
              " (array([58.0001843 ,  8.00026741]), 19.99493273266508, 10240),\n",
              " (array([290.99953633, 416.0003577 ]), 20.000009200640015, 10240)]"
            ]
          },
          "metadata": {},
          "execution_count": 216
        }
      ]
    },
    {
      "cell_type": "code",
      "metadata": {
        "id": "8M9WGxqG5Qdm",
        "colab": {
          "base_uri": "https://localhost:8080/"
        },
        "outputId": "53a31554-9a6f-495e-888e-86a3730f8013"
      },
      "source": [
        "print(f\"Giá trị trung bình (mean) của Ackley (d=2, n=512) trong ES: {np.mean([all_results[i][1] for i in range(len(all_results))])}\")\n",
        "print(f\"Độ lệch chuẩn (std) của Ackley (d=2, n=512) trong ES: {np.std([all_results[i][1] for i in range(len(all_results))])}\")"
      ],
      "execution_count": null,
      "outputs": [
        {
          "output_type": "stream",
          "name": "stdout",
          "text": [
            "Giá trị trung bình (mean) của Ackley (d=2, n=512) trong ES: 19.99835988294868\n",
            "Độ lệch chuẩn (std) của Ackley (d=2, n=512) trong ES: 0.003578029298849997\n"
          ]
        }
      ]
    },
    {
      "cell_type": "markdown",
      "metadata": {
        "id": "LYFv9Sas3plS"
      },
      "source": [
        "#### **popsize = 1024**"
      ]
    },
    {
      "cell_type": "code",
      "metadata": {
        "id": "9D8hsF8i5Rew"
      },
      "source": [
        "dimension = 2\n",
        "fobj = Ackley_f\n",
        "max_evals = 1e5\n",
        "seed_number = 18520186\n",
        "lower_bound = -33\n",
        "upper_bound = 433\n",
        "popsize = 1024\n",
        "bounds = [(lower_bound, upper_bound)]*dimension\n",
        "np.random.rand(seed_number)\n",
        "all_results = []\n",
        "\n",
        "for i in range(10):\n",
        "    np.random.rand(seed_number)\n",
        "    results, all_pops, generation_count = ES(fobj, bounds, sigma_init, c_inc, c_dec, popsize, max_evals, dimension)\n",
        "    all_results.append(results[-1])\n",
        "    seed_number += 1"
      ],
      "execution_count": null,
      "outputs": []
    },
    {
      "cell_type": "code",
      "metadata": {
        "id": "hcclYuyM5RhO",
        "colab": {
          "base_uri": "https://localhost:8080/"
        },
        "outputId": "4eb7cb6d-512b-4a87-95a8-0c11a532599c"
      },
      "source": [
        "all_results"
      ],
      "execution_count": null,
      "outputs": [
        {
          "output_type": "execute_result",
          "data": {
            "text/plain": [
              "[(array([129.99917831, 300.0022204 ]), 20.000150375640523, 10240),\n",
              " (array([159.00240164, 412.99852761]), 20.000212892537576, 10240),\n",
              " (array([111.00084938,  21.00417977]), 20.00048568365602, 10240),\n",
              " (array([-27.00037723, 329.00396025]), 20.00042452735079, 10240),\n",
              " (array([216.00024588,  -2.99957383]), 20.000006494588778, 10240),\n",
              " (array([ 74.99815752, 251.00165491]), 20.00016454361424, 10240),\n",
              " (array([231.99878015, 420.99645155]), 20.0003776898339, 10240),\n",
              " (array([382.00188803,  68.00050453]), 20.000102460047692, 10240),\n",
              " (array([ 81.99748461, 384.00188615]), 20.000265174238255, 10240),\n",
              " (array([138.9999997 , 106.99976917]), 20.00000142919597, 10240)]"
            ]
          },
          "metadata": {},
          "execution_count": 219
        }
      ]
    },
    {
      "cell_type": "code",
      "metadata": {
        "id": "MsxlqYvi5Rkm",
        "colab": {
          "base_uri": "https://localhost:8080/"
        },
        "outputId": "611431fb-8f6c-4169-d261-75aabd57538e"
      },
      "source": [
        "print(f\"Giá trị trung bình (mean) của Ackley (d=2, n=1024) trong ES: {np.mean([all_results[i][1] for i in range(len(all_results))])}\")\n",
        "print(f\"Độ lệch chuẩn (std) của Ackley (d=2, n=1024) trong ES: {np.std([all_results[i][1] for i in range(len(all_results))])}\")"
      ],
      "execution_count": null,
      "outputs": [
        {
          "output_type": "stream",
          "name": "stdout",
          "text": [
            "Giá trị trung bình (mean) của Ackley (d=2, n=1024) trong ES: 20.000219127070373\n",
            "Độ lệch chuẩn (std) của Ackley (d=2, n=1024) trong ES: 0.00015951968321020494\n"
          ]
        }
      ]
    },
    {
      "cell_type": "markdown",
      "metadata": {
        "id": "xkjFrZ7U3pvo"
      },
      "source": [
        "### **dimensions (d=10)**"
      ]
    },
    {
      "cell_type": "markdown",
      "metadata": {
        "id": "gUa0xX7R3tPx"
      },
      "source": [
        "#### **popsize = 32**"
      ]
    },
    {
      "cell_type": "code",
      "metadata": {
        "id": "vAqM6GXV5GVg"
      },
      "source": [
        "dimension = 10\n",
        "fobj = Ackley_f\n",
        "max_evals = 1e6\n",
        "seed_number = 18520186\n",
        "lower_bound = -33\n",
        "upper_bound = 433\n",
        "popsize = 32\n",
        "bounds = [(lower_bound, upper_bound)]*dimension\n",
        "np.random.rand(seed_number)\n",
        "all_results = []\n",
        "\n",
        "for i in range(10):\n",
        "    np.random.rand(seed_number)\n",
        "    results, all_pops, generation_count = ES(fobj, bounds, sigma_init, c_inc, c_dec, popsize, max_evals, dimension)\n",
        "    all_results.append(results[-1])\n",
        "    seed_number += 1"
      ],
      "execution_count": null,
      "outputs": []
    },
    {
      "cell_type": "code",
      "metadata": {
        "id": "lj-DITZu5GX4",
        "colab": {
          "base_uri": "https://localhost:8080/"
        },
        "outputId": "b0a7e74c-ed83-421b-aabc-95bf16199dc2"
      },
      "source": [
        "all_results"
      ],
      "execution_count": null,
      "outputs": [
        {
          "output_type": "execute_result",
          "data": {
            "text/plain": [
              "[(array([365.        , -19.        , 391.        ,  45.        ,\n",
              "         306.99999998,  15.99999998, 261.        , 247.00000001,\n",
              "         131.99999999, -31.00000001]), 20.000000000000004, 5024),\n",
              " (array([103.99999999, 297.        , 151.        , 268.99999999,\n",
              "         223.        ,  66.        , 223.00000001,  72.        ,\n",
              "         308.99999999,  49.        ]), 20.0, 5024),\n",
              " (array([375.00000001, 327.        ,  39.        , -24.        ,\n",
              "         -18.        , 328.99999999, 111.99999999, 309.00000001,\n",
              "         285.        ,  16.00000001]), 20.0, 5024),\n",
              " (array([  5.00000001,   7.        , -12.00000001, 362.00000001,\n",
              "         253.99999999,  64.        , 369.        , 225.        ,\n",
              "         347.00000001, 261.        ]), 20.0, 5024),\n",
              " (array([396.        , 371.00000001,  34.99999998, -29.        ,\n",
              "          44.        , 171.00000001,  18.00000002, 187.        ,\n",
              "         -24.        , 385.        ]), 20.000000000000004, 5024),\n",
              " (array([  5.        , 354.        , 209.        , 177.        ,\n",
              "         168.        , 278.        , 229.        , 421.00000001,\n",
              "         282.        , 130.        ]), 20.0, 5024),\n",
              " (array([220.99999999,  91.99999999, 160.00000001, 249.99999998,\n",
              "         179.00000002,  84.99999999, 409.99999998, 270.00000001,\n",
              "          45.00000001, 137.00000001]), 20.00000000000001, 5024),\n",
              " (array([263.99999998, 133.        , 300.        , 386.00000001,\n",
              "         317.        , 280.        , 155.        , 373.99999999,\n",
              "         347.99999999, 405.99999998]), 20.000000000000004, 5024),\n",
              " (array([384.99999999, 282.00000001, 186.00000001, 228.        ,\n",
              "         366.        ,  65.99999999,  -3.99999999,  -9.        ,\n",
              "         201.99999999, 274.00000001]), 20.000000000000004, 5024),\n",
              " (array([227.        , 392.        , 228.        ,  33.        ,\n",
              "         297.99999999, 305.        , 106.        , 378.        ,\n",
              "         392.99999999,  31.00000001]), 20.0, 5024)]"
            ]
          },
          "metadata": {},
          "execution_count": 222
        }
      ]
    },
    {
      "cell_type": "code",
      "metadata": {
        "id": "pyj8Nvjd5Gbd",
        "colab": {
          "base_uri": "https://localhost:8080/"
        },
        "outputId": "9d057a2e-be94-40cf-ff2e-d8047d975b67"
      },
      "source": [
        "print(f\"Giá trị trung bình (mean) của Ackley (d=10, n=32) trong ES: {np.mean([all_results[i][1] for i in range(len(all_results))])}\")\n",
        "print(f\"Độ lệch chuẩn (std) của Ackley (d=10, n=32) trong ES: {np.std([all_results[i][1] for i in range(len(all_results))])}\")"
      ],
      "execution_count": null,
      "outputs": [
        {
          "output_type": "stream",
          "name": "stdout",
          "text": [
            "Giá trị trung bình (mean) của Ackley (d=10, n=32) trong ES: 20.0\n",
            "Độ lệch chuẩn (std) của Ackley (d=10, n=32) trong ES: 4.050716828981884e-15\n"
          ]
        }
      ]
    },
    {
      "cell_type": "markdown",
      "metadata": {
        "id": "j9ZzxIUp3tgT"
      },
      "source": [
        "#### **popsize = 64**"
      ]
    },
    {
      "cell_type": "code",
      "metadata": {
        "id": "VW38ERur5HP_"
      },
      "source": [
        "dimension = 10\n",
        "fobj = Ackley_f\n",
        "max_evals = 1e6\n",
        "seed_number = 18520186\n",
        "lower_bound = -33\n",
        "upper_bound = 433\n",
        "popsize = 64\n",
        "bounds = [(lower_bound, upper_bound)]*dimension\n",
        "np.random.rand(seed_number)\n",
        "all_results = []\n",
        "\n",
        "for i in range(10):\n",
        "    np.random.rand(seed_number)\n",
        "    results, all_pops, generation_count = ES(fobj, bounds, sigma_init, c_inc, c_dec, popsize, max_evals, dimension)\n",
        "    all_results.append(results[-1])\n",
        "    seed_number += 1"
      ],
      "execution_count": null,
      "outputs": []
    },
    {
      "cell_type": "code",
      "metadata": {
        "id": "nSUS1ulI5HS0",
        "colab": {
          "base_uri": "https://localhost:8080/"
        },
        "outputId": "513f57d2-adaf-4524-adf1-8e9dbd2837dd"
      },
      "source": [
        "all_results"
      ],
      "execution_count": null,
      "outputs": [
        {
          "output_type": "execute_result",
          "data": {
            "text/plain": [
              "[(array([143.00000897, 366.00002986, 272.00000428,  92.0000066 ,\n",
              "         293.0000117 , 363.99999815, 388.99999073, 161.00000513,\n",
              "         213.99997752, 189.00001078]), 20.000000010238683, 5056),\n",
              " (array([284.00000247, 410.99994415, 326.00002384, 109.99996907,\n",
              "         300.999921  , -17.0000002 , 351.00000295, 377.99993011,\n",
              "          95.99999525, 292.99997849]), 20.000000087301533, 5056),\n",
              " (array([ 62.00000868, 367.0000222 , 165.00000804,  48.99995961,\n",
              "         351.99997661, 237.99998098, -17.00001729, 336.00006784,\n",
              "         236.99993647, 344.0000209 ]), 20.000000067314566, 5056),\n",
              " (array([231.99997309,  70.99999504, 265.99999281, -16.00003238,\n",
              "         203.99999356, 223.00000128,  25.99999416, 176.99998509,\n",
              "         348.00001595, 215.00001596]), 20.000000014258816, 5056),\n",
              " (array([279.00000699, 413.00001155,  47.00000857, 258.9999892 ,\n",
              "         286.99999428, 360.99999633, 228.00000515, 222.99998986,\n",
              "          46.99999128, 307.00002627]), 20.000000007051238, 5056),\n",
              " (array([155.99998904, 399.99999532, 354.00000071, -25.99999555,\n",
              "         380.9999851 ,  63.99999228, 277.99999722, 248.99999869,\n",
              "          -4.00000975, 295.00000638]), 20.000000003160956, 5056),\n",
              " (array([401.00000332,  -7.00000784, 428.00000337, 372.00000355,\n",
              "         172.99999103, 254.99999279, 286.00000461, 307.99999903,\n",
              "         149.99998975, 177.99999702]), 20.000000001958565, 5056),\n",
              " (array([ 94.99998773,  50.99998546, 374.99997846,  -5.99996949,\n",
              "          67.00000811,  86.00000304, 121.00000279,  68.99998046,\n",
              "         367.99998682,  68.99998939]), 20.000000013456308, 5056),\n",
              " (array([ 58.00000709, 189.99997064,  41.00001149, 164.00000689,\n",
              "         124.00002333, 150.99997957, 335.00000033, 209.99998976,\n",
              "           6.00001317, 337.0000043 ]), 20.00000001261139, 5056),\n",
              " (array([399.00000481, 334.99998945, 313.00000439,  50.99999478,\n",
              "         319.00000696, 386.99999511,  25.00000388, 272.99999574,\n",
              "         238.99999177,  50.99999097]), 20.00000000233911, 5056)]"
            ]
          },
          "metadata": {},
          "execution_count": 225
        }
      ]
    },
    {
      "cell_type": "code",
      "metadata": {
        "id": "FsevsjP85HV2",
        "colab": {
          "base_uri": "https://localhost:8080/"
        },
        "outputId": "71d778d4-8ea6-4173-d5fb-cae1d8886503"
      },
      "source": [
        "print(f\"Giá trị trung bình (mean) của Ackley (d=10, n=64) trong ES: {np.mean([all_results[i][1] for i in range(len(all_results))])}\")\n",
        "print(f\"Độ lệch chuẩn (std) của Ackley (d=10, n=64) trong ES: {np.std([all_results[i][1] for i in range(len(all_results))])}\")"
      ],
      "execution_count": null,
      "outputs": [
        {
          "output_type": "stream",
          "name": "stdout",
          "text": [
            "Giá trị trung bình (mean) của Ackley (d=10, n=64) trong ES: 20.000000021969118\n",
            "Độ lệch chuẩn (std) của Ackley (d=10, n=64) trong ES: 2.836136553693905e-08\n"
          ]
        }
      ]
    },
    {
      "cell_type": "markdown",
      "metadata": {
        "id": "jpfelQjB3tqR"
      },
      "source": [
        "#### **popsize = 128**"
      ]
    },
    {
      "cell_type": "code",
      "metadata": {
        "id": "DOTUvJnv5Icy"
      },
      "source": [
        "dimension = 10\n",
        "fobj = Ackley_f\n",
        "max_evals = 1e6\n",
        "seed_number = 18520186\n",
        "lower_bound = -33\n",
        "upper_bound = 433\n",
        "popsize = 128\n",
        "bounds = [(lower_bound, upper_bound)]*dimension\n",
        "np.random.rand(seed_number)\n",
        "all_results = []\n",
        "\n",
        "for i in range(10):\n",
        "    np.random.rand(seed_number)\n",
        "    results, all_pops, generation_count = ES(fobj, bounds, sigma_init, c_inc, c_dec, popsize, max_evals, dimension)\n",
        "    all_results.append(results[-1])\n",
        "    seed_number += 1"
      ],
      "execution_count": null,
      "outputs": []
    },
    {
      "cell_type": "code",
      "metadata": {
        "id": "sudMOxHF5IfX",
        "colab": {
          "base_uri": "https://localhost:8080/"
        },
        "outputId": "c46d6b3e-3d29-4b1c-d021-8ac09737cf0f"
      },
      "source": [
        "all_results"
      ],
      "execution_count": null,
      "outputs": [
        {
          "output_type": "execute_result",
          "data": {
            "text/plain": [
              "[(array([-30.99958357, 103.99854903, 361.99912437,  83.99881805,\n",
              "         270.99960604,   0.99916982, 428.99901524, 119.9990219 ,\n",
              "         415.99990132, 173.00026048]), 20.000039120170825, 5120),\n",
              " (array([ 20.99322191,  -4.99683957,  73.00006063, 417.99960766,\n",
              "          96.99988471,  34.00006346, 259.00118531, 315.00442279,\n",
              "           9.00157353,  16.9984559 ]), 20.000439538670157, 5120),\n",
              " (array([ 51.00099698, 185.00000625, 192.0002081 ,   2.999983  ,\n",
              "         -29.00041903, 180.00042186, 271.00131106, 245.00022314,\n",
              "         370.9994411 , 325.99995365]), 20.000018642055473, 5120),\n",
              " (array([190.00141523, 400.99978982, 221.9983896 ,  18.99969615,\n",
              "           1.00102195, 149.99902879,  16.00096251, -26.00113588,\n",
              "          10.99598208, 215.00273916]), 20.000174822206343, 5120),\n",
              " (array([344.00097904,  83.99871865, 378.99989039,  -1.99927497,\n",
              "         170.99803495,  76.99826425, 372.00046332, 110.99955328,\n",
              "          25.9986531 ,  38.99871866]), 20.00007448750518, 5120),\n",
              " (array([ 45.99502569, 318.00207318, 142.99622253, 107.99928523,\n",
              "          64.00752499, 301.00288283, 308.00219249,  51.99594206,\n",
              "         324.99591724, 130.99953584]), 20.00078810844632, 5120),\n",
              " (array([402.99988944, 169.99960163, 312.99977139, 259.00056579,\n",
              "         207.99936261, 261.00024747, 213.00037688, 431.9992557 ,\n",
              "         422.00019844,  95.00016827]), 20.00000952140115, 5120),\n",
              " (array([320.99988646, 327.00117546,  39.00053977, 295.99914573,\n",
              "          25.00095367, 216.99968287, 370.00066555, 402.00027422,\n",
              "           7.00105993,  30.99965392]), 20.000027832347765, 5120),\n",
              " (array([-31.00073258, 433.        , 113.9963103 , 403.00384261,\n",
              "          77.9963144 , 263.9971428 ,  13.99889841, 221.99748543,\n",
              "         339.00044152, 230.99938829]), 20.00031530528649, 5120),\n",
              " (array([278.99969927, 250.99968275,  49.00037912, -31.99988736,\n",
              "          94.99952722, 197.00019704,  60.00033329, 392.00002761,\n",
              "         118.9998813 , 346.00042562]), 20.000004920023517, 5120)]"
            ]
          },
          "metadata": {},
          "execution_count": 228
        }
      ]
    },
    {
      "cell_type": "code",
      "metadata": {
        "id": "oDKAk2Cj5Iiq",
        "colab": {
          "base_uri": "https://localhost:8080/"
        },
        "outputId": "ce37a2fb-d50d-48e7-ac44-a41d10c1cae7"
      },
      "source": [
        "print(f\"Giá trị trung bình (mean) của Ackley (d=10, n=128) trong ES: {np.mean([all_results[i][1] for i in range(len(all_results))])}\")\n",
        "print(f\"Độ lệch chuẩn (std) của Ackley (d=10, n=128) trong ES: {np.std([all_results[i][1] for i in range(len(all_results))])}\")"
      ],
      "execution_count": null,
      "outputs": [
        {
          "output_type": "stream",
          "name": "stdout",
          "text": [
            "Giá trị trung bình (mean) của Ackley (d=10, n=128) trong ES: 20.00018922981132\n",
            "Độ lệch chuẩn (std) của Ackley (d=10, n=128) trong ES: 0.0002438290351929675\n"
          ]
        }
      ]
    },
    {
      "cell_type": "markdown",
      "metadata": {
        "id": "6-iLjTmX3t28"
      },
      "source": [
        "#### **popsize = 256**"
      ]
    },
    {
      "cell_type": "code",
      "metadata": {
        "id": "oETT47X25Jlq"
      },
      "source": [
        "dimension = 10\n",
        "fobj = Ackley_f\n",
        "max_evals = 1e6\n",
        "seed_number = 18520186\n",
        "lower_bound = -33\n",
        "upper_bound = 433\n",
        "popsize = 256\n",
        "bounds = [(lower_bound, upper_bound)]*dimension\n",
        "np.random.rand(seed_number)\n",
        "all_results = []\n",
        "\n",
        "for i in range(10):\n",
        "    np.random.rand(seed_number)\n",
        "    results, all_pops, generation_count = ES(fobj, bounds, sigma_init, c_inc, c_dec, popsize, max_evals, dimension)\n",
        "    all_results.append(results[-1])\n",
        "    seed_number += 1"
      ],
      "execution_count": null,
      "outputs": []
    },
    {
      "cell_type": "code",
      "metadata": {
        "id": "qIvwGiXb5JoI",
        "colab": {
          "base_uri": "https://localhost:8080/"
        },
        "outputId": "1017540e-c56d-4db3-f269-cb60f86fa4a1"
      },
      "source": [
        "all_results"
      ],
      "execution_count": null,
      "outputs": [
        {
          "output_type": "execute_result",
          "data": {
            "text/plain": [
              "[(array([292.99613497, 417.00346944, -18.99286985, 351.00158597,\n",
              "          63.01361318, 192.99002202, 243.00662326,  99.0100836 ,\n",
              "         295.99856609,  24.00438712]), 20.002852295292488, 5120),\n",
              " (array([ 39.00177097, 414.9587172 ,  89.95382501, 308.08527005,\n",
              "         275.00046207, -25.00897797,   2.97900992,  32.94721843,\n",
              "         315.00671043, 403.01615453]), 20.0767033641, 5120),\n",
              " (array([-19.99098067, 371.99852424, 237.98123106,  62.99724397,\n",
              "         319.99345844, 433.        , 288.00651744, 187.98809147,\n",
              "          89.99744508,   3.97356501]), 20.007360841831268, 5120),\n",
              " (array([389.05045436,  60.99921529, 344.99337289, 339.04846099,\n",
              "          -7.03855854,  21.98674788, 146.01146032, 302.00252446,\n",
              "          -8.04050706, 407.00272449]), 20.044337896707844, 5120),\n",
              " (array([ 25.00092552, 433.        , -23.02819178,  60.99219475,\n",
              "         385.0122342 ,  56.06135088,  43.02142291, 209.94304063,\n",
              "         286.00487718, 254.00005325]), 20.044771536199978, 5120),\n",
              " (array([157.02894818,  91.02148853, -18.0013414 , 191.98800159,\n",
              "         183.00939055, -14.0011033 , 285.00444902,  84.02202829,\n",
              "         291.99740326, 212.02133805]), 20.013367525144222, 5120),\n",
              " (array([217.02531079, 294.9891054 , 134.99339006,  38.01529662,\n",
              "          55.98859172,  76.00537864,  77.99121127, 398.02847884,\n",
              "         362.97533385, 179.97320217]), 20.018204489069753, 5120),\n",
              " (array([174.00918334, -25.98734052, -10.01676455, 316.00573066,\n",
              "         411.98616001, 178.00038495, 211.98992449, 309.99543367,\n",
              "          94.02891881, 395.98930688]), 20.00974971143083, 5120),\n",
              " (array([ 18.9773962 , 146.00008508, 190.02976052, 287.98620803,\n",
              "         141.00326724, 252.0196411 , 398.0159492 , 415.02582179,\n",
              "         271.02054659, -31.99723042]), 20.017798238934297, 5120),\n",
              " (array([ 72.00530865, 173.02139155, 427.99351083, 148.99121456,\n",
              "          59.9926904 , 189.99532376, 114.99605727, 301.0067535 ,\n",
              "         160.01296028, 114.01309947]), 20.005789642974236, 5120)]"
            ]
          },
          "metadata": {},
          "execution_count": 231
        }
      ]
    },
    {
      "cell_type": "code",
      "metadata": {
        "id": "pQCWR-ae5Jrg",
        "colab": {
          "base_uri": "https://localhost:8080/"
        },
        "outputId": "ef204e6b-4a2c-4e3d-b2ff-f3fbf25994a4"
      },
      "source": [
        "print(f\"Giá trị trung bình (mean) của Ackley (d=10, n=256) trong ES: {np.mean([all_results[i][1] for i in range(len(all_results))])}\")\n",
        "print(f\"Độ lệch chuẩn (std) của Ackley (d=10, n=256) trong ES: {np.std([all_results[i][1] for i in range(len(all_results))])}\")"
      ],
      "execution_count": null,
      "outputs": [
        {
          "output_type": "stream",
          "name": "stdout",
          "text": [
            "Giá trị trung bình (mean) của Ackley (d=10, n=256) trong ES: 20.02409355416849\n",
            "Độ lệch chuẩn (std) của Ackley (d=10, n=256) trong ES: 0.02250892702313154\n"
          ]
        }
      ]
    },
    {
      "cell_type": "markdown",
      "metadata": {
        "id": "R429jQMa3uCI"
      },
      "source": [
        "#### **popsize = 512**"
      ]
    },
    {
      "cell_type": "code",
      "metadata": {
        "id": "p_-oCoYS5FL1"
      },
      "source": [
        "dimension = 10\n",
        "fobj = Ackley_f\n",
        "max_evals = 1e6\n",
        "seed_number = 18520186\n",
        "lower_bound = -33\n",
        "upper_bound = 433\n",
        "popsize = 512\n",
        "bounds = [(lower_bound, upper_bound)]*dimension\n",
        "np.random.rand(seed_number)\n",
        "all_results = []\n",
        "\n",
        "for i in range(10):\n",
        "    np.random.rand(seed_number)\n",
        "    results, all_pops, generation_count = ES(fobj, bounds, sigma_init, c_inc, c_dec, popsize, max_evals, dimension)\n",
        "    all_results.append(results[-1])\n",
        "    seed_number += 1"
      ],
      "execution_count": null,
      "outputs": []
    },
    {
      "cell_type": "code",
      "metadata": {
        "id": "mYi4W06K5FS_",
        "colab": {
          "base_uri": "https://localhost:8080/"
        },
        "outputId": "886c080b-3330-40e5-b29e-22100bdeb016"
      },
      "source": [
        "all_results"
      ],
      "execution_count": null,
      "outputs": [
        {
          "output_type": "execute_result",
          "data": {
            "text/plain": [
              "[(array([ 59.00015812, 149.97955362, 146.00881896, 305.99460259,\n",
              "         233.98639218, 402.01044005,   9.98493741, 107.99533969,\n",
              "         333.0006912 , 322.0215708 ]), 20.00820725248878, 10240),\n",
              " (array([211.99920323, 259.00137553, 421.0034612 , -11.00583131,\n",
              "         425.99424268,   5.99571709, -25.03130086, 329.00388925,\n",
              "         350.9824855 , 347.99526289]), 20.0076117680947, 10240),\n",
              " (array([326.03496981,  73.0148289 , 382.99769685,  79.98822738,\n",
              "         267.01013741, 170.98821673, 368.99328891, 297.01396452,\n",
              "         206.99587957,  84.01059099]), 20.011736589957138, 10240),\n",
              " (array([ 1.52001290e+02, -1.40054707e+01, -2.12639240e-02,  3.39017776e+02,\n",
              "         -1.09930591e+01,  4.21967942e+02, -2.79779301e+01,  8.90044071e+01,\n",
              "          2.46993439e+02,  3.42977265e+02]), 20.01570732672125, 10240),\n",
              " (array([250.00059735, 390.98346175, 123.0120843 , 337.98560757,\n",
              "         388.01186428, 322.99510601, 135.98397286, 372.00850586,\n",
              "          35.99769729, 253.99880038]), 20.006040161123416, 10240),\n",
              " (array([109.01173343, 406.98630755, 277.97846944,  -8.01648306,\n",
              "         291.03155194, 262.01323812, 165.01146996,  30.97380486,\n",
              "         344.99955889, 415.00394723]), 20.01636209285179, 10240),\n",
              " (array([ 79.987292  , 329.99592353, 428.99179415,  23.00307695,\n",
              "         113.98775521, 406.98044713, 113.99223889, 188.99696281,\n",
              "         273.99266444, 129.9619684 ]), 20.012576331413097, 10240),\n",
              " (array([ 95.98573563, -28.00386336, 290.00039136, 155.98547013,\n",
              "          88.00746311, 417.00322407, 122.0133121 , 133.03658269,\n",
              "         150.01418565, 129.99366338]), 20.01202587895494, 10240),\n",
              " (array([ 37.01817098, 334.9857185 , 303.00554936, 298.01852357,\n",
              "         201.98725054, 159.99660337, 326.0145656 , 271.01686352,\n",
              "         419.00314107, 249.98977186]), 20.00906219786104, 10240),\n",
              " (array([424.00862397, 427.00099819, 352.9773677 , 297.99947936,\n",
              "         264.01248547, 183.01658349, 208.99711597, 373.00025837,\n",
              "          94.99475141, 213.98286188]), 20.007217489559654, 10240)]"
            ]
          },
          "metadata": {},
          "execution_count": 234
        }
      ]
    },
    {
      "cell_type": "code",
      "metadata": {
        "id": "ul59JNTu5FVN",
        "colab": {
          "base_uri": "https://localhost:8080/"
        },
        "outputId": "66c94c40-6e1a-4e65-c7b6-7f5a683b56cc"
      },
      "source": [
        "print(f\"Giá trị trung bình (mean) của Ackley (d=10, n=512) trong ES: {np.mean([all_results[i][1] for i in range(len(all_results))])}\")\n",
        "print(f\"Độ lệch chuẩn (std) của Ackley (d=10, n=512) trong ES: {np.std([all_results[i][1] for i in range(len(all_results))])}\")"
      ],
      "execution_count": null,
      "outputs": [
        {
          "output_type": "stream",
          "name": "stdout",
          "text": [
            "Giá trị trung bình (mean) của Ackley (d=10, n=512) trong ES: 20.01065470890258\n",
            "Độ lệch chuẩn (std) của Ackley (d=10, n=512) trong ES: 0.00340206608488987\n"
          ]
        }
      ]
    },
    {
      "cell_type": "markdown",
      "metadata": {
        "id": "tECQfQ_I3uSo"
      },
      "source": [
        "#### **popsize = 1024**"
      ]
    },
    {
      "cell_type": "code",
      "metadata": {
        "id": "NoSLH3O25Dwb"
      },
      "source": [
        "dimension = 10\n",
        "fobj = Ackley_f\n",
        "max_evals = 1e6\n",
        "seed_number = 18520186\n",
        "lower_bound = -33\n",
        "upper_bound = 433\n",
        "popsize = 1024\n",
        "bounds = [(lower_bound, upper_bound)]*dimension\n",
        "np.random.rand(seed_number)\n",
        "all_results = []\n",
        "\n",
        "for i in range(10):\n",
        "    np.random.rand(seed_number)\n",
        "    results, all_pops, generation_count = ES(fobj, bounds, sigma_init, c_inc, c_dec, popsize, max_evals, dimension)\n",
        "    all_results.append(results[-1])\n",
        "    seed_number += 1"
      ],
      "execution_count": null,
      "outputs": []
    },
    {
      "cell_type": "code",
      "metadata": {
        "id": "kgKxqln65D89",
        "colab": {
          "base_uri": "https://localhost:8080/"
        },
        "outputId": "4b27d60a-9835-4a1e-c83a-1e17346a5400"
      },
      "source": [
        "all_results"
      ],
      "execution_count": null,
      "outputs": [
        {
          "output_type": "execute_result",
          "data": {
            "text/plain": [
              "[(array([ 77.94526008, 115.96519168,  33.03495245, 102.92945525,\n",
              "         338.0590026 , 396.98575367, 430.00110518, 427.9524384 ,\n",
              "         319.99129058, 148.97989236]), 20.087921725647416, 10240),\n",
              " (array([377.01431771, 277.03306126,  53.94653295, 335.98007199,\n",
              "          95.00211583,  97.03827815, 158.93697231, 264.01215755,\n",
              "         342.9982294 , -23.91702045]), 20.088602329316824, 10240),\n",
              " (array([203.97458144,  69.99373922, 281.89053593, 243.98352967,\n",
              "         320.04200252, 245.95673218,  78.93699386, 175.01815544,\n",
              "          87.99948745, 371.00726285]), 20.107220383288496, 10240),\n",
              " (array([402.98424045, 232.87019681, 189.96619254, 349.93790005,\n",
              "          -4.00668802, 291.89803201, 247.00617888,  74.00168375,\n",
              "           7.02206804, 110.9645914 ]), 20.171408961198072, 10240),\n",
              " (array([1.16955065e+02, 1.56975702e-02, 2.26961434e+02, 2.93921753e+02,\n",
              "         4.19071683e+02, 1.09921717e+02, 2.42968332e+02, 2.56022373e+02,\n",
              "         4.12041695e+02, 8.93419941e+00]), 20.14761597225942, 10240),\n",
              " (array([ 53.8947821 , 342.94216476, 403.13000713, 314.99764884,\n",
              "           6.89865139, 205.02355688, 229.89249188,  18.89251277,\n",
              "         386.99517333, 433.        ]), 20.316547599871246, 10240),\n",
              " (array([325.04088366,  23.04508278, 428.01598154, 351.07837863,\n",
              "          75.08553666,  88.99007572, 348.96693214, -10.94193287,\n",
              "         293.92591495, 349.99497793]), 20.14126616039291, 10240),\n",
              " (array([ 65.03118494,  93.07365128, 142.08658434, 133.00065904,\n",
              "         234.90710335, 306.94525237,  31.9082038 , 151.87294521,\n",
              "         229.95680107,  25.99429253]), 20.257188797729455, 10240),\n",
              " (array([ 81.89592307, 335.94084565, 135.92139847,  17.98140072,\n",
              "         225.05680213, 232.98969044, 324.01636958, 292.89447743,\n",
              "         348.02907978, 401.98042605]), 20.18563654481065, 10240),\n",
              " (array([343.92861127, 376.95154376, 323.03211861, 219.00600879,\n",
              "          50.94403068, 430.98387872, 197.05708432, 101.03770562,\n",
              "         225.01233515, 277.02151688]), 20.08980133644831, 10240)]"
            ]
          },
          "metadata": {},
          "execution_count": 237
        }
      ]
    },
    {
      "cell_type": "code",
      "metadata": {
        "id": "8_Fv9eFJ5EAY",
        "colab": {
          "base_uri": "https://localhost:8080/"
        },
        "outputId": "860b39f7-c88e-4184-db9e-2e7f0f1fbd2e"
      },
      "source": [
        "print(f\"Giá trị trung bình (mean) của Ackley (d=10, n=1024) trong ES: {np.mean([all_results[i][1] for i in range(len(all_results))])}\")\n",
        "print(f\"Độ lệch chuẩn (std) của Ackley (d=10, n=1024) trong ES: {np.std([all_results[i][1] for i in range(len(all_results))])}\")"
      ],
      "execution_count": null,
      "outputs": [
        {
          "output_type": "stream",
          "name": "stdout",
          "text": [
            "Giá trị trung bình (mean) của Ackley (d=10, n=1024) trong ES: 20.15932098109628\n",
            "Độ lệch chuẩn (std) của Ackley (d=10, n=1024) trong ES: 0.07297010743795429\n"
          ]
        }
      ]
    },
    {
      "cell_type": "markdown",
      "metadata": {
        "id": "iFUoz5HvQg-X"
      },
      "source": [
        "#**Vẽ đồ thị**"
      ]
    },
    {
      "cell_type": "markdown",
      "metadata": {
        "id": "_lPy55CDBbyQ"
      },
      "source": [
        "## **Hàm Sphere**"
      ]
    },
    {
      "cell_type": "markdown",
      "metadata": {
        "id": "NXNPjx4UBojw"
      },
      "source": [
        "### **dimensions (d=2)**"
      ]
    },
    {
      "cell_type": "code",
      "metadata": {
        "id": "hq-jBZ_HBt5I"
      },
      "source": [
        "# DE, popsize = 128\n",
        "all_results = []\n",
        "\n",
        "dimension = 2\n",
        "max_evals = 1e5\n",
        "fobj = Sphere_f\n",
        "seed_number = 18520186\n",
        "popsize = 128\n",
        "lower_bound = -6\n",
        "upper_bound = 6\n",
        "\n",
        "for i in range(10):\n",
        "    np.random.rand(seed_number)\n",
        "    results, all_pops, generation_count = DE(fobj, dimension, [(lower_bound, upper_bound)]*dimension, F_scale, cross_prob, popsize, max_evals)\n",
        "    all_results.append(results)\n",
        "    seed_number += 1\n",
        "\n",
        "plt_fitness_de_128 = []\n",
        "plt_std_de_128 = []\n",
        "plt_eval_de_128 = []\n",
        "for i in range(np.min([len(all_results[t]) for t in range(10)])):\n",
        "    fitness = []\n",
        "    eval = []\n",
        "    for j in range(10):\n",
        "        fitness.append(all_results[j][i][1])\n",
        "        eval.append(all_results[j][i][2])\n",
        "    plt_fitness_de_128.append(np.mean(fitness))\n",
        "    plt_std_de_128.append(np.std(fitness))\n",
        "    plt_eval_de_128.append(np.mean(eval))"
      ],
      "execution_count": null,
      "outputs": []
    },
    {
      "cell_type": "code",
      "metadata": {
        "id": "s5bjFJQeBuNL"
      },
      "source": [
        "# DE, popsize = 1024\n",
        "all_results = []\n",
        "\n",
        "dimension = 2\n",
        "max_evals = 1e5\n",
        "fobj = Sphere_f\n",
        "seed_number = 18520186\n",
        "popsize = 1024\n",
        "lower_bound = -6\n",
        "upper_bound = 6\n",
        "\n",
        "for i in range(10):\n",
        "    np.random.rand(seed_number)\n",
        "    results, all_pops, generation_count = DE(fobj, dimension, [(lower_bound, upper_bound)]*dimension, F_scale, cross_prob, popsize, max_evals)\n",
        "    all_results.append(results)\n",
        "    seed_number += 1\n",
        "\n",
        "plt_fitness_de_1024 = []\n",
        "plt_std_de_1024 = []\n",
        "plt_eval_de_1024 = []\n",
        "for i in range(np.min([len(all_results[t]) for t in range(10)])):\n",
        "    fitness = []\n",
        "    eval = []\n",
        "    for j in range(10):\n",
        "        fitness.append(all_results[j][i][1])\n",
        "        eval.append(all_results[j][i][2])\n",
        "    plt_fitness_de_1024.append(np.mean(fitness))\n",
        "    plt_std_de_1024.append(np.std(fitness))\n",
        "    plt_eval_de_1024.append(np.mean(eval))"
      ],
      "execution_count": null,
      "outputs": []
    },
    {
      "cell_type": "code",
      "metadata": {
        "id": "I7OtlJd7Buc3"
      },
      "source": [
        "# ES, popsize = 128\n",
        "dimension = 2\n",
        "obj = Sphere_f\n",
        "max_evals = 1e5\n",
        "seed_number = 18520186\n",
        "lower_bound = -6\n",
        "upper_bound = 6\n",
        "popsize = 128\n",
        "bounds = [(lower_bound, upper_bound)]*dimension\n",
        "np.random.rand(seed_number)\n",
        "all_results = []\n",
        "\n",
        "for i in range(10):\n",
        "    np.random.rand(seed_number)\n",
        "    results, all_pops, generation_count = ES(fobj, bounds, sigma_init, c_inc, c_dec, popsize, max_evals, dimension)\n",
        "    all_results.append(results)\n",
        "    seed_number += 1\n",
        "\n",
        "plt_fitness_es_128 = []\n",
        "plt_std_es_128 = []\n",
        "plt_eval_es_128 = []\n",
        "for i in range(np.min([len(all_results[t]) for t in range(10)])):\n",
        "    fitness = []\n",
        "    eval = []\n",
        "    for j in range(10):\n",
        "        fitness.append(all_results[j][i][1])\n",
        "        eval.append(all_results[j][i][2])\n",
        "    plt_fitness_es_128.append(np.mean(fitness))\n",
        "    plt_std_es_128.append(np.std(fitness))\n",
        "    plt_eval_es_128.append(np.mean(eval))"
      ],
      "execution_count": null,
      "outputs": []
    },
    {
      "cell_type": "code",
      "metadata": {
        "id": "zdZacLt0Chy8"
      },
      "source": [
        "# ES, popsize = 1024\n",
        "dimension = 2\n",
        "obj = Sphere_f\n",
        "max_evals = 1e5\n",
        "seed_number = 18520186\n",
        "lower_bound = -6\n",
        "upper_bound = 6\n",
        "popsize = 1024\n",
        "bounds = [(lower_bound, upper_bound)]*dimension\n",
        "np.random.rand(seed_number)\n",
        "all_results = []\n",
        "\n",
        "for i in range(10):\n",
        "    np.random.rand(seed_number)\n",
        "    results, all_pops, generation_count = ES(fobj, bounds, sigma_init, c_inc, c_dec, popsize, max_evals, dimension)\n",
        "    all_results.append(results)\n",
        "    seed_number += 1\n",
        "\n",
        "plt_fitness_es_1024 = []\n",
        "plt_std_es_1024 = []\n",
        "plt_eval_es_1024 = []\n",
        "for i in range(np.min([len(all_results[t]) for t in range(10)])):\n",
        "    fitness = []\n",
        "    eval = []\n",
        "    for j in range(10):\n",
        "        fitness.append(all_results[j][i][1])\n",
        "        eval.append(all_results[j][i][2])\n",
        "    plt_fitness_es_1024.append(np.mean(fitness))\n",
        "    plt_std_es_1024.append(np.std(fitness))\n",
        "    plt_eval_es_1024.append(np.mean(eval))"
      ],
      "execution_count": null,
      "outputs": []
    },
    {
      "cell_type": "code",
      "metadata": {
        "id": "RIrcCEJQC5Wp",
        "colab": {
          "base_uri": "https://localhost:8080/",
          "height": 392
        },
        "outputId": "06521547-76d8-4caa-847d-61de17e6b6b9"
      },
      "source": [
        "error1_de_128, error2_de_128 = [], []\n",
        "for i in range(len(plt_fitness_de_128)):\n",
        "    error1_de_128.append(plt_fitness_de_128[i] + plt_std_de_128[i])\n",
        "    error2_de_128.append(plt_fitness_de_128[i] - plt_std_de_128[i])\n",
        "\n",
        "error1_de_1024, error2_de_1024 = [], []\n",
        "for i in range(len(plt_fitness_de_1024)):\n",
        "    error1_de_1024.append(plt_fitness_de_1024[i] + plt_std_de_1024[i])\n",
        "    error2_de_1024.append(plt_fitness_de_1024[i] - plt_std_de_1024[i])\n",
        "\n",
        "error1_es_128, error2_es_128 = [], []\n",
        "for i in range(len(plt_fitness_es_128)):\n",
        "    error1_es_128.append(plt_fitness_es_128[i] + plt_std_es_128[i])\n",
        "    error2_es_128.append(plt_fitness_es_128[i] - plt_std_es_128[i])\n",
        "\n",
        "error1_es_1024, error2_es_1024 = [], []\n",
        "for i in range(len(plt_fitness_es_1024)):\n",
        "    error1_es_1024.append(plt_fitness_es_1024[i] + plt_std_es_1024[i])\n",
        "    error2_es_1024.append(plt_fitness_es_1024[i] - plt_std_es_1024[i])\n",
        "\n",
        "plt.figure(figsize=(12, 6))\n",
        "plt.xlim(left=0, right=2200)\n",
        "plt.ylim(-1, 10)\n",
        "\n",
        "# DE 128\n",
        "plt.plot(plt_eval_de_128, plt_fitness_de_128, label='DE-128')\n",
        "plt.fill_between(plt_eval_de_128, error1_de_128, error2_de_128, alpha=0.2)\n",
        "\n",
        "# DE 1024\n",
        "plt.plot(plt_eval_de_1024, plt_fitness_de_1024, label='DE-1024')\n",
        "plt.fill_between(plt_eval_de_1024, error1_de_1024, error2_de_1024, alpha=0.2)\n",
        "\n",
        "# ES 128\n",
        "plt.plot(plt_eval_es_128, plt_fitness_es_128,label='ES-128')\n",
        "plt.fill_between(plt_eval_es_128, error1_es_128, error2_es_128, alpha=0.2)\n",
        "\n",
        "# ES 1024\n",
        "plt.plot(plt_eval_es_1024, plt_fitness_es_1024, label='ES-1024')\n",
        "plt.fill_between(plt_eval_es_1024, error1_es_1024, error2_es_1024, alpha=0.2)\n",
        "\n",
        "plt.xlabel('Number of function evaluations')\n",
        "plt.ylabel('Best fitness')\n",
        "plt.legend()\n",
        "plt.savefig('Sphere-2d.png')\n",
        "plt.show()"
      ],
      "execution_count": null,
      "outputs": [
        {
          "output_type": "display_data",
          "data": {
            "image/png": "[encoded data removed]",
            "text/plain": [
              "<Figure size 864x432 with 1 Axes>"
            ]
          },
          "metadata": {
            "needs_background": "light"
          }
        }
      ]
    },
    {
      "cell_type": "markdown",
      "metadata": {
        "id": "Gm7oQthGBlOy"
      },
      "source": [
        "### **dimensions (d=10)**"
      ]
    },
    {
      "cell_type": "code",
      "metadata": {
        "id": "SfP4uJSHDvWK"
      },
      "source": [
        "# DE, popsize = 128\n",
        "all_results = []\n",
        "\n",
        "dimension = 10\n",
        "max_evals = 1e6\n",
        "fobj = Sphere_f\n",
        "seed_number = 18520186\n",
        "popsize = 128\n",
        "lower_bound = -6\n",
        "upper_bound = 6\n",
        "\n",
        "for i in range(10):\n",
        "    np.random.rand(seed_number)\n",
        "    results, all_pops, generation_count = DE(fobj, dimension, [(lower_bound, upper_bound)]*dimension, F_scale, cross_prob, popsize, max_evals)\n",
        "    all_results.append(results)\n",
        "    seed_number += 1\n",
        "\n",
        "plt_fitness_de_128 = []\n",
        "plt_std_de_128 = []\n",
        "plt_eval_de_128 = []\n",
        "for i in range(np.min([len(all_results[t]) for t in range(10)])):\n",
        "    fitness = []\n",
        "    eval = []\n",
        "    for j in range(10):\n",
        "        fitness.append(all_results[j][i][1])\n",
        "        eval.append(all_results[j][i][2])\n",
        "    plt_fitness_de_128.append(np.mean(fitness))\n",
        "    plt_std_de_128.append(np.std(fitness))\n",
        "    plt_eval_de_128.append(np.mean(eval))"
      ],
      "execution_count": null,
      "outputs": []
    },
    {
      "cell_type": "code",
      "metadata": {
        "id": "46loOpm6Dvg_"
      },
      "source": [
        "# DE, popsize = 1024\n",
        "all_results = []\n",
        "\n",
        "dimension = 10\n",
        "max_evals = 1e6\n",
        "fobj = Sphere_f\n",
        "seed_number = 18520186\n",
        "popsize = 1024\n",
        "lower_bound = -6\n",
        "upper_bound = 6\n",
        "\n",
        "for i in range(10):\n",
        "    np.random.rand(seed_number)\n",
        "    results, all_pops, generation_count = DE(fobj, dimension, [(lower_bound, upper_bound)]*dimension, F_scale, cross_prob, popsize, max_evals)\n",
        "    all_results.append(results)\n",
        "    seed_number += 1\n",
        "\n",
        "plt_fitness_de_1024 = []\n",
        "plt_std_de_1024 = []\n",
        "plt_eval_de_1024 = []\n",
        "for i in range(np.min([len(all_results[t]) for t in range(10)])):\n",
        "    fitness = []\n",
        "    eval = []\n",
        "    for j in range(10):\n",
        "        fitness.append(all_results[j][i][1])\n",
        "        eval.append(all_results[j][i][2])\n",
        "    plt_fitness_de_1024.append(np.mean(fitness))\n",
        "    plt_std_de_1024.append(np.std(fitness))\n",
        "    plt_eval_de_1024.append(np.mean(eval))"
      ],
      "execution_count": null,
      "outputs": []
    },
    {
      "cell_type": "code",
      "metadata": {
        "id": "xuO46MDfDvjx"
      },
      "source": [
        "# ES, popsize = 128\n",
        "dimension = 10\n",
        "obj = Sphere_f\n",
        "max_evals = 1e6\n",
        "seed_number = 18520186\n",
        "lower_bound = -6\n",
        "upper_bound = 6\n",
        "popsize = 128\n",
        "bounds = [(lower_bound, upper_bound)]*dimension\n",
        "np.random.rand(seed_number)\n",
        "all_results = []\n",
        "\n",
        "for i in range(10):\n",
        "    np.random.rand(seed_number)\n",
        "    results, all_pops, generation_count = ES(fobj, bounds, sigma_init, c_inc, c_dec, popsize, max_evals, dimension)\n",
        "    all_results.append(results)\n",
        "    seed_number += 1\n",
        "\n",
        "plt_fitness_es_128 = []\n",
        "plt_std_es_128 = []\n",
        "plt_eval_es_128 = []\n",
        "for i in range(np.min([len(all_results[t]) for t in range(10)])):\n",
        "    fitness = []\n",
        "    eval = []\n",
        "    for j in range(10):\n",
        "        fitness.append(all_results[j][i][1])\n",
        "        eval.append(all_results[j][i][2])\n",
        "    plt_fitness_es_128.append(np.mean(fitness))\n",
        "    plt_std_es_128.append(np.std(fitness))\n",
        "    plt_eval_es_128.append(np.mean(eval))"
      ],
      "execution_count": null,
      "outputs": []
    },
    {
      "cell_type": "code",
      "metadata": {
        "id": "XtytIgpqEQEB"
      },
      "source": [
        "# ES, popsize = 1024\n",
        "dimension = 10\n",
        "obj = Sphere_f\n",
        "max_evals = 1e6\n",
        "seed_number = 18520186\n",
        "lower_bound = -6\n",
        "upper_bound = 6\n",
        "popsize = 1024\n",
        "bounds = [(lower_bound, upper_bound)]*dimension\n",
        "np.random.rand(seed_number)\n",
        "all_results = []\n",
        "\n",
        "for i in range(10):\n",
        "    np.random.rand(seed_number)\n",
        "    results, all_pops, generation_count = ES(fobj, bounds, sigma_init, c_inc, c_dec, popsize, max_evals, dimension)\n",
        "    all_results.append(results)\n",
        "    seed_number += 1\n",
        "\n",
        "plt_fitness_es_1024 = []\n",
        "plt_std_es_1024 = []\n",
        "plt_eval_es_1024 = []\n",
        "for i in range(np.min([len(all_results[t]) for t in range(10)])):\n",
        "    fitness = []\n",
        "    eval = []\n",
        "    for j in range(10):\n",
        "        fitness.append(all_results[j][i][1])\n",
        "        eval.append(all_results[j][i][2])\n",
        "    plt_fitness_es_1024.append(np.mean(fitness))\n",
        "    plt_std_es_1024.append(np.std(fitness))\n",
        "    plt_eval_es_1024.append(np.mean(eval))"
      ],
      "execution_count": null,
      "outputs": []
    },
    {
      "cell_type": "code",
      "metadata": {
        "id": "jfQ7qBW2EQPw",
        "colab": {
          "base_uri": "https://localhost:8080/",
          "height": 392
        },
        "outputId": "aa6620ec-d75f-4c46-e034-a2766d1b9b21"
      },
      "source": [
        "error1_de_128, error2_de_128 = [], []\n",
        "for i in range(len(plt_fitness_de_128)):\n",
        "    error1_de_128.append(plt_fitness_de_128[i] + plt_std_de_128[i])\n",
        "    error2_de_128.append(plt_fitness_de_128[i] - plt_std_de_128[i])\n",
        "\n",
        "error1_de_1024, error2_de_1024 = [], []\n",
        "for i in range(len(plt_fitness_de_1024)):\n",
        "    error1_de_1024.append(plt_fitness_de_1024[i] + plt_std_de_1024[i])\n",
        "    error2_de_1024.append(plt_fitness_de_1024[i] - plt_std_de_1024[i])\n",
        "\n",
        "error1_es_128, error2_es_128 = [], []\n",
        "for i in range(len(plt_fitness_es_128)):\n",
        "    error1_es_128.append(plt_fitness_es_128[i] + plt_std_es_128[i])\n",
        "    error2_es_128.append(plt_fitness_es_128[i] - plt_std_es_128[i])\n",
        "\n",
        "error1_es_1024, error2_es_1024 = [], []\n",
        "for i in range(len(plt_fitness_es_1024)):\n",
        "    error1_es_1024.append(plt_fitness_es_1024[i] + plt_std_es_1024[i])\n",
        "    error2_es_1024.append(plt_fitness_es_1024[i] - plt_std_es_1024[i])\n",
        "\n",
        "plt.figure(figsize=(12, 6))\n",
        "plt.xlim(left=0, right=2200)\n",
        "plt.ylim(-1, 10)\n",
        "\n",
        "# DE 128\n",
        "plt.plot(plt_eval_de_128, plt_fitness_de_128, label='DE-128')\n",
        "plt.fill_between(plt_eval_de_128, error1_de_128, error2_de_128, alpha=0.2)\n",
        "\n",
        "# DE 1024\n",
        "plt.plot(plt_eval_de_1024, plt_fitness_de_1024, label='DE-1024')\n",
        "plt.fill_between(plt_eval_de_1024, error1_de_1024, error2_de_1024, alpha=0.2)\n",
        "\n",
        "# ES 128\n",
        "plt.plot(plt_eval_es_128, plt_fitness_es_128,label='ES-128')\n",
        "plt.fill_between(plt_eval_es_128, error1_es_128, error2_es_128, alpha=0.2)\n",
        "\n",
        "# ES 1024\n",
        "plt.plot(plt_eval_es_1024, plt_fitness_es_1024, label='ES-1024')\n",
        "plt.fill_between(plt_eval_es_1024, error1_es_1024, error2_es_1024, alpha=0.2)\n",
        "\n",
        "plt.xlabel('Number of function evaluations')\n",
        "plt.ylabel('Best fitness')\n",
        "plt.legend()\n",
        "plt.savefig('Sphere-10d.png')\n",
        "plt.show()"
      ],
      "execution_count": null,
      "outputs": [
        {
          "output_type": "display_data",
          "data": {
            "image/png": "[encoded data removed]",
            "text/plain": [
              "<Figure size 864x432 with 1 Axes>"
            ]
          },
          "metadata": {
            "needs_background": "light"
          }
        }
      ]
    },
    {
      "cell_type": "markdown",
      "metadata": {
        "id": "BwxxSnwmEmzo"
      },
      "source": [
        "## **Hàm Rastrigin**"
      ]
    },
    {
      "cell_type": "markdown",
      "metadata": {
        "id": "n-AMViH9HqV3"
      },
      "source": [
        "### **dimensions (d=2)**"
      ]
    },
    {
      "cell_type": "code",
      "metadata": {
        "id": "s7C8H_o9IFiW"
      },
      "source": [
        "# DE, popsize = 128\n",
        "all_results = []\n",
        "\n",
        "dimension = 2\n",
        "max_evals = 1e5\n",
        "fobj = Rastrigin_f\n",
        "seed_number = 18520186\n",
        "popsize = 128\n",
        "lower_bound = -6\n",
        "upper_bound = 6\n",
        "\n",
        "for i in range(10):\n",
        "    np.random.rand(seed_number)\n",
        "    results, all_pops, generation_count = DE(fobj, dimension, [(lower_bound, upper_bound)]*dimension, F_scale, cross_prob, popsize, max_evals)\n",
        "    all_results.append(results)\n",
        "    seed_number += 1\n",
        "\n",
        "plt_fitness_de_128 = []\n",
        "plt_std_de_128 = []\n",
        "plt_eval_de_128 = []\n",
        "for i in range(np.min([len(all_results[t]) for t in range(10)])):\n",
        "    fitness = []\n",
        "    eval = []\n",
        "    for j in range(10):\n",
        "        fitness.append(all_results[j][i][1])\n",
        "        eval.append(all_results[j][i][2])\n",
        "    plt_fitness_de_128.append(np.mean(fitness))\n",
        "    plt_std_de_128.append(np.std(fitness))\n",
        "    plt_eval_de_128.append(np.mean(eval))"
      ],
      "execution_count": null,
      "outputs": []
    },
    {
      "cell_type": "code",
      "metadata": {
        "id": "wGPqLzroIIzX"
      },
      "source": [
        "# DE, popsize = 1024\n",
        "all_results = []\n",
        "\n",
        "dimension = 2\n",
        "max_evals = 1e5\n",
        "fobj = Rastrigin_f\n",
        "seed_number = 18520186\n",
        "popsize = 1024\n",
        "lower_bound = -6\n",
        "upper_bound = 6\n",
        "\n",
        "for i in range(10):\n",
        "    np.random.rand(seed_number)\n",
        "    results, all_pops, generation_count = DE(fobj, dimension, [(lower_bound, upper_bound)]*dimension, F_scale, cross_prob, popsize, max_evals)\n",
        "    all_results.append(results)\n",
        "    seed_number += 1\n",
        "\n",
        "plt_fitness_de_1024 = []\n",
        "plt_std_de_1024 = []\n",
        "plt_eval_de_1024 = []\n",
        "for i in range(np.min([len(all_results[t]) for t in range(10)])):\n",
        "    fitness = []\n",
        "    eval = []\n",
        "    for j in range(10):\n",
        "        fitness.append(all_results[j][i][1])\n",
        "        eval.append(all_results[j][i][2])\n",
        "    plt_fitness_de_1024.append(np.mean(fitness))\n",
        "    plt_std_de_1024.append(np.std(fitness))\n",
        "    plt_eval_de_1024.append(np.mean(eval))"
      ],
      "execution_count": null,
      "outputs": []
    },
    {
      "cell_type": "code",
      "metadata": {
        "id": "cOCzyScCII_t"
      },
      "source": [
        "# ES, popsize = 128\n",
        "dimension = 2\n",
        "obj = Rastrigin_f\n",
        "max_evals = 1e5\n",
        "seed_number = 18520186\n",
        "lower_bound = -6\n",
        "upper_bound = 6\n",
        "popsize = 128\n",
        "bounds = [(lower_bound, upper_bound)]*dimension\n",
        "np.random.rand(seed_number)\n",
        "all_results = []\n",
        "\n",
        "for i in range(10):\n",
        "    np.random.rand(seed_number)\n",
        "    results, all_pops, generation_count = ES(fobj, bounds, sigma_init, c_inc, c_dec, popsize, max_evals, dimension)\n",
        "    all_results.append(results)\n",
        "    seed_number += 1\n",
        "\n",
        "plt_fitness_es_128 = []\n",
        "plt_std_es_128 = []\n",
        "plt_eval_es_128 = []\n",
        "for i in range(np.min([len(all_results[t]) for t in range(10)])):\n",
        "    fitness = []\n",
        "    eval = []\n",
        "    for j in range(10):\n",
        "        fitness.append(all_results[j][i][1])\n",
        "        eval.append(all_results[j][i][2])\n",
        "    plt_fitness_es_128.append(np.mean(fitness))\n",
        "    plt_std_es_128.append(np.std(fitness))\n",
        "    plt_eval_es_128.append(np.mean(eval))"
      ],
      "execution_count": null,
      "outputs": []
    },
    {
      "cell_type": "code",
      "metadata": {
        "id": "pEIAlcthIJM-"
      },
      "source": [
        "# ES, popsize = 1024\n",
        "dimension = 2\n",
        "obj = Rastrigin_f\n",
        "max_evals = 1e5\n",
        "seed_number = 18520186\n",
        "lower_bound = -6\n",
        "upper_bound = 6\n",
        "popsize = 1024\n",
        "bounds = [(lower_bound, upper_bound)]*dimension\n",
        "np.random.rand(seed_number)\n",
        "all_results = []\n",
        "\n",
        "for i in range(10):\n",
        "    np.random.rand(seed_number)\n",
        "    results, all_pops, generation_count = ES(fobj, bounds, sigma_init, c_inc, c_dec, popsize, max_evals, dimension)\n",
        "    all_results.append(results)\n",
        "    seed_number += 1\n",
        "\n",
        "plt_fitness_es_1024 = []\n",
        "plt_std_es_1024 = []\n",
        "plt_eval_es_1024 = []\n",
        "for i in range(np.min([len(all_results[t]) for t in range(10)])):\n",
        "    fitness = []\n",
        "    eval = []\n",
        "    for j in range(10):\n",
        "        fitness.append(all_results[j][i][1])\n",
        "        eval.append(all_results[j][i][2])\n",
        "    plt_fitness_es_1024.append(np.mean(fitness))\n",
        "    plt_std_es_1024.append(np.std(fitness))\n",
        "    plt_eval_es_1024.append(np.mean(eval))"
      ],
      "execution_count": null,
      "outputs": []
    },
    {
      "cell_type": "code",
      "metadata": {
        "id": "nd5gHMuyIFwD",
        "colab": {
          "base_uri": "https://localhost:8080/",
          "height": 392
        },
        "outputId": "fb86cfe9-e0ba-4597-df74-408b51c35cb7"
      },
      "source": [
        "error1_de_128, error2_de_128 = [], []\n",
        "for i in range(len(plt_fitness_de_128)):\n",
        "    error1_de_128.append(plt_fitness_de_128[i] + plt_std_de_128[i])\n",
        "    error2_de_128.append(plt_fitness_de_128[i] - plt_std_de_128[i])\n",
        "\n",
        "error1_de_1024, error2_de_1024 = [], []\n",
        "for i in range(len(plt_fitness_de_1024)):\n",
        "    error1_de_1024.append(plt_fitness_de_1024[i] + plt_std_de_1024[i])\n",
        "    error2_de_1024.append(plt_fitness_de_1024[i] - plt_std_de_1024[i])\n",
        "\n",
        "error1_es_128, error2_es_128 = [], []\n",
        "for i in range(len(plt_fitness_es_128)):\n",
        "    error1_es_128.append(plt_fitness_es_128[i] + plt_std_es_128[i])\n",
        "    error2_es_128.append(plt_fitness_es_128[i] - plt_std_es_128[i])\n",
        "\n",
        "error1_es_1024, error2_es_1024 = [], []\n",
        "for i in range(len(plt_fitness_es_1024)):\n",
        "    error1_es_1024.append(plt_fitness_es_1024[i] + plt_std_es_1024[i])\n",
        "    error2_es_1024.append(plt_fitness_es_1024[i] - plt_std_es_1024[i])\n",
        "\n",
        "plt.figure(figsize=(12, 6))\n",
        "plt.xlim(left=0, right=2200)\n",
        "plt.ylim(-1, 10)\n",
        "\n",
        "# DE 128\n",
        "plt.plot(plt_eval_de_128, plt_fitness_de_128, label='DE-128')\n",
        "plt.fill_between(plt_eval_de_128, error1_de_128, error2_de_128, alpha=0.2)\n",
        "\n",
        "# DE 1024\n",
        "plt.plot(plt_eval_de_1024, plt_fitness_de_1024, label='DE-1024')\n",
        "plt.fill_between(plt_eval_de_1024, error1_de_1024, error2_de_1024, alpha=0.2)\n",
        "\n",
        "# ES 128\n",
        "plt.plot(plt_eval_es_128, plt_fitness_es_128,label='ES-128')\n",
        "plt.fill_between(plt_eval_es_128, error1_es_128, error2_es_128, alpha=0.2)\n",
        "\n",
        "# ES 1024\n",
        "plt.plot(plt_eval_es_1024, plt_fitness_es_1024, label='ES-1024')\n",
        "plt.fill_between(plt_eval_es_1024, error1_es_1024, error2_es_1024, alpha=0.2)\n",
        "\n",
        "plt.xlabel('Number of function evaluations')\n",
        "plt.ylabel('Best fitness')\n",
        "plt.legend()\n",
        "plt.savefig('Rastrigin-2d.png')\n",
        "plt.show()"
      ],
      "execution_count": null,
      "outputs": [
        {
          "output_type": "display_data",
          "data": {
            "image/png": "[encoded data removed]",
            "text/plain": [
              "<Figure size 864x432 with 1 Axes>"
            ]
          },
          "metadata": {
            "needs_background": "light"
          }
        }
      ]
    },
    {
      "cell_type": "markdown",
      "metadata": {
        "id": "VFlAhm7WHqis"
      },
      "source": [
        "### **dimensions (d=10)**"
      ]
    },
    {
      "cell_type": "code",
      "metadata": {
        "id": "DwQPI54yIzYa"
      },
      "source": [
        "# DE, popsize = 128\n",
        "all_results = []\n",
        "\n",
        "dimension = 10\n",
        "max_evals = 1e6\n",
        "fobj = Rastrigin_f\n",
        "seed_number = 18520186\n",
        "popsize = 128\n",
        "lower_bound = -6\n",
        "upper_bound = 6\n",
        "\n",
        "for i in range(10):\n",
        "    np.random.rand(seed_number)\n",
        "    results, all_pops, generation_count = DE(fobj, dimension, [(lower_bound, upper_bound)]*dimension, F_scale, cross_prob, popsize, max_evals)\n",
        "    all_results.append(results)\n",
        "    seed_number += 1\n",
        "\n",
        "plt_fitness_de_128 = []\n",
        "plt_std_de_128 = []\n",
        "plt_eval_de_128 = []\n",
        "for i in range(np.min([len(all_results[t]) for t in range(10)])):\n",
        "    fitness = []\n",
        "    eval = []\n",
        "    for j in range(10):\n",
        "        fitness.append(all_results[j][i][1])\n",
        "        eval.append(all_results[j][i][2])\n",
        "    plt_fitness_de_128.append(np.mean(fitness))\n",
        "    plt_std_de_128.append(np.std(fitness))\n",
        "    plt_eval_de_128.append(np.mean(eval))"
      ],
      "execution_count": null,
      "outputs": []
    },
    {
      "cell_type": "code",
      "metadata": {
        "id": "uAwtJbW1Izj5"
      },
      "source": [
        "# DE, popsize = 1024\n",
        "all_results = []\n",
        "\n",
        "dimension = 10\n",
        "max_evals = 1e6\n",
        "fobj = Rastrigin_f\n",
        "seed_number = 18520186\n",
        "popsize = 1024\n",
        "lower_bound = -6\n",
        "upper_bound = 6\n",
        "\n",
        "for i in range(10):\n",
        "    np.random.rand(seed_number)\n",
        "    results, all_pops, generation_count = DE(fobj, dimension, [(lower_bound, upper_bound)]*dimension, F_scale, cross_prob, popsize, max_evals)\n",
        "    all_results.append(results)\n",
        "    seed_number += 1\n",
        "\n",
        "plt_fitness_de_1024 = []\n",
        "plt_std_de_1024 = []\n",
        "plt_eval_de_1024 = []\n",
        "for i in range(np.min([len(all_results[t]) for t in range(10)])):\n",
        "    fitness = []\n",
        "    eval = []\n",
        "    for j in range(10):\n",
        "        fitness.append(all_results[j][i][1])\n",
        "        eval.append(all_results[j][i][2])\n",
        "    plt_fitness_de_1024.append(np.mean(fitness))\n",
        "    plt_std_de_1024.append(np.std(fitness))\n",
        "    plt_eval_de_1024.append(np.mean(eval))"
      ],
      "execution_count": null,
      "outputs": []
    },
    {
      "cell_type": "code",
      "metadata": {
        "id": "ecJ6l8mdIzvx"
      },
      "source": [
        "# ES, popsize = 128\n",
        "dimension = 10\n",
        "obj = Rastrigin_f\n",
        "max_evals = 1e6\n",
        "seed_number = 18520186\n",
        "lower_bound = -6\n",
        "upper_bound = 6\n",
        "popsize = 128\n",
        "bounds = [(lower_bound, upper_bound)]*dimension\n",
        "np.random.rand(seed_number)\n",
        "all_results = []\n",
        "\n",
        "for i in range(10):\n",
        "    np.random.rand(seed_number)\n",
        "    results, all_pops, generation_count = ES(fobj, bounds, sigma_init, c_inc, c_dec, popsize, max_evals, dimension)\n",
        "    all_results.append(results)\n",
        "    seed_number += 1\n",
        "\n",
        "plt_fitness_es_128 = []\n",
        "plt_std_es_128 = []\n",
        "plt_eval_es_128 = []\n",
        "for i in range(np.min([len(all_results[t]) for t in range(10)])):\n",
        "    fitness = []\n",
        "    eval = []\n",
        "    for j in range(10):\n",
        "        fitness.append(all_results[j][i][1])\n",
        "        eval.append(all_results[j][i][2])\n",
        "    plt_fitness_es_128.append(np.mean(fitness))\n",
        "    plt_std_es_128.append(np.std(fitness))\n",
        "    plt_eval_es_128.append(np.mean(eval))"
      ],
      "execution_count": null,
      "outputs": []
    },
    {
      "cell_type": "code",
      "metadata": {
        "id": "dp0329BeIz6-"
      },
      "source": [
        "# ES, popsize = 1024\n",
        "dimension = 10\n",
        "obj = Rastrigin_f\n",
        "max_evals = 1e6\n",
        "seed_number = 18520186\n",
        "lower_bound = -6\n",
        "upper_bound = 6\n",
        "popsize = 1024\n",
        "bounds = [(lower_bound, upper_bound)]*dimension\n",
        "np.random.rand(seed_number)\n",
        "all_results = []\n",
        "\n",
        "for i in range(10):\n",
        "    np.random.rand(seed_number)\n",
        "    results, all_pops, generation_count = ES(fobj, bounds, sigma_init, c_inc, c_dec, popsize, max_evals, dimension)\n",
        "    all_results.append(results)\n",
        "    seed_number += 1\n",
        "\n",
        "plt_fitness_es_1024 = []\n",
        "plt_std_es_1024 = []\n",
        "plt_eval_es_1024 = []\n",
        "for i in range(np.min([len(all_results[t]) for t in range(10)])):\n",
        "    fitness = []\n",
        "    eval = []\n",
        "    for j in range(10):\n",
        "        fitness.append(all_results[j][i][1])\n",
        "        eval.append(all_results[j][i][2])\n",
        "    plt_fitness_es_1024.append(np.mean(fitness))\n",
        "    plt_std_es_1024.append(np.std(fitness))\n",
        "    plt_eval_es_1024.append(np.mean(eval))"
      ],
      "execution_count": null,
      "outputs": []
    },
    {
      "cell_type": "code",
      "metadata": {
        "id": "H-krkJ2iI0GW",
        "colab": {
          "base_uri": "https://localhost:8080/",
          "height": 392
        },
        "outputId": "b2dd4454-3014-489f-fb96-2fe23268d37d"
      },
      "source": [
        "error1_de_128, error2_de_128 = [], []\n",
        "for i in range(len(plt_fitness_de_128)):\n",
        "    error1_de_128.append(plt_fitness_de_128[i] + plt_std_de_128[i])\n",
        "    error2_de_128.append(plt_fitness_de_128[i] - plt_std_de_128[i])\n",
        "\n",
        "error1_de_1024, error2_de_1024 = [], []\n",
        "for i in range(len(plt_fitness_de_1024)):\n",
        "    error1_de_1024.append(plt_fitness_de_1024[i] + plt_std_de_1024[i])\n",
        "    error2_de_1024.append(plt_fitness_de_1024[i] - plt_std_de_1024[i])\n",
        "\n",
        "error1_es_128, error2_es_128 = [], []\n",
        "for i in range(len(plt_fitness_es_128)):\n",
        "    error1_es_128.append(plt_fitness_es_128[i] + plt_std_es_128[i])\n",
        "    error2_es_128.append(plt_fitness_es_128[i] - plt_std_es_128[i])\n",
        "\n",
        "error1_es_1024, error2_es_1024 = [], []\n",
        "for i in range(len(plt_fitness_es_1024)):\n",
        "    error1_es_1024.append(plt_fitness_es_1024[i] + plt_std_es_1024[i])\n",
        "    error2_es_1024.append(plt_fitness_es_1024[i] - plt_std_es_1024[i])\n",
        "\n",
        "plt.figure(figsize=(12, 6))\n",
        "plt.xlim(left=0, right=2200)\n",
        "plt.ylim(-1, 10)\n",
        "\n",
        "# DE 128\n",
        "plt.plot(plt_eval_de_128, plt_fitness_de_128, label='DE-128')\n",
        "plt.fill_between(plt_eval_de_128, error1_de_128, error2_de_128, alpha=0.2)\n",
        "\n",
        "# DE 1024\n",
        "plt.plot(plt_eval_de_1024, plt_fitness_de_1024, label='DE-1024')\n",
        "plt.fill_between(plt_eval_de_1024, error1_de_1024, error2_de_1024, alpha=0.2)\n",
        "\n",
        "# ES 128\n",
        "plt.plot(plt_eval_es_128, plt_fitness_es_128,label='ES-128')\n",
        "plt.fill_between(plt_eval_es_128, error1_es_128, error2_es_128, alpha=0.2)\n",
        "\n",
        "# ES 1024\n",
        "plt.plot(plt_eval_es_1024, plt_fitness_es_1024, label='ES-1024')\n",
        "plt.fill_between(plt_eval_es_1024, error1_es_1024, error2_es_1024, alpha=0.2)\n",
        "\n",
        "plt.xlabel('Number of function evaluations')\n",
        "plt.ylabel('Best fitness')\n",
        "plt.legend()\n",
        "plt.savefig('Rastrigin-10d.png')\n",
        "plt.show()"
      ],
      "execution_count": null,
      "outputs": [
        {
          "output_type": "display_data",
          "data": {
            "image/png": "[encoded data removed]",
            "text/plain": [
              "<Figure size 864x432 with 1 Axes>"
            ]
          },
          "metadata": {
            "needs_background": "light"
          }
        }
      ]
    },
    {
      "cell_type": "markdown",
      "metadata": {
        "id": "9_TJ7oiwHq3L"
      },
      "source": [
        "## **Hàm Rosenbrock**"
      ]
    },
    {
      "cell_type": "markdown",
      "metadata": {
        "id": "ypu13MntHs-1"
      },
      "source": [
        "### **dimensions (d=2)**"
      ]
    },
    {
      "cell_type": "code",
      "metadata": {
        "id": "PqGLLTbxJXd9"
      },
      "source": [
        "# DE, popsize = 128\n",
        "all_results = []\n",
        "\n",
        "dimension = 2\n",
        "max_evals = 1e5\n",
        "fobj = Rosenbrock_f\n",
        "seed_number = 18520186\n",
        "popsize = 128\n",
        "lower_bound = -3\n",
        "upper_bound = 3\n",
        "\n",
        "for i in range(10):\n",
        "    np.random.rand(seed_number)\n",
        "    results, all_pops, generation_count = DE(fobj, dimension, [(lower_bound, upper_bound)]*dimension, F_scale, cross_prob, popsize, max_evals)\n",
        "    all_results.append(results)\n",
        "    seed_number += 1\n",
        "\n",
        "plt_fitness_de_128 = []\n",
        "plt_std_de_128 = []\n",
        "plt_eval_de_128 = []\n",
        "for i in range(np.min([len(all_results[t]) for t in range(10)])):\n",
        "    fitness = []\n",
        "    eval = []\n",
        "    for j in range(10):\n",
        "        fitness.append(all_results[j][i][1])\n",
        "        eval.append(all_results[j][i][2])\n",
        "    plt_fitness_de_128.append(np.mean(fitness))\n",
        "    plt_std_de_128.append(np.std(fitness))\n",
        "    plt_eval_de_128.append(np.mean(eval))"
      ],
      "execution_count": null,
      "outputs": []
    },
    {
      "cell_type": "code",
      "metadata": {
        "id": "JqH5C04NJXps"
      },
      "source": [
        "# DE, popsize = 1024\n",
        "all_results = []\n",
        "\n",
        "dimension = 2\n",
        "max_evals = 1e5\n",
        "fobj = Rosenbrock_f\n",
        "seed_number = 18520186\n",
        "popsize = 1024\n",
        "lower_bound = -3\n",
        "upper_bound = 3\n",
        "\n",
        "for i in range(10):\n",
        "    np.random.rand(seed_number)\n",
        "    results, all_pops, generation_count = DE(fobj, dimension, [(lower_bound, upper_bound)]*dimension, F_scale, cross_prob, popsize, max_evals)\n",
        "    all_results.append(results)\n",
        "    seed_number += 1\n",
        "\n",
        "plt_fitness_de_128 = []\n",
        "plt_std_de_128 = []\n",
        "plt_eval_de_128 = []\n",
        "for i in range(np.min([len(all_results[t]) for t in range(10)])):\n",
        "    fitness = []\n",
        "    eval = []\n",
        "    for j in range(10):\n",
        "        fitness.append(all_results[j][i][1])\n",
        "        eval.append(all_results[j][i][2])\n",
        "    plt_fitness_de_128.append(np.mean(fitness))\n",
        "    plt_std_de_128.append(np.std(fitness))\n",
        "    plt_eval_de_128.append(np.mean(eval))"
      ],
      "execution_count": null,
      "outputs": []
    },
    {
      "cell_type": "code",
      "metadata": {
        "id": "bAd0Jn-UJX0p"
      },
      "source": [
        "# ES, popsize = 128\n",
        "dimension = 2\n",
        "obj = Rosenbrock_f\n",
        "max_evals = 1e5\n",
        "seed_number = 18520186\n",
        "lower_bound = -3\n",
        "upper_bound = 3\n",
        "popsize = 128\n",
        "bounds = [(lower_bound, upper_bound)]*dimension\n",
        "np.random.rand(seed_number)\n",
        "all_results = []\n",
        "\n",
        "for i in range(10):\n",
        "    np.random.rand(seed_number)\n",
        "    results, all_pops, generation_count = ES(fobj, bounds, sigma_init, c_inc, c_dec, popsize, max_evals, dimension)\n",
        "    all_results.append(results)\n",
        "    seed_number += 1\n",
        "\n",
        "plt_fitness_es_128 = []\n",
        "plt_std_es_128 = []\n",
        "plt_eval_es_128 = []\n",
        "for i in range(np.min([len(all_results[t]) for t in range(10)])):\n",
        "    fitness = []\n",
        "    eval = []\n",
        "    for j in range(10):\n",
        "        fitness.append(all_results[j][i][1])\n",
        "        eval.append(all_results[j][i][2])\n",
        "    plt_fitness_es_128.append(np.mean(fitness))\n",
        "    plt_std_es_128.append(np.std(fitness))\n",
        "    plt_eval_es_128.append(np.mean(eval))"
      ],
      "execution_count": null,
      "outputs": []
    },
    {
      "cell_type": "code",
      "metadata": {
        "id": "Cfth4cQFJX_2"
      },
      "source": [
        "# ES, popsize = 1024\n",
        "dimension = 2\n",
        "obj = Rosenbrock_f\n",
        "max_evals = 1e5\n",
        "seed_number = 18520186\n",
        "lower_bound = -3\n",
        "upper_bound = 3\n",
        "popsize = 1024\n",
        "bounds = [(lower_bound, upper_bound)]*dimension\n",
        "np.random.rand(seed_number)\n",
        "all_results = []\n",
        "\n",
        "for i in range(10):\n",
        "    np.random.rand(seed_number)\n",
        "    results, all_pops, generation_count = ES(fobj, bounds, sigma_init, c_inc, c_dec, popsize, max_evals, dimension)\n",
        "    all_results.append(results)\n",
        "    seed_number += 1\n",
        "\n",
        "plt_fitness_es_1024 = []\n",
        "plt_std_es_1024 = []\n",
        "plt_eval_es_1024 = []\n",
        "for i in range(np.min([len(all_results[t]) for t in range(10)])):\n",
        "    fitness = []\n",
        "    eval = []\n",
        "    for j in range(10):\n",
        "        fitness.append(all_results[j][i][1])\n",
        "        eval.append(all_results[j][i][2])\n",
        "    plt_fitness_es_1024.append(np.mean(fitness))\n",
        "    plt_std_es_1024.append(np.std(fitness))\n",
        "    plt_eval_es_1024.append(np.mean(eval))"
      ],
      "execution_count": null,
      "outputs": []
    },
    {
      "cell_type": "code",
      "metadata": {
        "id": "yxWAZ2oEJYLp",
        "colab": {
          "base_uri": "https://localhost:8080/",
          "height": 392
        },
        "outputId": "6fea9e17-9a4d-4cd9-9f90-7b1fd228ba04"
      },
      "source": [
        "error1_de_128, error2_de_128 = [], []\n",
        "for i in range(len(plt_fitness_de_128)):\n",
        "    error1_de_128.append(plt_fitness_de_128[i] + plt_std_de_128[i])\n",
        "    error2_de_128.append(plt_fitness_de_128[i] - plt_std_de_128[i])\n",
        "\n",
        "error1_de_1024, error2_de_1024 = [], []\n",
        "for i in range(len(plt_fitness_de_1024)):\n",
        "    error1_de_1024.append(plt_fitness_de_1024[i] + plt_std_de_1024[i])\n",
        "    error2_de_1024.append(plt_fitness_de_1024[i] - plt_std_de_1024[i])\n",
        "\n",
        "error1_es_128, error2_es_128 = [], []\n",
        "for i in range(len(plt_fitness_es_128)):\n",
        "    error1_es_128.append(plt_fitness_es_128[i] + plt_std_es_128[i])\n",
        "    error2_es_128.append(plt_fitness_es_128[i] - plt_std_es_128[i])\n",
        "\n",
        "error1_es_1024, error2_es_1024 = [], []\n",
        "for i in range(len(plt_fitness_es_1024)):\n",
        "    error1_es_1024.append(plt_fitness_es_1024[i] + plt_std_es_1024[i])\n",
        "    error2_es_1024.append(plt_fitness_es_1024[i] - plt_std_es_1024[i])\n",
        "\n",
        "plt.figure(figsize=(12, 6))\n",
        "plt.xlim(left=0, right=2200)\n",
        "plt.ylim(-1, 10)\n",
        "\n",
        "# DE 128\n",
        "plt.plot(plt_eval_de_128, plt_fitness_de_128, label='DE-128')\n",
        "plt.fill_between(plt_eval_de_128, error1_de_128, error2_de_128, alpha=0.2)\n",
        "\n",
        "# DE 1024\n",
        "plt.plot(plt_eval_de_1024, plt_fitness_de_1024, label='DE-1024')\n",
        "plt.fill_between(plt_eval_de_1024, error1_de_1024, error2_de_1024, alpha=0.2)\n",
        "\n",
        "# ES 128\n",
        "plt.plot(plt_eval_es_128, plt_fitness_es_128,label='ES-128')\n",
        "plt.fill_between(plt_eval_es_128, error1_es_128, error2_es_128, alpha=0.2)\n",
        "\n",
        "# ES 1024\n",
        "plt.plot(plt_eval_es_1024, plt_fitness_es_1024, label='ES-1024')\n",
        "plt.fill_between(plt_eval_es_1024, error1_es_1024, error2_es_1024, alpha=0.2)\n",
        "\n",
        "plt.xlabel('Number of function evaluations')\n",
        "plt.ylabel('Best fitness')\n",
        "plt.legend()\n",
        "plt.savefig('Rosenbrock-2d.png')\n",
        "plt.show()"
      ],
      "execution_count": null,
      "outputs": [
        {
          "output_type": "display_data",
          "data": {
            "image/png": "[encoded data removed]",
            "text/plain": [
              "<Figure size 864x432 with 1 Axes>"
            ]
          },
          "metadata": {
            "needs_background": "light"
          }
        }
      ]
    },
    {
      "cell_type": "markdown",
      "metadata": {
        "id": "axW_qyn_HtJE"
      },
      "source": [
        "### **dimensions (d=10)**"
      ]
    },
    {
      "cell_type": "code",
      "metadata": {
        "id": "JKYbeifZJ0GF"
      },
      "source": [
        "# DE, popsize = 128\n",
        "all_results = []\n",
        "\n",
        "dimension = 10\n",
        "max_evals = 1e6\n",
        "fobj = Rosenbrock_f\n",
        "seed_number = 18520186\n",
        "popsize = 128\n",
        "lower_bound = -3\n",
        "upper_bound = 3\n",
        "\n",
        "for i in range(10):\n",
        "    np.random.rand(seed_number)\n",
        "    results, all_pops, generation_count = DE(fobj, dimension, [(lower_bound, upper_bound)]*dimension, F_scale, cross_prob, popsize, max_evals)\n",
        "    all_results.append(results)\n",
        "    seed_number += 1\n",
        "\n",
        "plt_fitness_de_128 = []\n",
        "plt_std_de_128 = []\n",
        "plt_eval_de_128 = []\n",
        "for i in range(np.min([len(all_results[t]) for t in range(10)])):\n",
        "    fitness = []\n",
        "    eval = []\n",
        "    for j in range(10):\n",
        "        fitness.append(all_results[j][i][1])\n",
        "        eval.append(all_results[j][i][2])\n",
        "    plt_fitness_de_128.append(np.mean(fitness))\n",
        "    plt_std_de_128.append(np.std(fitness))\n",
        "    plt_eval_de_128.append(np.mean(eval))"
      ],
      "execution_count": null,
      "outputs": []
    },
    {
      "cell_type": "code",
      "metadata": {
        "id": "u6WeXVC9J0Qb"
      },
      "source": [
        "# DE, popsize = 1024\n",
        "all_results = []\n",
        "\n",
        "dimension = 10\n",
        "max_evals = 1e6\n",
        "fobj = Rosenbrock_f\n",
        "seed_number = 18520186\n",
        "popsize = 1024\n",
        "lower_bound = -3\n",
        "upper_bound = 3\n",
        "\n",
        "for i in range(10):\n",
        "    np.random.rand(seed_number)\n",
        "    results, all_pops, generation_count = DE(fobj, dimension, [(lower_bound, upper_bound)]*dimension, F_scale, cross_prob, popsize, max_evals)\n",
        "    all_results.append(results)\n",
        "    seed_number += 1\n",
        "\n",
        "plt_fitness_de_128 = []\n",
        "plt_std_de_128 = []\n",
        "plt_eval_de_128 = []\n",
        "for i in range(np.min([len(all_results[t]) for t in range(10)])):\n",
        "    fitness = []\n",
        "    eval = []\n",
        "    for j in range(10):\n",
        "        fitness.append(all_results[j][i][1])\n",
        "        eval.append(all_results[j][i][2])\n",
        "    plt_fitness_de_128.append(np.mean(fitness))\n",
        "    plt_std_de_128.append(np.std(fitness))\n",
        "    plt_eval_de_128.append(np.mean(eval))"
      ],
      "execution_count": null,
      "outputs": []
    },
    {
      "cell_type": "code",
      "metadata": {
        "id": "u9IODC4mJ0bh"
      },
      "source": [
        "# ES, popsize = 128\n",
        "dimension = 10\n",
        "obj = Rosenbrock_f\n",
        "max_evals = 1e6\n",
        "seed_number = 18520186\n",
        "lower_bound = -3\n",
        "upper_bound = 3\n",
        "popsize = 128\n",
        "bounds = [(lower_bound, upper_bound)]*dimension\n",
        "np.random.rand(seed_number)\n",
        "all_results = []\n",
        "\n",
        "for i in range(10):\n",
        "    np.random.rand(seed_number)\n",
        "    results, all_pops, generation_count = ES(fobj, bounds, sigma_init, c_inc, c_dec, popsize, max_evals, dimension)\n",
        "    all_results.append(results)\n",
        "    seed_number += 1\n",
        "\n",
        "plt_fitness_es_128 = []\n",
        "plt_std_es_128 = []\n",
        "plt_eval_es_128 = []\n",
        "for i in range(np.min([len(all_results[t]) for t in range(10)])):\n",
        "    fitness = []\n",
        "    eval = []\n",
        "    for j in range(10):\n",
        "        fitness.append(all_results[j][i][1])\n",
        "        eval.append(all_results[j][i][2])\n",
        "    plt_fitness_es_128.append(np.mean(fitness))\n",
        "    plt_std_es_128.append(np.std(fitness))\n",
        "    plt_eval_es_128.append(np.mean(eval))"
      ],
      "execution_count": null,
      "outputs": []
    },
    {
      "cell_type": "code",
      "metadata": {
        "id": "OL2VvDnwJ0nM"
      },
      "source": [
        "# ES, popsize = 1024\n",
        "dimension = 10\n",
        "obj = Rosenbrock_f\n",
        "max_evals = 1e6\n",
        "seed_number = 18520186\n",
        "lower_bound = -3\n",
        "upper_bound = 3\n",
        "popsize = 1024\n",
        "bounds = [(lower_bound, upper_bound)]*dimension\n",
        "np.random.rand(seed_number)\n",
        "all_results = []\n",
        "\n",
        "for i in range(10):\n",
        "    np.random.rand(seed_number)\n",
        "    results, all_pops, generation_count = ES(fobj, bounds, sigma_init, c_inc, c_dec, popsize, max_evals, dimension)\n",
        "    all_results.append(results)\n",
        "    seed_number += 1\n",
        "\n",
        "plt_fitness_es_1024 = []\n",
        "plt_std_es_1024 = []\n",
        "plt_eval_es_1024 = []\n",
        "for i in range(np.min([len(all_results[t]) for t in range(10)])):\n",
        "    fitness = []\n",
        "    eval = []\n",
        "    for j in range(10):\n",
        "        fitness.append(all_results[j][i][1])\n",
        "        eval.append(all_results[j][i][2])\n",
        "    plt_fitness_es_1024.append(np.mean(fitness))\n",
        "    plt_std_es_1024.append(np.std(fitness))\n",
        "    plt_eval_es_1024.append(np.mean(eval))"
      ],
      "execution_count": null,
      "outputs": []
    },
    {
      "cell_type": "code",
      "metadata": {
        "id": "_c2h8B1RJ0yG",
        "colab": {
          "base_uri": "https://localhost:8080/",
          "height": 392
        },
        "outputId": "6b5c128c-8e32-4778-9550-6b0f6f93056e"
      },
      "source": [
        "error1_de_128, error2_de_128 = [], []\n",
        "for i in range(len(plt_fitness_de_128)):\n",
        "    error1_de_128.append(plt_fitness_de_128[i] + plt_std_de_128[i])\n",
        "    error2_de_128.append(plt_fitness_de_128[i] - plt_std_de_128[i])\n",
        "\n",
        "error1_de_1024, error2_de_1024 = [], []\n",
        "for i in range(len(plt_fitness_de_1024)):\n",
        "    error1_de_1024.append(plt_fitness_de_1024[i] + plt_std_de_1024[i])\n",
        "    error2_de_1024.append(plt_fitness_de_1024[i] - plt_std_de_1024[i])\n",
        "\n",
        "error1_es_128, error2_es_128 = [], []\n",
        "for i in range(len(plt_fitness_es_128)):\n",
        "    error1_es_128.append(plt_fitness_es_128[i] + plt_std_es_128[i])\n",
        "    error2_es_128.append(plt_fitness_es_128[i] - plt_std_es_128[i])\n",
        "\n",
        "error1_es_1024, error2_es_1024 = [], []\n",
        "for i in range(len(plt_fitness_es_1024)):\n",
        "    error1_es_1024.append(plt_fitness_es_1024[i] + plt_std_es_1024[i])\n",
        "    error2_es_1024.append(plt_fitness_es_1024[i] - plt_std_es_1024[i])\n",
        "\n",
        "plt.figure(figsize=(12, 6))\n",
        "plt.xlim(left=0, right=2200)\n",
        "plt.ylim(-1, 10)\n",
        "\n",
        "# DE 128\n",
        "plt.plot(plt_eval_de_128, plt_fitness_de_128, label='DE-128')\n",
        "plt.fill_between(plt_eval_de_128, error1_de_128, error2_de_128, alpha=0.2)\n",
        "\n",
        "# DE 1024\n",
        "plt.plot(plt_eval_de_1024, plt_fitness_de_1024, label='DE-1024')\n",
        "plt.fill_between(plt_eval_de_1024, error1_de_1024, error2_de_1024, alpha=0.2)\n",
        "\n",
        "# ES 128\n",
        "plt.plot(plt_eval_es_128, plt_fitness_es_128,label='ES-128')\n",
        "plt.fill_between(plt_eval_es_128, error1_es_128, error2_es_128, alpha=0.2)\n",
        "\n",
        "# ES 1024\n",
        "plt.plot(plt_eval_es_1024, plt_fitness_es_1024, label='ES-1024')\n",
        "plt.fill_between(plt_eval_es_1024, error1_es_1024, error2_es_1024, alpha=0.2)\n",
        "\n",
        "plt.xlabel('Number of function evaluations')\n",
        "plt.ylabel('Best fitness')\n",
        "plt.legend()\n",
        "plt.savefig('Rosenbrock-10d.png')\n",
        "plt.show()"
      ],
      "execution_count": null,
      "outputs": [
        {
          "output_type": "display_data",
          "data": {
            "image/png": "[encoded data removed]",
            "text/plain": [
              "<Figure size 864x432 with 1 Axes>"
            ]
          },
          "metadata": {
            "needs_background": "light"
          }
        }
      ]
    },
    {
      "cell_type": "markdown",
      "metadata": {
        "id": "QKl6aX43HtWp"
      },
      "source": [
        "## **Hàm Griewank**"
      ]
    },
    {
      "cell_type": "markdown",
      "metadata": {
        "id": "f35UPzkKHvxk"
      },
      "source": [
        "### **dimensions (d=2)**"
      ]
    },
    {
      "cell_type": "code",
      "metadata": {
        "id": "W4THVWr7KBdI"
      },
      "source": [
        "# DE, popsize = 128\n",
        "all_results = []\n",
        "\n",
        "dimension = 2\n",
        "max_evals = 1e5\n",
        "fobj = Griewank_f\n",
        "seed_number = 18520186\n",
        "popsize = 128\n",
        "lower_bound = -600\n",
        "upper_bound = 600\n",
        "\n",
        "for i in range(10):\n",
        "    np.random.rand(seed_number)\n",
        "    results, all_pops, generation_count = DE(fobj, dimension, [(lower_bound, upper_bound)]*dimension, F_scale, cross_prob, popsize, max_evals)\n",
        "    all_results.append(results)\n",
        "    seed_number += 1\n",
        "\n",
        "plt_fitness_de_128 = []\n",
        "plt_std_de_128 = []\n",
        "plt_eval_de_128 = []\n",
        "for i in range(np.min([len(all_results[t]) for t in range(10)])):\n",
        "    fitness = []\n",
        "    eval = []\n",
        "    for j in range(10):\n",
        "        fitness.append(all_results[j][i][1])\n",
        "        eval.append(all_results[j][i][2])\n",
        "    plt_fitness_de_128.append(np.mean(fitness))\n",
        "    plt_std_de_128.append(np.std(fitness))\n",
        "    plt_eval_de_128.append(np.mean(eval))"
      ],
      "execution_count": null,
      "outputs": []
    },
    {
      "cell_type": "code",
      "metadata": {
        "id": "3KrWT351KBjm"
      },
      "source": [
        "# DE, popsize = 1024\n",
        "all_results = []\n",
        "\n",
        "dimension = 2\n",
        "max_evals = 1e5\n",
        "fobj_number = 18520186\n",
        "popsize = 1024\n",
        "lower_bound = -600\n",
        "upper_bound = 600\n",
        "\n",
        "for i in range(10):\n",
        "    np.random.rand(seed_number)\n",
        "    results, all_pops, generation_count = DE(fobj, dimension, [(lower_bound, upper_bound)]*dimension, F_scale, cross_prob, popsize, max_evals)\n",
        "    all_results.append(results)\n",
        "    seed_number += 1\n",
        "\n",
        "plt_fitness_de_128 = []\n",
        "plt_std_de_128 = []\n",
        "plt_eval_de_128 = []\n",
        "for i in range(np.min([len(all_results[t]) for t in range(10)])):\n",
        "    fitness = []\n",
        "    eval = []\n",
        "    for j in range(10):\n",
        "        fitness.append(all_results[j][i][1])\n",
        "        eval.append(all_results[j][i][2])\n",
        "    plt_fitness_de_128.append(np.mean(fitness))\n",
        "    plt_std_de_128.append(np.std(fitness))\n",
        "    plt_eval_de_128.append(np.mean(eval))"
      ],
      "execution_count": null,
      "outputs": []
    },
    {
      "cell_type": "code",
      "metadata": {
        "id": "EqeAGm39KBv3"
      },
      "source": [
        "# ES, popsize = 128\n",
        "dimension = 2\n",
        "obj = Griewank_f\n",
        "max_evals = 1e5\n",
        "seed_number = 18520186\n",
        "lower_bound = -600\n",
        "upper_bound = 600\n",
        "popsize = 128\n",
        "bounds = [(lower_bound, upper_bound)]*dimension\n",
        "np.random.rand(seed_number)\n",
        "all_results = []\n",
        "\n",
        "for i in range(10):\n",
        "    np.random.rand(seed_number)\n",
        "    results, all_pops, generation_count = ES(fobj, bounds, sigma_init, c_inc, c_dec, popsize, max_evals, dimension)\n",
        "    all_results.append(results)\n",
        "    seed_number += 1\n",
        "\n",
        "plt_fitness_es_128 = []\n",
        "plt_std_es_128 = []\n",
        "plt_eval_es_128 = []\n",
        "for i in range(np.min([len(all_results[t]) for t in range(10)])):\n",
        "    fitness = []\n",
        "    eval = []\n",
        "    for j in range(10):\n",
        "        fitness.append(all_results[j][i][1])\n",
        "        eval.append(all_results[j][i][2])\n",
        "    plt_fitness_es_128.append(np.mean(fitness))\n",
        "    plt_std_es_128.append(np.std(fitness))\n",
        "    plt_eval_es_128.append(np.mean(eval))"
      ],
      "execution_count": null,
      "outputs": []
    },
    {
      "cell_type": "code",
      "metadata": {
        "id": "vGg7myAUKCID"
      },
      "source": [
        "# ES, popsize = 1024\n",
        "dimension = 2\n",
        "obj = Griewank_f\n",
        "max_evals = 1e5\n",
        "seed_number = 18520186\n",
        "lower_bound = -600\n",
        "upper_bound = 600\n",
        "popsize = 1024\n",
        "bounds = [(lower_bound, upper_bound)]*dimension\n",
        "np.random.rand(seed_number)\n",
        "all_results = []\n",
        "\n",
        "for i in range(10):\n",
        "    np.random.rand(seed_number)\n",
        "    results, all_pops, generation_count = ES(fobj, bounds, sigma_init, c_inc, c_dec, popsize, max_evals, dimension)\n",
        "    all_results.append(results)\n",
        "    seed_number += 1\n",
        "\n",
        "plt_fitness_es_1024 = []\n",
        "plt_std_es_1024 = []\n",
        "plt_eval_es_1024 = []\n",
        "for i in range(np.min([len(all_results[t]) for t in range(10)])):\n",
        "    fitness = []\n",
        "    eval = []\n",
        "    for j in range(10):\n",
        "        fitness.append(all_results[j][i][1])\n",
        "        eval.append(all_results[j][i][2])\n",
        "    plt_fitness_es_1024.append(np.mean(fitness))\n",
        "    plt_std_es_1024.append(np.std(fitness))\n",
        "    plt_eval_es_1024.append(np.mean(eval))"
      ],
      "execution_count": null,
      "outputs": []
    },
    {
      "cell_type": "code",
      "metadata": {
        "id": "1cz5SP4vKCVB",
        "colab": {
          "base_uri": "https://localhost:8080/",
          "height": 392
        },
        "outputId": "459d3bc9-7ae8-447a-d90c-dd66f5a8fe0e"
      },
      "source": [
        "error1_de_128, error2_de_128 = [], []\n",
        "for i in range(len(plt_fitness_de_128)):\n",
        "    error1_de_128.append(plt_fitness_de_128[i] + plt_std_de_128[i])\n",
        "    error2_de_128.append(plt_fitness_de_128[i] - plt_std_de_128[i])\n",
        "\n",
        "error1_de_1024, error2_de_1024 = [], []\n",
        "for i in range(len(plt_fitness_de_1024)):\n",
        "    error1_de_1024.append(plt_fitness_de_1024[i] + plt_std_de_1024[i])\n",
        "    error2_de_1024.append(plt_fitness_de_1024[i] - plt_std_de_1024[i])\n",
        "\n",
        "error1_es_128, error2_es_128 = [], []\n",
        "for i in range(len(plt_fitness_es_128)):\n",
        "    error1_es_128.append(plt_fitness_es_128[i] + plt_std_es_128[i])\n",
        "    error2_es_128.append(plt_fitness_es_128[i] - plt_std_es_128[i])\n",
        "\n",
        "error1_es_1024, error2_es_1024 = [], []\n",
        "for i in range(len(plt_fitness_es_1024)):\n",
        "    error1_es_1024.append(plt_fitness_es_1024[i] + plt_std_es_1024[i])\n",
        "    error2_es_1024.append(plt_fitness_es_1024[i] - plt_std_es_1024[i])\n",
        "\n",
        "plt.figure(figsize=(12, 6))\n",
        "plt.xlim(left=0, right=2200)\n",
        "plt.ylim(-1, 10)\n",
        "\n",
        "# DE 128\n",
        "plt.plot(plt_eval_de_128, plt_fitness_de_128, label='DE-128')\n",
        "plt.fill_between(plt_eval_de_128, error1_de_128, error2_de_128, alpha=0.2)\n",
        "\n",
        "# DE 1024\n",
        "plt.plot(plt_eval_de_1024, plt_fitness_de_1024, label='DE-1024')\n",
        "plt.fill_between(plt_eval_de_1024, error1_de_1024, error2_de_1024, alpha=0.2)\n",
        "\n",
        "# ES 128\n",
        "plt.plot(plt_eval_es_128, plt_fitness_es_128,label='ES-128')\n",
        "plt.fill_between(plt_eval_es_128, error1_es_128, error2_es_128, alpha=0.2)\n",
        "\n",
        "# ES 1024\n",
        "plt.plot(plt_eval_es_1024, plt_fitness_es_1024, label='ES-1024')\n",
        "plt.fill_between(plt_eval_es_1024, error1_es_1024, error2_es_1024, alpha=0.2)\n",
        "\n",
        "plt.xlabel('Number of function evaluations')\n",
        "plt.ylabel('Best fitness')\n",
        "plt.legend()\n",
        "plt.savefig('Griewank-2d.png')\n",
        "plt.show()"
      ],
      "execution_count": null,
      "outputs": [
        {
          "output_type": "display_data",
          "data": {
            "image/png": "[encoded data removed]",
            "text/plain": [
              "<Figure size 864x432 with 1 Axes>"
            ]
          },
          "metadata": {
            "needs_background": "light"
          }
        }
      ]
    },
    {
      "cell_type": "markdown",
      "metadata": {
        "id": "XjgWlTBLHv8z"
      },
      "source": [
        "### **dimensions (d=10)**"
      ]
    },
    {
      "cell_type": "code",
      "metadata": {
        "id": "oPOmZBa8KHBT"
      },
      "source": [
        "# DE, popsize = 128\n",
        "all_results = []\n",
        "\n",
        "dimension = 10\n",
        "max_evals = 1e6\n",
        "fobj = Griewank_f\n",
        "seed_number = 18520186\n",
        "popsize = 128\n",
        "lower_bound = -600\n",
        "upper_bound = 600\n",
        "\n",
        "for i in range(10):\n",
        "    np.random.rand(seed_number)\n",
        "    results, all_pops, generation_count = DE(fobj, dimension, [(lower_bound, upper_bound)]*dimension, F_scale, cross_prob, popsize, max_evals)\n",
        "    all_results.append(results)\n",
        "    seed_number += 1\n",
        "\n",
        "plt_fitness_de_128 = []\n",
        "plt_std_de_128 = []\n",
        "plt_eval_de_128 = []\n",
        "for i in range(np.min([len(all_results[t]) for t in range(10)])):\n",
        "    fitness = []\n",
        "    eval = []\n",
        "    for j in range(10):\n",
        "        fitness.append(all_results[j][i][1])\n",
        "        eval.append(all_results[j][i][2])\n",
        "    plt_fitness_de_128.append(np.mean(fitness))\n",
        "    plt_std_de_128.append(np.std(fitness))\n",
        "    plt_eval_de_128.append(np.mean(eval))"
      ],
      "execution_count": null,
      "outputs": []
    },
    {
      "cell_type": "code",
      "metadata": {
        "id": "-pJ_Jae7KHFi"
      },
      "source": [
        "# DE, popsize = 1024\n",
        "all_results = []\n",
        "\n",
        "dimension = 10\n",
        "max_evals = 1e6\n",
        "fobj = Griewank_f\n",
        "seed_number = 18520186\n",
        "popsize = 1024\n",
        "lower_bound = -600\n",
        "upper_bound = 600\n",
        "\n",
        "for i in range(10):\n",
        "    np.random.rand(seed_number)\n",
        "    results, all_pops, generation_count = DE(fobj, dimension, [(lower_bound, upper_bound)]*dimension, F_scale, cross_prob, popsize, max_evals)\n",
        "    all_results.append(results)\n",
        "    seed_number += 1\n",
        "\n",
        "plt_fitness_de_128 = []\n",
        "plt_std_de_128 = []\n",
        "plt_eval_de_128 = []\n",
        "for i in range(np.min([len(all_results[t]) for t in range(10)])):\n",
        "    fitness = []\n",
        "    eval = []\n",
        "    for j in range(10):\n",
        "        fitness.append(all_results[j][i][1])\n",
        "        eval.append(all_results[j][i][2])\n",
        "    plt_fitness_de_128.append(np.mean(fitness))\n",
        "    plt_std_de_128.append(np.std(fitness))\n",
        "    plt_eval_de_128.append(np.mean(eval))"
      ],
      "execution_count": null,
      "outputs": []
    },
    {
      "cell_type": "code",
      "metadata": {
        "id": "lZxn0qhYKHKe"
      },
      "source": [
        "# ES, popsize = 128\n",
        "dimension = 10\n",
        "obj = Griewank_f\n",
        "max_evals = 1e6\n",
        "seed_number = 18520186\n",
        "lower_bound = -600\n",
        "upper_bound = 600\n",
        "popsize = 128\n",
        "bounds = [(lower_bound, upper_bound)]*dimension\n",
        "np.random.rand(seed_number)\n",
        "all_results = []\n",
        "\n",
        "for i in range(10):\n",
        "    np.random.rand(seed_number)\n",
        "    results, all_pops, generation_count = ES(fobj, bounds, sigma_init, c_inc, c_dec, popsize, max_evals, dimension)\n",
        "    all_results.append(results)\n",
        "    seed_number += 1\n",
        "\n",
        "plt_fitness_es_128 = []\n",
        "plt_std_es_128 = []\n",
        "plt_eval_es_128 = []\n",
        "for i in range(np.min([len(all_results[t]) for t in range(10)])):\n",
        "    fitness = []\n",
        "    eval = []\n",
        "    for j in range(10):\n",
        "        fitness.append(all_results[j][i][1])\n",
        "        eval.append(all_results[j][i][2])\n",
        "    plt_fitness_es_128.append(np.mean(fitness))\n",
        "    plt_std_es_128.append(np.std(fitness))\n",
        "    plt_eval_es_128.append(np.mean(eval))"
      ],
      "execution_count": null,
      "outputs": []
    },
    {
      "cell_type": "code",
      "metadata": {
        "id": "AwOfwwKsKHSG"
      },
      "source": [
        "# ES, popsize = 1024\n",
        "dimension = 10\n",
        "obj = Griewank_f\n",
        "max_evals = 1e6\n",
        "seed_number = 18520186\n",
        "lower_bound = -600\n",
        "upper_bound = 600\n",
        "popsize = 1024\n",
        "bounds = [(lower_bound, upper_bound)]*dimension\n",
        "np.random.rand(seed_number)\n",
        "all_results = []\n",
        "\n",
        "for i in range(10):\n",
        "    np.random.rand(seed_number)\n",
        "    results, all_pops, generation_count = ES(fobj, bounds, sigma_init, c_inc, c_dec, popsize, max_evals, dimension)\n",
        "    all_results.append(results)\n",
        "    seed_number += 1\n",
        "\n",
        "plt_fitness_es_1024 = []\n",
        "plt_std_es_1024 = []\n",
        "plt_eval_es_1024 = []\n",
        "for i in range(np.min([len(all_results[t]) for t in range(10)])):\n",
        "    fitness = []\n",
        "    eval = []\n",
        "    for j in range(10):\n",
        "        fitness.append(all_results[j][i][1])\n",
        "        eval.append(all_results[j][i][2])\n",
        "    plt_fitness_es_1024.append(np.mean(fitness))\n",
        "    plt_std_es_1024.append(np.std(fitness))\n",
        "    plt_eval_es_1024.append(np.mean(eval))"
      ],
      "execution_count": null,
      "outputs": []
    },
    {
      "cell_type": "code",
      "metadata": {
        "id": "fljYVAWHKHr-",
        "colab": {
          "base_uri": "https://localhost:8080/",
          "height": 392
        },
        "outputId": "ef26bec6-873f-4eaa-a87a-a595ec31ef9f"
      },
      "source": [
        "error1_de_128, error2_de_128 = [], []\n",
        "for i in range(len(plt_fitness_de_128)):\n",
        "    error1_de_128.append(plt_fitness_de_128[i] + plt_std_de_128[i])\n",
        "    error2_de_128.append(plt_fitness_de_128[i] - plt_std_de_128[i])\n",
        "\n",
        "error1_de_1024, error2_de_1024 = [], []\n",
        "for i in range(len(plt_fitness_de_1024)):\n",
        "    error1_de_1024.append(plt_fitness_de_1024[i] + plt_std_de_1024[i])\n",
        "    error2_de_1024.append(plt_fitness_de_1024[i] - plt_std_de_1024[i])\n",
        "\n",
        "error1_es_128, error2_es_128 = [], []\n",
        "for i in range(len(plt_fitness_es_128)):\n",
        "    error1_es_128.append(plt_fitness_es_128[i] + plt_std_es_128[i])\n",
        "    error2_es_128.append(plt_fitness_es_128[i] - plt_std_es_128[i])\n",
        "\n",
        "error1_es_1024, error2_es_1024 = [], []\n",
        "for i in range(len(plt_fitness_es_1024)):\n",
        "    error1_es_1024.append(plt_fitness_es_1024[i] + plt_std_es_1024[i])\n",
        "    error2_es_1024.append(plt_fitness_es_1024[i] - plt_std_es_1024[i])\n",
        "\n",
        "plt.figure(figsize=(12, 6))\n",
        "plt.xlim(left=0, right=2200)\n",
        "plt.ylim(-1, 10)\n",
        "\n",
        "# DE 128\n",
        "plt.plot(plt_eval_de_128, plt_fitness_de_128, label='DE-128')\n",
        "plt.fill_between(plt_eval_de_128, error1_de_128, error2_de_128, alpha=0.2)\n",
        "\n",
        "# DE 1024\n",
        "plt.plot(plt_eval_de_1024, plt_fitness_de_1024, label='DE-1024')\n",
        "plt.fill_between(plt_eval_de_1024, error1_de_1024, error2_de_1024, alpha=0.2)\n",
        "\n",
        "# ES 128\n",
        "plt.plot(plt_eval_es_128, plt_fitness_es_128,label='ES-128')\n",
        "plt.fill_between(plt_eval_es_128, error1_es_128, error2_es_128, alpha=0.2)\n",
        "\n",
        "# ES 1024\n",
        "plt.plot(plt_eval_es_1024, plt_fitness_es_1024, label='ES-1024')\n",
        "plt.fill_between(plt_eval_es_1024, error1_es_1024, error2_es_1024, alpha=0.2)\n",
        "\n",
        "plt.xlabel('Number of function evaluations')\n",
        "plt.ylabel('Best fitness')\n",
        "plt.legend()\n",
        "plt.savefig('Griewank-10d.png')\n",
        "plt.show()"
      ],
      "execution_count": null,
      "outputs": [
        {
          "output_type": "display_data",
          "data": {
            "image/png": "[encoded data removed]",
            "text/plain": [
              "<Figure size 864x432 with 1 Axes>"
            ]
          },
          "metadata": {
            "needs_background": "light"
          }
        }
      ]
    },
    {
      "cell_type": "markdown",
      "metadata": {
        "id": "P-pe0NtQHwIk"
      },
      "source": [
        "## **Hàm Ackley**"
      ]
    },
    {
      "cell_type": "markdown",
      "metadata": {
        "id": "4rPNReOjHx2G"
      },
      "source": [
        "### **dimensions (d=2)**"
      ]
    },
    {
      "cell_type": "code",
      "metadata": {
        "id": "o6Ep2GN0J5hk"
      },
      "source": [
        "# DE, popsize = 128\n",
        "all_results = []\n",
        "\n",
        "dimension = 2\n",
        "max_evals = 1e5\n",
        "fobj = Ackley_f\n",
        "seed_number = 18520186\n",
        "popsize = 128\n",
        "lower_bound = -33\n",
        "upper_bound = 433\n",
        "\n",
        "for i in range(10):\n",
        "    np.random.rand(seed_number)\n",
        "    results, all_pops, generation_count = DE(fobj, dimension, [(lower_bound, upper_bound)]*dimension, F_scale, cross_prob, popsize, max_evals)\n",
        "    all_results.append(results)\n",
        "    seed_number += 1\n",
        "\n",
        "plt_fitness_de_128 = []\n",
        "plt_std_de_128 = []\n",
        "plt_eval_de_128 = []\n",
        "for i in range(np.min([len(all_results[t]) for t in range(10)])):\n",
        "    fitness = []\n",
        "    eval = []\n",
        "    for j in range(10):\n",
        "        fitness.append(all_results[j][i][1])\n",
        "        eval.append(all_results[j][i][2])\n",
        "    plt_fitness_de_128.append(np.mean(fitness))\n",
        "    plt_std_de_128.append(np.std(fitness))\n",
        "    plt_eval_de_128.append(np.mean(eval))"
      ],
      "execution_count": null,
      "outputs": []
    },
    {
      "cell_type": "code",
      "metadata": {
        "id": "fp6rm3frKL0j"
      },
      "source": [
        "# DE, popsize = 1024\n",
        "all_results = []\n",
        "\n",
        "dimension = 2\n",
        "max_evals = 1e5\n",
        "fobj = Ackley_f\n",
        "seed_number = 18520186\n",
        "popsize = 1024\n",
        "lower_bound = -33\n",
        "upper_bound = 433\n",
        "\n",
        "for i in range(10):\n",
        "    np.random.rand(seed_number)\n",
        "    results, all_pops, generation_count = DE(fobj, dimension, [(lower_bound, upper_bound)]*dimension, F_scale, cross_prob, popsize, max_evals)\n",
        "    all_results.append(results)\n",
        "    seed_number += 1\n",
        "\n",
        "plt_fitness_de_128 = []\n",
        "plt_std_de_128 = []\n",
        "plt_eval_de_128 = []\n",
        "for i in range(np.min([len(all_results[t]) for t in range(10)])):\n",
        "    fitness = []\n",
        "    eval = []\n",
        "    for j in range(10):\n",
        "        fitness.append(all_results[j][i][1])\n",
        "        eval.append(all_results[j][i][2])\n",
        "    plt_fitness_de_128.append(np.mean(fitness))\n",
        "    plt_std_de_128.append(np.std(fitness))\n",
        "    plt_eval_de_128.append(np.mean(eval))"
      ],
      "execution_count": null,
      "outputs": []
    },
    {
      "cell_type": "code",
      "metadata": {
        "id": "YBcHI6CMKL-T"
      },
      "source": [
        "# ES, popsize = 128\n",
        "dimension = 2\n",
        "obj = Ackley_f\n",
        "max_evals = 1e5\n",
        "seed_number = 18520186\n",
        "lower_bound = -33\n",
        "upper_bound = 433\n",
        "popsize = 128\n",
        "bounds = [(lower_bound, upper_bound)]*dimension\n",
        "np.random.rand(seed_number)\n",
        "all_results = []\n",
        "\n",
        "for i in range(10):\n",
        "    np.random.rand(seed_number)\n",
        "    results, all_pops, generation_count = ES(fobj, bounds, sigma_init, c_inc, c_dec, popsize, max_evals, dimension)\n",
        "    all_results.append(results)\n",
        "    seed_number += 1\n",
        "\n",
        "plt_fitness_es_128 = []\n",
        "plt_std_es_128 = []\n",
        "plt_eval_es_128 = []\n",
        "for i in range(np.min([len(all_results[t]) for t in range(10)])):\n",
        "    fitness = []\n",
        "    eval = []\n",
        "    for j in range(10):\n",
        "        fitness.append(all_results[j][i][1])\n",
        "        eval.append(all_results[j][i][2])\n",
        "    plt_fitness_es_128.append(np.mean(fitness))\n",
        "    plt_std_es_128.append(np.std(fitness))\n",
        "    plt_eval_es_128.append(np.mean(eval))"
      ],
      "execution_count": null,
      "outputs": []
    },
    {
      "cell_type": "code",
      "metadata": {
        "id": "ZxL7qrpTJ5l4"
      },
      "source": [
        "# ES, popsize = 128\n",
        "dimension = 2\n",
        "obj = Ackley_f\n",
        "max_evals = 1e5\n",
        "seed_number = 18520186\n",
        "lower_bound = -33\n",
        "upper_bound = 433\n",
        "popsize = 1024\n",
        "bounds = [(lower_bound, upper_bound)]*dimension\n",
        "np.random.rand(seed_number)\n",
        "all_results = []\n",
        "\n",
        "for i in range(10):\n",
        "    np.random.rand(seed_number)\n",
        "    results, all_pops, generation_count = ES(fobj, bounds, sigma_init, c_inc, c_dec, popsize, max_evals, dimension)\n",
        "    all_results.append(results)\n",
        "    seed_number += 1\n",
        "\n",
        "plt_fitness_es_1024 = []\n",
        "plt_std_es_1024 = []\n",
        "plt_eval_es_1024 = []\n",
        "for i in range(np.min([len(all_results[t]) for t in range(10)])):\n",
        "    fitness = []\n",
        "    eval = []\n",
        "    for j in range(10):\n",
        "        fitness.append(all_results[j][i][1])\n",
        "        eval.append(all_results[j][i][2])\n",
        "    plt_fitness_es_1024.append(np.mean(fitness))\n",
        "    plt_std_es_1024.append(np.std(fitness))\n",
        "    plt_eval_es_1024.append(np.mean(eval))"
      ],
      "execution_count": null,
      "outputs": []
    },
    {
      "cell_type": "code",
      "metadata": {
        "id": "aiG7ALvPJ52_",
        "colab": {
          "base_uri": "https://localhost:8080/",
          "height": 392
        },
        "outputId": "9f41a66a-6b9b-4c65-f98f-d1d18a2a5ce2"
      },
      "source": [
        "error1_de_128, error2_de_128 = [], []\n",
        "for i in range(len(plt_fitness_de_128)):\n",
        "    error1_de_128.append(plt_fitness_de_128[i] + plt_std_de_128[i])\n",
        "    error2_de_128.append(plt_fitness_de_128[i] - plt_std_de_128[i])\n",
        "\n",
        "error1_de_1024, error2_de_1024 = [], []\n",
        "for i in range(len(plt_fitness_de_1024)):\n",
        "    error1_de_1024.append(plt_fitness_de_1024[i] + plt_std_de_1024[i])\n",
        "    error2_de_1024.append(plt_fitness_de_1024[i] - plt_std_de_1024[i])\n",
        "\n",
        "error1_es_128, error2_es_128 = [], []\n",
        "for i in range(len(plt_fitness_es_128)):\n",
        "    error1_es_128.append(plt_fitness_es_128[i] + plt_std_es_128[i])\n",
        "    error2_es_128.append(plt_fitness_es_128[i] - plt_std_es_128[i])\n",
        "\n",
        "error1_es_1024, error2_es_1024 = [], []\n",
        "for i in range(len(plt_fitness_es_1024)):\n",
        "    error1_es_1024.append(plt_fitness_es_1024[i] + plt_std_es_1024[i])\n",
        "    error2_es_1024.append(plt_fitness_es_1024[i] - plt_std_es_1024[i])\n",
        "\n",
        "plt.figure(figsize=(12, 6))\n",
        "plt.xlim(left=0, right=2200)\n",
        "plt.ylim(-1, 10)\n",
        "\n",
        "# DE 128\n",
        "plt.plot(plt_eval_de_128, plt_fitness_de_128, label='DE-128')\n",
        "plt.fill_between(plt_eval_de_128, error1_de_128, error2_de_128, alpha=0.2)\n",
        "\n",
        "# DE 1024\n",
        "plt.plot(plt_eval_de_1024, plt_fitness_de_1024, label='DE-1024')\n",
        "plt.fill_between(plt_eval_de_1024, error1_de_1024, error2_de_1024, alpha=0.2)\n",
        "\n",
        "# ES 128\n",
        "plt.plot(plt_eval_es_128, plt_fitness_es_128,label='ES-128')\n",
        "plt.fill_between(plt_eval_es_128, error1_es_128, error2_es_128, alpha=0.2)\n",
        "\n",
        "# ES 1024\n",
        "plt.plot(plt_eval_es_1024, plt_fitness_es_1024, label='ES-1024')\n",
        "plt.fill_between(plt_eval_es_1024, error1_es_1024, error2_es_1024, alpha=0.2)\n",
        "\n",
        "plt.xlabel('Number of function evaluations')\n",
        "plt.ylabel('Best fitness')\n",
        "plt.legend()\n",
        "plt.savefig('Ackley-2d.png')\n",
        "plt.show()"
      ],
      "execution_count": null,
      "outputs": [
        {
          "output_type": "display_data",
          "data": {
            "image/png": "[encoded data removed]",
            "text/plain": [
              "<Figure size 864x432 with 1 Axes>"
            ]
          },
          "metadata": {
            "needs_background": "light"
          }
        }
      ]
    },
    {
      "cell_type": "markdown",
      "metadata": {
        "id": "Vn9zyENpHyDX"
      },
      "source": [
        "### **dimensions (d=10)**"
      ]
    },
    {
      "cell_type": "code",
      "metadata": {
        "id": "eqUU6IA8J85Q"
      },
      "source": [
        "# DE, popsize = 128\n",
        "all_results = []\n",
        "\n",
        "dimension = 10\n",
        "max_evals = 1e6\n",
        "fobj = Ackley_f\n",
        "seed_number = 18520186\n",
        "popsize = 128\n",
        "lower_bound = -33\n",
        "upper_bound = 433\n",
        "\n",
        "for i in range(10):\n",
        "    np.random.rand(seed_number)\n",
        "    results, all_pops, generation_count = DE(fobj, dimension, [(lower_bound, upper_bound)]*dimension, F_scale, cross_prob, popsize, max_evals)\n",
        "    all_results.append(results)\n",
        "    seed_number += 1\n",
        "\n",
        "plt_fitness_de_128 = []\n",
        "plt_std_de_128 = []\n",
        "plt_eval_de_128 = []\n",
        "for i in range(np.min([len(all_results[t]) for t in range(10)])):\n",
        "    fitness = []\n",
        "    eval = []\n",
        "    for j in range(10):\n",
        "        fitness.append(all_results[j][i][1])\n",
        "        eval.append(all_results[j][i][2])\n",
        "    plt_fitness_de_128.append(np.mean(fitness))\n",
        "    plt_std_de_128.append(np.std(fitness))\n",
        "    plt_eval_de_128.append(np.mean(eval))"
      ],
      "execution_count": null,
      "outputs": []
    },
    {
      "cell_type": "code",
      "metadata": {
        "id": "RIOBQuiqJ9Fg"
      },
      "source": [
        "# DE, popsize = 1024\n",
        "all_results = []\n",
        "\n",
        "dimension = 10\n",
        "max_evals = 1e6\n",
        "fobj = Ackley_f\n",
        "seed_number = 18520186\n",
        "popsize = 1024\n",
        "lower_bound = -33\n",
        "upper_bound = 433\n",
        "\n",
        "for i in range(10):\n",
        "    np.random.rand(seed_number)\n",
        "    results, all_pops, generation_count = DE(fobj, dimension, [(lower_bound, upper_bound)]*dimension, F_scale, cross_prob, popsize, max_evals)\n",
        "    all_results.append(results)\n",
        "    seed_number += 1\n",
        "\n",
        "plt_fitness_de_128 = []\n",
        "plt_std_de_128 = []\n",
        "plt_eval_de_128 = []\n",
        "for i in range(np.min([len(all_results[t]) for t in range(10)])):\n",
        "    fitness = []\n",
        "    eval = []\n",
        "    for j in range(10):\n",
        "        fitness.append(all_results[j][i][1])\n",
        "        eval.append(all_results[j][i][2])\n",
        "    plt_fitness_de_128.append(np.mean(fitness))\n",
        "    plt_std_de_128.append(np.std(fitness))\n",
        "    plt_eval_de_128.append(np.mean(eval))"
      ],
      "execution_count": null,
      "outputs": []
    },
    {
      "cell_type": "code",
      "metadata": {
        "id": "qLEYUyA3J9QP"
      },
      "source": [
        "# ES, popsize = 128\n",
        "dimension = 10\n",
        "obj = Ackley_f\n",
        "max_evals = 1e6\n",
        "seed_number = 18520186\n",
        "lower_bound = -33\n",
        "upper_bound = 433\n",
        "popsize = 128\n",
        "bounds = [(lower_bound, upper_bound)]*dimension\n",
        "np.random.rand(seed_number)\n",
        "all_results = []\n",
        "\n",
        "for i in range(10):\n",
        "    np.random.rand(seed_number)\n",
        "    results, all_pops, generation_count = ES(fobj, bounds, sigma_init, c_inc, c_dec, popsize, max_evals, dimension)\n",
        "    all_results.append(results)\n",
        "    seed_number += 1\n",
        "\n",
        "plt_fitness_es_128 = []\n",
        "plt_std_es_128 = []\n",
        "plt_eval_es_128 = []\n",
        "for i in range(np.min([len(all_results[t]) for t in range(10)])):\n",
        "    fitness = []\n",
        "    eval = []\n",
        "    for j in range(10):\n",
        "        fitness.append(all_results[j][i][1])\n",
        "        eval.append(all_results[j][i][2])\n",
        "    plt_fitness_es_128.append(np.mean(fitness))\n",
        "    plt_std_es_128.append(np.std(fitness))\n",
        "    plt_eval_es_128.append(np.mean(eval))"
      ],
      "execution_count": null,
      "outputs": []
    },
    {
      "cell_type": "code",
      "metadata": {
        "id": "01yB25dHJ9bM"
      },
      "source": [
        "# ES, popsize = 1024\n",
        "dimension = 10\n",
        "obj = Ackley_f\n",
        "max_evals = 1e6\n",
        "seed_number = 18520186\n",
        "lower_bound = -33\n",
        "upper_bound = 433\n",
        "popsize = 1024\n",
        "bounds = [(lower_bound, upper_bound)]*dimension\n",
        "np.random.rand(seed_number)\n",
        "all_results = []\n",
        "\n",
        "for i in range(10):\n",
        "    np.random.rand(seed_number)\n",
        "    results, all_pops, generation_count = ES(fobj, bounds, sigma_init, c_inc, c_dec, popsize, max_evals, dimension)\n",
        "    all_results.append(results)\n",
        "    seed_number += 1\n",
        "\n",
        "plt_fitness_es_1024 = []\n",
        "plt_std_es_1024 = []\n",
        "plt_eval_es_1024 = []\n",
        "for i in range(np.min([len(all_results[t]) for t in range(10)])):\n",
        "    fitness = []\n",
        "    eval = []\n",
        "    for j in range(10):\n",
        "        fitness.append(all_results[j][i][1])\n",
        "        eval.append(all_results[j][i][2])\n",
        "    plt_fitness_es_1024.append(np.mean(fitness))\n",
        "    plt_std_es_1024.append(np.std(fitness))\n",
        "    plt_eval_es_1024.append(np.mean(eval))"
      ],
      "execution_count": null,
      "outputs": []
    },
    {
      "cell_type": "code",
      "metadata": {
        "id": "yEf3ri-8J9nr",
        "colab": {
          "base_uri": "https://localhost:8080/",
          "height": 392
        },
        "outputId": "3d9f1093-5f60-44f3-859f-ae44eda1eb61"
      },
      "source": [
        "error1_de_128, error2_de_128 = [], []\n",
        "for i in range(len(plt_fitness_de_128)):\n",
        "    error1_de_128.append(plt_fitness_de_128[i] + plt_std_de_128[i])\n",
        "    error2_de_128.append(plt_fitness_de_128[i] - plt_std_de_128[i])\n",
        "\n",
        "error1_de_1024, error2_de_1024 = [], []\n",
        "for i in range(len(plt_fitness_de_1024)):\n",
        "    error1_de_1024.append(plt_fitness_de_1024[i] + plt_std_de_1024[i])\n",
        "    error2_de_1024.append(plt_fitness_de_1024[i] - plt_std_de_1024[i])\n",
        "\n",
        "error1_es_128, error2_es_128 = [], []\n",
        "for i in range(len(plt_fitness_es_128)):\n",
        "    error1_es_128.append(plt_fitness_es_128[i] + plt_std_es_128[i])\n",
        "    error2_es_128.append(plt_fitness_es_128[i] - plt_std_es_128[i])\n",
        "\n",
        "error1_es_1024, error2_es_1024 = [], []\n",
        "for i in range(len(plt_fitness_es_1024)):\n",
        "    error1_es_1024.append(plt_fitness_es_1024[i] + plt_std_es_1024[i])\n",
        "    error2_es_1024.append(plt_fitness_es_1024[i] - plt_std_es_1024[i])\n",
        "\n",
        "plt.figure(figsize=(12, 6))\n",
        "plt.xlim(left=0, right=2200)\n",
        "plt.ylim(-1, 10)\n",
        "\n",
        "# DE 128\n",
        "plt.plot(plt_eval_de_128, plt_fitness_de_128, label='DE-128')\n",
        "plt.fill_between(plt_eval_de_128, error1_de_128, error2_de_128, alpha=0.2)\n",
        "\n",
        "# DE 1024\n",
        "plt.plot(plt_eval_de_1024, plt_fitness_de_1024, label='DE-1024')\n",
        "plt.fill_between(plt_eval_de_1024, error1_de_1024, error2_de_1024, alpha=0.2)\n",
        "\n",
        "# ES 128\n",
        "plt.plot(plt_eval_es_128, plt_fitness_es_128,label='ES-128')\n",
        "plt.fill_between(plt_eval_es_128, error1_es_128, error2_es_128, alpha=0.2)\n",
        "\n",
        "# ES 1024\n",
        "plt.plot(plt_eval_es_1024, plt_fitness_es_1024, label='ES-1024')\n",
        "plt.fill_between(plt_eval_es_1024, error1_es_1024, error2_es_1024, alpha=0.2)\n",
        "\n",
        "plt.xlabel('Number of function evaluations')\n",
        "plt.ylabel('Best fitness')\n",
        "plt.legend()\n",
        "plt.savefig('Ackley-10d.png')\n",
        "plt.show()"
      ],
      "execution_count": null,
      "outputs": [
        {
          "output_type": "display_data",
          "data": {
            "image/png": "[encoded data removed]",
            "text/plain": [
              "<Figure size 864x432 with 1 Axes>"
            ]
          },
          "metadata": {
            "needs_background": "light"
          }
        }
      ]
    }
  ]
}